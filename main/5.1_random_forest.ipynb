{
 "cells": [
  {
   "cell_type": "code",
   "execution_count": 12,
   "metadata": {},
   "outputs": [],
   "source": [
    "from os import chdir\n",
    "chdir('/Users/lananhnguyen/Desktop/thesis/thesis_code')\n",
    "import main.packages.mine_generic as mine_g\n",
    "import pandas as pd\n",
    "import numpy as np\n",
    "from sklearn.ensemble import RandomForestRegressor\n",
    "from sklearn.model_selection import TimeSeriesSplit, GridSearchCV\n",
    "from sklearn.metrics import mean_squared_error, mean_absolute_error\n",
    "import matplotlib.pyplot as plt"
   ]
  },
  {
   "cell_type": "code",
   "execution_count": 2,
   "metadata": {},
   "outputs": [],
   "source": [
    "hicp_all_path = 'data/preprocessed/hicp_yoy.csv'\n",
    "hicp_class_path = 'data/HICP_COICOP10s.xlsx'\n",
    "model = 'rf'\n",
    "date_range = pd.date_range(start=mine_g.train_test_split_date + pd.DateOffset(months=1), end=mine_g.max_X_date, freq='M')\n"
   ]
  },
  {
   "cell_type": "code",
   "execution_count": 3,
   "metadata": {},
   "outputs": [
    {
     "name": "stdout",
     "output_type": "stream",
     "text": [
      "Number of items in Food group:  180\n"
     ]
    },
    {
     "name": "stderr",
     "output_type": "stream",
     "text": [
      "/Users/lananhnguyen/Desktop/thesis/thesis_code/main/packages/mine_generic.py:198: SettingWithCopyWarning: \n",
      "A value is trying to be set on a copy of a slice from a DataFrame\n",
      "\n",
      "See the caveats in the documentation: https://pandas.pydata.org/pandas-docs/stable/user_guide/indexing.html#returning-a-view-versus-a-copy\n",
      "  cat_df.fillna(0, inplace=True)\n"
     ]
    }
   ],
   "source": [
    "\n",
    "cat_short = 'food'\n",
    "hicp_cat_path = f'data/preprocessed/{cat_short}_yoy_infl.csv'\n",
    "category = 'Food'\n",
    "save_cat_file_path = f'data/forecast_results/{cat_short}_forecast.csv'\n",
    "\n",
    "HICP_monthly, HICP_class, HICP_cat = mine_g.import_data_all(hicp_all_path=hicp_all_path,\n",
    "                                                     hicp_class_path=hicp_class_path,\n",
    "                                                     hicp_cat_path=hicp_cat_path)\n",
    "\n",
    "cat_df = mine_g.split_into_category(category=category,\n",
    "                             HICP_class=HICP_class,\n",
    "                             HICP_monthly=HICP_monthly)"
   ]
  },
  {
   "cell_type": "code",
   "execution_count": 4,
   "metadata": {},
   "outputs": [],
   "source": [
    "# Create lag features\n",
    "def create_lag_features(df, n_lags):\n",
    "    new_df = df.rename(columns = {\"yoy_rate\": \"lag_1\"})\n",
    "\n",
    "    for lag in range(1, n_lags + 1):\n",
    "        new_df[f'lag_{lag+1}'] = new_df.loc[:, \"lag_1\"].shift(lag)\n",
    "    return new_df\n",
    "\n",
    "n_lags = 11\n",
    "y_lagged = create_lag_features(HICP_cat.copy(), n_lags)\n",
    "\n",
    "# Combine lagged values and additional predictors\n",
    "X_with_lags = pd.concat([y_lagged, cat_df], axis= 1)\n",
    "X_with_lags.dropna(inplace=True)\n",
    "\n",
    "y = HICP_cat[HICP_cat.index.isin(X_with_lags.index)]"
   ]
  },
  {
   "cell_type": "code",
   "execution_count": 5,
   "metadata": {},
   "outputs": [
    {
     "name": "stdout",
     "output_type": "stream",
     "text": [
      "Horizon: 1\n",
      "Training predictor period: 1997-12-31 00:00:00 to 2015-11-30 00:00:00\n",
      "Training dependent variable period: 1998-01-31 00:00:00 to 2015-12-31 00:00:00\n"
     ]
    }
   ],
   "source": [
    "horizon = 1\n",
    "X_train, X_test, y_train, y_test = mine_g.split_train_test_set(X = X_with_lags, y = y, h = horizon)\n"
   ]
  },
  {
   "cell_type": "code",
   "execution_count": 6,
   "metadata": {},
   "outputs": [
    {
     "name": "stdout",
     "output_type": "stream",
     "text": [
      "Best Parameters: {'bootstrap': True, 'max_depth': 5, 'max_samples': 1.0, 'n_estimators': 1000, 'n_jobs': -1, 'random_state': 1}\n",
      "Best CV Score: 1.4934985799974185\n"
     ]
    }
   ],
   "source": [
    "# Define TimeSeriesSplit\n",
    "tscv = TimeSeriesSplit(n_splits=5)\n",
    "\n",
    "# Define RandomForestRegressor and parameter grid for hyperparameter tuning\n",
    "rf = RandomForestRegressor()\n",
    "param_grid = {\n",
    "    'n_estimators': [1000],\n",
    "    'max_depth': np.arange(2, 8, 1),\n",
    "    \"n_jobs\": [-1],\n",
    "    \"random_state\": [1],\n",
    "    'bootstrap': [True],\n",
    "    'max_samples': [0.5, 0.75, 1.0]  # 50%, 75%, and 100% of samples if bootstrap=True\n",
    "\n",
    "}\n",
    "# Grid search with cross-validation\n",
    "grid_search = GridSearchCV(estimator=rf, param_grid=param_grid, cv=tscv, scoring='neg_mean_squared_error')\n",
    "grid_search.fit(X_train, y_train.iloc[:, 0])\n",
    "\n",
    "# Best model\n",
    "best_rf = grid_search.best_estimator_\n",
    "\n",
    "# Print best parameters and best score\n",
    "print(\"Best Parameters:\", grid_search.best_params_)\n",
    "print(\"Best CV Score:\", -grid_search.best_score_)\n"
   ]
  },
  {
   "cell_type": "code",
   "execution_count": 7,
   "metadata": {},
   "outputs": [],
   "source": [
    "# Forecast:\n",
    "def generate_forecast(X, N, T, h, verbose=1): # from common function\n",
    "    \"\"\"\n",
    "    Generate recursive forecast\n",
    "    \"\"\"\n",
    "    print(f\"Horizon: {h}\")\n",
    "    print(\"------------------------\")\n",
    "    y_pred_series = []\n",
    "    for i in range(0, T):  # T+1-h\n",
    "        # X_train = X.iloc[: N+i, :]\n",
    "        # y_train = y.iloc[h: N+i+h, :]\n",
    "\n",
    "        X_test_here = X.iloc[N+i : N+i+1, :] \n",
    "        # y_test = y.iloc[N+i+h : N+i+h+1, :]  \n",
    "\n",
    "        if X_test_here.index[-1] > X.index[-1]-pd.DateOffset(months=h):\n",
    "            break\n",
    "\n",
    "        # Forecast:\n",
    "        next_pred = best_rf.predict(X_test_here)\n",
    "    \n",
    "        if verbose == 1:\n",
    "            print(f\"Training period - features: {X_train.index[0]} to {X_train.index[-1]}\")\n",
    "            print(f\"Training period - target : {y_train.index[0]} to {y_train.index[-1]}\")\n",
    "            print(f\"Test period - features: {X_test.index}\")\n",
    "            print(f\"Test period - target : {y_test.index}\")\n",
    "            print(f\"Forecast: {next_pred}\")\n",
    "            print(\"-------------------------------------------------------\")\n",
    "\n",
    "        y_pred_series.append(next_pred[0])\n",
    "    return y_pred_series"
   ]
  },
  {
   "cell_type": "code",
   "execution_count": 9,
   "metadata": {},
   "outputs": [
    {
     "name": "stdout",
     "output_type": "stream",
     "text": [
      "Horizon: 1\n",
      "------------------------\n"
     ]
    },
    {
     "data": {
      "text/plain": [
       "[1.5384588992100554,\n",
       " 1.4663741613238757,\n",
       " 1.3707248685706033,\n",
       " 1.443350462564873,\n",
       " 1.368833064988354,\n",
       " 1.1581815521379912,\n",
       " 1.0778764865767605,\n",
       " 1.5559919143618444,\n",
       " 1.3773960159920307,\n",
       " 1.3841342726086028,\n",
       " 1.2803788555699784,\n",
       " 1.62038629725384,\n",
       " 2.1855210967300214,\n",
       " 2.810025937618933,\n",
       " 2.918017468967296,\n",
       " 2.263035498326484,\n",
       " 1.8548567659322956,\n",
       " 2.3640183802329693,\n",
       " 2.7578594318796124,\n",
       " 2.414619276408122,\n",
       " 2.864555532008599,\n",
       " 2.839254460859099,\n",
       " 2.966306006988502,\n",
       " 2.7072400457465298,\n",
       " 2.743945079969718,\n",
       " 2.7703882347172155,\n",
       " 1.5319005562008605,\n",
       " 2.8464688397965663,\n",
       " 2.9162961830216294,\n",
       " 2.963099497831915,\n",
       " 2.9794278082001795,\n",
       " 2.936354486393967,\n",
       " 2.361644568545692,\n",
       " 2.9437427349266643,\n",
       " 2.311217287162737,\n",
       " 2.2657514206194205,\n",
       " 1.5726830640104146,\n",
       " 1.188953696072294,\n",
       " 1.4809875820401837,\n",
       " 1.3181486590771643,\n",
       " 1.0969203517987507,\n",
       " 1.4530413782700289,\n",
       " 1.494241793320405,\n",
       " 1.7566036406282945,\n",
       " 2.519678826834376,\n",
       " 1.4935431986298768,\n",
       " 1.5115682112916988,\n",
       " 1.7355913269295833,\n",
       " 2.3256754686487,\n",
       " 2.7723633588965693,\n",
       " 3.3351077761025825,\n",
       " 3.4216416619724987,\n",
       " 3.6448503931861462,\n",
       " 3.7048324616463435,\n",
       " 3.6688661003637013,\n",
       " 1.6981727921227738,\n",
       " 1.6563583558559023,\n",
       " 1.3687490086804277,\n",
       " 1.6323174319904024,\n",
       " 1.5189114936604835,\n",
       " 0.7194747438493723,\n",
       " 1.7568393133909586,\n",
       " 1.6265024219858264,\n",
       " 1.7105478435650225,\n",
       " 2.0781332679895956,\n",
       " 1.5315927169771149,\n",
       " 1.4562404185863556,\n",
       " 3.4639818615674556,\n",
       " 3.541570737237523,\n",
       " 3.99961162562993,\n",
       " 3.8919578229932026,\n",
       " 3.757798440345554,\n",
       " 4.126438029458189,\n",
       " 3.802671490075787,\n",
       " 3.32617297165195,\n",
       " 3.9586363486969107,\n",
       " 3.967581542828381,\n",
       " 4.301331303412603,\n",
       " 4.372742304144642,\n",
       " 4.403372511997764,\n",
       " 4.376022340183825,\n",
       " 4.39828187072748,\n",
       " 4.408243994049255,\n",
       " 4.399855374695223]"
      ]
     },
     "execution_count": 9,
     "metadata": {},
     "output_type": "execute_result"
    }
   ],
   "source": [
    "# Forecast:\n",
    "\n",
    "N, T = len(X_train), len(X_test)\n",
    "y_pred = generate_forecast(X = X_with_lags, N = N, T = T, h = horizon, verbose=0)\n",
    "# food_cat_prediction.loc[:, f'{model}_{cat_short}_h_{h}'] = y_pred\n",
    "y_pred"
   ]
  },
  {
   "cell_type": "code",
   "execution_count": 11,
   "metadata": {},
   "outputs": [
    {
     "name": "stdout",
     "output_type": "stream",
     "text": [
      "1.3337619028151022\n",
      "2.9416234026616936\n"
     ]
    }
   ],
   "source": [
    "yoy_real = pd.read_csv(f\"data/preprocessed/{cat_short}_yoy_infl.csv\", parse_dates=True, index_col='date')\n",
    "yoy_real_test = yoy_real[(yoy_real.index > mine_g.train_test_split_date) & (yoy_real.index <= mine_g.max_X_date)]\n",
    "\n",
    "\n",
    "print(mean_absolute_error(yoy_real_test, y_pred))\n",
    "print(np.sqrt(mean_squared_error(yoy_real_test, y_pred)))"
   ]
  },
  {
   "cell_type": "code",
   "execution_count": 13,
   "metadata": {},
   "outputs": [
    {
     "data": {
      "image/png": "[encoded data removed]",
      "text/plain": [
       "<Figure size 1400x400 with 1 Axes>"
      ]
     },
     "metadata": {},
     "output_type": "display_data"
    }
   ],
   "source": [
    "plt.figure(figsize=(14, 4))\n",
    "plt.plot(yoy_real_test.reset_index(drop=True), label = \"real\")\n",
    "\n",
    "plt.plot(y_pred, label = \"h_1\")\n",
    "plt.legend()\n",
    "plt.show()"
   ]
  }
 ],
 "metadata": {
  "kernelspec": {
   "display_name": "thesis",
   "language": "python",
   "name": "python3"
  },
  "language_info": {
   "codemirror_mode": {
    "name": "ipython",
    "version": 3
   },
   "file_extension": ".py",
   "mimetype": "text/x-python",
   "name": "python",
   "nbconvert_exporter": "python",
   "pygments_lexer": "ipython3",
   "version": "3.11.7"
  }
 },
 "nbformat": 4,
 "nbformat_minor": 2
}
