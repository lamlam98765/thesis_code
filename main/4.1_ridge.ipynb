{
 "cells": [
  {
   "cell_type": "code",
   "execution_count": 37,
   "id": "1bf4246c",
   "metadata": {},
   "outputs": [],
   "source": [
    "from os import chdir\n",
    "chdir('/Users/lananhnguyen/Desktop/thesis/thesis_code')\n",
    "import main.packages.mine_generic as mine_g\n",
    "import main.packages.mine_specific as mine_s\n",
    "\n",
    "import pandas as pd\n",
    "import numpy as np\n",
    "import matplotlib.pyplot as plt\n",
    "import seaborn as sns \n",
    "\n",
    "from sklearn.metrics import mean_squared_error, mean_absolute_error\n",
    "from sklearn.linear_model import Ridge\n"
   ]
  },
  {
   "cell_type": "code",
   "execution_count": 38,
   "id": "b14a7c83",
   "metadata": {},
   "outputs": [],
   "source": [
    "hicp_all_path = 'data/preprocessed/cpi_yoy.csv'\n",
    "hicp_class_path = 'data/HICP_COICOP10s.xlsx'\n",
    "model = 'ridge'\n",
    "date_range = pd.date_range(start=mine_g.train_test_split_date + pd.DateOffset(months=1), end=mine_g.max_X_date, freq='M')"
   ]
  },
  {
   "cell_type": "markdown",
   "id": "67c67462",
   "metadata": {},
   "source": [
    "# 4.1. Ridge:\n",
    "## Food:\n"
   ]
  },
  {
   "cell_type": "code",
   "execution_count": 39,
   "id": "f1c80967",
   "metadata": {},
   "outputs": [
    {
     "name": "stdout",
     "output_type": "stream",
     "text": [
      "Number of items in Food group:  180\n"
     ]
    },
    {
     "name": "stderr",
     "output_type": "stream",
     "text": [
      "/var/folders/74/zq2msw1x2fj9j2zyq8njktnc0000gn/T/ipykernel_10189/3449463087.py:15: SettingWithCopyWarning: \n",
      "A value is trying to be set on a copy of a slice from a DataFrame\n",
      "\n",
      "See the caveats in the documentation: https://pandas.pydata.org/pandas-docs/stable/user_guide/indexing.html#returning-a-view-versus-a-copy\n",
      "  cat_df.dropna(axis=1, inplace=True)\n"
     ]
    }
   ],
   "source": [
    "category = 'Food'\n",
    "cat_short = 'food'\n",
    "hicp_cat_path = f'data/preprocessed/{cat_short}_yoy_infl.csv'\n",
    "\n",
    "save_cat_file_path = f'data/forecast_results/{cat_short}_forecast.csv'\n",
    "\n",
    "HICP_monthly, HICP_class, HICP_cat = mine_g.import_data_all(hicp_all_path=hicp_all_path,\n",
    "                                                     hicp_class_path=hicp_class_path,\n",
    "                                                     hicp_cat_path=hicp_cat_path)\n",
    "\n",
    "cat_df = mine_g.split_into_category(category=category,\n",
    "                             HICP_class=HICP_class,\n",
    "                             HICP_monthly=HICP_monthly,\n",
    "                             fillna=False)\n",
    "cat_df.dropna(axis=1, inplace=True)\n",
    "food_cat_prediction = pd.DataFrame(index=date_range)"
   ]
  },
  {
   "cell_type": "code",
   "execution_count": 40,
   "id": "9765f0be",
   "metadata": {},
   "outputs": [
    {
     "data": {
      "text/plain": [
       "(312, 147)"
      ]
     },
     "execution_count": 40,
     "metadata": {},
     "output_type": "execute_result"
    }
   ],
   "source": [
    "cat_df.shape"
   ]
  },
  {
   "cell_type": "code",
   "execution_count": 41,
   "id": "f815e3c4",
   "metadata": {},
   "outputs": [
    {
     "name": "stdout",
     "output_type": "stream",
     "text": [
      "Horizon: 1\n",
      "Training predictor period: 1997-01-31 00:00:00 to 2015-11-30 00:00:00\n",
      "Training dependent variable period: 1997-02-28 00:00:00 to 2015-12-31 00:00:00\n",
      "{'regression__alpha': 1839.3999999999987}\n",
      "Horizon: 1\n",
      "------------------------\n"
     ]
    }
   ],
   "source": [
    "h = 1\n",
    "X_cat_train, X_cat_test, y_cat_train, y_cat_test = mine_g.split_train_test_set(X = cat_df, y = HICP_cat, h = h)\n",
    "\n",
    "best_param = mine_s.tuning_gridsearchcv(reg= Ridge(),\n",
    "                                grid_space= np.arange(1838, 1840, 0.1),\n",
    "                                X_train= X_cat_train.copy(),\n",
    "                                y_train= y_cat_train.copy(),\n",
    "                                test_size=24)\n",
    "print(best_param)\n",
    "\n",
    "\n",
    "N, T = len(X_cat_train), len(X_cat_test)\n",
    "forecast = mine_s.generate_forecast(X=cat_df, y=HICP_cat, N=N, T=T, h=h, hyperparam=best_param['regression__alpha'], model=Ridge, verbose = 0)\n",
    "\n",
    "food_cat_prediction.loc[:, f'{model}_{cat_short}_h_{h}'] = forecast\n"
   ]
  },
  {
   "cell_type": "code",
   "execution_count": 42,
   "id": "f04b60f4",
   "metadata": {},
   "outputs": [
    {
     "name": "stdout",
     "output_type": "stream",
     "text": [
      "Horizon: 2\n",
      "Training predictor period: 1997-01-31 00:00:00 to 2015-10-31 00:00:00\n",
      "Training dependent variable period: 1997-03-31 00:00:00 to 2015-12-31 00:00:00\n",
      "{'regression__alpha': 2515.299999999998}\n",
      "Horizon: 2\n",
      "------------------------\n"
     ]
    }
   ],
   "source": [
    "h = 2\n",
    "X_cat_train, X_cat_test, y_cat_train, y_cat_test = mine_g.split_train_test_set(X = cat_df, y = HICP_cat, h = h)\n",
    "\n",
    "best_param = mine_s.tuning_gridsearchcv(reg= Ridge(),\n",
    "                                grid_space= np.arange(2513, 2520, 0.1),\n",
    "                                X_train= X_cat_train.copy(),\n",
    "                                y_train= y_cat_train.copy(),\n",
    "                                test_size=24)\n",
    "print(best_param)\n",
    "forecast = mine_s.generate_forecast(X=cat_df, y=HICP_cat, N=N, T=T, h=h, hyperparam=best_param['regression__alpha'], model=Ridge, verbose = 0)\n",
    "N, T = len(X_cat_train), len(X_cat_test)\n",
    "food_cat_prediction.loc[:, f'{model}_{cat_short}_h_{h}'] = forecast\n"
   ]
  },
  {
   "cell_type": "code",
   "execution_count": 43,
   "id": "e1d0f153",
   "metadata": {},
   "outputs": [
    {
     "name": "stdout",
     "output_type": "stream",
     "text": [
      "Horizon: 3\n",
      "Training predictor period: 1997-01-31 00:00:00 to 2015-09-30 00:00:00\n",
      "Training dependent variable period: 1997-04-30 00:00:00 to 2015-12-31 00:00:00\n",
      "{'regression__alpha': 2613.999999999999}\n",
      "Horizon: 3\n",
      "------------------------\n"
     ]
    }
   ],
   "source": [
    "h = 3\n",
    "X_cat_train, X_cat_test, y_cat_train, y_cat_test = mine_g.split_train_test_set(X = cat_df, y = HICP_cat, h = h)\n",
    "\n",
    "best_param = mine_s.tuning_gridsearchcv(reg= Ridge(),\n",
    "                                grid_space= np.arange(2613, 2616, 0.1),\n",
    "                                X_train= X_cat_train.copy(),\n",
    "                                y_train= y_cat_train.copy(),\n",
    "                                test_size=24)\n",
    "print(best_param)\n",
    "\n",
    "N, T = len(X_cat_train), len(X_cat_test)\n",
    "forecast = mine_s.generate_forecast(X=cat_df, y=HICP_cat, N=N, T=T, h=h, hyperparam=best_param['regression__alpha'], model=Ridge, verbose = 0)\n",
    "food_cat_prediction.loc[:, f'{model}_{cat_short}_h_{h}'] = forecast\n"
   ]
  },
  {
   "cell_type": "markdown",
   "id": "8f458f6b",
   "metadata": {},
   "source": [
    "---"
   ]
  },
  {
   "cell_type": "markdown",
   "id": "ee4814fb",
   "metadata": {},
   "source": [
    "## Energy:\n"
   ]
  },
  {
   "cell_type": "code",
   "execution_count": 44,
   "id": "e87ea371",
   "metadata": {},
   "outputs": [
    {
     "name": "stdout",
     "output_type": "stream",
     "text": [
      "Number of items in Energy group:  14\n"
     ]
    },
    {
     "name": "stderr",
     "output_type": "stream",
     "text": [
      "/var/folders/74/zq2msw1x2fj9j2zyq8njktnc0000gn/T/ipykernel_10189/284154866.py:14: SettingWithCopyWarning: \n",
      "A value is trying to be set on a copy of a slice from a DataFrame\n",
      "\n",
      "See the caveats in the documentation: https://pandas.pydata.org/pandas-docs/stable/user_guide/indexing.html#returning-a-view-versus-a-copy\n",
      "  cat_df.dropna(axis=1, inplace=True)\n"
     ]
    }
   ],
   "source": [
    "cat_short = 'energy'\n",
    "category = 'Energy'\n",
    "hicp_cat_path = f'data/preprocessed/{cat_short}_yoy_infl.csv'\n",
    "save_cat_file_path = f'data/forecast_results/{cat_short}_forecast.csv'\n",
    "\n",
    "HICP_monthly, HICP_class, HICP_cat = mine_g.import_data_all(hicp_all_path=hicp_all_path,\n",
    "                                                     hicp_class_path=hicp_class_path,\n",
    "                                                     hicp_cat_path=hicp_cat_path)\n",
    "\n",
    "cat_df = mine_g.split_into_category(category=category,\n",
    "                             HICP_class=HICP_class,\n",
    "                             HICP_monthly=HICP_monthly,\n",
    "                             fillna=False)\n",
    "cat_df.dropna(axis=1, inplace=True)\n",
    "energy_cat_prediction = pd.DataFrame(index=date_range)"
   ]
  },
  {
   "cell_type": "code",
   "execution_count": 45,
   "id": "8e33b4bb",
   "metadata": {},
   "outputs": [
    {
     "name": "stdout",
     "output_type": "stream",
     "text": [
      "Horizon: 1\n",
      "Training predictor period: 1997-01-31 00:00:00 to 2015-11-30 00:00:00\n",
      "Training dependent variable period: 1997-02-28 00:00:00 to 2015-12-31 00:00:00\n",
      "{'regression__alpha': 18.80000000000001}\n",
      "Horizon: 1\n",
      "------------------------\n"
     ]
    }
   ],
   "source": [
    "h = 1\n",
    "X_cat_train, X_cat_test, y_cat_train, y_cat_test = mine_g.split_train_test_set(X = cat_df, y = HICP_cat, h = h)\n",
    "\n",
    "best_param = mine_s.tuning_gridsearchcv(reg= Ridge(),\n",
    "                                grid_space= np.arange(18, 22, 0.1),\n",
    "                                X_train= X_cat_train.copy(),\n",
    "                                y_train= y_cat_train.copy(),\n",
    "                                test_size=24)\n",
    "print(best_param)\n",
    "\n",
    "N, T = len(X_cat_train), len(X_cat_test)\n",
    "forecast = mine_s.generate_forecast(X=cat_df, y=HICP_cat, N=N, T=T, h=h, hyperparam=best_param['regression__alpha'], model=Ridge, verbose = 0)\n",
    "energy_cat_prediction.loc[:, f'{model}_{cat_short}_h_{h}'] = forecast\n"
   ]
  },
  {
   "cell_type": "code",
   "execution_count": 46,
   "id": "960defd3",
   "metadata": {},
   "outputs": [
    {
     "name": "stdout",
     "output_type": "stream",
     "text": [
      "Horizon: 2\n",
      "Training predictor period: 1997-01-31 00:00:00 to 2015-10-31 00:00:00\n",
      "Training dependent variable period: 1997-03-31 00:00:00 to 2015-12-31 00:00:00\n",
      "{'regression__alpha': 46.90000000000001}\n",
      "Horizon: 2\n",
      "------------------------\n"
     ]
    }
   ],
   "source": [
    "h = 2\n",
    "X_cat_train, X_cat_test, y_cat_train, y_cat_test = mine_g.split_train_test_set(X = cat_df, y = HICP_cat, h = h)\n",
    "\n",
    "best_param = mine_s.tuning_gridsearchcv(reg= Ridge(),\n",
    "                                grid_space= np.arange(46, 50, 0.1),\n",
    "                                X_train= X_cat_train.copy(),\n",
    "                                y_train= y_cat_train.copy(),\n",
    "                                test_size=24)\n",
    "print(best_param)\n",
    "N, T = len(X_cat_train), len(X_cat_test)\n",
    "forecast = mine_s.generate_forecast(X=cat_df, y=HICP_cat, N=N, T=T, h=h, hyperparam=best_param['regression__alpha'], model=Ridge, verbose = 0)\n",
    "energy_cat_prediction.loc[:, f'{model}_{cat_short}_h_{h}'] = forecast\n",
    "\n",
    "mine_g.save_forecast(forecast_result_df=energy_cat_prediction.reset_index(drop=True), cat_file_path=save_cat_file_path)"
   ]
  },
  {
   "cell_type": "code",
   "execution_count": 47,
   "id": "0becc5fd",
   "metadata": {},
   "outputs": [
    {
     "name": "stdout",
     "output_type": "stream",
     "text": [
      "Horizon: 3\n",
      "Training predictor period: 1997-01-31 00:00:00 to 2015-09-30 00:00:00\n",
      "Training dependent variable period: 1997-04-30 00:00:00 to 2015-12-31 00:00:00\n",
      "{'regression__alpha': 76.89999999999961}\n",
      "Horizon: 3\n",
      "------------------------\n"
     ]
    }
   ],
   "source": [
    "h = 3\n",
    "X_cat_train, X_cat_test, y_cat_train, y_cat_test = mine_g.split_train_test_set(X = cat_df, y = HICP_cat, h = h)\n",
    "\n",
    "best_param = mine_s.tuning_gridsearchcv(reg= Ridge(),\n",
    "                                grid_space= np.arange(70, 90, 0.1),\n",
    "                                X_train= X_cat_train.copy(),\n",
    "                                y_train= y_cat_train.copy(),\n",
    "                                test_size=24)\n",
    "print(best_param)\n",
    "N, T = len(X_cat_train), len(X_cat_test)\n",
    "forecast = mine_s.generate_forecast(X=cat_df, y=HICP_cat, N=N, T=T, h=h, hyperparam=best_param['regression__alpha'], model=Ridge, verbose = 0)\n",
    "energy_cat_prediction.loc[:, f'{model}_{cat_short}_h_{h}'] = forecast\n",
    "\n",
    "mine_g.save_forecast(forecast_result_df=energy_cat_prediction.reset_index(drop=True), cat_file_path=save_cat_file_path)"
   ]
  },
  {
   "cell_type": "markdown",
   "id": "5e0761af",
   "metadata": {},
   "source": [
    "## NEIG:"
   ]
  },
  {
   "cell_type": "code",
   "execution_count": 64,
   "id": "dc359fd0",
   "metadata": {},
   "outputs": [
    {
     "name": "stdout",
     "output_type": "stream",
     "text": [
      "Number of items in Non-energy industrial goods (NEIG) group:  302\n"
     ]
    },
    {
     "name": "stderr",
     "output_type": "stream",
     "text": [
      "/var/folders/74/zq2msw1x2fj9j2zyq8njktnc0000gn/T/ipykernel_10189/2898556519.py:14: SettingWithCopyWarning: \n",
      "A value is trying to be set on a copy of a slice from a DataFrame\n",
      "\n",
      "See the caveats in the documentation: https://pandas.pydata.org/pandas-docs/stable/user_guide/indexing.html#returning-a-view-versus-a-copy\n",
      "  cat_df.dropna(axis=1, inplace=True)\n"
     ]
    }
   ],
   "source": [
    "cat_short = 'neig'\n",
    "category = 'Non-energy industrial goods (NEIG)'\n",
    "hicp_cat_path = f'data/preprocessed/{cat_short}_yoy_infl.csv'\n",
    "save_cat_file_path = f'data/forecast_results/{cat_short}_forecast.csv'\n",
    "\n",
    "HICP_monthly, HICP_class, HICP_cat = mine_g.import_data_all(hicp_all_path=hicp_all_path,\n",
    "                                                     hicp_class_path=hicp_class_path,\n",
    "                                                     hicp_cat_path=hicp_cat_path)\n",
    "\n",
    "cat_df = mine_g.split_into_category(category=category,\n",
    "                             HICP_class=HICP_class,\n",
    "                             HICP_monthly=HICP_monthly,\n",
    "                             fillna=False)\n",
    "cat_df.dropna(axis=1, inplace=True)\n",
    "neig_cat_prediction = pd.DataFrame(index=date_range)"
   ]
  },
  {
   "cell_type": "code",
   "execution_count": 65,
   "id": "9c96bca2",
   "metadata": {},
   "outputs": [
    {
     "name": "stdout",
     "output_type": "stream",
     "text": [
      "Horizon: 1\n",
      "Training predictor period: 1997-01-31 00:00:00 to 2015-11-30 00:00:00\n",
      "Training dependent variable period: 1997-02-28 00:00:00 to 2015-12-31 00:00:00\n",
      "{'regression__alpha': 1817.2999999999934}\n"
     ]
    }
   ],
   "source": [
    "h = 1\n",
    "X_cat_train, X_cat_test, y_cat_train, y_cat_test = mine_g.split_train_test_set(X = cat_df, y = HICP_cat, h = h)\n",
    "\n",
    "best_param = mine_s.tuning_gridsearchcv(reg= Ridge(),\n",
    "                                grid_space= np.arange(1810, 1840, 0.1),\n",
    "                                X_train= X_cat_train.copy(),\n",
    "                                y_train= y_cat_train.copy(),\n",
    "                                test_size=24)\n",
    "print(best_param)"
   ]
  },
  {
   "cell_type": "code",
   "execution_count": 66,
   "id": "0ee6b2b6",
   "metadata": {},
   "outputs": [
    {
     "name": "stdout",
     "output_type": "stream",
     "text": [
      "Horizon: 1\n",
      "------------------------\n"
     ]
    }
   ],
   "source": [
    "N, T = len(X_cat_train), len(X_cat_test)\n",
    "forecast = mine_s.generate_forecast(X=cat_df, y=HICP_cat, N=N, T=T, h=h, hyperparam=best_param['regression__alpha'], model=Ridge, verbose = 0)\n",
    "neig_cat_prediction.loc[:, f'{model}_{cat_short}_h_{h}'] = forecast\n"
   ]
  },
  {
   "cell_type": "code",
   "execution_count": 67,
   "id": "b8adb820",
   "metadata": {},
   "outputs": [
    {
     "name": "stdout",
     "output_type": "stream",
     "text": [
      "Horizon: 2\n",
      "Training predictor period: 1997-01-31 00:00:00 to 2015-10-31 00:00:00\n",
      "Training dependent variable period: 1997-03-31 00:00:00 to 2015-12-31 00:00:00\n",
      "{'regression__alpha': 50.80000000000001}\n"
     ]
    }
   ],
   "source": [
    "h = 2\n",
    "X_cat_train, X_cat_test, y_cat_train, y_cat_test = mine_g.split_train_test_set(X = cat_df, y = HICP_cat, h = h)\n",
    "\n",
    "best_param = mine_s.tuning_gridsearchcv(reg= Ridge(),\n",
    "                                grid_space= np.arange(50, 60, 0.1),\n",
    "                                X_train= X_cat_train.copy(),\n",
    "                                y_train= y_cat_train.copy(),\n",
    "                                test_size=24)\n",
    "print(best_param)"
   ]
  },
  {
   "cell_type": "code",
   "execution_count": 68,
   "id": "b1177690",
   "metadata": {},
   "outputs": [
    {
     "name": "stdout",
     "output_type": "stream",
     "text": [
      "Horizon: 2\n",
      "------------------------\n"
     ]
    }
   ],
   "source": [
    "N, T = len(X_cat_train), len(X_cat_test)\n",
    "forecast = mine_s.generate_forecast(X=cat_df, y=HICP_cat, N=N, T=T, h=h, hyperparam=best_param['regression__alpha'], model=Ridge, verbose = 0)\n",
    "neig_cat_prediction.loc[:, f'{model}_{cat_short}_h_{h}'] = forecast"
   ]
  },
  {
   "cell_type": "code",
   "execution_count": 69,
   "id": "0255ae6d",
   "metadata": {},
   "outputs": [
    {
     "name": "stdout",
     "output_type": "stream",
     "text": [
      "Horizon: 3\n",
      "Training predictor period: 1997-01-31 00:00:00 to 2015-09-30 00:00:00\n",
      "Training dependent variable period: 1997-04-30 00:00:00 to 2015-12-31 00:00:00\n",
      "{'regression__alpha': 669.1000000000021}\n"
     ]
    }
   ],
   "source": [
    "h = 3\n",
    "X_cat_train, X_cat_test, y_cat_train, y_cat_test = mine_g.split_train_test_set(X = cat_df, y = HICP_cat, h = h)\n",
    "\n",
    "best_param = mine_s.tuning_gridsearchcv(reg= Ridge(),\n",
    "                                grid_space= np.arange(660, 670, 0.1),\n",
    "                                X_train= X_cat_train.copy(),\n",
    "                                y_train= y_cat_train.copy(),\n",
    "                                test_size=24)\n",
    "print(best_param)"
   ]
  },
  {
   "cell_type": "code",
   "execution_count": 70,
   "id": "5e0aecaf",
   "metadata": {},
   "outputs": [
    {
     "name": "stdout",
     "output_type": "stream",
     "text": [
      "Horizon: 3\n",
      "------------------------\n"
     ]
    }
   ],
   "source": [
    "N, T = len(X_cat_train), len(X_cat_test)\n",
    "forecast = mine_s.generate_forecast(X=cat_df, y=HICP_cat, N=N, T=T, h=h, hyperparam=best_param['regression__alpha'], model=Ridge, verbose = 0)\n",
    "neig_cat_prediction.loc[:, f'{model}_{cat_short}_h_{h}'] = forecast\n",
    "\n",
    "# save forecast:\n",
    "mine_g.save_forecast(forecast_result_df=neig_cat_prediction.reset_index(drop=True), cat_file_path=save_cat_file_path)"
   ]
  },
  {
   "cell_type": "code",
   "execution_count": 71,
   "id": "4d2c802d",
   "metadata": {},
   "outputs": [
    {
     "name": "stdout",
     "output_type": "stream",
     "text": [
      "0.3819780685834718\n",
      "0.5790691275096749\n"
     ]
    }
   ],
   "source": [
    "yoy_real = pd.read_csv(f\"data/preprocessed/{cat_short}_yoy_infl.csv\", parse_dates=True, index_col='date')\n",
    "yoy_real_test = yoy_real[(yoy_real.index > mine_g.train_test_split_date) & (yoy_real.index <= mine_g.max_X_date)]\n",
    "df_compare = pd.concat([neig_cat_prediction, yoy_real_test], axis = 1)\n",
    "\n",
    "print(mean_absolute_error(df_compare.loc[:, 'yoy_rate'], df_compare.loc[:, f'ridge_{cat_short}_h_1']))\n",
    "print(np.sqrt(mean_squared_error(df_compare.loc[:, 'yoy_rate'], df_compare.loc[:, f'ridge_{cat_short}_h_1'])))"
   ]
  },
  {
   "cell_type": "markdown",
   "id": "98b72e1f",
   "metadata": {},
   "source": [
    "## Services:"
   ]
  },
  {
   "cell_type": "code",
   "execution_count": 72,
   "id": "635a76da",
   "metadata": {},
   "outputs": [
    {
     "name": "stdout",
     "output_type": "stream",
     "text": [
      "Number of items in Services group:  148\n"
     ]
    },
    {
     "name": "stderr",
     "output_type": "stream",
     "text": [
      "/var/folders/74/zq2msw1x2fj9j2zyq8njktnc0000gn/T/ipykernel_10189/2534085112.py:14: SettingWithCopyWarning: \n",
      "A value is trying to be set on a copy of a slice from a DataFrame\n",
      "\n",
      "See the caveats in the documentation: https://pandas.pydata.org/pandas-docs/stable/user_guide/indexing.html#returning-a-view-versus-a-copy\n",
      "  cat_df.dropna(axis=1, inplace=True)\n"
     ]
    }
   ],
   "source": [
    "cat_short = 'services'\n",
    "category = 'Services'\n",
    "hicp_cat_path = f'data/preprocessed/{cat_short}_yoy_infl.csv'\n",
    "save_cat_file_path = f'data/forecast_results/{cat_short}_forecast.csv'\n",
    "\n",
    "HICP_monthly, HICP_class, HICP_cat = mine_g.import_data_all(hicp_all_path=hicp_all_path,\n",
    "                                                     hicp_class_path=hicp_class_path,\n",
    "                                                     hicp_cat_path=hicp_cat_path)\n",
    "\n",
    "cat_df = mine_g.split_into_category(category=category,\n",
    "                             HICP_class=HICP_class,\n",
    "                             HICP_monthly=HICP_monthly,\n",
    "                             fillna=False)\n",
    "cat_df.dropna(axis=1, inplace=True)\n",
    "services_cat_prediction = pd.DataFrame(index=date_range)"
   ]
  },
  {
   "cell_type": "code",
   "execution_count": 73,
   "id": "8a18e82c",
   "metadata": {},
   "outputs": [
    {
     "name": "stdout",
     "output_type": "stream",
     "text": [
      "Horizon: 1\n",
      "Training predictor period: 1997-01-31 00:00:00 to 2015-11-30 00:00:00\n",
      "Training dependent variable period: 1997-02-28 00:00:00 to 2015-12-31 00:00:00\n",
      "{'regression__alpha': 1047.799999999993}\n"
     ]
    }
   ],
   "source": [
    "h = 1\n",
    "X_cat_train, X_cat_test, y_cat_train, y_cat_test = mine_g.split_train_test_set(X = cat_df, y = HICP_cat, h = h)\n",
    "\n",
    "best_param = mine_s.tuning_gridsearchcv(reg= Ridge(),\n",
    "                                grid_space= np.arange(1040, 1050, 0.1),\n",
    "                                X_train= X_cat_train.copy(),\n",
    "                                y_train= y_cat_train.copy(),\n",
    "                                test_size=24)\n",
    "print(best_param)"
   ]
  },
  {
   "cell_type": "code",
   "execution_count": 74,
   "id": "5b161838",
   "metadata": {},
   "outputs": [
    {
     "name": "stdout",
     "output_type": "stream",
     "text": [
      "Horizon: 1\n",
      "------------------------\n"
     ]
    }
   ],
   "source": [
    "N, T = len(X_cat_train), len(X_cat_test)\n",
    "forecast = mine_s.generate_forecast(X=cat_df, y=HICP_cat, N=N, T=T, h=h, hyperparam=best_param['regression__alpha'], model=Ridge, verbose = 0)\n",
    "services_cat_prediction.loc[:, f'{model}_{cat_short}_h_{h}'] = forecast"
   ]
  },
  {
   "cell_type": "code",
   "execution_count": 75,
   "id": "fa101850",
   "metadata": {},
   "outputs": [
    {
     "name": "stdout",
     "output_type": "stream",
     "text": [
      "Horizon: 2\n",
      "Training predictor period: 1997-01-31 00:00:00 to 2015-10-31 00:00:00\n",
      "Training dependent variable period: 1997-03-31 00:00:00 to 2015-12-31 00:00:00\n",
      "{'regression__alpha': 650.1000000000023}\n"
     ]
    }
   ],
   "source": [
    "h = 2\n",
    "X_cat_train, X_cat_test, y_cat_train, y_cat_test = mine_g.split_train_test_set(X = cat_df, y = HICP_cat, h = h)\n",
    "\n",
    "best_param = mine_s.tuning_gridsearchcv(reg= Ridge(),\n",
    "                                grid_space= np.arange(640, 670, 0.1),\n",
    "                                X_train= X_cat_train.copy(),\n",
    "                                y_train= y_cat_train.copy(),\n",
    "                                test_size=24)\n",
    "print(best_param)"
   ]
  },
  {
   "cell_type": "code",
   "execution_count": 76,
   "id": "0cd620c8",
   "metadata": {},
   "outputs": [
    {
     "name": "stdout",
     "output_type": "stream",
     "text": [
      "Horizon: 2\n",
      "------------------------\n"
     ]
    }
   ],
   "source": [
    "N, T = len(X_cat_train), len(X_cat_test)\n",
    "forecast = mine_s.generate_forecast(X=cat_df, y=HICP_cat, N=N, T=T, h=h, hyperparam=best_param['regression__alpha'], model=Ridge, verbose = 0)\n",
    "services_cat_prediction.loc[:, f'{model}_{cat_short}_h_{h}'] = forecast"
   ]
  },
  {
   "cell_type": "code",
   "execution_count": 77,
   "id": "46f889b8",
   "metadata": {},
   "outputs": [
    {
     "name": "stdout",
     "output_type": "stream",
     "text": [
      "Horizon: 3\n",
      "Training predictor period: 1997-01-31 00:00:00 to 2015-09-30 00:00:00\n",
      "Training dependent variable period: 1997-04-30 00:00:00 to 2015-12-31 00:00:00\n",
      "{'regression__alpha': 481.10000000000025}\n"
     ]
    }
   ],
   "source": [
    "h = 3\n",
    "X_cat_train, X_cat_test, y_cat_train, y_cat_test = mine_g.split_train_test_set(X = cat_df, y = HICP_cat, h = h)\n",
    "\n",
    "best_param = mine_s.tuning_gridsearchcv(reg= Ridge(),\n",
    "                                grid_space= np.arange(480, 482, 0.1),\n",
    "                                X_train= X_cat_train.copy(),\n",
    "                                y_train= y_cat_train.copy(),\n",
    "                                test_size=24)\n",
    "print(best_param)"
   ]
  },
  {
   "cell_type": "code",
   "execution_count": 78,
   "id": "2b682fcd",
   "metadata": {},
   "outputs": [
    {
     "name": "stdout",
     "output_type": "stream",
     "text": [
      "Horizon: 3\n",
      "------------------------\n"
     ]
    }
   ],
   "source": [
    "N, T = len(X_cat_train), len(X_cat_test)\n",
    "forecast = mine_s.generate_forecast(X=cat_df, y=HICP_cat, N=N, T=T, h=h, hyperparam=best_param['regression__alpha'], model=Ridge, verbose = 0)\n",
    "services_cat_prediction.loc[:, f'{model}_{cat_short}_h_{h}'] = forecast\n",
    "\n",
    "\n",
    "# save forecast:\n",
    "mine_g.save_forecast(forecast_result_df=services_cat_prediction.reset_index(drop=True), cat_file_path=save_cat_file_path)"
   ]
  },
  {
   "cell_type": "code",
   "execution_count": 79,
   "id": "0f64cf04",
   "metadata": {},
   "outputs": [
    {
     "name": "stdout",
     "output_type": "stream",
     "text": [
      "0.5062275468997752\n",
      "0.6534727624780515\n"
     ]
    }
   ],
   "source": [
    "yoy_real = pd.read_csv(f\"data/preprocessed/{cat_short}_yoy_infl.csv\", parse_dates=True, index_col='date')\n",
    "yoy_real_test = yoy_real[(yoy_real.index > mine_g.train_test_split_date) & (yoy_real.index <= mine_g.max_X_date)]\n",
    "df_compare = pd.concat([services_cat_prediction, yoy_real_test], axis = 1)\n",
    "\n",
    "print(mean_absolute_error(df_compare.loc[:, 'yoy_rate'], df_compare.loc[:, f'ridge_{cat_short}_h_1']))\n",
    "print(np.sqrt(mean_squared_error(df_compare.loc[:, 'yoy_rate'], df_compare.loc[:, f'ridge_{cat_short}_h_1'])))"
   ]
  }
 ],
 "metadata": {
  "kernelspec": {
   "display_name": "Python 3 (ipykernel)",
   "language": "python",
   "name": "python3"
  },
  "language_info": {
   "codemirror_mode": {
    "name": "ipython",
    "version": 3
   },
   "file_extension": ".py",
   "mimetype": "text/x-python",
   "name": "python",
   "nbconvert_exporter": "python",
   "pygments_lexer": "ipython3",
   "version": "3.11.7"
  }
 },
 "nbformat": 4,
 "nbformat_minor": 5
}
