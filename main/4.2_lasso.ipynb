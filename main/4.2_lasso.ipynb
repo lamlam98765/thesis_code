{
 "cells": [
  {
   "cell_type": "code",
   "execution_count": 1,
   "id": "1bf4246c",
   "metadata": {},
   "outputs": [],
   "source": [
    "from os import chdir\n",
    "chdir('/Users/lananhnguyen/Desktop/thesis/thesis_code')\n",
    "import main.packages.mine_generic as mine_g\n",
    "import main.packages.mine_specific as mine_s\n",
    "\n",
    "import pandas as pd\n",
    "import numpy as np\n",
    "import matplotlib.pyplot as plt\n",
    "import seaborn as sns \n",
    "\n",
    "from sklearn.metrics import mean_squared_error, mean_absolute_error\n",
    "from sklearn.linear_model import Lasso"
   ]
  },
  {
   "cell_type": "code",
   "execution_count": 2,
   "id": "b14a7c83",
   "metadata": {},
   "outputs": [],
   "source": [
    "hicp_all_path = 'data/preprocessed/hicp_yoy.csv'\n",
    "hicp_class_path = 'data/HICP_COICOP10s.xlsx'\n",
    "model = 'lasso'\n",
    "date_range = pd.date_range(start=mine_g.train_test_split_date + pd.DateOffset(months=1), end=mine_g.max_X_date, freq='M')\n"
   ]
  },
  {
   "cell_type": "markdown",
   "id": "67c67462",
   "metadata": {},
   "source": [
    "# 3. Shrinkage method:\n",
    "## 3.1. Food:\n"
   ]
  },
  {
   "cell_type": "code",
   "execution_count": 3,
   "id": "f1c80967",
   "metadata": {},
   "outputs": [
    {
     "name": "stdout",
     "output_type": "stream",
     "text": [
      "Number of items in Food group:  180\n"
     ]
    },
    {
     "name": "stderr",
     "output_type": "stream",
     "text": [
      "/Users/lananhnguyen/Desktop/thesis/thesis_code/main/packages/mine_generic.py:297: SettingWithCopyWarning: \n",
      "A value is trying to be set on a copy of a slice from a DataFrame\n",
      "\n",
      "See the caveats in the documentation: https://pandas.pydata.org/pandas-docs/stable/user_guide/indexing.html#returning-a-view-versus-a-copy\n",
      "  cat_df.fillna(0, inplace=True)\n"
     ]
    }
   ],
   "source": [
    "category = 'Food'\n",
    "cat_short = 'food'\n",
    "hicp_cat_path = f'data/preprocessed/{cat_short}_yoy_infl.csv'\n",
    "\n",
    "save_cat_file_path = f'data/forecast_results/{cat_short}_forecast.csv'\n",
    "\n",
    "HICP_monthly, HICP_class, HICP_cat = mine_g.import_data_all(hicp_all_path=hicp_all_path,\n",
    "                                                     hicp_class_path=hicp_class_path,\n",
    "                                                     hicp_cat_path=hicp_cat_path)\n",
    "\n",
    "cat_df = mine_g.split_into_category(category=category,\n",
    "                             HICP_class=HICP_class,\n",
    "                             HICP_monthly=HICP_monthly)\n",
    "food_cat_prediction = pd.DataFrame(index=date_range)"
   ]
  },
  {
   "cell_type": "code",
   "execution_count": 4,
   "id": "9765f0be",
   "metadata": {},
   "outputs": [
    {
     "name": "stdout",
     "output_type": "stream",
     "text": [
      "Horizon: 1\n",
      "Training predictor period: 1997-01-31 00:00:00 to 2015-11-30 00:00:00\n",
      "Training dependent variable period: 1997-02-28 00:00:00 to 2015-12-31 00:00:00\n",
      "{'regression__alpha': 0.4299999999999998}\n"
     ]
    }
   ],
   "source": [
    "h = 1\n",
    "X_cat_train, X_cat_test, y_cat_train, y_cat_test = mine_g.split_train_test_set(X = cat_df, y = HICP_cat, h = h)\n",
    "\n",
    "best_param = mine_s.tuning_gridsearchcv(reg= Lasso(),\n",
    "                                grid_space= np.arange(0.1, 0.5, 0.01),\n",
    "                                X_train= X_cat_train.copy(),\n",
    "                                y_train= y_cat_train.copy(),\n",
    "                                test_size=24)\n",
    "print(best_param)\n"
   ]
  },
  {
   "cell_type": "code",
   "execution_count": 5,
   "id": "e41430c5",
   "metadata": {},
   "outputs": [
    {
     "name": "stdout",
     "output_type": "stream",
     "text": [
      "Horizon: 1\n",
      "------------------------\n"
     ]
    }
   ],
   "source": [
    "\n",
    "\n",
    "N, T = len(X_cat_train), len(X_cat_test)\n",
    "forecast = mine_g.generate_forecast(X=cat_df, y=HICP_cat, N=N, T=T, h=h, hyperparam=best_param['regression__alpha'], model=Lasso, verbose = 0)\n",
    "food_cat_prediction.loc[:, f'{model}_{cat_short}_h_{h}'] = forecast\n"
   ]
  },
  {
   "cell_type": "code",
   "execution_count": 8,
   "id": "f815e3c4",
   "metadata": {},
   "outputs": [
    {
     "name": "stdout",
     "output_type": "stream",
     "text": [
      "Horizon: 2\n",
      "Training predictor period: 1997-01-31 00:00:00 to 2015-10-31 00:00:00\n",
      "Training dependent variable period: 1997-03-31 00:00:00 to 2015-12-31 00:00:00\n",
      "{'regression__alpha': 0.4600000000000001}\n"
     ]
    }
   ],
   "source": [
    "h = 2\n",
    "X_cat_train, X_cat_test, y_cat_train, y_cat_test = mine_g.split_train_test_set(X = cat_df, y = HICP_cat, h = h)\n",
    "\n",
    "best_param = mine_s.tuning_gridsearchcv(reg= Lasso(),\n",
    "                                grid_space= np.arange(0.4, 0.6, 0.01),\n",
    "                                X_train= X_cat_train.copy(),\n",
    "                                y_train= y_cat_train.copy(),\n",
    "                                test_size=24)\n",
    "print(best_param)\n"
   ]
  },
  {
   "cell_type": "code",
   "execution_count": 9,
   "id": "5710e751",
   "metadata": {},
   "outputs": [
    {
     "name": "stdout",
     "output_type": "stream",
     "text": [
      "Horizon: 2\n",
      "------------------------\n"
     ]
    }
   ],
   "source": [
    "\n",
    "\n",
    "N, T = len(X_cat_train), len(X_cat_test)\n",
    "forecast = mine_g.generate_forecast(X=cat_df, y=HICP_cat, N=N, T=T, h=h, hyperparam=best_param['regression__alpha'], model=Lasso, verbose = 0)\n",
    "food_cat_prediction.loc[:, f'{model}_{cat_short}_h_{h}'] = forecast\n"
   ]
  },
  {
   "cell_type": "code",
   "execution_count": 11,
   "id": "48f5f8e7",
   "metadata": {},
   "outputs": [
    {
     "name": "stdout",
     "output_type": "stream",
     "text": [
      "Horizon: 3\n",
      "Training predictor period: 1997-01-31 00:00:00 to 2015-09-30 00:00:00\n",
      "Training dependent variable period: 1997-04-30 00:00:00 to 2015-12-31 00:00:00\n",
      "{'regression__alpha': 0.4800000000000001}\n"
     ]
    }
   ],
   "source": [
    "h = 3\n",
    "X_cat_train, X_cat_test, y_cat_train, y_cat_test = mine_g.split_train_test_set(X = cat_df, y = HICP_cat, h = h)\n",
    "\n",
    "best_param = mine_s.tuning_gridsearchcv(reg= Lasso(),\n",
    "                                grid_space= np.arange(0.4, 0.6, 0.01),\n",
    "                                X_train= X_cat_train.copy(),\n",
    "                                y_train= y_cat_train.copy(),\n",
    "                                test_size=24)\n",
    "print(best_param)\n"
   ]
  },
  {
   "cell_type": "code",
   "execution_count": 12,
   "id": "97e9f6d0",
   "metadata": {},
   "outputs": [
    {
     "name": "stdout",
     "output_type": "stream",
     "text": [
      "Horizon: 3\n",
      "------------------------\n"
     ]
    }
   ],
   "source": [
    "\n",
    "\n",
    "N, T = len(X_cat_train), len(X_cat_test)\n",
    "forecast = mine_g.generate_forecast(X=cat_df, y=HICP_cat, N=N, T=T, h=h, hyperparam=best_param['regression__alpha'], model=Lasso, verbose = 0)\n",
    "food_cat_prediction.loc[:, f'{model}_{cat_short}_h_{h}'] = forecast\n",
    "\n",
    "# save forecast:\n",
    "mine_g.save_forecast(forecast_result_df=food_cat_prediction.reset_index(drop=True), cat_file_path=save_cat_file_path, category=cat_short)"
   ]
  },
  {
   "cell_type": "code",
   "execution_count": 15,
   "id": "19f04971",
   "metadata": {},
   "outputs": [],
   "source": [
    "food_yoy_real = pd.read_csv(\"data/preprocessed/food_yoy_infl.csv\", parse_dates=True, index_col='date')\n",
    "food_yoy_real_test = food_yoy_real[(food_yoy_real.index > mine_g.train_test_split_date) & (food_yoy_real.index <= mine_g.max_X_date)]\n",
    "food_compare = pd.concat([food_cat_prediction, food_yoy_real_test], axis = 1)"
   ]
  },
  {
   "cell_type": "code",
   "execution_count": 17,
   "id": "e1d0f153",
   "metadata": {},
   "outputs": [
    {
     "data": {
      "image/png": "[encoded data removed]",
      "text/plain": [
       "<Figure size 1400x400 with 1 Axes>"
      ]
     },
     "metadata": {},
     "output_type": "display_data"
    }
   ],
   "source": [
    "plt.figure(figsize=(14, 4))\n",
    "\n",
    "plt.plot(food_compare.iloc[:, 0], label = \"h_1\")\n",
    "plt.plot(food_compare.iloc[:, 3], label = \"real\")\n",
    "plt.legend()\n",
    "plt.show()"
   ]
  },
  {
   "cell_type": "code",
   "execution_count": 19,
   "id": "8530f710",
   "metadata": {},
   "outputs": [
    {
     "data": {
      "text/html": [
       "<div>\n",
       "<style scoped>\n",
       "    .dataframe tbody tr th:only-of-type {\n",
       "        vertical-align: middle;\n",
       "    }\n",
       "\n",
       "    .dataframe tbody tr th {\n",
       "        vertical-align: top;\n",
       "    }\n",
       "\n",
       "    .dataframe thead th {\n",
       "        text-align: right;\n",
       "    }\n",
       "</style>\n",
       "<table border=\"1\" class=\"dataframe\">\n",
       "  <thead>\n",
       "    <tr style=\"text-align: right;\">\n",
       "      <th></th>\n",
       "      <th>lasso_food_h_1</th>\n",
       "      <th>lasso_food_h_2</th>\n",
       "      <th>lasso_food_h_3</th>\n",
       "      <th>yoy_rate</th>\n",
       "    </tr>\n",
       "  </thead>\n",
       "  <tbody>\n",
       "    <tr>\n",
       "      <th>2016-01-31</th>\n",
       "      <td>2.134105</td>\n",
       "      <td>2.541874</td>\n",
       "      <td>1.713432</td>\n",
       "      <td>1.209677</td>\n",
       "    </tr>\n",
       "    <tr>\n",
       "      <th>2016-02-29</th>\n",
       "      <td>2.077339</td>\n",
       "      <td>2.450285</td>\n",
       "      <td>2.371019</td>\n",
       "      <td>1.103310</td>\n",
       "    </tr>\n",
       "    <tr>\n",
       "      <th>2016-03-31</th>\n",
       "      <td>1.759770</td>\n",
       "      <td>2.280496</td>\n",
       "      <td>2.544383</td>\n",
       "      <td>1.402806</td>\n",
       "    </tr>\n",
       "    <tr>\n",
       "      <th>2016-04-30</th>\n",
       "      <td>1.478941</td>\n",
       "      <td>2.143996</td>\n",
       "      <td>2.340876</td>\n",
       "      <td>1.195219</td>\n",
       "    </tr>\n",
       "    <tr>\n",
       "      <th>2016-05-31</th>\n",
       "      <td>1.190991</td>\n",
       "      <td>1.650873</td>\n",
       "      <td>2.315139</td>\n",
       "      <td>0.896414</td>\n",
       "    </tr>\n",
       "    <tr>\n",
       "      <th>...</th>\n",
       "      <td>...</td>\n",
       "      <td>...</td>\n",
       "      <td>...</td>\n",
       "      <td>...</td>\n",
       "    </tr>\n",
       "    <tr>\n",
       "      <th>2022-08-31</th>\n",
       "      <td>12.271404</td>\n",
       "      <td>11.084316</td>\n",
       "      <td>7.883470</td>\n",
       "      <td>12.849650</td>\n",
       "    </tr>\n",
       "    <tr>\n",
       "      <th>2022-09-30</th>\n",
       "      <td>13.485164</td>\n",
       "      <td>11.881780</td>\n",
       "      <td>10.917636</td>\n",
       "      <td>14.423077</td>\n",
       "    </tr>\n",
       "    <tr>\n",
       "      <th>2022-10-31</th>\n",
       "      <td>14.118595</td>\n",
       "      <td>12.954497</td>\n",
       "      <td>11.939767</td>\n",
       "      <td>15.458515</td>\n",
       "    </tr>\n",
       "    <tr>\n",
       "      <th>2022-11-30</th>\n",
       "      <td>14.665865</td>\n",
       "      <td>14.161682</td>\n",
       "      <td>12.561324</td>\n",
       "      <td>16.275022</td>\n",
       "    </tr>\n",
       "    <tr>\n",
       "      <th>2022-12-31</th>\n",
       "      <td>15.112812</td>\n",
       "      <td>14.855511</td>\n",
       "      <td>13.364088</td>\n",
       "      <td>16.335350</td>\n",
       "    </tr>\n",
       "  </tbody>\n",
       "</table>\n",
       "<p>84 rows × 4 columns</p>\n",
       "</div>"
      ],
      "text/plain": [
       "            lasso_food_h_1  lasso_food_h_2  lasso_food_h_3   yoy_rate\n",
       "2016-01-31        2.134105        2.541874        1.713432   1.209677\n",
       "2016-02-29        2.077339        2.450285        2.371019   1.103310\n",
       "2016-03-31        1.759770        2.280496        2.544383   1.402806\n",
       "2016-04-30        1.478941        2.143996        2.340876   1.195219\n",
       "2016-05-31        1.190991        1.650873        2.315139   0.896414\n",
       "...                    ...             ...             ...        ...\n",
       "2022-08-31       12.271404       11.084316        7.883470  12.849650\n",
       "2022-09-30       13.485164       11.881780       10.917636  14.423077\n",
       "2022-10-31       14.118595       12.954497       11.939767  15.458515\n",
       "2022-11-30       14.665865       14.161682       12.561324  16.275022\n",
       "2022-12-31       15.112812       14.855511       13.364088  16.335350\n",
       "\n",
       "[84 rows x 4 columns]"
      ]
     },
     "execution_count": 19,
     "metadata": {},
     "output_type": "execute_result"
    }
   ],
   "source": [
    "food_compare"
   ]
  },
  {
   "cell_type": "code",
   "execution_count": 20,
   "id": "8e2f39c1",
   "metadata": {},
   "outputs": [
    {
     "data": {
      "text/plain": [
       "0.4839741829601231"
      ]
     },
     "execution_count": 20,
     "metadata": {},
     "output_type": "execute_result"
    }
   ],
   "source": [
    "mean_absolute_error(food_compare.loc[:, 'yoy_rate'], food_compare.loc[:, 'lasso_food_h_1'])"
   ]
  },
  {
   "cell_type": "code",
   "execution_count": 21,
   "id": "2ab73607",
   "metadata": {},
   "outputs": [
    {
     "data": {
      "text/plain": [
       "0.627649353629496"
      ]
     },
     "execution_count": 21,
     "metadata": {},
     "output_type": "execute_result"
    }
   ],
   "source": [
    "np.sqrt(mean_squared_error(food_compare.loc[:, 'yoy_rate'], food_compare.loc[:, 'lasso_food_h_1']))"
   ]
  },
  {
   "cell_type": "code",
   "execution_count": null,
   "id": "f4606348",
   "metadata": {},
   "outputs": [],
   "source": []
  },
  {
   "cell_type": "markdown",
   "id": "8f458f6b",
   "metadata": {},
   "source": [
    "---"
   ]
  },
  {
   "cell_type": "markdown",
   "id": "ee4814fb",
   "metadata": {},
   "source": [
    "## 3.2. Energy:\n"
   ]
  },
  {
   "cell_type": "code",
   "execution_count": 22,
   "id": "e87ea371",
   "metadata": {},
   "outputs": [
    {
     "name": "stdout",
     "output_type": "stream",
     "text": [
      "Number of items in Energy group:  14\n"
     ]
    },
    {
     "name": "stderr",
     "output_type": "stream",
     "text": [
      "/Users/lananhnguyen/Desktop/thesis/thesis_code/main/packages/mine_generic.py:297: SettingWithCopyWarning: \n",
      "A value is trying to be set on a copy of a slice from a DataFrame\n",
      "\n",
      "See the caveats in the documentation: https://pandas.pydata.org/pandas-docs/stable/user_guide/indexing.html#returning-a-view-versus-a-copy\n",
      "  cat_df.fillna(0, inplace=True)\n"
     ]
    }
   ],
   "source": [
    "cat_short = 'energy'\n",
    "category = 'Energy'\n",
    "hicp_cat_path = f'data/preprocessed/{cat_short}_yoy_infl.csv'\n",
    "save_cat_file_path = f'data/forecast_results/{cat_short}_forecast.csv'\n",
    "\n",
    "HICP_monthly, HICP_class, HICP_cat = mine_g.import_data_all(hicp_all_path=hicp_all_path,\n",
    "                                                     hicp_class_path=hicp_class_path,\n",
    "                                                     hicp_cat_path=hicp_cat_path)\n",
    "\n",
    "cat_df = mine_g.split_into_category(category=category,\n",
    "                             HICP_class=HICP_class,\n",
    "                             HICP_monthly=HICP_monthly)\n",
    "\n",
    "energy_cat_prediction = pd.DataFrame(index=date_range)"
   ]
  },
  {
   "cell_type": "code",
   "execution_count": 24,
   "id": "8e33b4bb",
   "metadata": {},
   "outputs": [
    {
     "name": "stdout",
     "output_type": "stream",
     "text": [
      "Horizon: 1\n",
      "Training predictor period: 1997-01-31 00:00:00 to 2015-11-30 00:00:00\n",
      "Training dependent variable period: 1997-02-28 00:00:00 to 2015-12-31 00:00:00\n",
      "{'regression__alpha': 0.14}\n"
     ]
    }
   ],
   "source": [
    "h = 1\n",
    "X_cat_train, X_cat_test, y_cat_train, y_cat_test = mine_g.split_train_test_set(X = cat_df, y = HICP_cat, h = h)\n",
    "\n",
    "best_param = mine_s.tuning_gridsearchcv(reg= Lasso(),\n",
    "                                grid_space= np.arange(0.01, 0.2, 0.01),\n",
    "                                X_train= X_cat_train.copy(),\n",
    "                                y_train= y_cat_train.copy(),\n",
    "                                test_size=24)\n",
    "print(best_param)\n"
   ]
  },
  {
   "cell_type": "code",
   "execution_count": 25,
   "id": "63dac784",
   "metadata": {},
   "outputs": [
    {
     "name": "stdout",
     "output_type": "stream",
     "text": [
      "Horizon: 1\n",
      "------------------------\n"
     ]
    }
   ],
   "source": [
    "\n",
    "N, T = len(X_cat_train), len(X_cat_test)\n",
    "forecast = mine_g.generate_forecast(X=cat_df, y=HICP_cat, N=N, T=T, h=h, hyperparam=best_param['regression__alpha'], model=Lasso, verbose = 0)\n",
    "energy_cat_prediction.loc[:, f'{model}_{cat_short}_h_{h}'] = forecast\n"
   ]
  },
  {
   "cell_type": "code",
   "execution_count": 30,
   "id": "232d1c83",
   "metadata": {},
   "outputs": [
    {
     "name": "stdout",
     "output_type": "stream",
     "text": [
      "Horizon: 2\n",
      "Training predictor period: 1997-01-31 00:00:00 to 2015-10-31 00:00:00\n",
      "Training dependent variable period: 1997-03-31 00:00:00 to 2015-12-31 00:00:00\n",
      "{'regression__alpha': 0.24999999999999994}\n"
     ]
    }
   ],
   "source": [
    "h = 2\n",
    "X_cat_train, X_cat_test, y_cat_train, y_cat_test = mine_g.split_train_test_set(X = cat_df, y = HICP_cat, h = h)\n",
    "\n",
    "best_param = mine_s.tuning_gridsearchcv(reg= Lasso(),\n",
    "                                grid_space= np.arange(0.1, 0.3, 0.01),\n",
    "                                X_train= X_cat_train.copy(),\n",
    "                                y_train= y_cat_train.copy(),\n",
    "                                test_size=24)\n",
    "print(best_param)\n"
   ]
  },
  {
   "cell_type": "code",
   "execution_count": 31,
   "id": "f4b4483c",
   "metadata": {},
   "outputs": [
    {
     "name": "stdout",
     "output_type": "stream",
     "text": [
      "Horizon: 2\n",
      "------------------------\n"
     ]
    }
   ],
   "source": [
    "\n",
    "N, T = len(X_cat_train), len(X_cat_test)\n",
    "forecast = mine_g.generate_forecast(X=cat_df, y=HICP_cat, N=N, T=T, h=h, hyperparam=best_param['regression__alpha'], model=Lasso, verbose = 0)\n",
    "energy_cat_prediction.loc[:, f'{model}_{cat_short}_h_{h}'] = forecast\n"
   ]
  },
  {
   "cell_type": "code",
   "execution_count": 33,
   "id": "960defd3",
   "metadata": {},
   "outputs": [
    {
     "name": "stdout",
     "output_type": "stream",
     "text": [
      "Horizon: 3\n",
      "Training predictor period: 1997-01-31 00:00:00 to 2015-09-30 00:00:00\n",
      "Training dependent variable period: 1997-04-30 00:00:00 to 2015-12-31 00:00:00\n",
      "{'regression__alpha': 0.5100000000000002}\n"
     ]
    }
   ],
   "source": [
    "h = 3\n",
    "X_cat_train, X_cat_test, y_cat_train, y_cat_test = mine_g.split_train_test_set(X = cat_df, y = HICP_cat, h = h)\n",
    "\n",
    "best_param = mine_s.tuning_gridsearchcv(reg= Lasso(),\n",
    "                                grid_space= np.arange(0.3, 0.7, 0.01),\n",
    "                                X_train= X_cat_train.copy(),\n",
    "                                y_train= y_cat_train.copy(),\n",
    "                                test_size=24)\n",
    "print(best_param)"
   ]
  },
  {
   "cell_type": "code",
   "execution_count": 34,
   "id": "152190e0",
   "metadata": {},
   "outputs": [
    {
     "name": "stdout",
     "output_type": "stream",
     "text": [
      "Horizon: 3\n",
      "------------------------\n"
     ]
    }
   ],
   "source": [
    "N, T = len(X_cat_train), len(X_cat_test)\n",
    "forecast = mine_g.generate_forecast(X=cat_df, y=HICP_cat, N=N, T=T, h=h, hyperparam=best_param['regression__alpha'], model=Lasso, verbose = 0)\n",
    "energy_cat_prediction.loc[:, f'{model}_{cat_short}_h_{h}'] = forecast\n",
    "\n",
    "mine_g.save_forecast(forecast_result_df=energy_cat_prediction.reset_index(drop=True), cat_file_path=save_cat_file_path, category=cat_short)"
   ]
  },
  {
   "cell_type": "code",
   "execution_count": 36,
   "id": "312b2d85",
   "metadata": {},
   "outputs": [
    {
     "name": "stdout",
     "output_type": "stream",
     "text": [
      "1.2495484361400917\n",
      "2.024138238698\n"
     ]
    }
   ],
   "source": [
    "yoy_real = pd.read_csv(f\"data/preprocessed/{cat_short}_yoy_infl.csv\", parse_dates=True, index_col='date')\n",
    "yoy_real_test = yoy_real[(yoy_real.index > mine_g.train_test_split_date) & (yoy_real.index <= mine_g.max_X_date)]\n",
    "df_compare = pd.concat([energy_cat_prediction, yoy_real_test], axis = 1)\n",
    "\n",
    "print(mean_absolute_error(df_compare.loc[:, 'yoy_rate'], df_compare.loc[:, f'lasso_{cat_short}_h_1']))\n",
    "print(np.sqrt(mean_squared_error(df_compare.loc[:, 'yoy_rate'], df_compare.loc[:, f'lasso_{cat_short}_h_1'])))"
   ]
  },
  {
   "cell_type": "markdown",
   "id": "5e0761af",
   "metadata": {},
   "source": [
    "## 3.3. NEIG:"
   ]
  },
  {
   "cell_type": "code",
   "execution_count": 37,
   "id": "dc359fd0",
   "metadata": {},
   "outputs": [
    {
     "name": "stdout",
     "output_type": "stream",
     "text": [
      "Number of items in Non-energy industrial goods (NEIG) group:  302\n"
     ]
    },
    {
     "name": "stderr",
     "output_type": "stream",
     "text": [
      "/Users/lananhnguyen/Desktop/thesis/thesis_code/main/packages/mine_generic.py:297: SettingWithCopyWarning: \n",
      "A value is trying to be set on a copy of a slice from a DataFrame\n",
      "\n",
      "See the caveats in the documentation: https://pandas.pydata.org/pandas-docs/stable/user_guide/indexing.html#returning-a-view-versus-a-copy\n",
      "  cat_df.fillna(0, inplace=True)\n"
     ]
    }
   ],
   "source": [
    "cat_short = 'neig'\n",
    "category = 'Non-energy industrial goods (NEIG)'\n",
    "hicp_cat_path = f'data/preprocessed/{cat_short}_yoy_infl.csv'\n",
    "save_cat_file_path = f'data/forecast_results/{cat_short}_forecast.csv'\n",
    "\n",
    "HICP_monthly, HICP_class, HICP_cat = mine_g.import_data_all(hicp_all_path=hicp_all_path,\n",
    "                                                     hicp_class_path=hicp_class_path,\n",
    "                                                     hicp_cat_path=hicp_cat_path)\n",
    "\n",
    "cat_df = mine_g.split_into_category(category=category,\n",
    "                             HICP_class=HICP_class,\n",
    "                             HICP_monthly=HICP_monthly)\n",
    "neig_cat_prediction = pd.DataFrame(index=date_range)"
   ]
  },
  {
   "cell_type": "code",
   "execution_count": 40,
   "id": "9c96bca2",
   "metadata": {},
   "outputs": [
    {
     "name": "stdout",
     "output_type": "stream",
     "text": [
      "Horizon: 1\n",
      "Training predictor period: 1997-01-31 00:00:00 to 2015-11-30 00:00:00\n",
      "Training dependent variable period: 1997-02-28 00:00:00 to 2015-12-31 00:00:00\n",
      "{'regression__alpha': 0.26}\n"
     ]
    }
   ],
   "source": [
    "h = 1\n",
    "X_cat_train, X_cat_test, y_cat_train, y_cat_test = mine_g.split_train_test_set(X = cat_df, y = HICP_cat, h = h)\n",
    "\n",
    "best_param = mine_s.tuning_gridsearchcv(reg= Lasso(),\n",
    "                                grid_space= np.arange(0.01, 0.3, 0.01),\n",
    "                                X_train= X_cat_train.copy(),\n",
    "                                y_train= y_cat_train.copy(),\n",
    "                                test_size=24)\n",
    "print(best_param)"
   ]
  },
  {
   "cell_type": "code",
   "execution_count": 41,
   "id": "0ee6b2b6",
   "metadata": {},
   "outputs": [
    {
     "name": "stdout",
     "output_type": "stream",
     "text": [
      "Horizon: 1\n",
      "------------------------\n"
     ]
    }
   ],
   "source": [
    "N, T = len(X_cat_train), len(X_cat_test)\n",
    "forecast = mine_g.generate_forecast(X=cat_df, y=HICP_cat, N=N, T=T, h=h, hyperparam=best_param['regression__alpha'], model=Lasso, verbose = 0)\n",
    "neig_cat_prediction.loc[:, f'{model}_{cat_short}_h_{h}'] = forecast\n"
   ]
  },
  {
   "cell_type": "code",
   "execution_count": 43,
   "id": "b8adb820",
   "metadata": {},
   "outputs": [
    {
     "name": "stdout",
     "output_type": "stream",
     "text": [
      "Horizon: 2\n",
      "Training predictor period: 1997-01-31 00:00:00 to 2015-10-31 00:00:00\n",
      "Training dependent variable period: 1997-03-31 00:00:00 to 2015-12-31 00:00:00\n",
      "{'regression__alpha': 0.25000000000000006}\n"
     ]
    }
   ],
   "source": [
    "h = 2\n",
    "X_cat_train, X_cat_test, y_cat_train, y_cat_test = mine_g.split_train_test_set(X = cat_df, y = HICP_cat, h = h)\n",
    "\n",
    "best_param = mine_s.tuning_gridsearchcv(reg= Lasso(),\n",
    "                                grid_space= np.arange(0.05, 0.4, 0.01),\n",
    "                                X_train= X_cat_train.copy(),\n",
    "                                y_train= y_cat_train.copy(),\n",
    "                                test_size=24)\n",
    "print(best_param)"
   ]
  },
  {
   "cell_type": "code",
   "execution_count": 44,
   "id": "b1177690",
   "metadata": {},
   "outputs": [
    {
     "name": "stdout",
     "output_type": "stream",
     "text": [
      "Horizon: 2\n",
      "------------------------\n"
     ]
    }
   ],
   "source": [
    "N, T = len(X_cat_train), len(X_cat_test)\n",
    "forecast = mine_g.generate_forecast(X=cat_df, y=HICP_cat, N=N, T=T, h=h, hyperparam=best_param['regression__alpha'], model=Lasso, verbose = 0)\n",
    "neig_cat_prediction.loc[:, f'{model}_{cat_short}_h_{h}'] = forecast"
   ]
  },
  {
   "cell_type": "code",
   "execution_count": 46,
   "id": "0255ae6d",
   "metadata": {},
   "outputs": [
    {
     "name": "stdout",
     "output_type": "stream",
     "text": [
      "Horizon: 3\n",
      "Training predictor period: 1997-01-31 00:00:00 to 2015-09-30 00:00:00\n",
      "Training dependent variable period: 1997-04-30 00:00:00 to 2015-12-31 00:00:00\n",
      "{'regression__alpha': 0.22000000000000003}\n"
     ]
    }
   ],
   "source": [
    "h = 3\n",
    "X_cat_train, X_cat_test, y_cat_train, y_cat_test = mine_g.split_train_test_set(X = cat_df, y = HICP_cat, h = h)\n",
    "\n",
    "best_param = mine_s.tuning_gridsearchcv(reg= Lasso(),\n",
    "                                grid_space= np.arange(0.05, 0.4, 0.01),\n",
    "                                X_train= X_cat_train.copy(),\n",
    "                                y_train= y_cat_train.copy(),\n",
    "                                test_size=24)\n",
    "print(best_param)"
   ]
  },
  {
   "cell_type": "code",
   "execution_count": 47,
   "id": "5e0aecaf",
   "metadata": {},
   "outputs": [
    {
     "name": "stdout",
     "output_type": "stream",
     "text": [
      "Horizon: 3\n",
      "------------------------\n"
     ]
    }
   ],
   "source": [
    "N, T = len(X_cat_train), len(X_cat_test)\n",
    "forecast = mine_g.generate_forecast(X=cat_df, y=HICP_cat, N=N, T=T, h=h, hyperparam=best_param['regression__alpha'], model=Lasso, verbose = 0)\n",
    "neig_cat_prediction.loc[:, f'{model}_{cat_short}_h_{h}'] = forecast\n",
    "\n",
    "# save forecast:\n",
    "mine_g.save_forecast(forecast_result_df=neig_cat_prediction.reset_index(drop=True), cat_file_path=save_cat_file_path, category=cat_short)"
   ]
  },
  {
   "cell_type": "code",
   "execution_count": 48,
   "id": "4d2c802d",
   "metadata": {},
   "outputs": [
    {
     "name": "stdout",
     "output_type": "stream",
     "text": [
      "0.5037034164629567\n",
      "0.6884269224627112\n"
     ]
    }
   ],
   "source": [
    "yoy_real = pd.read_csv(f\"data/preprocessed/{cat_short}_yoy_infl.csv\", parse_dates=True, index_col='date')\n",
    "yoy_real_test = yoy_real[(yoy_real.index > mine_g.train_test_split_date) & (yoy_real.index <= mine_g.max_X_date)]\n",
    "df_compare = pd.concat([neig_cat_prediction, yoy_real_test], axis = 1)\n",
    "\n",
    "print(mean_absolute_error(df_compare.loc[:, 'yoy_rate'], df_compare.loc[:, f'lasso_{cat_short}_h_1']))\n",
    "print(np.sqrt(mean_squared_error(df_compare.loc[:, 'yoy_rate'], df_compare.loc[:, f'lasso_{cat_short}_h_1'])))"
   ]
  },
  {
   "cell_type": "markdown",
   "id": "98b72e1f",
   "metadata": {},
   "source": [
    "## 3.4. Services:"
   ]
  },
  {
   "cell_type": "code",
   "execution_count": 50,
   "id": "635a76da",
   "metadata": {},
   "outputs": [
    {
     "name": "stdout",
     "output_type": "stream",
     "text": [
      "Number of items in Services group:  148\n"
     ]
    },
    {
     "name": "stderr",
     "output_type": "stream",
     "text": [
      "/Users/lananhnguyen/Desktop/thesis/thesis_code/main/packages/mine_generic.py:297: SettingWithCopyWarning: \n",
      "A value is trying to be set on a copy of a slice from a DataFrame\n",
      "\n",
      "See the caveats in the documentation: https://pandas.pydata.org/pandas-docs/stable/user_guide/indexing.html#returning-a-view-versus-a-copy\n",
      "  cat_df.fillna(0, inplace=True)\n"
     ]
    }
   ],
   "source": [
    "cat_short = 'services'\n",
    "category = 'Services'\n",
    "hicp_cat_path = f'data/preprocessed/{cat_short}_yoy_infl.csv'\n",
    "save_cat_file_path = f'data/forecast_results/{cat_short}_forecast.csv'\n",
    "\n",
    "HICP_monthly, HICP_class, HICP_cat = mine_g.import_data_all(hicp_all_path=hicp_all_path,\n",
    "                                                     hicp_class_path=hicp_class_path,\n",
    "                                                     hicp_cat_path=hicp_cat_path)\n",
    "\n",
    "cat_df = mine_g.split_into_category(category=category,\n",
    "                             HICP_class=HICP_class,\n",
    "                             HICP_monthly=HICP_monthly)\n",
    "services_cat_prediction = pd.DataFrame(index=date_range)"
   ]
  },
  {
   "cell_type": "code",
   "execution_count": 52,
   "id": "8a18e82c",
   "metadata": {},
   "outputs": [
    {
     "name": "stdout",
     "output_type": "stream",
     "text": [
      "Horizon: 1\n",
      "Training predictor period: 1997-01-31 00:00:00 to 2015-11-30 00:00:00\n",
      "Training dependent variable period: 1997-02-28 00:00:00 to 2015-12-31 00:00:00\n",
      "{'regression__alpha': 0.11}\n"
     ]
    }
   ],
   "source": [
    "h = 1\n",
    "X_cat_train, X_cat_test, y_cat_train, y_cat_test = mine_g.split_train_test_set(X = cat_df, y = HICP_cat, h = h)\n",
    "\n",
    "best_param = mine_s.tuning_gridsearchcv(reg= Lasso(),\n",
    "                                grid_space= np.arange(0.01, 0.3, 0.01),\n",
    "                                X_train= X_cat_train.copy(),\n",
    "                                y_train= y_cat_train.copy(),\n",
    "                                test_size=24)\n",
    "print(best_param)"
   ]
  },
  {
   "cell_type": "code",
   "execution_count": 53,
   "id": "5b161838",
   "metadata": {},
   "outputs": [
    {
     "name": "stdout",
     "output_type": "stream",
     "text": [
      "Horizon: 1\n",
      "------------------------\n"
     ]
    }
   ],
   "source": [
    "N, T = len(X_cat_train), len(X_cat_test)\n",
    "forecast = mine_g.generate_forecast(X=cat_df, y=HICP_cat, N=N, T=T, h=h, hyperparam=best_param['regression__alpha'], model=Lasso, verbose = 0)\n",
    "services_cat_prediction.loc[:, f'{model}_{cat_short}_h_{h}'] = forecast"
   ]
  },
  {
   "cell_type": "code",
   "execution_count": 54,
   "id": "fa101850",
   "metadata": {},
   "outputs": [
    {
     "name": "stdout",
     "output_type": "stream",
     "text": [
      "Horizon: 2\n",
      "Training predictor period: 1997-01-31 00:00:00 to 2015-10-31 00:00:00\n",
      "Training dependent variable period: 1997-03-31 00:00:00 to 2015-12-31 00:00:00\n",
      "{'regression__alpha': 0.03}\n"
     ]
    }
   ],
   "source": [
    "h = 2\n",
    "X_cat_train, X_cat_test, y_cat_train, y_cat_test = mine_g.split_train_test_set(X = cat_df, y = HICP_cat, h = h)\n",
    "\n",
    "best_param = mine_s.tuning_gridsearchcv(reg= Lasso(),\n",
    "                                grid_space= np.arange(0.01, 1, 0.01),\n",
    "                                X_train= X_cat_train.copy(),\n",
    "                                y_train= y_cat_train.copy(),\n",
    "                                test_size=24)\n",
    "print(best_param)"
   ]
  },
  {
   "cell_type": "code",
   "execution_count": 55,
   "id": "0cd620c8",
   "metadata": {},
   "outputs": [
    {
     "name": "stdout",
     "output_type": "stream",
     "text": [
      "Horizon: 2\n",
      "------------------------\n"
     ]
    }
   ],
   "source": [
    "N, T = len(X_cat_train), len(X_cat_test)\n",
    "forecast = mine_g.generate_forecast(X=cat_df, y=HICP_cat, N=N, T=T, h=h, hyperparam=best_param['regression__alpha'], model=Lasso, verbose = 0)\n",
    "services_cat_prediction.loc[:, f'{model}_{cat_short}_h_{h}'] = forecast"
   ]
  },
  {
   "cell_type": "code",
   "execution_count": 56,
   "id": "46f889b8",
   "metadata": {},
   "outputs": [
    {
     "name": "stdout",
     "output_type": "stream",
     "text": [
      "Horizon: 3\n",
      "Training predictor period: 1997-01-31 00:00:00 to 2015-09-30 00:00:00\n",
      "Training dependent variable period: 1997-04-30 00:00:00 to 2015-12-31 00:00:00\n",
      "{'regression__alpha': 0.06}\n"
     ]
    }
   ],
   "source": [
    "h = 3\n",
    "X_cat_train, X_cat_test, y_cat_train, y_cat_test = mine_g.split_train_test_set(X = cat_df, y = HICP_cat, h = h)\n",
    "\n",
    "best_param = mine_s.tuning_gridsearchcv(reg= Lasso(),\n",
    "                                grid_space= np.arange(0.01, 1, 0.01),\n",
    "                                X_train= X_cat_train.copy(),\n",
    "                                y_train= y_cat_train.copy(),\n",
    "                                test_size=24)\n",
    "print(best_param)"
   ]
  },
  {
   "cell_type": "code",
   "execution_count": 57,
   "id": "2b682fcd",
   "metadata": {},
   "outputs": [
    {
     "name": "stdout",
     "output_type": "stream",
     "text": [
      "Horizon: 3\n",
      "------------------------\n"
     ]
    }
   ],
   "source": [
    "N, T = len(X_cat_train), len(X_cat_test)\n",
    "forecast = mine_g.generate_forecast(X=cat_df, y=HICP_cat, N=N, T=T, h=h, hyperparam=best_param['regression__alpha'], model=Lasso, verbose = 0)\n",
    "services_cat_prediction.loc[:, f'{model}_{cat_short}_h_{h}'] = forecast\n",
    "\n",
    "\n",
    "# save forecast:\n",
    "mine_g.save_forecast(forecast_result_df=services_cat_prediction.reset_index(drop=True), cat_file_path=save_cat_file_path, category=cat_short)"
   ]
  },
  {
   "cell_type": "code",
   "execution_count": 59,
   "id": "0f64cf04",
   "metadata": {},
   "outputs": [
    {
     "name": "stdout",
     "output_type": "stream",
     "text": [
      "0.40323893606020644\n",
      "0.5094718523942938\n"
     ]
    }
   ],
   "source": [
    "yoy_real = pd.read_csv(f\"data/preprocessed/{cat_short}_yoy_infl.csv\", parse_dates=True, index_col='date')\n",
    "yoy_real_test = yoy_real[(yoy_real.index > mine_g.train_test_split_date) & (yoy_real.index <= mine_g.max_X_date)]\n",
    "df_compare = pd.concat([services_cat_prediction, yoy_real_test], axis = 1)\n",
    "\n",
    "print(mean_absolute_error(df_compare.loc[:, 'yoy_rate'], df_compare.loc[:, f'lasso_{cat_short}_h_1']))\n",
    "print(np.sqrt(mean_squared_error(df_compare.loc[:, 'yoy_rate'], df_compare.loc[:, f'lasso_{cat_short}_h_1'])))"
   ]
  }
 ],
 "metadata": {
  "kernelspec": {
   "display_name": "Python 3 (ipykernel)",
   "language": "python",
   "name": "python3"
  },
  "language_info": {
   "codemirror_mode": {
    "name": "ipython",
    "version": 3
   },
   "file_extension": ".py",
   "mimetype": "text/x-python",
   "name": "python",
   "nbconvert_exporter": "python",
   "pygments_lexer": "ipython3",
   "version": "3.11.7"
  }
 },
 "nbformat": 4,
 "nbformat_minor": 5
}
