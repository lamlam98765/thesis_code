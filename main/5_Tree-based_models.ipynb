{
 "cells": [
  {
   "cell_type": "code",
   "execution_count": 1,
   "metadata": {},
   "outputs": [],
   "source": [
    "from os import chdir\n",
    "chdir('/Users/lananhnguyen/Desktop/thesis/thesis_code')\n",
    "from packages.load import *\n",
    "import pandas as pd\n",
    "import numpy as np\n",
    "import matplotlib.pyplot as plt\n",
    "import seaborn as sns \n",
    "\n",
    "from sklearn.model_selection import TimeSeriesSplit, cross_val_score\n",
    "from sklearn.preprocessing import StandardScaler\n",
    "from sklearn.metrics import mean_squared_error\n",
    "from sklearn.pipeline import Pipeline\n",
    "import xgboost as xgb\n",
    "from lightgbm import LGBMRegressor\n",
    "import optuna"
   ]
  },
  {
   "cell_type": "code",
   "execution_count": 2,
   "metadata": {},
   "outputs": [
    {
     "name": "stdout",
     "output_type": "stream",
     "text": [
      "Number of items in Food group:  180\n",
      "Training predictor period: 1997-01-31 00:00:00 to 2015-11-30 00:00:00\n",
      "Training dependent variable period: 1997-02-28 00:00:00 to 2015-12-31 00:00:00\n"
     ]
    },
    {
     "name": "stderr",
     "output_type": "stream",
     "text": [
      "/Users/lananhnguyen/Desktop/thesis/thesis_code/main/packages/load.py:237: SettingWithCopyWarning: \n",
      "A value is trying to be set on a copy of a slice from a DataFrame\n",
      "\n",
      "See the caveats in the documentation: https://pandas.pydata.org/pandas-docs/stable/user_guide/indexing.html#returning-a-view-versus-a-copy\n",
      "  cat_df.fillna(0, inplace=True)\n"
     ]
    }
   ],
   "source": [
    "hicp_all_path = 'data/preprocessed/hicp_yoy.csv'\n",
    "hicp_class_path = 'data/HICP_COICOP10s.xlsx'\n",
    "hicp_cat_path = 'data/preprocessed/food_yoy_infl.csv'\n",
    "category = 'Food'\n",
    "\n",
    "HICP_monthly, HICP_class, HICP_cat = import_data_all(hicp_all_path=hicp_all_path,\n",
    "                                                     hicp_class_path=hicp_class_path,\n",
    "                                                     hicp_cat_path=hicp_cat_path)\n",
    "\n",
    "cat_df = split_into_category(category=category,\n",
    "                             HICP_class=HICP_class,\n",
    "                             HICP_monthly=HICP_monthly)\n",
    "\n",
    "X_cat_train, y_cat_train = split_train_set(cat_df=cat_df,\n",
    "                                           HICP_cat=HICP_cat,\n",
    "                                           h = 1)"
   ]
  },
  {
   "cell_type": "code",
   "execution_count": 5,
   "metadata": {},
   "outputs": [
    {
     "name": "stderr",
     "output_type": "stream",
     "text": [
      "[I 2024-03-12 21:27:47,217] A new study created in memory with name: no-name-4a07018c-b2b7-475f-85e8-43a2a4a11d53\n",
      "[I 2024-03-12 21:27:49,370] Trial 0 finished with value: 1.410758393396035 and parameters: {'learning_rate': 0.15276219936260296, 'max_depth': 5, 'gamma': 0.43122589068865147, 'min_child_weight': 7.67595760524476, 'n_estimators': 152, 'lambda': 0.24656000006524806, 'alpha': 0.23302784159334544}. Best is trial 0 with value: 1.410758393396035.\n",
      "[I 2024-03-12 21:27:50,476] Trial 1 finished with value: 1.4041896903901514 and parameters: {'learning_rate': 0.2719558594825998, 'max_depth': 10, 'gamma': 0.07591852657785425, 'min_child_weight': 5.931700577330134, 'n_estimators': 98, 'lambda': 0.6755867646555919, 'alpha': 0.4638901464999106}. Best is trial 1 with value: 1.4041896903901514.\n",
      "[I 2024-03-12 21:27:51,319] Trial 2 finished with value: 1.412294609851031 and parameters: {'learning_rate': 0.2828905899627169, 'max_depth': 11, 'gamma': 0.735049018155555, 'min_child_weight': 4.493527175194716, 'n_estimators': 118, 'lambda': 0.8470901180705985, 'alpha': 0.3215652312070788}. Best is trial 1 with value: 1.4041896903901514.\n",
      "[I 2024-03-12 21:27:52,375] Trial 3 finished with value: 1.4048805707028618 and parameters: {'learning_rate': 0.12039169545773606, 'max_depth': 18, 'gamma': 0.17654950857328067, 'min_child_weight': 5.017472633729226, 'n_estimators': 152, 'lambda': 0.623947083191063, 'alpha': 0.38666233036347647}. Best is trial 1 with value: 1.4041896903901514.\n",
      "[I 2024-03-12 21:27:52,967] Trial 4 finished with value: 1.4325969560630296 and parameters: {'learning_rate': 0.21586702809583314, 'max_depth': 19, 'gamma': 0.7652223943783335, 'min_child_weight': 2.486480714574306, 'n_estimators': 75, 'lambda': 0.5123781520585274, 'alpha': 0.29110349355879594}. Best is trial 1 with value: 1.4041896903901514.\n",
      "[I 2024-03-12 21:27:54,050] Trial 5 finished with value: 1.4691791046136309 and parameters: {'learning_rate': 0.0159309010596729, 'max_depth': 8, 'gamma': 0.9039793218556592, 'min_child_weight': 5.204290147132724, 'n_estimators': 189, 'lambda': 0.26104376148624026, 'alpha': 0.3239785986204573}. Best is trial 1 with value: 1.4041896903901514.\n",
      "[I 2024-03-12 21:27:55,096] Trial 6 finished with value: 1.4634368260395998 and parameters: {'learning_rate': 0.18922935156881904, 'max_depth': 7, 'gamma': 0.803592346392328, 'min_child_weight': 4.733059771658954, 'n_estimators': 166, 'lambda': 0.8244008775693618, 'alpha': 0.4211671774775398}. Best is trial 1 with value: 1.4041896903901514.\n",
      "[I 2024-03-12 21:27:55,675] Trial 7 finished with value: 1.4546973767270166 and parameters: {'learning_rate': 0.25271233311471575, 'max_depth': 6, 'gamma': 0.4728742145873285, 'min_child_weight': 3.0466492370932503, 'n_estimators': 107, 'lambda': 0.8753969933801548, 'alpha': 0.18170886300267977}. Best is trial 1 with value: 1.4041896903901514.\n",
      "[I 2024-03-12 21:27:57,123] Trial 8 finished with value: 1.4283591617425893 and parameters: {'learning_rate': 0.24683802482245354, 'max_depth': 10, 'gamma': 0.24658171600122492, 'min_child_weight': 6.881447916341843, 'n_estimators': 197, 'lambda': 0.2625935954340368, 'alpha': 0.16898981573969696}. Best is trial 1 with value: 1.4041896903901514.\n",
      "[I 2024-03-12 21:27:57,395] Trial 9 finished with value: 1.4226781988352888 and parameters: {'learning_rate': 0.08979905793613349, 'max_depth': 4, 'gamma': 0.6421696919164823, 'min_child_weight': 8.751289871884538, 'n_estimators': 73, 'lambda': 0.6093322033068894, 'alpha': 0.31347198209946664}. Best is trial 1 with value: 1.4041896903901514.\n",
      "Bottle v0.12.25 server starting up (using WSGIRefServer())...\n",
      "Listening on http://localhost:8080/\n",
      "Hit Ctrl-C to quit.\n",
      "\n",
      "127.0.0.1 - - [12/Mar/2024 21:28:05] \"GET / HTTP/1.1\" 302 0\n",
      "127.0.0.1 - - [12/Mar/2024 21:28:05] \"GET /dashboard HTTP/1.1\" 200 4145\n",
      "127.0.0.1 - - [12/Mar/2024 21:28:05] \"GET /static/bundle.js HTTP/1.1\" 200 2964345\n",
      "127.0.0.1 - - [12/Mar/2024 21:28:06] \"GET /api/studies HTTP/1.1\" 200 172\n",
      "127.0.0.1 - - [12/Mar/2024 21:28:06] \"GET /favicon.ico HTTP/1.1\" 200 7670\n",
      "127.0.0.1 - - [12/Mar/2024 21:28:09] \"GET /api/studies/0/param_importances HTTP/1.1\" 200 688\n",
      "127.0.0.1 - - [12/Mar/2024 21:28:09] \"GET /api/studies/0?after=0 HTTP/1.1\" 200 24862\n",
      "127.0.0.1 - - [12/Mar/2024 21:28:09] \"GET /api/meta HTTP/1.1\" 200 64\n",
      "127.0.0.1 - - [12/Mar/2024 21:28:09] \"GET /api/studies/0/param_importances HTTP/1.1\" 200 688\n",
      "127.0.0.1 - - [12/Mar/2024 21:28:19] \"GET /api/studies/0?after=10 HTTP/1.1\" 200 4180\n",
      "127.0.0.1 - - [12/Mar/2024 21:28:29] \"GET /api/studies/0?after=10 HTTP/1.1\" 200 4180\n",
      "127.0.0.1 - - [12/Mar/2024 21:28:39] \"GET /api/studies/0?after=10 HTTP/1.1\" 200 4180\n",
      "127.0.0.1 - - [12/Mar/2024 21:28:49] \"GET /api/studies/0?after=10 HTTP/1.1\" 200 4180\n",
      "127.0.0.1 - - [12/Mar/2024 21:28:59] \"GET /api/studies/0?after=10 HTTP/1.1\" 200 4180\n",
      "127.0.0.1 - - [12/Mar/2024 21:29:09] \"GET /api/studies/0?after=10 HTTP/1.1\" 200 4180\n",
      "127.0.0.1 - - [12/Mar/2024 21:29:19] \"GET /api/studies/0?after=10 HTTP/1.1\" 200 4180\n",
      "127.0.0.1 - - [12/Mar/2024 21:29:29] \"GET /api/studies/0?after=10 HTTP/1.1\" 200 4180\n",
      "127.0.0.1 - - [12/Mar/2024 21:29:39] \"GET /api/studies/0?after=10 HTTP/1.1\" 200 4180\n",
      "127.0.0.1 - - [12/Mar/2024 21:29:49] \"GET /api/studies/0?after=10 HTTP/1.1\" 200 4180\n",
      "127.0.0.1 - - [12/Mar/2024 21:30:00] \"GET /api/studies/0?after=10 HTTP/1.1\" 200 4180\n"
     ]
    }
   ],
   "source": [
    "import datetime\n",
    "from optuna_dashboard import run_server\n",
    "\n",
    "storage = optuna.storages.InMemoryStorage()\n",
    "\n",
    "# 1. Define an objective function to be maximized.\n",
    "def objective(trial):\n",
    "\n",
    "    params = {\n",
    "        'objective': 'reg:squarederror',\n",
    "        'booster': 'gbtree',\n",
    "        'eval_metric': 'rmse',\n",
    "        'tree_method': 'auto',\n",
    "        'n_jobs': -1,\n",
    "        'learning_rate': trial.suggest_float('learning_rate', 0.01, 0.3),\n",
    "        'max_depth': trial.suggest_int('max_depth', 3, 20),\n",
    "        'gamma': trial.suggest_float('gamma', 0.0, 1.0),\n",
    "        'min_child_weight': trial.suggest_float('min_child_weight', 0.1, 10.0),\n",
    "        'n_estimators': trial.suggest_int('n_estimators', 50, 200),\n",
    "        'lambda': trial.suggest_float('lambda', 0.01, 1),\n",
    "        'alpha': trial.suggest_float('alpha', 0.01, 0.5)\n",
    "    }\n",
    "    tscv = TimeSeriesSplit(n_splits=5)\n",
    "    model = xgb.XGBRegressor(**params)\n",
    "\n",
    "    # Use cross_val_score to get the mean RMSE over multiple splits\n",
    "    scores = -cross_val_score(model, X_cat_train, y_cat_train, cv=tscv, scoring='neg_root_mean_squared_error', n_jobs=-1)\n",
    "    \n",
    "    return scores.mean()\n",
    "\n",
    "# 3. Create a study object and optimize the objective function.\n",
    "study = optuna.create_study(\n",
    "    direction='minimize',\n",
    "    storage=storage\n",
    ")\n",
    "study.optimize(objective, n_trials=10)\n",
    "run_server(storage, host=\"localhost\", port=8080)\n",
    "best_params = study.best_params\n",
    "best_trial = study.best_trial"
   ]
  },
  {
   "cell_type": "code",
   "execution_count": 6,
   "metadata": {},
   "outputs": [
    {
     "data": {
      "text/plain": [
       "{'learning_rate': 0.2719558594825998,\n",
       " 'max_depth': 10,\n",
       " 'gamma': 0.07591852657785425,\n",
       " 'min_child_weight': 5.931700577330134,\n",
       " 'n_estimators': 98,\n",
       " 'lambda': 0.6755867646555919,\n",
       " 'alpha': 0.4638901464999106}"
      ]
     },
     "execution_count": 6,
     "metadata": {},
     "output_type": "execute_result"
    }
   ],
   "source": [
    "best_params"
   ]
  }
 ],
 "metadata": {
  "kernelspec": {
   "display_name": "thesis",
   "language": "python",
   "name": "python3"
  },
  "language_info": {
   "codemirror_mode": {
    "name": "ipython",
    "version": 3
   },
   "file_extension": ".py",
   "mimetype": "text/x-python",
   "name": "python",
   "nbconvert_exporter": "python",
   "pygments_lexer": "ipython3",
   "version": "3.11.7"
  }
 },
 "nbformat": 4,
 "nbformat_minor": 2
}
