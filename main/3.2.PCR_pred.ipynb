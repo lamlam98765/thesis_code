{
 "cells": [
  {
   "cell_type": "code",
   "execution_count": 1,
   "metadata": {},
   "outputs": [],
   "source": [
    "from os import chdir\n",
    "chdir('/Users/lananhnguyen/Desktop/thesis/thesis_code')\n",
    "import main.packages.mine_generic as mine_g\n",
    "import pandas as pd\n",
    "import matplotlib.pyplot as plt\n",
    "\n",
    "from sklearn.preprocessing import StandardScaler\n",
    "from sklearn.linear_model import LinearRegression\n",
    "from sklearn.metrics import mean_squared_error, mean_absolute_error\n",
    "from sklearn.decomposition import PCA"
   ]
  },
  {
   "cell_type": "code",
   "execution_count": 2,
   "metadata": {},
   "outputs": [],
   "source": [
    "def prepare_X_train_test_pca(X_train, X_test, y, lags, n_components):\n",
    "\n",
    "    # Scale data\n",
    "    scaler = StandardScaler()\n",
    "    X_train_scaled = scaler.fit_transform(X_train)\n",
    "    X_test_scaled = scaler.transform(X_test)\n",
    "\n",
    "    # PCA:\n",
    "    pca = PCA(n_components = n_components)\n",
    "\n",
    "    factor_train = pd.DataFrame(pca.fit_transform(X_train_scaled))\n",
    "    factor_test = pd.DataFrame(pca.transform(X_test_scaled))\n",
    "\n",
    "    # Create y_lagged:\n",
    "    y_lagged = pd.DataFrame()\n",
    "    for lag in range(0, lags + 1):\n",
    "        y_lagged[f'Lag_{lag}'] = y[y.index <= mine_g.max_X_date].shift(lag)\n",
    "\n",
    "    # concatenate all:\n",
    "    X_factor_all = pd.concat([factor_train, factor_test], axis = 0, ignore_index=True)\n",
    "    factor_col_name = {col: f'factor_{col}' for col in X_factor_all.columns}\n",
    "    X_factor_all.rename(columns=factor_col_name, inplace=True)\n",
    "\n",
    "    X_factor_lags_all = pd.concat([y_lagged.reset_index(), X_factor_all], axis=1)\n",
    "    #X_factor_lags_all.set_index(0, drop=True)\n",
    "    #X_factor_lags_all.dropna(inplace=True)\n",
    "    X_factor_lags_all.set_index('date', drop=True, inplace=True)\n",
    "    print(X_factor_lags_all.shape)\n",
    "    return X_factor_lags_all\n",
    "\n",
    "# Recursive forecast\n",
    "def recursive_forecast_pca(N, T, X_factor_lags_all, y, lags, horizon, verbose = 1):\n",
    "\n",
    "    predictions = []\n",
    "\n",
    "    for i in range(T-horizon):\n",
    "\n",
    "        X_train_pca_temp = X_factor_lags_all.iloc[lags:N+i, :]\n",
    "        X_test_pca_temp = X_factor_lags_all.iloc[N+i:N+i+1, :]\n",
    "        y_train_temp = y[lags+horizon:N+i+horizon]\n",
    "\n",
    "        # Model:\n",
    "        model = LinearRegression()\n",
    "        model.fit(X_train_pca_temp, y_train_temp)\n",
    "        y_pred = model.predict(X_test_pca_temp)\n",
    "        predictions.append(y_pred[0][0])\n",
    "        if verbose == 1:\n",
    "            print(f\"Xt train: {X_train_pca_temp.index[0]} - {X_train_pca_temp.index[-1]}\")\n",
    "            print(f\"Y(t+h) train: {y_train_temp.index[0]} - {y_train_temp.index[-1]}\")\n",
    "            print(f\"X test: {X_test_pca_temp.index}\")\n",
    "            print('---')\n",
    "\n",
    "    return predictions\n"
   ]
  },
  {
   "cell_type": "code",
   "execution_count": 3,
   "metadata": {},
   "outputs": [],
   "source": [
    "# For all categories:\n",
    "hicp_all_path = 'data/preprocessed/cpi_yoy.csv'\n",
    "hicp_class_path = 'data/HICP_COICOP10s.xlsx'\n",
    "model = 'prc'"
   ]
  },
  {
   "cell_type": "markdown",
   "metadata": {},
   "source": [
    "# Food category:"
   ]
  },
  {
   "cell_type": "code",
   "execution_count": 4,
   "metadata": {},
   "outputs": [
    {
     "name": "stdout",
     "output_type": "stream",
     "text": [
      "Number of items in Food group:  180\n"
     ]
    },
    {
     "name": "stderr",
     "output_type": "stream",
     "text": [
      "/var/folders/74/zq2msw1x2fj9j2zyq8njktnc0000gn/T/ipykernel_3453/4233167991.py:14: SettingWithCopyWarning: \n",
      "A value is trying to be set on a copy of a slice from a DataFrame\n",
      "\n",
      "See the caveats in the documentation: https://pandas.pydata.org/pandas-docs/stable/user_guide/indexing.html#returning-a-view-versus-a-copy\n",
      "  cat_df.dropna(axis=1, inplace=True)\n"
     ]
    }
   ],
   "source": [
    "cat_short = 'food'\n",
    "hicp_cat_path = f'data/preprocessed/{cat_short}_yoy_infl.csv'\n",
    "category = 'Food'\n",
    "save_cat_file_path = f'data/forecast_results/{cat_short}_forecast.csv'\n",
    "\n",
    "HICP_monthly, HICP_class, HICP_cat = mine_g.import_data_all(hicp_all_path=hicp_all_path,\n",
    "                                                     hicp_class_path=hicp_class_path,\n",
    "                                                     hicp_cat_path=hicp_cat_path)\n",
    "\n",
    "cat_df = mine_g.split_into_category(category=category,\n",
    "                             HICP_class=HICP_class,\n",
    "                             HICP_monthly=HICP_monthly,\n",
    "                             fillna=False)\n",
    "cat_df.dropna(axis=1, inplace=True)"
   ]
  },
  {
   "cell_type": "markdown",
   "metadata": {},
   "source": [
    "## h = 1"
   ]
  },
  {
   "cell_type": "code",
   "execution_count": 5,
   "metadata": {},
   "outputs": [
    {
     "name": "stdout",
     "output_type": "stream",
     "text": [
      "Horizon: 1\n",
      "Training predictor period: 1997-01-31 00:00:00 to 2015-11-30 00:00:00\n",
      "Training dependent variable period: 1997-02-28 00:00:00 to 2015-12-31 00:00:00\n",
      "(312, 18)\n"
     ]
    }
   ],
   "source": [
    "horizon = 1\n",
    "lags = 12\n",
    "n_components = 5\n",
    "\n",
    "X_train, X_test, y_train, y_test = mine_g.split_train_test_set(X = cat_df, y = HICP_cat, h = horizon)\n",
    "N, T = len(X_train), len(X_test)\n",
    "X_factor_lags_all = prepare_X_train_test_pca(X_train, X_test, HICP_cat, lags, n_components)"
   ]
  },
  {
   "cell_type": "code",
   "execution_count": 6,
   "metadata": {},
   "outputs": [],
   "source": [
    "predictions = recursive_forecast_pca(N, T, X_factor_lags_all, HICP_cat, lags=lags, horizon=horizon, verbose=0)"
   ]
  },
  {
   "cell_type": "code",
   "execution_count": 7,
   "metadata": {},
   "outputs": [],
   "source": [
    "\n",
    "food_cat_prediction = pd.DataFrame(index=y_test.index)\n",
    "food_cat_prediction.loc[:, f'{model}_{cat_short}_h_{horizon}'] = predictions"
   ]
  },
  {
   "cell_type": "markdown",
   "metadata": {},
   "source": [
    "## h = 2"
   ]
  },
  {
   "cell_type": "code",
   "execution_count": 8,
   "metadata": {},
   "outputs": [
    {
     "name": "stdout",
     "output_type": "stream",
     "text": [
      "Horizon: 2\n",
      "Training predictor period: 1997-01-31 00:00:00 to 2015-10-31 00:00:00\n",
      "Training dependent variable period: 1997-03-31 00:00:00 to 2015-12-31 00:00:00\n",
      "(312, 18)\n"
     ]
    }
   ],
   "source": [
    "horizon = 2\n",
    "lags = 12\n",
    "n_components = 5\n",
    "\n",
    "X_train, X_test, y_train, y_test = mine_g.split_train_test_set(X = cat_df, y = HICP_cat, h = horizon)\n",
    "N, T = len(X_train), len(X_test)\n",
    "X_factor_lags_all = prepare_X_train_test_pca(X_train, X_test, HICP_cat, lags, n_components)\n"
   ]
  },
  {
   "cell_type": "code",
   "execution_count": 9,
   "metadata": {},
   "outputs": [],
   "source": [
    "\n",
    "predictions = recursive_forecast_pca(N, T, X_factor_lags_all, HICP_cat, lags=lags, horizon=horizon, verbose=0)\n",
    "\n",
    "food_cat_prediction.loc[:, f'{model}_{cat_short}_h_{horizon}'] = predictions"
   ]
  },
  {
   "cell_type": "markdown",
   "metadata": {},
   "source": [
    "## h =3"
   ]
  },
  {
   "cell_type": "code",
   "execution_count": 10,
   "metadata": {},
   "outputs": [
    {
     "name": "stdout",
     "output_type": "stream",
     "text": [
      "Horizon: 3\n",
      "Training predictor period: 1997-01-31 00:00:00 to 2015-09-30 00:00:00\n",
      "Training dependent variable period: 1997-04-30 00:00:00 to 2015-12-31 00:00:00\n",
      "(312, 18)\n"
     ]
    },
    {
     "data": {
      "text/html": [
       "<div>\n",
       "<style scoped>\n",
       "    .dataframe tbody tr th:only-of-type {\n",
       "        vertical-align: middle;\n",
       "    }\n",
       "\n",
       "    .dataframe tbody tr th {\n",
       "        vertical-align: top;\n",
       "    }\n",
       "\n",
       "    .dataframe thead th {\n",
       "        text-align: right;\n",
       "    }\n",
       "</style>\n",
       "<table border=\"1\" class=\"dataframe\">\n",
       "  <thead>\n",
       "    <tr style=\"text-align: right;\">\n",
       "      <th></th>\n",
       "      <th>prc_food_h_1</th>\n",
       "      <th>prc_food_h_2</th>\n",
       "      <th>prc_food_h_3</th>\n",
       "    </tr>\n",
       "    <tr>\n",
       "      <th>date</th>\n",
       "      <th></th>\n",
       "      <th></th>\n",
       "      <th></th>\n",
       "    </tr>\n",
       "  </thead>\n",
       "  <tbody>\n",
       "    <tr>\n",
       "      <th>2016-01-31</th>\n",
       "      <td>1.470089</td>\n",
       "      <td>2.128978</td>\n",
       "      <td>2.191729</td>\n",
       "    </tr>\n",
       "    <tr>\n",
       "      <th>2016-02-29</th>\n",
       "      <td>0.912382</td>\n",
       "      <td>1.184107</td>\n",
       "      <td>1.810759</td>\n",
       "    </tr>\n",
       "    <tr>\n",
       "      <th>2016-03-31</th>\n",
       "      <td>0.928225</td>\n",
       "      <td>0.769947</td>\n",
       "      <td>1.074373</td>\n",
       "    </tr>\n",
       "    <tr>\n",
       "      <th>2016-04-30</th>\n",
       "      <td>1.063894</td>\n",
       "      <td>0.675383</td>\n",
       "      <td>0.540851</td>\n",
       "    </tr>\n",
       "    <tr>\n",
       "      <th>2016-05-31</th>\n",
       "      <td>1.244157</td>\n",
       "      <td>1.212897</td>\n",
       "      <td>0.909269</td>\n",
       "    </tr>\n",
       "    <tr>\n",
       "      <th>...</th>\n",
       "      <td>...</td>\n",
       "      <td>...</td>\n",
       "      <td>...</td>\n",
       "    </tr>\n",
       "    <tr>\n",
       "      <th>2022-08-31</th>\n",
       "      <td>11.884682</td>\n",
       "      <td>9.115861</td>\n",
       "      <td>7.552428</td>\n",
       "    </tr>\n",
       "    <tr>\n",
       "      <th>2022-09-30</th>\n",
       "      <td>13.332205</td>\n",
       "      <td>12.219543</td>\n",
       "      <td>9.250132</td>\n",
       "    </tr>\n",
       "    <tr>\n",
       "      <th>2022-10-31</th>\n",
       "      <td>14.999302</td>\n",
       "      <td>13.701938</td>\n",
       "      <td>12.456267</td>\n",
       "    </tr>\n",
       "    <tr>\n",
       "      <th>2022-11-30</th>\n",
       "      <td>16.097381</td>\n",
       "      <td>15.425120</td>\n",
       "      <td>13.947581</td>\n",
       "    </tr>\n",
       "    <tr>\n",
       "      <th>2022-12-31</th>\n",
       "      <td>16.625245</td>\n",
       "      <td>16.367252</td>\n",
       "      <td>15.531692</td>\n",
       "    </tr>\n",
       "  </tbody>\n",
       "</table>\n",
       "<p>84 rows × 3 columns</p>\n",
       "</div>"
      ],
      "text/plain": [
       "            prc_food_h_1  prc_food_h_2  prc_food_h_3\n",
       "date                                                \n",
       "2016-01-31      1.470089      2.128978      2.191729\n",
       "2016-02-29      0.912382      1.184107      1.810759\n",
       "2016-03-31      0.928225      0.769947      1.074373\n",
       "2016-04-30      1.063894      0.675383      0.540851\n",
       "2016-05-31      1.244157      1.212897      0.909269\n",
       "...                  ...           ...           ...\n",
       "2022-08-31     11.884682      9.115861      7.552428\n",
       "2022-09-30     13.332205     12.219543      9.250132\n",
       "2022-10-31     14.999302     13.701938     12.456267\n",
       "2022-11-30     16.097381     15.425120     13.947581\n",
       "2022-12-31     16.625245     16.367252     15.531692\n",
       "\n",
       "[84 rows x 3 columns]"
      ]
     },
     "execution_count": 10,
     "metadata": {},
     "output_type": "execute_result"
    }
   ],
   "source": [
    "horizon = 3\n",
    "lags = 12\n",
    "n_components = 5\n",
    "\n",
    "X_train, X_test, y_train, y_test = mine_g.split_train_test_set(X = cat_df, y = HICP_cat, h = horizon)\n",
    "N, T = len(X_train), len(X_test)\n",
    "X_factor_lags_all = prepare_X_train_test_pca(X_train, X_test, HICP_cat, lags, n_components)\n",
    "predictions = recursive_forecast_pca(N, T, X_factor_lags_all, HICP_cat, lags=lags, horizon=horizon, verbose=0)\n",
    "\n",
    "food_cat_prediction.loc[:, f'{model}_{cat_short}_h_{horizon}'] = predictions\n",
    "food_cat_prediction\n"
   ]
  },
  {
   "cell_type": "code",
   "execution_count": 11,
   "metadata": {},
   "outputs": [],
   "source": [
    "food_yoy_real = pd.read_csv(\"data/preprocessed/food_yoy_infl.csv\", parse_dates=True, index_col='date')\n",
    "food_yoy_real_test = food_yoy_real[(food_yoy_real.index > mine_g.train_test_split_date) & (food_yoy_real.index <= mine_g.max_X_date)]\n",
    "food_compare = pd.concat([food_cat_prediction, food_yoy_real_test], axis = 1)"
   ]
  },
  {
   "cell_type": "code",
   "execution_count": 12,
   "metadata": {},
   "outputs": [
    {
     "data": {
      "text/html": [
       "<div>\n",
       "<style scoped>\n",
       "    .dataframe tbody tr th:only-of-type {\n",
       "        vertical-align: middle;\n",
       "    }\n",
       "\n",
       "    .dataframe tbody tr th {\n",
       "        vertical-align: top;\n",
       "    }\n",
       "\n",
       "    .dataframe thead th {\n",
       "        text-align: right;\n",
       "    }\n",
       "</style>\n",
       "<table border=\"1\" class=\"dataframe\">\n",
       "  <thead>\n",
       "    <tr style=\"text-align: right;\">\n",
       "      <th></th>\n",
       "      <th>prc_food_h_1</th>\n",
       "      <th>prc_food_h_2</th>\n",
       "      <th>prc_food_h_3</th>\n",
       "      <th>yoy_rate</th>\n",
       "    </tr>\n",
       "    <tr>\n",
       "      <th>date</th>\n",
       "      <th></th>\n",
       "      <th></th>\n",
       "      <th></th>\n",
       "      <th></th>\n",
       "    </tr>\n",
       "  </thead>\n",
       "  <tbody>\n",
       "    <tr>\n",
       "      <th>2016-01-31</th>\n",
       "      <td>1.470089</td>\n",
       "      <td>2.128978</td>\n",
       "      <td>2.191729</td>\n",
       "      <td>1.209677</td>\n",
       "    </tr>\n",
       "    <tr>\n",
       "      <th>2016-02-29</th>\n",
       "      <td>0.912382</td>\n",
       "      <td>1.184107</td>\n",
       "      <td>1.810759</td>\n",
       "      <td>1.103310</td>\n",
       "    </tr>\n",
       "    <tr>\n",
       "      <th>2016-03-31</th>\n",
       "      <td>0.928225</td>\n",
       "      <td>0.769947</td>\n",
       "      <td>1.074373</td>\n",
       "      <td>1.402806</td>\n",
       "    </tr>\n",
       "    <tr>\n",
       "      <th>2016-04-30</th>\n",
       "      <td>1.063894</td>\n",
       "      <td>0.675383</td>\n",
       "      <td>0.540851</td>\n",
       "      <td>1.195219</td>\n",
       "    </tr>\n",
       "    <tr>\n",
       "      <th>2016-05-31</th>\n",
       "      <td>1.244157</td>\n",
       "      <td>1.212897</td>\n",
       "      <td>0.909269</td>\n",
       "      <td>0.896414</td>\n",
       "    </tr>\n",
       "    <tr>\n",
       "      <th>...</th>\n",
       "      <td>...</td>\n",
       "      <td>...</td>\n",
       "      <td>...</td>\n",
       "      <td>...</td>\n",
       "    </tr>\n",
       "    <tr>\n",
       "      <th>2022-08-31</th>\n",
       "      <td>11.884682</td>\n",
       "      <td>9.115861</td>\n",
       "      <td>7.552428</td>\n",
       "      <td>12.849650</td>\n",
       "    </tr>\n",
       "    <tr>\n",
       "      <th>2022-09-30</th>\n",
       "      <td>13.332205</td>\n",
       "      <td>12.219543</td>\n",
       "      <td>9.250132</td>\n",
       "      <td>14.423077</td>\n",
       "    </tr>\n",
       "    <tr>\n",
       "      <th>2022-10-31</th>\n",
       "      <td>14.999302</td>\n",
       "      <td>13.701938</td>\n",
       "      <td>12.456267</td>\n",
       "      <td>15.458515</td>\n",
       "    </tr>\n",
       "    <tr>\n",
       "      <th>2022-11-30</th>\n",
       "      <td>16.097381</td>\n",
       "      <td>15.425120</td>\n",
       "      <td>13.947581</td>\n",
       "      <td>16.275022</td>\n",
       "    </tr>\n",
       "    <tr>\n",
       "      <th>2022-12-31</th>\n",
       "      <td>16.625245</td>\n",
       "      <td>16.367252</td>\n",
       "      <td>15.531692</td>\n",
       "      <td>16.335350</td>\n",
       "    </tr>\n",
       "  </tbody>\n",
       "</table>\n",
       "<p>84 rows × 4 columns</p>\n",
       "</div>"
      ],
      "text/plain": [
       "            prc_food_h_1  prc_food_h_2  prc_food_h_3   yoy_rate\n",
       "date                                                           \n",
       "2016-01-31      1.470089      2.128978      2.191729   1.209677\n",
       "2016-02-29      0.912382      1.184107      1.810759   1.103310\n",
       "2016-03-31      0.928225      0.769947      1.074373   1.402806\n",
       "2016-04-30      1.063894      0.675383      0.540851   1.195219\n",
       "2016-05-31      1.244157      1.212897      0.909269   0.896414\n",
       "...                  ...           ...           ...        ...\n",
       "2022-08-31     11.884682      9.115861      7.552428  12.849650\n",
       "2022-09-30     13.332205     12.219543      9.250132  14.423077\n",
       "2022-10-31     14.999302     13.701938     12.456267  15.458515\n",
       "2022-11-30     16.097381     15.425120     13.947581  16.275022\n",
       "2022-12-31     16.625245     16.367252     15.531692  16.335350\n",
       "\n",
       "[84 rows x 4 columns]"
      ]
     },
     "execution_count": 12,
     "metadata": {},
     "output_type": "execute_result"
    }
   ],
   "source": [
    "food_compare"
   ]
  },
  {
   "cell_type": "code",
   "execution_count": 13,
   "metadata": {},
   "outputs": [
    {
     "name": "stderr",
     "output_type": "stream",
     "text": [
      "No artists with labels found to put in legend.  Note that artists whose label start with an underscore are ignored when legend() is called with no argument.\n"
     ]
    },
    {
     "data": {
      "image/png": "[encoded data removed]",
      "text/plain": [
       "<Figure size 1400x400 with 1 Axes>"
      ]
     },
     "metadata": {},
     "output_type": "display_data"
    }
   ],
   "source": [
    "plt.figure(figsize=(14, 4))\n",
    "\n",
    "plt.plot(food_compare.iloc[:, 0])\n",
    "plt.plot(food_compare.iloc[:, 3])\n",
    "plt.legend()\n",
    "plt.show()"
   ]
  },
  {
   "cell_type": "code",
   "execution_count": 14,
   "metadata": {},
   "outputs": [
    {
     "data": {
      "text/plain": [
       "0.49774056456786947"
      ]
     },
     "execution_count": 14,
     "metadata": {},
     "output_type": "execute_result"
    }
   ],
   "source": [
    "mean_absolute_error(food_compare.loc[:, 'yoy_rate'], food_compare.loc[:, 'prc_food_h_1'])"
   ]
  },
  {
   "cell_type": "code",
   "execution_count": 15,
   "metadata": {},
   "outputs": [
    {
     "data": {
      "text/html": [
       "<div>\n",
       "<style scoped>\n",
       "    .dataframe tbody tr th:only-of-type {\n",
       "        vertical-align: middle;\n",
       "    }\n",
       "\n",
       "    .dataframe tbody tr th {\n",
       "        vertical-align: top;\n",
       "    }\n",
       "\n",
       "    .dataframe thead th {\n",
       "        text-align: right;\n",
       "    }\n",
       "</style>\n",
       "<table border=\"1\" class=\"dataframe\">\n",
       "  <thead>\n",
       "    <tr style=\"text-align: right;\">\n",
       "      <th></th>\n",
       "      <th>prc_food_h_1</th>\n",
       "      <th>prc_food_h_2</th>\n",
       "      <th>prc_food_h_3</th>\n",
       "    </tr>\n",
       "    <tr>\n",
       "      <th>date</th>\n",
       "      <th></th>\n",
       "      <th></th>\n",
       "      <th></th>\n",
       "    </tr>\n",
       "  </thead>\n",
       "  <tbody>\n",
       "    <tr>\n",
       "      <th>2016-01-31</th>\n",
       "      <td>1.470089</td>\n",
       "      <td>2.128978</td>\n",
       "      <td>2.191729</td>\n",
       "    </tr>\n",
       "    <tr>\n",
       "      <th>2016-02-29</th>\n",
       "      <td>0.912382</td>\n",
       "      <td>1.184107</td>\n",
       "      <td>1.810759</td>\n",
       "    </tr>\n",
       "    <tr>\n",
       "      <th>2016-03-31</th>\n",
       "      <td>0.928225</td>\n",
       "      <td>0.769947</td>\n",
       "      <td>1.074373</td>\n",
       "    </tr>\n",
       "    <tr>\n",
       "      <th>2016-04-30</th>\n",
       "      <td>1.063894</td>\n",
       "      <td>0.675383</td>\n",
       "      <td>0.540851</td>\n",
       "    </tr>\n",
       "    <tr>\n",
       "      <th>2016-05-31</th>\n",
       "      <td>1.244157</td>\n",
       "      <td>1.212897</td>\n",
       "      <td>0.909269</td>\n",
       "    </tr>\n",
       "    <tr>\n",
       "      <th>...</th>\n",
       "      <td>...</td>\n",
       "      <td>...</td>\n",
       "      <td>...</td>\n",
       "    </tr>\n",
       "    <tr>\n",
       "      <th>2022-08-31</th>\n",
       "      <td>11.884682</td>\n",
       "      <td>9.115861</td>\n",
       "      <td>7.552428</td>\n",
       "    </tr>\n",
       "    <tr>\n",
       "      <th>2022-09-30</th>\n",
       "      <td>13.332205</td>\n",
       "      <td>12.219543</td>\n",
       "      <td>9.250132</td>\n",
       "    </tr>\n",
       "    <tr>\n",
       "      <th>2022-10-31</th>\n",
       "      <td>14.999302</td>\n",
       "      <td>13.701938</td>\n",
       "      <td>12.456267</td>\n",
       "    </tr>\n",
       "    <tr>\n",
       "      <th>2022-11-30</th>\n",
       "      <td>16.097381</td>\n",
       "      <td>15.425120</td>\n",
       "      <td>13.947581</td>\n",
       "    </tr>\n",
       "    <tr>\n",
       "      <th>2022-12-31</th>\n",
       "      <td>16.625245</td>\n",
       "      <td>16.367252</td>\n",
       "      <td>15.531692</td>\n",
       "    </tr>\n",
       "  </tbody>\n",
       "</table>\n",
       "<p>84 rows × 3 columns</p>\n",
       "</div>"
      ],
      "text/plain": [
       "            prc_food_h_1  prc_food_h_2  prc_food_h_3\n",
       "date                                                \n",
       "2016-01-31      1.470089      2.128978      2.191729\n",
       "2016-02-29      0.912382      1.184107      1.810759\n",
       "2016-03-31      0.928225      0.769947      1.074373\n",
       "2016-04-30      1.063894      0.675383      0.540851\n",
       "2016-05-31      1.244157      1.212897      0.909269\n",
       "...                  ...           ...           ...\n",
       "2022-08-31     11.884682      9.115861      7.552428\n",
       "2022-09-30     13.332205     12.219543      9.250132\n",
       "2022-10-31     14.999302     13.701938     12.456267\n",
       "2022-11-30     16.097381     15.425120     13.947581\n",
       "2022-12-31     16.625245     16.367252     15.531692\n",
       "\n",
       "[84 rows x 3 columns]"
      ]
     },
     "execution_count": 15,
     "metadata": {},
     "output_type": "execute_result"
    }
   ],
   "source": [
    "food_cat_prediction"
   ]
  },
  {
   "cell_type": "code",
   "execution_count": 16,
   "metadata": {},
   "outputs": [],
   "source": [
    "# save forecast:\n",
    "mine_g.save_forecast(forecast_result_df=food_cat_prediction.reset_index(drop=True), cat_file_path=save_cat_file_path)"
   ]
  },
  {
   "cell_type": "markdown",
   "metadata": {},
   "source": [
    "# Energy:"
   ]
  },
  {
   "cell_type": "code",
   "execution_count": 17,
   "metadata": {},
   "outputs": [
    {
     "name": "stdout",
     "output_type": "stream",
     "text": [
      "Number of items in Energy group:  14\n"
     ]
    },
    {
     "name": "stderr",
     "output_type": "stream",
     "text": [
      "/var/folders/74/zq2msw1x2fj9j2zyq8njktnc0000gn/T/ipykernel_3453/3714433541.py:15: SettingWithCopyWarning: \n",
      "A value is trying to be set on a copy of a slice from a DataFrame\n",
      "\n",
      "See the caveats in the documentation: https://pandas.pydata.org/pandas-docs/stable/user_guide/indexing.html#returning-a-view-versus-a-copy\n",
      "  cat_df.dropna(axis=1, inplace=True)\n"
     ]
    }
   ],
   "source": [
    "cat_short = 'energy'\n",
    "hicp_cat_path = f'data/preprocessed/{cat_short}_yoy_infl.csv'\n",
    "category = 'Energy'\n",
    "\n",
    "save_cat_file_path = f'data/forecast_results/{cat_short}_forecast.csv'\n",
    "\n",
    "HICP_monthly, HICP_class, HICP_cat = mine_g.import_data_all(hicp_all_path=hicp_all_path,\n",
    "                                                     hicp_class_path=hicp_class_path,\n",
    "                                                     hicp_cat_path=hicp_cat_path)\n",
    "\n",
    "cat_df = mine_g.split_into_category(category=category,\n",
    "                             HICP_class=HICP_class,\n",
    "                             HICP_monthly=HICP_monthly,\n",
    "                             fillna=False)\n",
    "cat_df.dropna(axis=1, inplace=True)"
   ]
  },
  {
   "cell_type": "markdown",
   "metadata": {},
   "source": [
    "## h =1"
   ]
  },
  {
   "cell_type": "code",
   "execution_count": 18,
   "metadata": {},
   "outputs": [
    {
     "name": "stdout",
     "output_type": "stream",
     "text": [
      "Horizon: 1\n",
      "Training predictor period: 1997-01-31 00:00:00 to 2015-11-30 00:00:00\n",
      "Training dependent variable period: 1997-02-28 00:00:00 to 2015-12-31 00:00:00\n",
      "(312, 16)\n"
     ]
    }
   ],
   "source": [
    "horizon = 1\n",
    "lags = 12\n",
    "n_components = 3\n",
    "\n",
    "X_train, X_test, y_train, y_test = mine_g.split_train_test_set(X = cat_df, y = HICP_cat, h = horizon)\n",
    "N, T = len(X_train), len(X_test)\n",
    "X_factor_lags_all = prepare_X_train_test_pca(X_train, X_test, HICP_cat, lags, n_components)\n",
    "\n",
    "# Predict:\n",
    "predictions = recursive_forecast_pca(N, T, X_factor_lags_all, HICP_cat, lags=lags, horizon=horizon, verbose=0)\n",
    "\n",
    "# Save forecast:\n",
    "energy_cat_prediction = pd.DataFrame(index=y_test.index)\n",
    "energy_cat_prediction.loc[:, f'{model}_{cat_short}_h_{horizon}'] = predictions"
   ]
  },
  {
   "cell_type": "markdown",
   "metadata": {},
   "source": [
    "## h = 2"
   ]
  },
  {
   "cell_type": "code",
   "execution_count": 19,
   "metadata": {},
   "outputs": [
    {
     "name": "stdout",
     "output_type": "stream",
     "text": [
      "Horizon: 2\n",
      "Training predictor period: 1997-01-31 00:00:00 to 2015-10-31 00:00:00\n",
      "Training dependent variable period: 1997-03-31 00:00:00 to 2015-12-31 00:00:00\n",
      "(312, 16)\n"
     ]
    }
   ],
   "source": [
    "horizon = 2\n",
    "lags = 12\n",
    "n_components = 3\n",
    "\n",
    "X_train, X_test, y_train, y_test = mine_g.split_train_test_set(X = cat_df, y = HICP_cat, h = horizon)\n",
    "N, T = len(X_train), len(X_test)\n",
    "X_factor_lags_all = prepare_X_train_test_pca(X_train, X_test, HICP_cat, lags, n_components)\n",
    "\n",
    "# Predict:\n",
    "predictions = recursive_forecast_pca(N, T, X_factor_lags_all, HICP_cat, lags=lags, horizon=horizon, verbose=0)\n",
    "\n",
    "# Save forecast:\n",
    "energy_cat_prediction.loc[:, f'{model}_{cat_short}_h_{horizon}'] = predictions"
   ]
  },
  {
   "cell_type": "code",
   "execution_count": 20,
   "metadata": {},
   "outputs": [
    {
     "name": "stdout",
     "output_type": "stream",
     "text": [
      "Horizon: 3\n",
      "Training predictor period: 1997-01-31 00:00:00 to 2015-09-30 00:00:00\n",
      "Training dependent variable period: 1997-04-30 00:00:00 to 2015-12-31 00:00:00\n",
      "(312, 16)\n"
     ]
    },
    {
     "data": {
      "text/html": [
       "<div>\n",
       "<style scoped>\n",
       "    .dataframe tbody tr th:only-of-type {\n",
       "        vertical-align: middle;\n",
       "    }\n",
       "\n",
       "    .dataframe tbody tr th {\n",
       "        vertical-align: top;\n",
       "    }\n",
       "\n",
       "    .dataframe thead th {\n",
       "        text-align: right;\n",
       "    }\n",
       "</style>\n",
       "<table border=\"1\" class=\"dataframe\">\n",
       "  <thead>\n",
       "    <tr style=\"text-align: right;\">\n",
       "      <th></th>\n",
       "      <th>prc_energy_h_1</th>\n",
       "      <th>prc_energy_h_2</th>\n",
       "      <th>prc_energy_h_3</th>\n",
       "    </tr>\n",
       "    <tr>\n",
       "      <th>date</th>\n",
       "      <th></th>\n",
       "      <th></th>\n",
       "      <th></th>\n",
       "    </tr>\n",
       "  </thead>\n",
       "  <tbody>\n",
       "    <tr>\n",
       "      <th>2016-01-31</th>\n",
       "      <td>-4.155892</td>\n",
       "      <td>-3.501914</td>\n",
       "      <td>-5.420583</td>\n",
       "    </tr>\n",
       "    <tr>\n",
       "      <th>2016-02-29</th>\n",
       "      <td>-5.274628</td>\n",
       "      <td>-3.676027</td>\n",
       "      <td>-3.295089</td>\n",
       "    </tr>\n",
       "    <tr>\n",
       "      <th>2016-03-31</th>\n",
       "      <td>-9.317182</td>\n",
       "      <td>-5.994367</td>\n",
       "      <td>-4.609864</td>\n",
       "    </tr>\n",
       "    <tr>\n",
       "      <th>2016-04-30</th>\n",
       "      <td>-8.468859</td>\n",
       "      <td>-8.855104</td>\n",
       "      <td>-5.451155</td>\n",
       "    </tr>\n",
       "    <tr>\n",
       "      <th>2016-05-31</th>\n",
       "      <td>-9.321861</td>\n",
       "      <td>-9.309775</td>\n",
       "      <td>-9.153043</td>\n",
       "    </tr>\n",
       "    <tr>\n",
       "      <th>...</th>\n",
       "      <td>...</td>\n",
       "      <td>...</td>\n",
       "      <td>...</td>\n",
       "    </tr>\n",
       "    <tr>\n",
       "      <th>2022-08-31</th>\n",
       "      <td>36.658011</td>\n",
       "      <td>40.376307</td>\n",
       "      <td>42.924363</td>\n",
       "    </tr>\n",
       "    <tr>\n",
       "      <th>2022-09-30</th>\n",
       "      <td>41.348661</td>\n",
       "      <td>40.737695</td>\n",
       "      <td>43.096955</td>\n",
       "    </tr>\n",
       "    <tr>\n",
       "      <th>2022-10-31</th>\n",
       "      <td>47.330912</td>\n",
       "      <td>43.749205</td>\n",
       "      <td>41.386846</td>\n",
       "    </tr>\n",
       "    <tr>\n",
       "      <th>2022-11-30</th>\n",
       "      <td>46.183746</td>\n",
       "      <td>50.666416</td>\n",
       "      <td>47.234670</td>\n",
       "    </tr>\n",
       "    <tr>\n",
       "      <th>2022-12-31</th>\n",
       "      <td>42.854059</td>\n",
       "      <td>49.483252</td>\n",
       "      <td>55.333929</td>\n",
       "    </tr>\n",
       "  </tbody>\n",
       "</table>\n",
       "<p>84 rows × 3 columns</p>\n",
       "</div>"
      ],
      "text/plain": [
       "            prc_energy_h_1  prc_energy_h_2  prc_energy_h_3\n",
       "date                                                      \n",
       "2016-01-31       -4.155892       -3.501914       -5.420583\n",
       "2016-02-29       -5.274628       -3.676027       -3.295089\n",
       "2016-03-31       -9.317182       -5.994367       -4.609864\n",
       "2016-04-30       -8.468859       -8.855104       -5.451155\n",
       "2016-05-31       -9.321861       -9.309775       -9.153043\n",
       "...                    ...             ...             ...\n",
       "2022-08-31       36.658011       40.376307       42.924363\n",
       "2022-09-30       41.348661       40.737695       43.096955\n",
       "2022-10-31       47.330912       43.749205       41.386846\n",
       "2022-11-30       46.183746       50.666416       47.234670\n",
       "2022-12-31       42.854059       49.483252       55.333929\n",
       "\n",
       "[84 rows x 3 columns]"
      ]
     },
     "execution_count": 20,
     "metadata": {},
     "output_type": "execute_result"
    }
   ],
   "source": [
    "horizon = 3\n",
    "lags = 12\n",
    "n_components = 3\n",
    "\n",
    "X_train, X_test, y_train, y_test = mine_g.split_train_test_set(X = cat_df, y = HICP_cat, h = horizon)\n",
    "N, T = len(X_train), len(X_test)\n",
    "X_factor_lags_all = prepare_X_train_test_pca(X_train, X_test, HICP_cat, lags, n_components)\n",
    "\n",
    "# Predict:\n",
    "predictions = recursive_forecast_pca(N, T, X_factor_lags_all, HICP_cat, lags=lags, horizon=horizon, verbose=0)\n",
    "\n",
    "# Save forecast:\n",
    "energy_cat_prediction.loc[:, f'{model}_{cat_short}_h_{horizon}'] = predictions\n",
    "mine_g.save_forecast(forecast_result_df=energy_cat_prediction.reset_index(drop=True), cat_file_path=save_cat_file_path)\n",
    "energy_cat_prediction"
   ]
  },
  {
   "cell_type": "markdown",
   "metadata": {},
   "source": [
    "# Service:"
   ]
  },
  {
   "cell_type": "code",
   "execution_count": 21,
   "metadata": {},
   "outputs": [
    {
     "name": "stdout",
     "output_type": "stream",
     "text": [
      "Number of items in Services group:  148\n"
     ]
    },
    {
     "name": "stderr",
     "output_type": "stream",
     "text": [
      "/Users/lananhnguyen/Desktop/thesis/thesis_code/main/packages/mine_generic.py:253: SettingWithCopyWarning: \n",
      "A value is trying to be set on a copy of a slice from a DataFrame\n",
      "\n",
      "See the caveats in the documentation: https://pandas.pydata.org/pandas-docs/stable/user_guide/indexing.html#returning-a-view-versus-a-copy\n",
      "  cat_df.fillna(0, inplace=True)\n"
     ]
    }
   ],
   "source": [
    "cat_short = 'services'\n",
    "hicp_cat_path = f'data/preprocessed/{cat_short}_yoy_infl.csv'\n",
    "category = 'Services'\n",
    "\n",
    "save_cat_file_path = f'data/forecast_results/{cat_short}_forecast.csv'\n",
    "\n",
    "HICP_monthly, HICP_class, HICP_cat = mine_g.import_data_all(hicp_all_path=hicp_all_path,\n",
    "                                                     hicp_class_path=hicp_class_path,\n",
    "                                                     hicp_cat_path=hicp_cat_path)\n",
    "\n",
    "cat_df = mine_g.split_into_category(category=category,\n",
    "                             HICP_class=HICP_class,\n",
    "                             HICP_monthly=HICP_monthly)"
   ]
  },
  {
   "cell_type": "markdown",
   "metadata": {},
   "source": [
    "## h = 1:"
   ]
  },
  {
   "cell_type": "code",
   "execution_count": 22,
   "metadata": {},
   "outputs": [
    {
     "name": "stdout",
     "output_type": "stream",
     "text": [
      "Horizon: 1\n",
      "Training predictor period: 1997-01-31 00:00:00 to 2015-11-30 00:00:00\n",
      "Training dependent variable period: 1997-02-28 00:00:00 to 2015-12-31 00:00:00\n",
      "(312, 12)\n"
     ]
    }
   ],
   "source": [
    "horizon = 1\n",
    "lags = 6\n",
    "n_components = 5\n",
    "\n",
    "X_train, X_test, y_train, y_test = mine_g.split_train_test_set(X = cat_df, y = HICP_cat, h = horizon)\n",
    "N, T = len(X_train), len(X_test)\n",
    "X_factor_lags_all = prepare_X_train_test_pca(X_train, X_test, HICP_cat, lags, n_components)\n",
    "\n",
    "# Predict:\n",
    "predictions = recursive_forecast_pca(N, T, X_factor_lags_all, HICP_cat, lags=lags, horizon=horizon, verbose=0)\n",
    "\n",
    "# Save forecast:\n",
    "services_cat_prediction = pd.DataFrame(index=y_test.index)\n",
    "services_cat_prediction.loc[:, f'{model}_{cat_short}_h_{horizon}'] = predictions"
   ]
  },
  {
   "cell_type": "markdown",
   "metadata": {},
   "source": [
    "## h = 2"
   ]
  },
  {
   "cell_type": "code",
   "execution_count": 23,
   "metadata": {},
   "outputs": [
    {
     "name": "stdout",
     "output_type": "stream",
     "text": [
      "Horizon: 2\n",
      "Training predictor period: 1997-01-31 00:00:00 to 2015-10-31 00:00:00\n",
      "Training dependent variable period: 1997-03-31 00:00:00 to 2015-12-31 00:00:00\n",
      "(312, 11)\n"
     ]
    }
   ],
   "source": [
    "horizon = 2\n",
    "lags = 5\n",
    "n_components = 5\n",
    "\n",
    "X_train, X_test, y_train, y_test = mine_g.split_train_test_set(X = cat_df, y = HICP_cat, h = horizon)\n",
    "N, T = len(X_train), len(X_test)\n",
    "X_factor_lags_all = prepare_X_train_test_pca(X_train, X_test, HICP_cat, lags, n_components)\n",
    "\n",
    "# Predict:\n",
    "predictions = recursive_forecast_pca(N, T, X_factor_lags_all, HICP_cat, lags=lags, horizon=horizon, verbose=0)\n",
    "\n",
    "# Save forecast:\n",
    "services_cat_prediction.loc[:, f'{model}_{cat_short}_h_{horizon}'] = predictions"
   ]
  },
  {
   "cell_type": "code",
   "execution_count": 24,
   "metadata": {},
   "outputs": [
    {
     "name": "stdout",
     "output_type": "stream",
     "text": [
      "Horizon: 3\n",
      "Training predictor period: 1997-01-31 00:00:00 to 2015-09-30 00:00:00\n",
      "Training dependent variable period: 1997-04-30 00:00:00 to 2015-12-31 00:00:00\n",
      "(312, 10)\n"
     ]
    },
    {
     "data": {
      "text/html": [
       "<div>\n",
       "<style scoped>\n",
       "    .dataframe tbody tr th:only-of-type {\n",
       "        vertical-align: middle;\n",
       "    }\n",
       "\n",
       "    .dataframe tbody tr th {\n",
       "        vertical-align: top;\n",
       "    }\n",
       "\n",
       "    .dataframe thead th {\n",
       "        text-align: right;\n",
       "    }\n",
       "</style>\n",
       "<table border=\"1\" class=\"dataframe\">\n",
       "  <thead>\n",
       "    <tr style=\"text-align: right;\">\n",
       "      <th></th>\n",
       "      <th>prc_services_h_1</th>\n",
       "      <th>prc_services_h_2</th>\n",
       "      <th>prc_services_h_3</th>\n",
       "    </tr>\n",
       "    <tr>\n",
       "      <th>date</th>\n",
       "      <th></th>\n",
       "      <th></th>\n",
       "      <th></th>\n",
       "    </tr>\n",
       "  </thead>\n",
       "  <tbody>\n",
       "    <tr>\n",
       "      <th>2016-01-31</th>\n",
       "      <td>1.087786</td>\n",
       "      <td>1.241321</td>\n",
       "      <td>2.189706</td>\n",
       "    </tr>\n",
       "    <tr>\n",
       "      <th>2016-02-29</th>\n",
       "      <td>0.717032</td>\n",
       "      <td>0.635946</td>\n",
       "      <td>0.854914</td>\n",
       "    </tr>\n",
       "    <tr>\n",
       "      <th>2016-03-31</th>\n",
       "      <td>0.919456</td>\n",
       "      <td>0.818834</td>\n",
       "      <td>0.714219</td>\n",
       "    </tr>\n",
       "    <tr>\n",
       "      <th>2016-04-30</th>\n",
       "      <td>0.851811</td>\n",
       "      <td>0.617988</td>\n",
       "      <td>0.543636</td>\n",
       "    </tr>\n",
       "    <tr>\n",
       "      <th>2016-05-31</th>\n",
       "      <td>0.881835</td>\n",
       "      <td>1.091343</td>\n",
       "      <td>0.893010</td>\n",
       "    </tr>\n",
       "    <tr>\n",
       "      <th>...</th>\n",
       "      <td>...</td>\n",
       "      <td>...</td>\n",
       "      <td>...</td>\n",
       "    </tr>\n",
       "    <tr>\n",
       "      <th>2022-08-31</th>\n",
       "      <td>2.147497</td>\n",
       "      <td>2.427213</td>\n",
       "      <td>2.968636</td>\n",
       "    </tr>\n",
       "    <tr>\n",
       "      <th>2022-09-30</th>\n",
       "      <td>2.150609</td>\n",
       "      <td>2.274555</td>\n",
       "      <td>2.556510</td>\n",
       "    </tr>\n",
       "    <tr>\n",
       "      <th>2022-10-31</th>\n",
       "      <td>3.164126</td>\n",
       "      <td>2.753378</td>\n",
       "      <td>2.801649</td>\n",
       "    </tr>\n",
       "    <tr>\n",
       "      <th>2022-11-30</th>\n",
       "      <td>3.810354</td>\n",
       "      <td>3.414456</td>\n",
       "      <td>2.888919</td>\n",
       "    </tr>\n",
       "    <tr>\n",
       "      <th>2022-12-31</th>\n",
       "      <td>3.967337</td>\n",
       "      <td>3.856197</td>\n",
       "      <td>3.393920</td>\n",
       "    </tr>\n",
       "  </tbody>\n",
       "</table>\n",
       "<p>84 rows × 3 columns</p>\n",
       "</div>"
      ],
      "text/plain": [
       "            prc_services_h_1  prc_services_h_2  prc_services_h_3\n",
       "date                                                            \n",
       "2016-01-31          1.087786          1.241321          2.189706\n",
       "2016-02-29          0.717032          0.635946          0.854914\n",
       "2016-03-31          0.919456          0.818834          0.714219\n",
       "2016-04-30          0.851811          0.617988          0.543636\n",
       "2016-05-31          0.881835          1.091343          0.893010\n",
       "...                      ...               ...               ...\n",
       "2022-08-31          2.147497          2.427213          2.968636\n",
       "2022-09-30          2.150609          2.274555          2.556510\n",
       "2022-10-31          3.164126          2.753378          2.801649\n",
       "2022-11-30          3.810354          3.414456          2.888919\n",
       "2022-12-31          3.967337          3.856197          3.393920\n",
       "\n",
       "[84 rows x 3 columns]"
      ]
     },
     "execution_count": 24,
     "metadata": {},
     "output_type": "execute_result"
    }
   ],
   "source": [
    "horizon = 3\n",
    "lags = 4\n",
    "n_components = 5\n",
    "\n",
    "X_train, X_test, y_train, y_test = mine_g.split_train_test_set(X = cat_df, y = HICP_cat, h = horizon)\n",
    "N, T = len(X_train), len(X_test)\n",
    "X_factor_lags_all = prepare_X_train_test_pca(X_train, X_test, HICP_cat, lags, n_components)\n",
    "\n",
    "# Predict:\n",
    "predictions = recursive_forecast_pca(N, T, X_factor_lags_all, HICP_cat, lags=lags, horizon=horizon, verbose=0)\n",
    "\n",
    "# Save forecast:\n",
    "services_cat_prediction.loc[:, f'{model}_{cat_short}_h_{horizon}'] = predictions\n",
    "mine_g.save_forecast(forecast_result_df=services_cat_prediction.reset_index(drop=True), cat_file_path=save_cat_file_path)\n",
    "services_cat_prediction"
   ]
  },
  {
   "cell_type": "markdown",
   "metadata": {},
   "source": [
    "# NEGI:"
   ]
  },
  {
   "cell_type": "code",
   "execution_count": 25,
   "metadata": {},
   "outputs": [
    {
     "name": "stdout",
     "output_type": "stream",
     "text": [
      "Number of items in Non-energy industrial goods (NEIG) group:  302\n"
     ]
    },
    {
     "name": "stderr",
     "output_type": "stream",
     "text": [
      "/var/folders/74/zq2msw1x2fj9j2zyq8njktnc0000gn/T/ipykernel_3453/4237625752.py:15: SettingWithCopyWarning: \n",
      "A value is trying to be set on a copy of a slice from a DataFrame\n",
      "\n",
      "See the caveats in the documentation: https://pandas.pydata.org/pandas-docs/stable/user_guide/indexing.html#returning-a-view-versus-a-copy\n",
      "  cat_df.dropna(axis=1, inplace=True)\n"
     ]
    }
   ],
   "source": [
    "cat_short = 'neig'\n",
    "hicp_cat_path = f'data/preprocessed/{cat_short}_yoy_infl.csv'\n",
    "category = 'Non-energy industrial goods (NEIG)'\n",
    "\n",
    "save_cat_file_path = f'data/forecast_results/{cat_short}_forecast.csv'\n",
    "\n",
    "HICP_monthly, HICP_class, HICP_cat = mine_g.import_data_all(hicp_all_path=hicp_all_path,\n",
    "                                                     hicp_class_path=hicp_class_path,\n",
    "                                                     hicp_cat_path=hicp_cat_path)\n",
    "\n",
    "cat_df = mine_g.split_into_category(category=category,\n",
    "                             HICP_class=HICP_class,\n",
    "                             HICP_monthly=HICP_monthly,\n",
    "                             fillna=False)\n",
    "cat_df.dropna(axis=1, inplace=True)"
   ]
  },
  {
   "cell_type": "code",
   "execution_count": 26,
   "metadata": {},
   "outputs": [
    {
     "name": "stdout",
     "output_type": "stream",
     "text": [
      "Horizon: 1\n",
      "Training predictor period: 1997-01-31 00:00:00 to 2015-11-30 00:00:00\n",
      "Training dependent variable period: 1997-02-28 00:00:00 to 2015-12-31 00:00:00\n",
      "(312, 11)\n"
     ]
    }
   ],
   "source": [
    "horizon = 1\n",
    "lags = 0\n",
    "n_components = 10\n",
    "\n",
    "X_train, X_test, y_train, y_test = mine_g.split_train_test_set(X = cat_df, y = HICP_cat, h = horizon)\n",
    "N, T = len(X_train), len(X_test)\n",
    "X_factor_lags_all = prepare_X_train_test_pca(X_train, X_test, HICP_cat, lags, n_components)\n",
    "\n",
    "# Predict:\n",
    "predictions = recursive_forecast_pca(N, T, X_factor_lags_all, HICP_cat, lags=lags, horizon=horizon, verbose=0)\n",
    "\n",
    "# Save forecast:\n",
    "neig_cat_prediction = pd.DataFrame(index=y_test.index)\n",
    "neig_cat_prediction.loc[:, f'{model}_{cat_short}_h_{horizon}'] = predictions"
   ]
  },
  {
   "cell_type": "code",
   "execution_count": 27,
   "metadata": {},
   "outputs": [
    {
     "name": "stdout",
     "output_type": "stream",
     "text": [
      "Horizon: 2\n",
      "Training predictor period: 1997-01-31 00:00:00 to 2015-10-31 00:00:00\n",
      "Training dependent variable period: 1997-03-31 00:00:00 to 2015-12-31 00:00:00\n",
      "(312, 17)\n"
     ]
    }
   ],
   "source": [
    "horizon = 2\n",
    "lags = 6\n",
    "n_components = 10\n",
    "\n",
    "X_train, X_test, y_train, y_test = mine_g.split_train_test_set(X = cat_df, y = HICP_cat, h = horizon)\n",
    "N, T = len(X_train), len(X_test)\n",
    "X_factor_lags_all = prepare_X_train_test_pca(X_train, X_test, HICP_cat, lags, n_components)\n",
    "\n",
    "# Predict:\n",
    "predictions = recursive_forecast_pca(N, T, X_factor_lags_all, HICP_cat, lags=lags, horizon=horizon, verbose=0)\n",
    "\n",
    "# Save forecast:\n",
    "neig_cat_prediction.loc[:, f'{model}_{cat_short}_h_{horizon}'] = predictions"
   ]
  },
  {
   "cell_type": "code",
   "execution_count": 28,
   "metadata": {},
   "outputs": [
    {
     "name": "stdout",
     "output_type": "stream",
     "text": [
      "Horizon: 3\n",
      "Training predictor period: 1997-01-31 00:00:00 to 2015-09-30 00:00:00\n",
      "Training dependent variable period: 1997-04-30 00:00:00 to 2015-12-31 00:00:00\n",
      "(312, 17)\n"
     ]
    },
    {
     "data": {
      "text/html": [
       "<div>\n",
       "<style scoped>\n",
       "    .dataframe tbody tr th:only-of-type {\n",
       "        vertical-align: middle;\n",
       "    }\n",
       "\n",
       "    .dataframe tbody tr th {\n",
       "        vertical-align: top;\n",
       "    }\n",
       "\n",
       "    .dataframe thead th {\n",
       "        text-align: right;\n",
       "    }\n",
       "</style>\n",
       "<table border=\"1\" class=\"dataframe\">\n",
       "  <thead>\n",
       "    <tr style=\"text-align: right;\">\n",
       "      <th></th>\n",
       "      <th>prc_neig_h_1</th>\n",
       "      <th>prc_neig_h_2</th>\n",
       "      <th>prc_neig_h_3</th>\n",
       "    </tr>\n",
       "    <tr>\n",
       "      <th>date</th>\n",
       "      <th></th>\n",
       "      <th></th>\n",
       "      <th></th>\n",
       "    </tr>\n",
       "  </thead>\n",
       "  <tbody>\n",
       "    <tr>\n",
       "      <th>2016-01-31</th>\n",
       "      <td>0.668344</td>\n",
       "      <td>1.165127</td>\n",
       "      <td>1.230674</td>\n",
       "    </tr>\n",
       "    <tr>\n",
       "      <th>2016-02-29</th>\n",
       "      <td>1.179106</td>\n",
       "      <td>0.974809</td>\n",
       "      <td>1.230771</td>\n",
       "    </tr>\n",
       "    <tr>\n",
       "      <th>2016-03-31</th>\n",
       "      <td>0.942467</td>\n",
       "      <td>1.054486</td>\n",
       "      <td>0.901238</td>\n",
       "    </tr>\n",
       "    <tr>\n",
       "      <th>2016-04-30</th>\n",
       "      <td>0.730651</td>\n",
       "      <td>0.913044</td>\n",
       "      <td>0.986206</td>\n",
       "    </tr>\n",
       "    <tr>\n",
       "      <th>2016-05-31</th>\n",
       "      <td>0.990215</td>\n",
       "      <td>0.729618</td>\n",
       "      <td>0.814008</td>\n",
       "    </tr>\n",
       "    <tr>\n",
       "      <th>...</th>\n",
       "      <td>...</td>\n",
       "      <td>...</td>\n",
       "      <td>...</td>\n",
       "    </tr>\n",
       "    <tr>\n",
       "      <th>2022-08-31</th>\n",
       "      <td>5.979500</td>\n",
       "      <td>5.921095</td>\n",
       "      <td>5.447679</td>\n",
       "    </tr>\n",
       "    <tr>\n",
       "      <th>2022-09-30</th>\n",
       "      <td>6.241223</td>\n",
       "      <td>6.292446</td>\n",
       "      <td>5.902125</td>\n",
       "    </tr>\n",
       "    <tr>\n",
       "      <th>2022-10-31</th>\n",
       "      <td>6.574993</td>\n",
       "      <td>6.384200</td>\n",
       "      <td>6.472062</td>\n",
       "    </tr>\n",
       "    <tr>\n",
       "      <th>2022-11-30</th>\n",
       "      <td>7.430042</td>\n",
       "      <td>6.688517</td>\n",
       "      <td>6.535704</td>\n",
       "    </tr>\n",
       "    <tr>\n",
       "      <th>2022-12-31</th>\n",
       "      <td>7.473749</td>\n",
       "      <td>7.411694</td>\n",
       "      <td>6.914201</td>\n",
       "    </tr>\n",
       "  </tbody>\n",
       "</table>\n",
       "<p>84 rows × 3 columns</p>\n",
       "</div>"
      ],
      "text/plain": [
       "            prc_neig_h_1  prc_neig_h_2  prc_neig_h_3\n",
       "date                                                \n",
       "2016-01-31      0.668344      1.165127      1.230674\n",
       "2016-02-29      1.179106      0.974809      1.230771\n",
       "2016-03-31      0.942467      1.054486      0.901238\n",
       "2016-04-30      0.730651      0.913044      0.986206\n",
       "2016-05-31      0.990215      0.729618      0.814008\n",
       "...                  ...           ...           ...\n",
       "2022-08-31      5.979500      5.921095      5.447679\n",
       "2022-09-30      6.241223      6.292446      5.902125\n",
       "2022-10-31      6.574993      6.384200      6.472062\n",
       "2022-11-30      7.430042      6.688517      6.535704\n",
       "2022-12-31      7.473749      7.411694      6.914201\n",
       "\n",
       "[84 rows x 3 columns]"
      ]
     },
     "execution_count": 28,
     "metadata": {},
     "output_type": "execute_result"
    }
   ],
   "source": [
    "horizon = 3\n",
    "lags = 6\n",
    "n_components = 10\n",
    "\n",
    "X_train, X_test, y_train, y_test = mine_g.split_train_test_set(X = cat_df, y = HICP_cat, h = horizon)\n",
    "N, T = len(X_train), len(X_test)\n",
    "X_factor_lags_all = prepare_X_train_test_pca(X_train, X_test, HICP_cat, lags, n_components)\n",
    "\n",
    "# Predict:\n",
    "predictions = recursive_forecast_pca(N, T, X_factor_lags_all, HICP_cat, lags=lags, horizon=horizon, verbose=0)\n",
    "\n",
    "# Save forecast:\n",
    "neig_cat_prediction.loc[:, f'{model}_{cat_short}_h_{horizon}'] = predictions\n",
    "mine_g.save_forecast(forecast_result_df=neig_cat_prediction.reset_index(drop=True), cat_file_path=save_cat_file_path)\n",
    "neig_cat_prediction"
   ]
  }
 ],
 "metadata": {
  "kernelspec": {
   "display_name": "thesis",
   "language": "python",
   "name": "python3"
  },
  "language_info": {
   "codemirror_mode": {
    "name": "ipython",
    "version": 3
   },
   "file_extension": ".py",
   "mimetype": "text/x-python",
   "name": "python",
   "nbconvert_exporter": "python",
   "pygments_lexer": "ipython3",
   "version": "3.11.7"
  }
 },
 "nbformat": 4,
 "nbformat_minor": 2
}
