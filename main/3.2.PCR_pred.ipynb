{
 "cells": [
  {
   "cell_type": "code",
   "execution_count": 1,
   "metadata": {},
   "outputs": [],
   "source": [
    "from os import chdir\n",
    "chdir('/Users/lananhnguyen/Desktop/thesis/thesis_code')\n",
    "import main.packages.mine_generic as mine_g\n",
    "import pandas as pd\n",
    "import numpy as np\n",
    "import matplotlib.pyplot as plt\n",
    "import seaborn as sns \n",
    "\n",
    "from sklearn.model_selection import TimeSeriesSplit\n",
    "from sklearn.preprocessing import StandardScaler\n",
    "from sklearn.linear_model import LinearRegression\n",
    "from sklearn.metrics import mean_squared_error, mean_absolute_error\n",
    "from sklearn.decomposition import PCA"
   ]
  },
  {
   "cell_type": "code",
   "execution_count": 2,
   "metadata": {},
   "outputs": [],
   "source": [
    "def prepare_X_train_test_pca(X_train, X_test, y, lags, n_components):\n",
    "\n",
    "    # Scale data\n",
    "    scaler = StandardScaler()\n",
    "    X_train_scaled = scaler.fit_transform(X_train)\n",
    "    X_test_scaled = scaler.transform(X_test)\n",
    "\n",
    "    # PCA:\n",
    "    pca = PCA(n_components = n_components)\n",
    "\n",
    "    factor_train = pd.DataFrame(pca.fit_transform(X_train_scaled))\n",
    "    factor_test = pd.DataFrame(pca.transform(X_test_scaled))\n",
    "\n",
    "    # Create y_lagged:\n",
    "    y_lagged = pd.DataFrame()\n",
    "    for lag in range(0, lags + 1):\n",
    "        y_lagged[f'Lag_{lag}'] = y[y.index <= mine_g.max_X_date].shift(lag)\n",
    "\n",
    "    # concatenate all:\n",
    "    X_factor_all = pd.concat([factor_train, factor_test], axis = 0, ignore_index=True)\n",
    "    factor_col_name = {col: f'factor_{col}' for col in X_factor_all.columns}\n",
    "    X_factor_all.rename(columns=factor_col_name, inplace=True)\n",
    "\n",
    "    X_factor_lags_all = pd.concat([y_lagged.reset_index(), X_factor_all], axis=1)\n",
    "    #X_factor_lags_all.set_index(0, drop=True)\n",
    "    #X_factor_lags_all.dropna(inplace=True)\n",
    "    X_factor_lags_all.set_index('date', drop=True, inplace=True)\n",
    "    print(X_factor_lags_all.shape)\n",
    "    return X_factor_lags_all\n",
    "\n",
    "# Recursive forecast\n",
    "def recursive_forecast_pca(N, T, X_factor_lags_all, y, lags, horizon, verbose = 1):\n",
    "\n",
    "    predictions = []\n",
    "\n",
    "    for i in range(T-horizon):\n",
    "\n",
    "        X_train_pca_temp = X_factor_lags_all.iloc[lags:N+i, :]\n",
    "        X_test_pca_temp = X_factor_lags_all.iloc[N+i:N+i+1, :]\n",
    "        y_train_temp = y[lags+horizon:N+i+horizon]\n",
    "\n",
    "        # Model:\n",
    "        model = LinearRegression()\n",
    "        model.fit(X_train_pca_temp, y_train_temp)\n",
    "        y_pred = model.predict(X_test_pca_temp)\n",
    "        predictions.append(y_pred[0][0])\n",
    "        if verbose == 1:\n",
    "            print(f\"Xt train: {X_train_pca_temp.index[0]} - {X_train_pca_temp.index[-1]}\")\n",
    "            print(f\"Y(t+h) train: {y_train_temp.index[0]} - {y_train_temp.index[-1]}\")\n",
    "            print(f\"X test: {X_test_pca_temp.index}\")\n",
    "            print('---')\n",
    "\n",
    "    return predictions\n"
   ]
  },
  {
   "cell_type": "code",
   "execution_count": 3,
   "metadata": {},
   "outputs": [],
   "source": [
    "# For all categories:\n",
    "hicp_all_path = 'data/preprocessed/cpi_yoy.csv'\n",
    "hicp_class_path = 'data/HICP_COICOP10s.xlsx'\n",
    "model = 'prc'"
   ]
  },
  {
   "cell_type": "markdown",
   "metadata": {},
   "source": [
    "# Food category:"
   ]
  },
  {
   "cell_type": "code",
   "execution_count": 4,
   "metadata": {},
   "outputs": [
    {
     "name": "stdout",
     "output_type": "stream",
     "text": [
      "Number of items in Food group:  180\n"
     ]
    },
    {
     "name": "stderr",
     "output_type": "stream",
     "text": [
      "/Users/lananhnguyen/Desktop/thesis/thesis_code/main/packages/mine_generic.py:252: SettingWithCopyWarning: \n",
      "A value is trying to be set on a copy of a slice from a DataFrame\n",
      "\n",
      "See the caveats in the documentation: https://pandas.pydata.org/pandas-docs/stable/user_guide/indexing.html#returning-a-view-versus-a-copy\n",
      "  cat_df.fillna(0, inplace=True)\n"
     ]
    }
   ],
   "source": [
    "cat_short = 'food'\n",
    "hicp_cat_path = f'data/preprocessed/{cat_short}_yoy_infl.csv'\n",
    "category = 'Food'\n",
    "save_cat_file_path = f'data/forecast_results/{cat_short}_forecast.csv'\n",
    "\n",
    "HICP_monthly, HICP_class, HICP_cat = mine_g.import_data_all(hicp_all_path=hicp_all_path,\n",
    "                                                     hicp_class_path=hicp_class_path,\n",
    "                                                     hicp_cat_path=hicp_cat_path)\n",
    "\n",
    "cat_df = mine_g.split_into_category(category=category,\n",
    "                             HICP_class=HICP_class,\n",
    "                             HICP_monthly=HICP_monthly)"
   ]
  },
  {
   "cell_type": "markdown",
   "metadata": {},
   "source": [
    "## h = 1"
   ]
  },
  {
   "cell_type": "code",
   "execution_count": 5,
   "metadata": {},
   "outputs": [
    {
     "name": "stdout",
     "output_type": "stream",
     "text": [
      "Horizon: 1\n",
      "Training predictor period: 1997-01-31 00:00:00 to 2015-11-30 00:00:00\n",
      "Training dependent variable period: 1997-02-28 00:00:00 to 2015-12-31 00:00:00\n",
      "(312, 18)\n"
     ]
    }
   ],
   "source": [
    "horizon = 1\n",
    "lags = 12\n",
    "n_components = 5\n",
    "\n",
    "X_train, X_test, y_train, y_test = mine_g.split_train_test_set(X = cat_df, y = HICP_cat, h = horizon)\n",
    "N, T = len(X_train), len(X_test)\n",
    "X_factor_lags_all = prepare_X_train_test_pca(X_train, X_test, HICP_cat, lags, n_components)"
   ]
  },
  {
   "cell_type": "code",
   "execution_count": 6,
   "metadata": {},
   "outputs": [],
   "source": [
    "predictions = recursive_forecast_pca(N, T, X_factor_lags_all, HICP_cat, lags=lags, horizon=horizon, verbose=0)"
   ]
  },
  {
   "cell_type": "code",
   "execution_count": 7,
   "metadata": {},
   "outputs": [],
   "source": [
    "\n",
    "food_cat_prediction = pd.DataFrame(index=y_test.index)\n",
    "food_cat_prediction.loc[:, f'{model}_{cat_short}_h_{horizon}'] = predictions"
   ]
  },
  {
   "cell_type": "markdown",
   "metadata": {},
   "source": [
    "## h = 2"
   ]
  },
  {
   "cell_type": "code",
   "execution_count": 8,
   "metadata": {},
   "outputs": [
    {
     "name": "stdout",
     "output_type": "stream",
     "text": [
      "Horizon: 2\n",
      "Training predictor period: 1997-01-31 00:00:00 to 2015-10-31 00:00:00\n",
      "Training dependent variable period: 1997-03-31 00:00:00 to 2015-12-31 00:00:00\n",
      "(312, 18)\n"
     ]
    }
   ],
   "source": [
    "horizon = 2\n",
    "lags = 12\n",
    "n_components = 5\n",
    "\n",
    "X_train, X_test, y_train, y_test = mine_g.split_train_test_set(X = cat_df, y = HICP_cat, h = horizon)\n",
    "N, T = len(X_train), len(X_test)\n",
    "X_factor_lags_all = prepare_X_train_test_pca(X_train, X_test, HICP_cat, lags, n_components)\n"
   ]
  },
  {
   "cell_type": "code",
   "execution_count": 9,
   "metadata": {},
   "outputs": [],
   "source": [
    "\n",
    "predictions = recursive_forecast_pca(N, T, X_factor_lags_all, HICP_cat, lags=lags, horizon=horizon, verbose=0)\n",
    "\n",
    "food_cat_prediction.loc[:, f'{model}_{cat_short}_h_{horizon}'] = predictions"
   ]
  },
  {
   "cell_type": "markdown",
   "metadata": {},
   "source": [
    "## h =3"
   ]
  },
  {
   "cell_type": "code",
   "execution_count": 10,
   "metadata": {},
   "outputs": [
    {
     "name": "stdout",
     "output_type": "stream",
     "text": [
      "Horizon: 3\n",
      "Training predictor period: 1997-01-31 00:00:00 to 2015-09-30 00:00:00\n",
      "Training dependent variable period: 1997-04-30 00:00:00 to 2015-12-31 00:00:00\n",
      "(312, 18)\n"
     ]
    },
    {
     "data": {
      "text/html": [
       "<div>\n",
       "<style scoped>\n",
       "    .dataframe tbody tr th:only-of-type {\n",
       "        vertical-align: middle;\n",
       "    }\n",
       "\n",
       "    .dataframe tbody tr th {\n",
       "        vertical-align: top;\n",
       "    }\n",
       "\n",
       "    .dataframe thead th {\n",
       "        text-align: right;\n",
       "    }\n",
       "</style>\n",
       "<table border=\"1\" class=\"dataframe\">\n",
       "  <thead>\n",
       "    <tr style=\"text-align: right;\">\n",
       "      <th></th>\n",
       "      <th>prc_food_h_1</th>\n",
       "      <th>prc_food_h_2</th>\n",
       "      <th>prc_food_h_3</th>\n",
       "    </tr>\n",
       "    <tr>\n",
       "      <th>date</th>\n",
       "      <th></th>\n",
       "      <th></th>\n",
       "      <th></th>\n",
       "    </tr>\n",
       "  </thead>\n",
       "  <tbody>\n",
       "    <tr>\n",
       "      <th>2016-01-31</th>\n",
       "      <td>1.516479</td>\n",
       "      <td>2.246963</td>\n",
       "      <td>2.337054</td>\n",
       "    </tr>\n",
       "    <tr>\n",
       "      <th>2016-02-29</th>\n",
       "      <td>0.952438</td>\n",
       "      <td>1.290390</td>\n",
       "      <td>1.958365</td>\n",
       "    </tr>\n",
       "    <tr>\n",
       "      <th>2016-03-31</th>\n",
       "      <td>0.960510</td>\n",
       "      <td>0.849770</td>\n",
       "      <td>1.202369</td>\n",
       "    </tr>\n",
       "    <tr>\n",
       "      <th>2016-04-30</th>\n",
       "      <td>1.095242</td>\n",
       "      <td>0.736830</td>\n",
       "      <td>0.629217</td>\n",
       "    </tr>\n",
       "    <tr>\n",
       "      <th>2016-05-31</th>\n",
       "      <td>1.275819</td>\n",
       "      <td>1.282583</td>\n",
       "      <td>0.975238</td>\n",
       "    </tr>\n",
       "    <tr>\n",
       "      <th>...</th>\n",
       "      <td>...</td>\n",
       "      <td>...</td>\n",
       "      <td>...</td>\n",
       "    </tr>\n",
       "    <tr>\n",
       "      <th>2022-08-31</th>\n",
       "      <td>11.838994</td>\n",
       "      <td>9.102966</td>\n",
       "      <td>7.644693</td>\n",
       "    </tr>\n",
       "    <tr>\n",
       "      <th>2022-09-30</th>\n",
       "      <td>13.289327</td>\n",
       "      <td>12.178509</td>\n",
       "      <td>9.281201</td>\n",
       "    </tr>\n",
       "    <tr>\n",
       "      <th>2022-10-31</th>\n",
       "      <td>14.940325</td>\n",
       "      <td>13.680145</td>\n",
       "      <td>12.457030</td>\n",
       "    </tr>\n",
       "    <tr>\n",
       "      <th>2022-11-30</th>\n",
       "      <td>16.053798</td>\n",
       "      <td>15.364414</td>\n",
       "      <td>13.979912</td>\n",
       "    </tr>\n",
       "    <tr>\n",
       "      <th>2022-12-31</th>\n",
       "      <td>16.672037</td>\n",
       "      <td>16.327089</td>\n",
       "      <td>15.502283</td>\n",
       "    </tr>\n",
       "  </tbody>\n",
       "</table>\n",
       "<p>84 rows × 3 columns</p>\n",
       "</div>"
      ],
      "text/plain": [
       "            prc_food_h_1  prc_food_h_2  prc_food_h_3\n",
       "date                                                \n",
       "2016-01-31      1.516479      2.246963      2.337054\n",
       "2016-02-29      0.952438      1.290390      1.958365\n",
       "2016-03-31      0.960510      0.849770      1.202369\n",
       "2016-04-30      1.095242      0.736830      0.629217\n",
       "2016-05-31      1.275819      1.282583      0.975238\n",
       "...                  ...           ...           ...\n",
       "2022-08-31     11.838994      9.102966      7.644693\n",
       "2022-09-30     13.289327     12.178509      9.281201\n",
       "2022-10-31     14.940325     13.680145     12.457030\n",
       "2022-11-30     16.053798     15.364414     13.979912\n",
       "2022-12-31     16.672037     16.327089     15.502283\n",
       "\n",
       "[84 rows x 3 columns]"
      ]
     },
     "execution_count": 10,
     "metadata": {},
     "output_type": "execute_result"
    }
   ],
   "source": [
    "horizon = 3\n",
    "lags = 12\n",
    "n_components = 5\n",
    "\n",
    "X_train, X_test, y_train, y_test = mine_g.split_train_test_set(X = cat_df, y = HICP_cat, h = horizon)\n",
    "N, T = len(X_train), len(X_test)\n",
    "X_factor_lags_all = prepare_X_train_test_pca(X_train, X_test, HICP_cat, lags, n_components)\n",
    "predictions = recursive_forecast_pca(N, T, X_factor_lags_all, HICP_cat, lags=lags, horizon=horizon, verbose=0)\n",
    "\n",
    "food_cat_prediction.loc[:, f'{model}_{cat_short}_h_{horizon}'] = predictions\n",
    "food_cat_prediction\n"
   ]
  },
  {
   "cell_type": "code",
   "execution_count": 11,
   "metadata": {},
   "outputs": [],
   "source": [
    "food_yoy_real = pd.read_csv(\"data/preprocessed/food_yoy_infl.csv\", parse_dates=True, index_col='date')\n",
    "food_yoy_real_test = food_yoy_real[(food_yoy_real.index > mine_g.train_test_split_date) & (food_yoy_real.index <= mine_g.max_X_date)]\n",
    "food_compare = pd.concat([food_cat_prediction, food_yoy_real_test], axis = 1)"
   ]
  },
  {
   "cell_type": "code",
   "execution_count": 12,
   "metadata": {},
   "outputs": [
    {
     "data": {
      "text/html": [
       "<div>\n",
       "<style scoped>\n",
       "    .dataframe tbody tr th:only-of-type {\n",
       "        vertical-align: middle;\n",
       "    }\n",
       "\n",
       "    .dataframe tbody tr th {\n",
       "        vertical-align: top;\n",
       "    }\n",
       "\n",
       "    .dataframe thead th {\n",
       "        text-align: right;\n",
       "    }\n",
       "</style>\n",
       "<table border=\"1\" class=\"dataframe\">\n",
       "  <thead>\n",
       "    <tr style=\"text-align: right;\">\n",
       "      <th></th>\n",
       "      <th>prc_food_h_1</th>\n",
       "      <th>prc_food_h_2</th>\n",
       "      <th>prc_food_h_3</th>\n",
       "      <th>yoy_rate</th>\n",
       "    </tr>\n",
       "    <tr>\n",
       "      <th>date</th>\n",
       "      <th></th>\n",
       "      <th></th>\n",
       "      <th></th>\n",
       "      <th></th>\n",
       "    </tr>\n",
       "  </thead>\n",
       "  <tbody>\n",
       "    <tr>\n",
       "      <th>2016-01-31</th>\n",
       "      <td>1.516479</td>\n",
       "      <td>2.246963</td>\n",
       "      <td>2.337054</td>\n",
       "      <td>1.209677</td>\n",
       "    </tr>\n",
       "    <tr>\n",
       "      <th>2016-02-29</th>\n",
       "      <td>0.952438</td>\n",
       "      <td>1.290390</td>\n",
       "      <td>1.958365</td>\n",
       "      <td>1.103310</td>\n",
       "    </tr>\n",
       "    <tr>\n",
       "      <th>2016-03-31</th>\n",
       "      <td>0.960510</td>\n",
       "      <td>0.849770</td>\n",
       "      <td>1.202369</td>\n",
       "      <td>1.402806</td>\n",
       "    </tr>\n",
       "    <tr>\n",
       "      <th>2016-04-30</th>\n",
       "      <td>1.095242</td>\n",
       "      <td>0.736830</td>\n",
       "      <td>0.629217</td>\n",
       "      <td>1.195219</td>\n",
       "    </tr>\n",
       "    <tr>\n",
       "      <th>2016-05-31</th>\n",
       "      <td>1.275819</td>\n",
       "      <td>1.282583</td>\n",
       "      <td>0.975238</td>\n",
       "      <td>0.896414</td>\n",
       "    </tr>\n",
       "    <tr>\n",
       "      <th>...</th>\n",
       "      <td>...</td>\n",
       "      <td>...</td>\n",
       "      <td>...</td>\n",
       "      <td>...</td>\n",
       "    </tr>\n",
       "    <tr>\n",
       "      <th>2022-08-31</th>\n",
       "      <td>11.838994</td>\n",
       "      <td>9.102966</td>\n",
       "      <td>7.644693</td>\n",
       "      <td>12.849650</td>\n",
       "    </tr>\n",
       "    <tr>\n",
       "      <th>2022-09-30</th>\n",
       "      <td>13.289327</td>\n",
       "      <td>12.178509</td>\n",
       "      <td>9.281201</td>\n",
       "      <td>14.423077</td>\n",
       "    </tr>\n",
       "    <tr>\n",
       "      <th>2022-10-31</th>\n",
       "      <td>14.940325</td>\n",
       "      <td>13.680145</td>\n",
       "      <td>12.457030</td>\n",
       "      <td>15.458515</td>\n",
       "    </tr>\n",
       "    <tr>\n",
       "      <th>2022-11-30</th>\n",
       "      <td>16.053798</td>\n",
       "      <td>15.364414</td>\n",
       "      <td>13.979912</td>\n",
       "      <td>16.275022</td>\n",
       "    </tr>\n",
       "    <tr>\n",
       "      <th>2022-12-31</th>\n",
       "      <td>16.672037</td>\n",
       "      <td>16.327089</td>\n",
       "      <td>15.502283</td>\n",
       "      <td>16.335350</td>\n",
       "    </tr>\n",
       "  </tbody>\n",
       "</table>\n",
       "<p>84 rows × 4 columns</p>\n",
       "</div>"
      ],
      "text/plain": [
       "            prc_food_h_1  prc_food_h_2  prc_food_h_3   yoy_rate\n",
       "date                                                           \n",
       "2016-01-31      1.516479      2.246963      2.337054   1.209677\n",
       "2016-02-29      0.952438      1.290390      1.958365   1.103310\n",
       "2016-03-31      0.960510      0.849770      1.202369   1.402806\n",
       "2016-04-30      1.095242      0.736830      0.629217   1.195219\n",
       "2016-05-31      1.275819      1.282583      0.975238   0.896414\n",
       "...                  ...           ...           ...        ...\n",
       "2022-08-31     11.838994      9.102966      7.644693  12.849650\n",
       "2022-09-30     13.289327     12.178509      9.281201  14.423077\n",
       "2022-10-31     14.940325     13.680145     12.457030  15.458515\n",
       "2022-11-30     16.053798     15.364414     13.979912  16.275022\n",
       "2022-12-31     16.672037     16.327089     15.502283  16.335350\n",
       "\n",
       "[84 rows x 4 columns]"
      ]
     },
     "execution_count": 12,
     "metadata": {},
     "output_type": "execute_result"
    }
   ],
   "source": [
    "food_compare"
   ]
  },
  {
   "cell_type": "code",
   "execution_count": 13,
   "metadata": {},
   "outputs": [
    {
     "name": "stderr",
     "output_type": "stream",
     "text": [
      "No artists with labels found to put in legend.  Note that artists whose label start with an underscore are ignored when legend() is called with no argument.\n"
     ]
    },
    {
     "data": {
      "image/png": "[encoded data removed]",
      "text/plain": [
       "<Figure size 1400x400 with 1 Axes>"
      ]
     },
     "metadata": {},
     "output_type": "display_data"
    }
   ],
   "source": [
    "plt.figure(figsize=(14, 4))\n",
    "\n",
    "plt.plot(food_compare.iloc[:, 0])\n",
    "plt.plot(food_compare.iloc[:, 3])\n",
    "plt.legend()\n",
    "plt.show()"
   ]
  },
  {
   "cell_type": "code",
   "execution_count": 14,
   "metadata": {},
   "outputs": [
    {
     "data": {
      "text/plain": [
       "0.5009483647550693"
      ]
     },
     "execution_count": 14,
     "metadata": {},
     "output_type": "execute_result"
    }
   ],
   "source": [
    "mean_absolute_error(food_compare.loc[:, 'yoy_rate'], food_compare.loc[:, 'prc_food_h_1'])"
   ]
  },
  {
   "cell_type": "code",
   "execution_count": 17,
   "metadata": {},
   "outputs": [
    {
     "data": {
      "text/html": [
       "<div>\n",
       "<style scoped>\n",
       "    .dataframe tbody tr th:only-of-type {\n",
       "        vertical-align: middle;\n",
       "    }\n",
       "\n",
       "    .dataframe tbody tr th {\n",
       "        vertical-align: top;\n",
       "    }\n",
       "\n",
       "    .dataframe thead th {\n",
       "        text-align: right;\n",
       "    }\n",
       "</style>\n",
       "<table border=\"1\" class=\"dataframe\">\n",
       "  <thead>\n",
       "    <tr style=\"text-align: right;\">\n",
       "      <th></th>\n",
       "      <th>prc_food_h_1</th>\n",
       "      <th>prc_food_h_2</th>\n",
       "      <th>prc_food_h_3</th>\n",
       "    </tr>\n",
       "    <tr>\n",
       "      <th>date</th>\n",
       "      <th></th>\n",
       "      <th></th>\n",
       "      <th></th>\n",
       "    </tr>\n",
       "  </thead>\n",
       "  <tbody>\n",
       "    <tr>\n",
       "      <th>2016-01-31</th>\n",
       "      <td>1.516479</td>\n",
       "      <td>2.246963</td>\n",
       "      <td>2.337054</td>\n",
       "    </tr>\n",
       "    <tr>\n",
       "      <th>2016-02-29</th>\n",
       "      <td>0.952438</td>\n",
       "      <td>1.290390</td>\n",
       "      <td>1.958365</td>\n",
       "    </tr>\n",
       "    <tr>\n",
       "      <th>2016-03-31</th>\n",
       "      <td>0.960510</td>\n",
       "      <td>0.849770</td>\n",
       "      <td>1.202369</td>\n",
       "    </tr>\n",
       "    <tr>\n",
       "      <th>2016-04-30</th>\n",
       "      <td>1.095242</td>\n",
       "      <td>0.736830</td>\n",
       "      <td>0.629217</td>\n",
       "    </tr>\n",
       "    <tr>\n",
       "      <th>2016-05-31</th>\n",
       "      <td>1.275819</td>\n",
       "      <td>1.282583</td>\n",
       "      <td>0.975238</td>\n",
       "    </tr>\n",
       "    <tr>\n",
       "      <th>...</th>\n",
       "      <td>...</td>\n",
       "      <td>...</td>\n",
       "      <td>...</td>\n",
       "    </tr>\n",
       "    <tr>\n",
       "      <th>2022-08-31</th>\n",
       "      <td>11.838994</td>\n",
       "      <td>9.102966</td>\n",
       "      <td>7.644693</td>\n",
       "    </tr>\n",
       "    <tr>\n",
       "      <th>2022-09-30</th>\n",
       "      <td>13.289327</td>\n",
       "      <td>12.178509</td>\n",
       "      <td>9.281201</td>\n",
       "    </tr>\n",
       "    <tr>\n",
       "      <th>2022-10-31</th>\n",
       "      <td>14.940325</td>\n",
       "      <td>13.680145</td>\n",
       "      <td>12.457030</td>\n",
       "    </tr>\n",
       "    <tr>\n",
       "      <th>2022-11-30</th>\n",
       "      <td>16.053798</td>\n",
       "      <td>15.364414</td>\n",
       "      <td>13.979912</td>\n",
       "    </tr>\n",
       "    <tr>\n",
       "      <th>2022-12-31</th>\n",
       "      <td>16.672037</td>\n",
       "      <td>16.327089</td>\n",
       "      <td>15.502283</td>\n",
       "    </tr>\n",
       "  </tbody>\n",
       "</table>\n",
       "<p>84 rows × 3 columns</p>\n",
       "</div>"
      ],
      "text/plain": [
       "            prc_food_h_1  prc_food_h_2  prc_food_h_3\n",
       "date                                                \n",
       "2016-01-31      1.516479      2.246963      2.337054\n",
       "2016-02-29      0.952438      1.290390      1.958365\n",
       "2016-03-31      0.960510      0.849770      1.202369\n",
       "2016-04-30      1.095242      0.736830      0.629217\n",
       "2016-05-31      1.275819      1.282583      0.975238\n",
       "...                  ...           ...           ...\n",
       "2022-08-31     11.838994      9.102966      7.644693\n",
       "2022-09-30     13.289327     12.178509      9.281201\n",
       "2022-10-31     14.940325     13.680145     12.457030\n",
       "2022-11-30     16.053798     15.364414     13.979912\n",
       "2022-12-31     16.672037     16.327089     15.502283\n",
       "\n",
       "[84 rows x 3 columns]"
      ]
     },
     "execution_count": 17,
     "metadata": {},
     "output_type": "execute_result"
    }
   ],
   "source": [
    "food_cat_prediction"
   ]
  },
  {
   "cell_type": "code",
   "execution_count": 18,
   "metadata": {},
   "outputs": [],
   "source": [
    "# save forecast:\n",
    "mine_g.save_forecast(forecast_result_df=food_cat_prediction.reset_index(drop=True), cat_file_path=save_cat_file_path)"
   ]
  },
  {
   "cell_type": "markdown",
   "metadata": {},
   "source": [
    "# Energy:"
   ]
  },
  {
   "cell_type": "code",
   "execution_count": 19,
   "metadata": {},
   "outputs": [
    {
     "name": "stdout",
     "output_type": "stream",
     "text": [
      "Number of items in Energy group:  14\n"
     ]
    },
    {
     "name": "stderr",
     "output_type": "stream",
     "text": [
      "/Users/lananhnguyen/Desktop/thesis/thesis_code/main/packages/mine_generic.py:252: SettingWithCopyWarning: \n",
      "A value is trying to be set on a copy of a slice from a DataFrame\n",
      "\n",
      "See the caveats in the documentation: https://pandas.pydata.org/pandas-docs/stable/user_guide/indexing.html#returning-a-view-versus-a-copy\n",
      "  cat_df.fillna(0, inplace=True)\n"
     ]
    }
   ],
   "source": [
    "cat_short = 'energy'\n",
    "hicp_cat_path = f'data/preprocessed/{cat_short}_yoy_infl.csv'\n",
    "category = 'Energy'\n",
    "\n",
    "save_cat_file_path = f'data/forecast_results/{cat_short}_forecast.csv'\n",
    "\n",
    "HICP_monthly, HICP_class, HICP_cat = mine_g.import_data_all(hicp_all_path=hicp_all_path,\n",
    "                                                     hicp_class_path=hicp_class_path,\n",
    "                                                     hicp_cat_path=hicp_cat_path)\n",
    "\n",
    "cat_df = mine_g.split_into_category(category=category,\n",
    "                             HICP_class=HICP_class,\n",
    "                             HICP_monthly=HICP_monthly)"
   ]
  },
  {
   "cell_type": "markdown",
   "metadata": {},
   "source": [
    "## h =1"
   ]
  },
  {
   "cell_type": "code",
   "execution_count": 20,
   "metadata": {},
   "outputs": [
    {
     "name": "stdout",
     "output_type": "stream",
     "text": [
      "Horizon: 1\n",
      "Training predictor period: 1997-01-31 00:00:00 to 2015-11-30 00:00:00\n",
      "Training dependent variable period: 1997-02-28 00:00:00 to 2015-12-31 00:00:00\n",
      "(312, 16)\n"
     ]
    }
   ],
   "source": [
    "horizon = 1\n",
    "lags = 12\n",
    "n_components = 3\n",
    "\n",
    "X_train, X_test, y_train, y_test = mine_g.split_train_test_set(X = cat_df, y = HICP_cat, h = horizon)\n",
    "N, T = len(X_train), len(X_test)\n",
    "X_factor_lags_all = prepare_X_train_test_pca(X_train, X_test, HICP_cat, lags, n_components)\n",
    "\n",
    "# Predict:\n",
    "predictions = recursive_forecast_pca(N, T, X_factor_lags_all, HICP_cat, lags=lags, horizon=horizon, verbose=0)\n",
    "\n",
    "# Save forecast:\n",
    "energy_cat_prediction = pd.DataFrame(index=y_test.index)\n",
    "energy_cat_prediction.loc[:, f'{model}_{cat_short}_h_{horizon}'] = predictions"
   ]
  },
  {
   "cell_type": "markdown",
   "metadata": {},
   "source": [
    "## h = 2"
   ]
  },
  {
   "cell_type": "code",
   "execution_count": 21,
   "metadata": {},
   "outputs": [
    {
     "name": "stdout",
     "output_type": "stream",
     "text": [
      "Horizon: 2\n",
      "Training predictor period: 1997-01-31 00:00:00 to 2015-10-31 00:00:00\n",
      "Training dependent variable period: 1997-03-31 00:00:00 to 2015-12-31 00:00:00\n",
      "(312, 16)\n"
     ]
    }
   ],
   "source": [
    "horizon = 2\n",
    "lags = 12\n",
    "n_components = 3\n",
    "\n",
    "X_train, X_test, y_train, y_test = mine_g.split_train_test_set(X = cat_df, y = HICP_cat, h = horizon)\n",
    "N, T = len(X_train), len(X_test)\n",
    "X_factor_lags_all = prepare_X_train_test_pca(X_train, X_test, HICP_cat, lags, n_components)\n",
    "\n",
    "# Predict:\n",
    "predictions = recursive_forecast_pca(N, T, X_factor_lags_all, HICP_cat, lags=lags, horizon=horizon, verbose=0)\n",
    "\n",
    "# Save forecast:\n",
    "energy_cat_prediction.loc[:, f'{model}_{cat_short}_h_{horizon}'] = predictions"
   ]
  },
  {
   "cell_type": "code",
   "execution_count": 23,
   "metadata": {},
   "outputs": [
    {
     "name": "stdout",
     "output_type": "stream",
     "text": [
      "Horizon: 3\n",
      "Training predictor period: 1997-01-31 00:00:00 to 2015-09-30 00:00:00\n",
      "Training dependent variable period: 1997-04-30 00:00:00 to 2015-12-31 00:00:00\n",
      "(312, 16)\n"
     ]
    },
    {
     "data": {
      "text/html": [
       "<div>\n",
       "<style scoped>\n",
       "    .dataframe tbody tr th:only-of-type {\n",
       "        vertical-align: middle;\n",
       "    }\n",
       "\n",
       "    .dataframe tbody tr th {\n",
       "        vertical-align: top;\n",
       "    }\n",
       "\n",
       "    .dataframe thead th {\n",
       "        text-align: right;\n",
       "    }\n",
       "</style>\n",
       "<table border=\"1\" class=\"dataframe\">\n",
       "  <thead>\n",
       "    <tr style=\"text-align: right;\">\n",
       "      <th></th>\n",
       "      <th>prc_energy_h_1</th>\n",
       "      <th>prc_energy_h_2</th>\n",
       "      <th>prc_energy_h_3</th>\n",
       "    </tr>\n",
       "    <tr>\n",
       "      <th>date</th>\n",
       "      <th></th>\n",
       "      <th></th>\n",
       "      <th></th>\n",
       "    </tr>\n",
       "  </thead>\n",
       "  <tbody>\n",
       "    <tr>\n",
       "      <th>2016-01-31</th>\n",
       "      <td>-4.150957</td>\n",
       "      <td>-3.265409</td>\n",
       "      <td>-5.095043</td>\n",
       "    </tr>\n",
       "    <tr>\n",
       "      <th>2016-02-29</th>\n",
       "      <td>-5.284264</td>\n",
       "      <td>-3.636481</td>\n",
       "      <td>-2.915801</td>\n",
       "    </tr>\n",
       "    <tr>\n",
       "      <th>2016-03-31</th>\n",
       "      <td>-9.223860</td>\n",
       "      <td>-5.986635</td>\n",
       "      <td>-4.513895</td>\n",
       "    </tr>\n",
       "    <tr>\n",
       "      <th>2016-04-30</th>\n",
       "      <td>-8.130491</td>\n",
       "      <td>-8.671201</td>\n",
       "      <td>-5.410966</td>\n",
       "    </tr>\n",
       "    <tr>\n",
       "      <th>2016-05-31</th>\n",
       "      <td>-8.989243</td>\n",
       "      <td>-8.679159</td>\n",
       "      <td>-8.868818</td>\n",
       "    </tr>\n",
       "    <tr>\n",
       "      <th>...</th>\n",
       "      <td>...</td>\n",
       "      <td>...</td>\n",
       "      <td>...</td>\n",
       "    </tr>\n",
       "    <tr>\n",
       "      <th>2022-08-31</th>\n",
       "      <td>35.970997</td>\n",
       "      <td>39.937719</td>\n",
       "      <td>42.842723</td>\n",
       "    </tr>\n",
       "    <tr>\n",
       "      <th>2022-09-30</th>\n",
       "      <td>40.159641</td>\n",
       "      <td>39.399301</td>\n",
       "      <td>42.371777</td>\n",
       "    </tr>\n",
       "    <tr>\n",
       "      <th>2022-10-31</th>\n",
       "      <td>45.743418</td>\n",
       "      <td>40.834507</td>\n",
       "      <td>38.718992</td>\n",
       "    </tr>\n",
       "    <tr>\n",
       "      <th>2022-11-30</th>\n",
       "      <td>45.007611</td>\n",
       "      <td>47.702450</td>\n",
       "      <td>42.004431</td>\n",
       "    </tr>\n",
       "    <tr>\n",
       "      <th>2022-12-31</th>\n",
       "      <td>42.041459</td>\n",
       "      <td>47.563147</td>\n",
       "      <td>50.905857</td>\n",
       "    </tr>\n",
       "  </tbody>\n",
       "</table>\n",
       "<p>84 rows × 3 columns</p>\n",
       "</div>"
      ],
      "text/plain": [
       "            prc_energy_h_1  prc_energy_h_2  prc_energy_h_3\n",
       "date                                                      \n",
       "2016-01-31       -4.150957       -3.265409       -5.095043\n",
       "2016-02-29       -5.284264       -3.636481       -2.915801\n",
       "2016-03-31       -9.223860       -5.986635       -4.513895\n",
       "2016-04-30       -8.130491       -8.671201       -5.410966\n",
       "2016-05-31       -8.989243       -8.679159       -8.868818\n",
       "...                    ...             ...             ...\n",
       "2022-08-31       35.970997       39.937719       42.842723\n",
       "2022-09-30       40.159641       39.399301       42.371777\n",
       "2022-10-31       45.743418       40.834507       38.718992\n",
       "2022-11-30       45.007611       47.702450       42.004431\n",
       "2022-12-31       42.041459       47.563147       50.905857\n",
       "\n",
       "[84 rows x 3 columns]"
      ]
     },
     "execution_count": 23,
     "metadata": {},
     "output_type": "execute_result"
    }
   ],
   "source": [
    "horizon = 3\n",
    "lags = 12\n",
    "n_components = 3\n",
    "\n",
    "X_train, X_test, y_train, y_test = mine_g.split_train_test_set(X = cat_df, y = HICP_cat, h = horizon)\n",
    "N, T = len(X_train), len(X_test)\n",
    "X_factor_lags_all = prepare_X_train_test_pca(X_train, X_test, HICP_cat, lags, n_components)\n",
    "\n",
    "# Predict:\n",
    "predictions = recursive_forecast_pca(N, T, X_factor_lags_all, HICP_cat, lags=lags, horizon=horizon, verbose=0)\n",
    "\n",
    "# Save forecast:\n",
    "energy_cat_prediction.loc[:, f'{model}_{cat_short}_h_{horizon}'] = predictions\n",
    "mine_g.save_forecast(forecast_result_df=energy_cat_prediction.reset_index(drop=True), cat_file_path=save_cat_file_path)\n",
    "energy_cat_prediction"
   ]
  },
  {
   "cell_type": "markdown",
   "metadata": {},
   "source": [
    "# Service:"
   ]
  },
  {
   "cell_type": "code",
   "execution_count": 24,
   "metadata": {},
   "outputs": [
    {
     "name": "stdout",
     "output_type": "stream",
     "text": [
      "Number of items in Services group:  148\n"
     ]
    },
    {
     "name": "stderr",
     "output_type": "stream",
     "text": [
      "/Users/lananhnguyen/Desktop/thesis/thesis_code/main/packages/mine_generic.py:252: SettingWithCopyWarning: \n",
      "A value is trying to be set on a copy of a slice from a DataFrame\n",
      "\n",
      "See the caveats in the documentation: https://pandas.pydata.org/pandas-docs/stable/user_guide/indexing.html#returning-a-view-versus-a-copy\n",
      "  cat_df.fillna(0, inplace=True)\n"
     ]
    }
   ],
   "source": [
    "cat_short = 'services'\n",
    "hicp_cat_path = f'data/preprocessed/{cat_short}_yoy_infl.csv'\n",
    "category = 'Services'\n",
    "\n",
    "save_cat_file_path = f'data/forecast_results/{cat_short}_forecast.csv'\n",
    "\n",
    "HICP_monthly, HICP_class, HICP_cat = mine_g.import_data_all(hicp_all_path=hicp_all_path,\n",
    "                                                     hicp_class_path=hicp_class_path,\n",
    "                                                     hicp_cat_path=hicp_cat_path)\n",
    "\n",
    "cat_df = mine_g.split_into_category(category=category,\n",
    "                             HICP_class=HICP_class,\n",
    "                             HICP_monthly=HICP_monthly)"
   ]
  },
  {
   "cell_type": "markdown",
   "metadata": {},
   "source": [
    "## h = 1:"
   ]
  },
  {
   "cell_type": "code",
   "execution_count": 25,
   "metadata": {},
   "outputs": [
    {
     "name": "stdout",
     "output_type": "stream",
     "text": [
      "Horizon: 1\n",
      "Training predictor period: 1997-01-31 00:00:00 to 2015-11-30 00:00:00\n",
      "Training dependent variable period: 1997-02-28 00:00:00 to 2015-12-31 00:00:00\n",
      "(312, 12)\n"
     ]
    }
   ],
   "source": [
    "horizon = 1\n",
    "lags = 6\n",
    "n_components = 5\n",
    "\n",
    "X_train, X_test, y_train, y_test = mine_g.split_train_test_set(X = cat_df, y = HICP_cat, h = horizon)\n",
    "N, T = len(X_train), len(X_test)\n",
    "X_factor_lags_all = prepare_X_train_test_pca(X_train, X_test, HICP_cat, lags, n_components)\n",
    "\n",
    "# Predict:\n",
    "predictions = recursive_forecast_pca(N, T, X_factor_lags_all, HICP_cat, lags=lags, horizon=horizon, verbose=0)\n",
    "\n",
    "# Save forecast:\n",
    "services_cat_prediction = pd.DataFrame(index=y_test.index)\n",
    "services_cat_prediction.loc[:, f'{model}_{cat_short}_h_{horizon}'] = predictions"
   ]
  },
  {
   "cell_type": "markdown",
   "metadata": {},
   "source": [
    "## h = 2"
   ]
  },
  {
   "cell_type": "code",
   "execution_count": 26,
   "metadata": {},
   "outputs": [
    {
     "name": "stdout",
     "output_type": "stream",
     "text": [
      "Horizon: 2\n",
      "Training predictor period: 1997-01-31 00:00:00 to 2015-10-31 00:00:00\n",
      "Training dependent variable period: 1997-03-31 00:00:00 to 2015-12-31 00:00:00\n",
      "(312, 11)\n"
     ]
    }
   ],
   "source": [
    "horizon = 2\n",
    "lags = 5\n",
    "n_components = 5\n",
    "\n",
    "X_train, X_test, y_train, y_test = mine_g.split_train_test_set(X = cat_df, y = HICP_cat, h = horizon)\n",
    "N, T = len(X_train), len(X_test)\n",
    "X_factor_lags_all = prepare_X_train_test_pca(X_train, X_test, HICP_cat, lags, n_components)\n",
    "\n",
    "# Predict:\n",
    "predictions = recursive_forecast_pca(N, T, X_factor_lags_all, HICP_cat, lags=lags, horizon=horizon, verbose=0)\n",
    "\n",
    "# Save forecast:\n",
    "services_cat_prediction.loc[:, f'{model}_{cat_short}_h_{horizon}'] = predictions"
   ]
  },
  {
   "cell_type": "code",
   "execution_count": 28,
   "metadata": {},
   "outputs": [
    {
     "name": "stdout",
     "output_type": "stream",
     "text": [
      "Horizon: 3\n",
      "Training predictor period: 1997-01-31 00:00:00 to 2015-09-30 00:00:00\n",
      "Training dependent variable period: 1997-04-30 00:00:00 to 2015-12-31 00:00:00\n",
      "(312, 10)\n"
     ]
    },
    {
     "data": {
      "text/html": [
       "<div>\n",
       "<style scoped>\n",
       "    .dataframe tbody tr th:only-of-type {\n",
       "        vertical-align: middle;\n",
       "    }\n",
       "\n",
       "    .dataframe tbody tr th {\n",
       "        vertical-align: top;\n",
       "    }\n",
       "\n",
       "    .dataframe thead th {\n",
       "        text-align: right;\n",
       "    }\n",
       "</style>\n",
       "<table border=\"1\" class=\"dataframe\">\n",
       "  <thead>\n",
       "    <tr style=\"text-align: right;\">\n",
       "      <th></th>\n",
       "      <th>prc_services_h_1</th>\n",
       "      <th>prc_services_h_2</th>\n",
       "      <th>prc_services_h_3</th>\n",
       "    </tr>\n",
       "    <tr>\n",
       "      <th>date</th>\n",
       "      <th></th>\n",
       "      <th></th>\n",
       "      <th></th>\n",
       "    </tr>\n",
       "  </thead>\n",
       "  <tbody>\n",
       "    <tr>\n",
       "      <th>2016-01-31</th>\n",
       "      <td>1.087786</td>\n",
       "      <td>1.241321</td>\n",
       "      <td>2.189706</td>\n",
       "    </tr>\n",
       "    <tr>\n",
       "      <th>2016-02-29</th>\n",
       "      <td>0.717032</td>\n",
       "      <td>0.635946</td>\n",
       "      <td>0.854914</td>\n",
       "    </tr>\n",
       "    <tr>\n",
       "      <th>2016-03-31</th>\n",
       "      <td>0.919456</td>\n",
       "      <td>0.818834</td>\n",
       "      <td>0.714219</td>\n",
       "    </tr>\n",
       "    <tr>\n",
       "      <th>2016-04-30</th>\n",
       "      <td>0.851811</td>\n",
       "      <td>0.617988</td>\n",
       "      <td>0.543636</td>\n",
       "    </tr>\n",
       "    <tr>\n",
       "      <th>2016-05-31</th>\n",
       "      <td>0.881835</td>\n",
       "      <td>1.091343</td>\n",
       "      <td>0.893010</td>\n",
       "    </tr>\n",
       "    <tr>\n",
       "      <th>...</th>\n",
       "      <td>...</td>\n",
       "      <td>...</td>\n",
       "      <td>...</td>\n",
       "    </tr>\n",
       "    <tr>\n",
       "      <th>2022-08-31</th>\n",
       "      <td>2.147497</td>\n",
       "      <td>2.427213</td>\n",
       "      <td>2.968636</td>\n",
       "    </tr>\n",
       "    <tr>\n",
       "      <th>2022-09-30</th>\n",
       "      <td>2.150609</td>\n",
       "      <td>2.274555</td>\n",
       "      <td>2.556510</td>\n",
       "    </tr>\n",
       "    <tr>\n",
       "      <th>2022-10-31</th>\n",
       "      <td>3.164126</td>\n",
       "      <td>2.753378</td>\n",
       "      <td>2.801649</td>\n",
       "    </tr>\n",
       "    <tr>\n",
       "      <th>2022-11-30</th>\n",
       "      <td>3.810354</td>\n",
       "      <td>3.414456</td>\n",
       "      <td>2.888919</td>\n",
       "    </tr>\n",
       "    <tr>\n",
       "      <th>2022-12-31</th>\n",
       "      <td>3.967337</td>\n",
       "      <td>3.856197</td>\n",
       "      <td>3.393920</td>\n",
       "    </tr>\n",
       "  </tbody>\n",
       "</table>\n",
       "<p>84 rows × 3 columns</p>\n",
       "</div>"
      ],
      "text/plain": [
       "            prc_services_h_1  prc_services_h_2  prc_services_h_3\n",
       "date                                                            \n",
       "2016-01-31          1.087786          1.241321          2.189706\n",
       "2016-02-29          0.717032          0.635946          0.854914\n",
       "2016-03-31          0.919456          0.818834          0.714219\n",
       "2016-04-30          0.851811          0.617988          0.543636\n",
       "2016-05-31          0.881835          1.091343          0.893010\n",
       "...                      ...               ...               ...\n",
       "2022-08-31          2.147497          2.427213          2.968636\n",
       "2022-09-30          2.150609          2.274555          2.556510\n",
       "2022-10-31          3.164126          2.753378          2.801649\n",
       "2022-11-30          3.810354          3.414456          2.888919\n",
       "2022-12-31          3.967337          3.856197          3.393920\n",
       "\n",
       "[84 rows x 3 columns]"
      ]
     },
     "execution_count": 28,
     "metadata": {},
     "output_type": "execute_result"
    }
   ],
   "source": [
    "horizon = 3\n",
    "lags = 4\n",
    "n_components = 5\n",
    "\n",
    "X_train, X_test, y_train, y_test = mine_g.split_train_test_set(X = cat_df, y = HICP_cat, h = horizon)\n",
    "N, T = len(X_train), len(X_test)\n",
    "X_factor_lags_all = prepare_X_train_test_pca(X_train, X_test, HICP_cat, lags, n_components)\n",
    "\n",
    "# Predict:\n",
    "predictions = recursive_forecast_pca(N, T, X_factor_lags_all, HICP_cat, lags=lags, horizon=horizon, verbose=0)\n",
    "\n",
    "# Save forecast:\n",
    "services_cat_prediction.loc[:, f'{model}_{cat_short}_h_{horizon}'] = predictions\n",
    "mine_g.save_forecast(forecast_result_df=services_cat_prediction.reset_index(drop=True), cat_file_path=save_cat_file_path)\n",
    "services_cat_prediction"
   ]
  },
  {
   "cell_type": "markdown",
   "metadata": {},
   "source": [
    "# NEGI:"
   ]
  },
  {
   "cell_type": "code",
   "execution_count": 29,
   "metadata": {},
   "outputs": [
    {
     "name": "stdout",
     "output_type": "stream",
     "text": [
      "Number of items in Non-energy industrial goods (NEIG) group:  302\n"
     ]
    },
    {
     "name": "stderr",
     "output_type": "stream",
     "text": [
      "/Users/lananhnguyen/Desktop/thesis/thesis_code/main/packages/mine_generic.py:252: SettingWithCopyWarning: \n",
      "A value is trying to be set on a copy of a slice from a DataFrame\n",
      "\n",
      "See the caveats in the documentation: https://pandas.pydata.org/pandas-docs/stable/user_guide/indexing.html#returning-a-view-versus-a-copy\n",
      "  cat_df.fillna(0, inplace=True)\n"
     ]
    }
   ],
   "source": [
    "cat_short = 'neig'\n",
    "hicp_cat_path = f'data/preprocessed/{cat_short}_yoy_infl.csv'\n",
    "category = 'Non-energy industrial goods (NEIG)'\n",
    "\n",
    "save_cat_file_path = f'data/forecast_results/{cat_short}_forecast.csv'\n",
    "\n",
    "HICP_monthly, HICP_class, HICP_cat = mine_g.import_data_all(hicp_all_path=hicp_all_path,\n",
    "                                                     hicp_class_path=hicp_class_path,\n",
    "                                                     hicp_cat_path=hicp_cat_path)\n",
    "\n",
    "cat_df = mine_g.split_into_category(category=category,\n",
    "                             HICP_class=HICP_class,\n",
    "                             HICP_monthly=HICP_monthly)"
   ]
  },
  {
   "cell_type": "code",
   "execution_count": 30,
   "metadata": {},
   "outputs": [
    {
     "name": "stdout",
     "output_type": "stream",
     "text": [
      "Horizon: 1\n",
      "Training predictor period: 1997-01-31 00:00:00 to 2015-11-30 00:00:00\n",
      "Training dependent variable period: 1997-02-28 00:00:00 to 2015-12-31 00:00:00\n",
      "(312, 11)\n"
     ]
    }
   ],
   "source": [
    "horizon = 1\n",
    "lags = 0\n",
    "n_components = 10\n",
    "\n",
    "X_train, X_test, y_train, y_test = mine_g.split_train_test_set(X = cat_df, y = HICP_cat, h = horizon)\n",
    "N, T = len(X_train), len(X_test)\n",
    "X_factor_lags_all = prepare_X_train_test_pca(X_train, X_test, HICP_cat, lags, n_components)\n",
    "\n",
    "# Predict:\n",
    "predictions = recursive_forecast_pca(N, T, X_factor_lags_all, HICP_cat, lags=lags, horizon=horizon, verbose=0)\n",
    "\n",
    "# Save forecast:\n",
    "neig_cat_prediction = pd.DataFrame(index=y_test.index)\n",
    "neig_cat_prediction.loc[:, f'{model}_{cat_short}_h_{horizon}'] = predictions"
   ]
  },
  {
   "cell_type": "code",
   "execution_count": 31,
   "metadata": {},
   "outputs": [
    {
     "name": "stdout",
     "output_type": "stream",
     "text": [
      "Horizon: 2\n",
      "Training predictor period: 1997-01-31 00:00:00 to 2015-10-31 00:00:00\n",
      "Training dependent variable period: 1997-03-31 00:00:00 to 2015-12-31 00:00:00\n",
      "(312, 17)\n"
     ]
    }
   ],
   "source": [
    "horizon = 2\n",
    "lags = 6\n",
    "n_components = 10\n",
    "\n",
    "X_train, X_test, y_train, y_test = mine_g.split_train_test_set(X = cat_df, y = HICP_cat, h = horizon)\n",
    "N, T = len(X_train), len(X_test)\n",
    "X_factor_lags_all = prepare_X_train_test_pca(X_train, X_test, HICP_cat, lags, n_components)\n",
    "\n",
    "# Predict:\n",
    "predictions = recursive_forecast_pca(N, T, X_factor_lags_all, HICP_cat, lags=lags, horizon=horizon, verbose=0)\n",
    "\n",
    "# Save forecast:\n",
    "neig_cat_prediction.loc[:, f'{model}_{cat_short}_h_{horizon}'] = predictions"
   ]
  },
  {
   "cell_type": "code",
   "execution_count": 32,
   "metadata": {},
   "outputs": [
    {
     "name": "stdout",
     "output_type": "stream",
     "text": [
      "Horizon: 3\n",
      "Training predictor period: 1997-01-31 00:00:00 to 2015-09-30 00:00:00\n",
      "Training dependent variable period: 1997-04-30 00:00:00 to 2015-12-31 00:00:00\n",
      "(312, 17)\n"
     ]
    },
    {
     "data": {
      "text/html": [
       "<div>\n",
       "<style scoped>\n",
       "    .dataframe tbody tr th:only-of-type {\n",
       "        vertical-align: middle;\n",
       "    }\n",
       "\n",
       "    .dataframe tbody tr th {\n",
       "        vertical-align: top;\n",
       "    }\n",
       "\n",
       "    .dataframe thead th {\n",
       "        text-align: right;\n",
       "    }\n",
       "</style>\n",
       "<table border=\"1\" class=\"dataframe\">\n",
       "  <thead>\n",
       "    <tr style=\"text-align: right;\">\n",
       "      <th></th>\n",
       "      <th>prc_neig_h_1</th>\n",
       "      <th>prc_neig_h_2</th>\n",
       "      <th>prc_neig_h_3</th>\n",
       "    </tr>\n",
       "    <tr>\n",
       "      <th>date</th>\n",
       "      <th></th>\n",
       "      <th></th>\n",
       "      <th></th>\n",
       "    </tr>\n",
       "  </thead>\n",
       "  <tbody>\n",
       "    <tr>\n",
       "      <th>2016-01-31</th>\n",
       "      <td>0.729452</td>\n",
       "      <td>1.159671</td>\n",
       "      <td>1.253438</td>\n",
       "    </tr>\n",
       "    <tr>\n",
       "      <th>2016-02-29</th>\n",
       "      <td>1.201077</td>\n",
       "      <td>0.972342</td>\n",
       "      <td>1.229771</td>\n",
       "    </tr>\n",
       "    <tr>\n",
       "      <th>2016-03-31</th>\n",
       "      <td>0.983425</td>\n",
       "      <td>1.075789</td>\n",
       "      <td>0.900019</td>\n",
       "    </tr>\n",
       "    <tr>\n",
       "      <th>2016-04-30</th>\n",
       "      <td>0.764899</td>\n",
       "      <td>0.928747</td>\n",
       "      <td>1.017031</td>\n",
       "    </tr>\n",
       "    <tr>\n",
       "      <th>2016-05-31</th>\n",
       "      <td>1.031533</td>\n",
       "      <td>0.747216</td>\n",
       "      <td>0.858793</td>\n",
       "    </tr>\n",
       "    <tr>\n",
       "      <th>...</th>\n",
       "      <td>...</td>\n",
       "      <td>...</td>\n",
       "      <td>...</td>\n",
       "    </tr>\n",
       "    <tr>\n",
       "      <th>2022-08-31</th>\n",
       "      <td>5.869285</td>\n",
       "      <td>5.779228</td>\n",
       "      <td>5.249963</td>\n",
       "    </tr>\n",
       "    <tr>\n",
       "      <th>2022-09-30</th>\n",
       "      <td>6.148264</td>\n",
       "      <td>6.136310</td>\n",
       "      <td>5.697437</td>\n",
       "    </tr>\n",
       "    <tr>\n",
       "      <th>2022-10-31</th>\n",
       "      <td>6.464927</td>\n",
       "      <td>6.239703</td>\n",
       "      <td>6.149065</td>\n",
       "    </tr>\n",
       "    <tr>\n",
       "      <th>2022-11-30</th>\n",
       "      <td>7.352456</td>\n",
       "      <td>6.467392</td>\n",
       "      <td>6.336676</td>\n",
       "    </tr>\n",
       "    <tr>\n",
       "      <th>2022-12-31</th>\n",
       "      <td>7.413235</td>\n",
       "      <td>7.229097</td>\n",
       "      <td>6.563157</td>\n",
       "    </tr>\n",
       "  </tbody>\n",
       "</table>\n",
       "<p>84 rows × 3 columns</p>\n",
       "</div>"
      ],
      "text/plain": [
       "            prc_neig_h_1  prc_neig_h_2  prc_neig_h_3\n",
       "date                                                \n",
       "2016-01-31      0.729452      1.159671      1.253438\n",
       "2016-02-29      1.201077      0.972342      1.229771\n",
       "2016-03-31      0.983425      1.075789      0.900019\n",
       "2016-04-30      0.764899      0.928747      1.017031\n",
       "2016-05-31      1.031533      0.747216      0.858793\n",
       "...                  ...           ...           ...\n",
       "2022-08-31      5.869285      5.779228      5.249963\n",
       "2022-09-30      6.148264      6.136310      5.697437\n",
       "2022-10-31      6.464927      6.239703      6.149065\n",
       "2022-11-30      7.352456      6.467392      6.336676\n",
       "2022-12-31      7.413235      7.229097      6.563157\n",
       "\n",
       "[84 rows x 3 columns]"
      ]
     },
     "execution_count": 32,
     "metadata": {},
     "output_type": "execute_result"
    }
   ],
   "source": [
    "horizon = 3\n",
    "lags = 6\n",
    "n_components = 10\n",
    "\n",
    "X_train, X_test, y_train, y_test = mine_g.split_train_test_set(X = cat_df, y = HICP_cat, h = horizon)\n",
    "N, T = len(X_train), len(X_test)\n",
    "X_factor_lags_all = prepare_X_train_test_pca(X_train, X_test, HICP_cat, lags, n_components)\n",
    "\n",
    "# Predict:\n",
    "predictions = recursive_forecast_pca(N, T, X_factor_lags_all, HICP_cat, lags=lags, horizon=horizon, verbose=0)\n",
    "\n",
    "# Save forecast:\n",
    "neig_cat_prediction.loc[:, f'{model}_{cat_short}_h_{horizon}'] = predictions\n",
    "mine_g.save_forecast(forecast_result_df=neig_cat_prediction.reset_index(drop=True), cat_file_path=save_cat_file_path)\n",
    "neig_cat_prediction"
   ]
  }
 ],
 "metadata": {
  "kernelspec": {
   "display_name": "thesis",
   "language": "python",
   "name": "python3"
  },
  "language_info": {
   "codemirror_mode": {
    "name": "ipython",
    "version": 3
   },
   "file_extension": ".py",
   "mimetype": "text/x-python",
   "name": "python",
   "nbconvert_exporter": "python",
   "pygments_lexer": "ipython3",
   "version": "3.11.7"
  }
 },
 "nbformat": 4,
 "nbformat_minor": 2
}
