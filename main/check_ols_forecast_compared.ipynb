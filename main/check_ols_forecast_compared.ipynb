{
 "cells": [
  {
   "cell_type": "code",
   "execution_count": 2,
   "metadata": {},
   "outputs": [],
   "source": [
    "from os import chdir\n",
    "chdir('/Users/lananhnguyen/Desktop/thesis/thesis_code')\n",
    "import main.packages.mine_generic as mine_g\n",
    "\n",
    "import pandas as pd\n",
    "import numpy as np\n",
    "import matplotlib.pyplot as plt\n",
    "import seaborn as sns \n",
    "from sklearn.metrics import mean_absolute_error, mean_squared_error\n",
    "import statsmodels.api as sm\n"
   ]
  },
  {
   "cell_type": "code",
   "execution_count": 14,
   "metadata": {},
   "outputs": [
    {
     "data": {
      "text/html": [
       "<table class=\"simpletable\">\n",
       "<caption>OLS Regression Results</caption>\n",
       "<tr>\n",
       "  <th>Dep. Variable:</th>            <td>y</td>        <th>  R-squared:         </th> <td>   0.869</td> \n",
       "</tr>\n",
       "<tr>\n",
       "  <th>Model:</th>                   <td>OLS</td>       <th>  Adj. R-squared:    </th> <td>   0.868</td> \n",
       "</tr>\n",
       "<tr>\n",
       "  <th>Method:</th>             <td>Least Squares</td>  <th>  F-statistic:       </th> <td>   1487.</td> \n",
       "</tr>\n",
       "<tr>\n",
       "  <th>Date:</th>             <td>Mon, 13 May 2024</td> <th>  Prob (F-statistic):</th> <td>4.16e-101</td>\n",
       "</tr>\n",
       "<tr>\n",
       "  <th>Time:</th>                 <td>14:42:15</td>     <th>  Log-Likelihood:    </th> <td> -190.65</td> \n",
       "</tr>\n",
       "<tr>\n",
       "  <th>No. Observations:</th>      <td>   227</td>      <th>  AIC:               </th> <td>   385.3</td> \n",
       "</tr>\n",
       "<tr>\n",
       "  <th>Df Residuals:</th>          <td>   225</td>      <th>  BIC:               </th> <td>   392.2</td> \n",
       "</tr>\n",
       "<tr>\n",
       "  <th>Df Model:</th>              <td>     1</td>      <th>                     </th>     <td> </td>    \n",
       "</tr>\n",
       "<tr>\n",
       "  <th>Covariance Type:</th>      <td>nonrobust</td>    <th>                     </th>     <td> </td>    \n",
       "</tr>\n",
       "</table>\n",
       "<table class=\"simpletable\">\n",
       "<tr>\n",
       "    <td></td>       <th>coef</th>     <th>std err</th>      <th>t</th>      <th>P>|t|</th>  <th>[0.025</th>    <th>0.975]</th>  \n",
       "</tr>\n",
       "<tr>\n",
       "  <th>const</th> <td>    0.1287</td> <td>    0.059</td> <td>    2.179</td> <td> 0.030</td> <td>    0.012</td> <td>    0.245</td>\n",
       "</tr>\n",
       "<tr>\n",
       "  <th>x1</th>    <td>    0.9320</td> <td>    0.024</td> <td>   38.556</td> <td> 0.000</td> <td>    0.884</td> <td>    0.980</td>\n",
       "</tr>\n",
       "</table>\n",
       "<table class=\"simpletable\">\n",
       "<tr>\n",
       "  <th>Omnibus:</th>       <td>19.519</td> <th>  Durbin-Watson:     </th> <td>   1.778</td>\n",
       "</tr>\n",
       "<tr>\n",
       "  <th>Prob(Omnibus):</th> <td> 0.000</td> <th>  Jarque-Bera (JB):  </th> <td>  58.379</td>\n",
       "</tr>\n",
       "<tr>\n",
       "  <th>Skew:</th>          <td> 0.243</td> <th>  Prob(JB):          </th> <td>2.10e-13</td>\n",
       "</tr>\n",
       "<tr>\n",
       "  <th>Kurtosis:</th>      <td> 5.437</td> <th>  Cond. No.          </th> <td>    4.28</td>\n",
       "</tr>\n",
       "</table><br/><br/>Notes:<br/>[1] Standard Errors assume that the covariance matrix of the errors is correctly specified."
      ],
      "text/latex": [
       "\\begin{center}\n",
       "\\begin{tabular}{lclc}\n",
       "\\toprule\n",
       "\\textbf{Dep. Variable:}    &        y         & \\textbf{  R-squared:         } &     0.869   \\\\\n",
       "\\textbf{Model:}            &       OLS        & \\textbf{  Adj. R-squared:    } &     0.868   \\\\\n",
       "\\textbf{Method:}           &  Least Squares   & \\textbf{  F-statistic:       } &     1487.   \\\\\n",
       "\\textbf{Date:}             & Mon, 13 May 2024 & \\textbf{  Prob (F-statistic):} & 4.16e-101   \\\\\n",
       "\\textbf{Time:}             &     14:42:15     & \\textbf{  Log-Likelihood:    } &   -190.65   \\\\\n",
       "\\textbf{No. Observations:} &         227      & \\textbf{  AIC:               } &     385.3   \\\\\n",
       "\\textbf{Df Residuals:}     &         225      & \\textbf{  BIC:               } &     392.2   \\\\\n",
       "\\textbf{Df Model:}         &           1      & \\textbf{                     } &             \\\\\n",
       "\\textbf{Covariance Type:}  &    nonrobust     & \\textbf{                     } &             \\\\\n",
       "\\bottomrule\n",
       "\\end{tabular}\n",
       "\\begin{tabular}{lcccccc}\n",
       "               & \\textbf{coef} & \\textbf{std err} & \\textbf{t} & \\textbf{P$> |$t$|$} & \\textbf{[0.025} & \\textbf{0.975]}  \\\\\n",
       "\\midrule\n",
       "\\textbf{const} &       0.1287  &        0.059     &     2.179  &         0.030        &        0.012    &        0.245     \\\\\n",
       "\\textbf{x1}    &       0.9320  &        0.024     &    38.556  &         0.000        &        0.884    &        0.980     \\\\\n",
       "\\bottomrule\n",
       "\\end{tabular}\n",
       "\\begin{tabular}{lclc}\n",
       "\\textbf{Omnibus:}       & 19.519 & \\textbf{  Durbin-Watson:     } &    1.778  \\\\\n",
       "\\textbf{Prob(Omnibus):} &  0.000 & \\textbf{  Jarque-Bera (JB):  } &   58.379  \\\\\n",
       "\\textbf{Skew:}          &  0.243 & \\textbf{  Prob(JB):          } & 2.10e-13  \\\\\n",
       "\\textbf{Kurtosis:}      &  5.437 & \\textbf{  Cond. No.          } &     4.28  \\\\\n",
       "\\bottomrule\n",
       "\\end{tabular}\n",
       "%\\caption{OLS Regression Results}\n",
       "\\end{center}\n",
       "\n",
       "Notes: \\newline\n",
       " [1] Standard Errors assume that the covariance matrix of the errors is correctly specified."
      ],
      "text/plain": [
       "<class 'statsmodels.iolib.summary.Summary'>\n",
       "\"\"\"\n",
       "                            OLS Regression Results                            \n",
       "==============================================================================\n",
       "Dep. Variable:                      y   R-squared:                       0.869\n",
       "Model:                            OLS   Adj. R-squared:                  0.868\n",
       "Method:                 Least Squares   F-statistic:                     1487.\n",
       "Date:                Mon, 13 May 2024   Prob (F-statistic):          4.16e-101\n",
       "Time:                        14:42:15   Log-Likelihood:                -190.65\n",
       "No. Observations:                 227   AIC:                             385.3\n",
       "Df Residuals:                     225   BIC:                             392.2\n",
       "Df Model:                           1                                         \n",
       "Covariance Type:            nonrobust                                         \n",
       "==============================================================================\n",
       "                 coef    std err          t      P>|t|      [0.025      0.975]\n",
       "------------------------------------------------------------------------------\n",
       "const          0.1287      0.059      2.179      0.030       0.012       0.245\n",
       "x1             0.9320      0.024     38.556      0.000       0.884       0.980\n",
       "==============================================================================\n",
       "Omnibus:                       19.519   Durbin-Watson:                   1.778\n",
       "Prob(Omnibus):                  0.000   Jarque-Bera (JB):               58.379\n",
       "Skew:                           0.243   Prob(JB):                     2.10e-13\n",
       "Kurtosis:                       5.437   Cond. No.                         4.28\n",
       "==============================================================================\n",
       "\n",
       "Notes:\n",
       "[1] Standard Errors assume that the covariance matrix of the errors is correctly specified.\n",
       "\"\"\""
      ]
     },
     "execution_count": 14,
     "metadata": {},
     "output_type": "execute_result"
    }
   ],
   "source": [
    "food_yoy = pd.read_csv(\"data/preprocessed/food_yoy_infl.csv\", parse_dates=True, index_col='date')\n",
    "food_yoy_train = food_yoy[food_yoy.index <= mine_g.train_test_split_date]\n",
    "y_train = food_yoy_train[1:].values\n",
    "X_train = food_yoy_train[:-1].values\n",
    "\n",
    "\n",
    "X_train = sm.add_constant(X_train)\n",
    "\n",
    "model = sm.OLS(y_train,X_train)\n",
    "results = model.fit()\n",
    "y_pred_train = results.predict(X_train)\n",
    "results.summary()"
   ]
  },
  {
   "cell_type": "code",
   "execution_count": 15,
   "metadata": {},
   "outputs": [
    {
     "data": {
      "text/plain": [
       "0      1.449336\n",
       "1      1.256114\n",
       "2      1.156983\n",
       "3      1.436103\n",
       "4      1.242640\n",
       "        ...    \n",
       "79    10.882196\n",
       "80    12.104180\n",
       "81    13.570561\n",
       "82    14.535555\n",
       "83    15.296512\n",
       "Length: 84, dtype: float64"
      ]
     },
     "execution_count": 15,
     "metadata": {},
     "output_type": "execute_result"
    }
   ],
   "source": [
    " \n",
    "X_test_h_1 = food_yoy[(food_yoy.index > '2015-11-30') & (food_yoy.index <= '2022-11-30')]\n",
    "X_test_h_1 = sm.add_constant(X_test_h_1)\n",
    "y_pred_test_h_1 = results.predict(X_test_h_1)\n",
    "y_pred_test_h_1.reset_index(drop=True)"
   ]
  },
  {
   "cell_type": "code",
   "execution_count": 16,
   "metadata": {},
   "outputs": [
    {
     "data": {
      "text/plain": [
       "0.6318054016514819"
      ]
     },
     "execution_count": 16,
     "metadata": {},
     "output_type": "execute_result"
    }
   ],
   "source": [
    "y_test = food_yoy[(food_yoy.index > '2015-12-31') & (food_yoy.index <= '2022-12-31')]\n",
    "mean_absolute_error(y_test, y_pred_test_h_1)"
   ]
  },
  {
   "cell_type": "code",
   "execution_count": 20,
   "metadata": {},
   "outputs": [
    {
     "data": {
      "text/plain": [
       "3.3314702295621155"
      ]
     },
     "execution_count": 20,
     "metadata": {},
     "output_type": "execute_result"
    }
   ],
   "source": [
    "np.sqrt(mean_squared_error(y_test, y_pred_test_h_1))"
   ]
  },
  {
   "cell_type": "code",
   "execution_count": 17,
   "metadata": {},
   "outputs": [
    {
     "data": {
      "text/plain": [
       "2.199636895588862"
      ]
     },
     "execution_count": 17,
     "metadata": {},
     "output_type": "execute_result"
    }
   ],
   "source": [
    "e_yoy = pd.read_csv(\"data/preprocessed/energy_yoy_infl.csv\", parse_dates=True, index_col='date')\n",
    "e_yoy_train = e_yoy[e_yoy.index <= mine_g.train_test_split_date]\n",
    "y_train = e_yoy_train[1:].values\n",
    "X_train = e_yoy_train[:-1].values\n",
    "\n",
    "\n",
    "X_train = sm.add_constant(X_train)\n",
    "\n",
    "model = sm.OLS(y_train,X_train)\n",
    "results = model.fit()\n",
    "y_pred_train = results.predict(X_train)\n",
    "results.summary()\n",
    "\n",
    " \n",
    "X_test_h_1 = e_yoy[(e_yoy.index > '2015-11-30') & (e_yoy.index <= '2022-11-30')]\n",
    "X_test_h_1 = sm.add_constant(X_test_h_1)\n",
    "y_pred_test_h_1 = results.predict(X_test_h_1)\n",
    "y_pred_test_h_1.reset_index(drop=True)\n",
    "\n",
    "y_test = e_yoy[(e_yoy.index > '2015-12-31') & (e_yoy.index <= '2022-12-31')]\n",
    "mean_absolute_error(y_test, y_pred_test_h_1)\n"
   ]
  },
  {
   "cell_type": "code",
   "execution_count": 18,
   "metadata": {},
   "outputs": [
    {
     "data": {
      "text/plain": [
       "3.3314702295621155"
      ]
     },
     "execution_count": 18,
     "metadata": {},
     "output_type": "execute_result"
    }
   ],
   "source": [
    "np.sqrt(mean_squared_error(y_test, y_pred_test_h_1))"
   ]
  },
  {
   "cell_type": "code",
   "execution_count": 21,
   "metadata": {},
   "outputs": [
    {
     "data": {
      "text/plain": [
       "0.3889491193369988"
      ]
     },
     "execution_count": 21,
     "metadata": {},
     "output_type": "execute_result"
    }
   ],
   "source": [
    "n_yoy = pd.read_csv(\"data/preprocessed/neig_yoy_infl.csv\", parse_dates=True, index_col='date')\n",
    "n_yoy_train = n_yoy[n_yoy.index <= mine_g.train_test_split_date]\n",
    "y_train = n_yoy_train[1:].values\n",
    "X_train = n_yoy_train[:-1].values\n",
    "\n",
    "\n",
    "X_train = sm.add_constant(X_train)\n",
    "\n",
    "model = sm.OLS(y_train,X_train)\n",
    "results = model.fit()\n",
    "y_pred_train = results.predict(X_train)\n",
    "results.summary()\n",
    "\n",
    " \n",
    "X_test_h_1 = n_yoy[(n_yoy.index > '2015-11-30') & (n_yoy.index <= '2022-11-30')]\n",
    "X_test_h_1 = sm.add_constant(X_test_h_1)\n",
    "y_pred_test_h_1 = results.predict(X_test_h_1)\n",
    "y_pred_test_h_1.reset_index(drop=True)\n",
    "\n",
    "y_test = n_yoy[(n_yoy.index > '2015-12-31') & (n_yoy.index <= '2022-12-31')]\n",
    "mean_absolute_error(y_test, y_pred_test_h_1)"
   ]
  },
  {
   "cell_type": "code",
   "execution_count": 22,
   "metadata": {},
   "outputs": [
    {
     "data": {
      "text/plain": [
       "0.5983252361090404"
      ]
     },
     "execution_count": 22,
     "metadata": {},
     "output_type": "execute_result"
    }
   ],
   "source": [
    "np.sqrt(mean_squared_error(y_test, y_pred_test_h_1))"
   ]
  },
  {
   "cell_type": "code",
   "execution_count": 23,
   "metadata": {},
   "outputs": [
    {
     "data": {
      "text/plain": [
       "0.4707414017407465"
      ]
     },
     "execution_count": 23,
     "metadata": {},
     "output_type": "execute_result"
    }
   ],
   "source": [
    "s_yoy = pd.read_csv(\"data/preprocessed/services_yoy_infl.csv\", parse_dates=True, index_col='date')\n",
    "s_yoy_train = s_yoy[s_yoy.index <= mine_g.train_test_split_date]\n",
    "y_train = s_yoy_train[1:].values\n",
    "X_train = s_yoy_train[:-1].values\n",
    "\n",
    "\n",
    "X_train = sm.add_constant(X_train)\n",
    "\n",
    "model = sm.OLS(y_train,X_train)\n",
    "results = model.fit()\n",
    "y_pred_train = results.predict(X_train)\n",
    "results.summary()\n",
    "\n",
    " \n",
    "X_test_h_1 = s_yoy[(s_yoy.index > '2015-11-30') & (s_yoy.index <= '2022-11-30')]\n",
    "X_test_h_1 = sm.add_constant(X_test_h_1)\n",
    "y_pred_test_h_1 = results.predict(X_test_h_1)\n",
    "y_pred_test_h_1.reset_index(drop=True)\n",
    "\n",
    "y_test = s_yoy[(s_yoy.index > '2015-12-31') & (s_yoy.index <= '2022-12-31')]\n",
    "mean_absolute_error(y_test, y_pred_test_h_1)"
   ]
  },
  {
   "cell_type": "code",
   "execution_count": 24,
   "metadata": {},
   "outputs": [
    {
     "data": {
      "text/plain": [
       "0.6483255456475436"
      ]
     },
     "execution_count": 24,
     "metadata": {},
     "output_type": "execute_result"
    }
   ],
   "source": [
    "np.sqrt(mean_squared_error(y_test, y_pred_test_h_1))"
   ]
  }
 ],
 "metadata": {
  "kernelspec": {
   "display_name": "thesis",
   "language": "python",
   "name": "python3"
  },
  "language_info": {
   "codemirror_mode": {
    "name": "ipython",
    "version": 3
   },
   "file_extension": ".py",
   "mimetype": "text/x-python",
   "name": "python",
   "nbconvert_exporter": "python",
   "pygments_lexer": "ipython3",
   "version": "3.11.7"
  }
 },
 "nbformat": 4,
 "nbformat_minor": 2
}
