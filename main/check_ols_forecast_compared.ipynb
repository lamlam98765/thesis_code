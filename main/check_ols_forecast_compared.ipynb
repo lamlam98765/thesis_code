{
 "cells": [
  {
   "cell_type": "code",
   "execution_count": 1,
   "metadata": {},
   "outputs": [],
   "source": [
    "from os import chdir\n",
    "chdir('/Users/lananhnguyen/Desktop/thesis/thesis_code')\n",
    "import main.packages.mine_generic as mine_g\n",
    "\n",
    "import pandas as pd\n",
    "\n",
    "import numpy as np\n",
    "import matplotlib.pyplot as plt\n",
    "import seaborn as sns \n",
    "from sklearn.metrics import mean_absolute_error, mean_squared_error\n",
    "import statsmodels.api as sm\n"
   ]
  },
  {
   "cell_type": "code",
   "execution_count": 2,
   "metadata": {},
   "outputs": [],
   "source": [
    "model = 'ar_1'\n",
    "date_range = pd.date_range(start=mine_g.train_test_split_date + pd.DateOffset(months=1), end=mine_g.max_X_date, freq='M')\n"
   ]
  },
  {
   "cell_type": "code",
   "execution_count": 3,
   "metadata": {},
   "outputs": [],
   "source": [
    "cat_short = 'food'\n",
    "yoy = pd.read_csv(f\"data/preprocessed/{cat_short}_yoy_infl.csv\", parse_dates=True, index_col='date')\n",
    "yoy = yoy[yoy.index <='2022-12-31']\n",
    "save_cat_file_path = f'data/forecast_results/{cat_short}_forecast.csv'\n",
    "\n",
    "food_cat_prediction = pd.DataFrame(index=date_range)"
   ]
  },
  {
   "cell_type": "code",
   "execution_count": 4,
   "metadata": {},
   "outputs": [],
   "source": [
    "def basic_ols(yoy, h):\n",
    "    yoy_train = yoy[yoy.index <= mine_g.train_test_split_date]\n",
    "    y_train = yoy_train[h:].values\n",
    "    X_train = yoy_train[:-h]\n",
    "    \n",
    "    X_test = yoy[~yoy.index.isin(X_train.index)]\n",
    "    X_test = X_test[:-h].values\n",
    "\n",
    "    X_train = sm.add_constant(X_train.values)\n",
    "\n",
    "    model = sm.OLS(y_train,X_train)\n",
    "    results = model.fit()\n",
    "\n",
    "\n",
    "    X_test = sm.add_constant(X_test)\n",
    "    y_pred_test = results.predict(X_test)\n",
    "    #y_pred_test.reset_index(drop=True)\n",
    "    return y_pred_test\n"
   ]
  },
  {
   "cell_type": "code",
   "execution_count": 5,
   "metadata": {},
   "outputs": [
    {
     "name": "stdout",
     "output_type": "stream",
     "text": [
      "1\n",
      "0.6318054016514819\n",
      "0.890645933796826\n",
      "2\n",
      "0.9838275993897595\n",
      "1.4793758915579724\n",
      "3\n",
      "1.2438466942691049\n",
      "2.0047025223038473\n"
     ]
    }
   ],
   "source": [
    "y_test = yoy[yoy.index.isin(date_range)]\n",
    "\n",
    "for h in [1, 2, 3]:\n",
    "    y_pred_test = basic_ols(yoy, h)\n",
    "    food_cat_prediction.loc[:, f'{model}_{cat_short}_h_{h}'] = y_pred_test\n",
    "    print(h)\n",
    "\n",
    "    print(mean_absolute_error(y_test.reset_index(drop=True), y_pred_test))\n",
    "    print(np.sqrt(mean_squared_error(y_test, y_pred_test)))"
   ]
  },
  {
   "cell_type": "code",
   "execution_count": 6,
   "metadata": {},
   "outputs": [
    {
     "name": "stdout",
     "output_type": "stream",
     "text": [
      "1.2438466942691049\n",
      "2.0047025223038473\n"
     ]
    }
   ],
   "source": [
    "print(mean_absolute_error(y_test, food_cat_prediction.iloc[:, 2]))\n",
    "print(np.sqrt(mean_squared_error(y_test, food_cat_prediction.iloc[:, 2])))"
   ]
  },
  {
   "cell_type": "code",
   "execution_count": 7,
   "metadata": {},
   "outputs": [],
   "source": [
    "mine_g.save_forecast(forecast_result_df=food_cat_prediction.reset_index(drop=True), cat_file_path=save_cat_file_path, category=cat_short)"
   ]
  },
  {
   "cell_type": "markdown",
   "metadata": {},
   "source": [
    "------------------------------------"
   ]
  },
  {
   "cell_type": "code",
   "execution_count": 8,
   "metadata": {},
   "outputs": [
    {
     "name": "stdout",
     "output_type": "stream",
     "text": [
      "1\n",
      "2.199636895588862\n",
      "3.3314702295621155\n",
      "2\n",
      "3.5071731563739337\n",
      "4.944986223927973\n",
      "3\n",
      "4.642972048033374\n",
      "6.269530857730388\n"
     ]
    }
   ],
   "source": [
    "cat_short = 'energy'\n",
    "yoy = pd.read_csv(f\"data/preprocessed/{cat_short}_yoy_infl.csv\", parse_dates=True, index_col='date')\n",
    "yoy = yoy[yoy.index <='2022-12-31']\n",
    "save_cat_file_path = f'data/forecast_results/{cat_short}_forecast.csv'\n",
    "\n",
    "energy_cat_prediction = pd.DataFrame(index=date_range)\n",
    "y_test = yoy[yoy.index.isin(date_range)]\n",
    "\n",
    "for h in [1, 2, 3]:\n",
    "    y_pred_test = basic_ols(yoy, h)\n",
    "    energy_cat_prediction.loc[:, f'{model}_{cat_short}_h_{h}'] = y_pred_test\n",
    "    print(h)\n",
    "\n",
    "    print(mean_absolute_error(y_test.reset_index(drop=True), y_pred_test))\n",
    "    print(np.sqrt(mean_squared_error(y_test, y_pred_test)))\n",
    "mine_g.save_forecast(forecast_result_df=energy_cat_prediction.reset_index(drop=True), cat_file_path=save_cat_file_path, category=cat_short)"
   ]
  },
  {
   "cell_type": "code",
   "execution_count": 9,
   "metadata": {},
   "outputs": [
    {
     "name": "stdout",
     "output_type": "stream",
     "text": [
      "1\n",
      "0.3889491193369988\n",
      "0.5983252361090404\n",
      "2\n",
      "0.5832504360051313\n",
      "0.8740768811407272\n",
      "3\n",
      "0.6915168952121432\n",
      "1.0710620733831246\n"
     ]
    }
   ],
   "source": [
    "cat_short = 'neig'\n",
    "yoy = pd.read_csv(f\"data/preprocessed/{cat_short}_yoy_infl.csv\", parse_dates=True, index_col='date')\n",
    "yoy = yoy[yoy.index <='2022-12-31']\n",
    "save_cat_file_path = f'data/forecast_results/{cat_short}_forecast.csv'\n",
    "\n",
    "neig_cat_prediction = pd.DataFrame(index=date_range)\n",
    "y_test = yoy[yoy.index.isin(date_range)]\n",
    "\n",
    "for h in [1, 2, 3]:\n",
    "    y_pred_test = basic_ols(yoy, h)\n",
    "    neig_cat_prediction.loc[:, f'{model}_{cat_short}_h_{h}'] = y_pred_test\n",
    "    print(h)\n",
    "\n",
    "    print(mean_absolute_error(y_test.reset_index(drop=True), y_pred_test))\n",
    "    print(np.sqrt(mean_squared_error(y_test, y_pred_test)))\n",
    "    \n",
    "mine_g.save_forecast(forecast_result_df=neig_cat_prediction.reset_index(drop=True), cat_file_path=save_cat_file_path, category=cat_short)"
   ]
  },
  {
   "cell_type": "code",
   "execution_count": 10,
   "metadata": {},
   "outputs": [
    {
     "name": "stdout",
     "output_type": "stream",
     "text": [
      "1\n",
      "0.4707414017407465\n",
      "0.6483255456475436\n",
      "2\n",
      "0.5321685943579455\n",
      "0.6971950395633331\n",
      "3\n",
      "0.6322565133918254\n",
      "0.8333178960347891\n"
     ]
    }
   ],
   "source": [
    "cat_short = 'services'\n",
    "yoy = pd.read_csv(f\"data/preprocessed/{cat_short}_yoy_infl.csv\", parse_dates=True, index_col='date')\n",
    "yoy = yoy[yoy.index <='2022-12-31']\n",
    "save_cat_file_path = f'data/forecast_results/{cat_short}_forecast.csv'\n",
    "\n",
    "services_cat_prediction = pd.DataFrame(index=date_range)\n",
    "y_test = yoy[yoy.index.isin(date_range)]\n",
    "\n",
    "for h in [1, 2, 3]:\n",
    "    y_pred_test = basic_ols(yoy, h)\n",
    "    services_cat_prediction.loc[:, f'{model}_{cat_short}_h_{h}'] = y_pred_test\n",
    "    print(h)\n",
    "\n",
    "    print(mean_absolute_error(y_test.reset_index(drop=True), y_pred_test))\n",
    "    print(np.sqrt(mean_squared_error(y_test, y_pred_test)))\n",
    "    \n",
    "mine_g.save_forecast(forecast_result_df=services_cat_prediction.reset_index(drop=True), cat_file_path=save_cat_file_path, category=cat_short)"
   ]
  }
 ],
 "metadata": {
  "kernelspec": {
   "display_name": "thesis",
   "language": "python",
   "name": "python3"
  },
  "language_info": {
   "codemirror_mode": {
    "name": "ipython",
    "version": 3
   },
   "file_extension": ".py",
   "mimetype": "text/x-python",
   "name": "python",
   "nbconvert_exporter": "python",
   "pygments_lexer": "ipython3",
   "version": "3.11.7"
  }
 },
 "nbformat": 4,
 "nbformat_minor": 2
}
