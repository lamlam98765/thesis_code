{
 "cells": [
  {
   "cell_type": "code",
   "execution_count": 25,
   "metadata": {},
   "outputs": [],
   "source": [
    "from os import chdir\n",
    "chdir('/Users/lananhnguyen/Desktop/thesis/thesis_code')\n",
    "import main.packages.mine_generic as mine_g\n",
    "import main.packages.mine_specific as mine_s\n",
    "\n",
    "import pandas as pd\n",
    "import numpy as np\n",
    "import matplotlib.pyplot as plt\n",
    "import seaborn as sns \n",
    "from sklearn.preprocessing import StandardScaler\n",
    "\n",
    "from sklearn.metrics import mean_squared_error, mean_absolute_error\n",
    "\n",
    "import xgboost as xgb\n",
    "import optuna\n",
    "import json\n",
    "from sklearn.decomposition import PCA"
   ]
  },
  {
   "cell_type": "code",
   "execution_count": 26,
   "metadata": {},
   "outputs": [],
   "source": [
    "optuna.logging.set_verbosity(optuna.logging.WARNING)\n"
   ]
  },
  {
   "cell_type": "code",
   "execution_count": 27,
   "metadata": {},
   "outputs": [],
   "source": [
    "import warnings\n",
    "warnings.filterwarnings(\"ignore\", category=RuntimeWarning)"
   ]
  },
  {
   "cell_type": "code",
   "execution_count": 28,
   "metadata": {},
   "outputs": [],
   "source": [
    "# Forecast:\n",
    "def generate_forecast(X, y, N, T, h, hyperparam, verbose=1): # from common function\n",
    "    \"\"\"\n",
    "    Generate recursive forecast\n",
    "    \"\"\"\n",
    "    print(f\"Horizon: {h}\")\n",
    "    print(\"------------------------\")\n",
    "    y_pred_series = []\n",
    "    for i in range(0, T):  # T+1-h\n",
    "        X_train = X.iloc[: N+i, :]\n",
    "        y_train = y.iloc[h: N+i+h, :]\n",
    "\n",
    "        X_test = X.iloc[N+i : N+i+1, :] \n",
    "        y_test = y.iloc[N+i+h : N+i+h+1, :]  \n",
    "\n",
    "        if X_test.index[-1] > X.index[-1]-pd.DateOffset(months=h):\n",
    "            break\n",
    "\n",
    "        # Forecast:\n",
    "        y_pred = mine_s.xgb_pred(X_train, X_test, y_train, y_test, hyperparam)\n",
    "\n",
    "        if verbose == 1:\n",
    "            print(f\"Training period - features: {X_train.index[0]} to {X_train.index[-1]}\")\n",
    "            print(f\"Training period - target : {y_train.index[0]} to {y_train.index[-1]}\")\n",
    "            print(f\"Test period - features: {X_test.index}\")\n",
    "            print(f\"Test period - target : {y_test.index}\")\n",
    "            print(f\"Forecast: {y_pred}\")\n",
    "            print(\"-------------------------------------------------------\")\n",
    "\n",
    "        y_pred_series.append(y_pred[0])\n",
    "    return y_pred_series"
   ]
  },
  {
   "cell_type": "code",
   "execution_count": 29,
   "metadata": {},
   "outputs": [],
   "source": [
    "hicp_all_path = 'data/preprocessed/hicp_yoy.csv'\n",
    "hicp_class_path = 'data/HICP_COICOP10s.xlsx'\n",
    "model = 'xgb_pca'\n",
    "date_range = pd.date_range(start=mine_g.train_test_split_date + pd.DateOffset(months=1), end=mine_g.max_X_date, freq='M')\n"
   ]
  },
  {
   "cell_type": "markdown",
   "metadata": {},
   "source": [
    "# Food:"
   ]
  },
  {
   "cell_type": "code",
   "execution_count": 30,
   "metadata": {},
   "outputs": [
    {
     "name": "stdout",
     "output_type": "stream",
     "text": [
      "Number of items in Food group:  180\n"
     ]
    },
    {
     "name": "stderr",
     "output_type": "stream",
     "text": [
      "/Users/lananhnguyen/Desktop/thesis/thesis_code/main/packages/mine_generic.py:227: SettingWithCopyWarning: \n",
      "A value is trying to be set on a copy of a slice from a DataFrame\n",
      "\n",
      "See the caveats in the documentation: https://pandas.pydata.org/pandas-docs/stable/user_guide/indexing.html#returning-a-view-versus-a-copy\n",
      "  cat_df.fillna(0, inplace=True)\n"
     ]
    }
   ],
   "source": [
    "category = 'Food'\n",
    "cat_short = 'food'\n",
    "hicp_cat_path = f'data/preprocessed/{cat_short}_yoy_infl.csv'\n",
    "save_cat_file_path = f'data/forecast_results/{cat_short}_forecast.csv'\n",
    "\n",
    "HICP_monthly, HICP_class, HICP_cat = mine_g.import_data_all(hicp_all_path=hicp_all_path,\n",
    "                                                     hicp_class_path=hicp_class_path,\n",
    "                                                     hicp_cat_path=hicp_cat_path)\n",
    "\n",
    "cat_df = mine_g.split_into_category(category=category,\n",
    "                             HICP_class=HICP_class,\n",
    "                             HICP_monthly=HICP_monthly)\n",
    "food_cat_prediction = pd.DataFrame(index=date_range)"
   ]
  },
  {
   "cell_type": "markdown",
   "metadata": {},
   "source": [
    "## h = 1"
   ]
  },
  {
   "cell_type": "code",
   "execution_count": 31,
   "metadata": {},
   "outputs": [
    {
     "name": "stdout",
     "output_type": "stream",
     "text": [
      "Horizon: 1\n",
      "Training predictor period: 1997-01-31 00:00:00 to 2015-11-30 00:00:00\n",
      "Training dependent variable period: 1997-02-28 00:00:00 to 2015-12-31 00:00:00\n"
     ]
    }
   ],
   "source": [
    "h = 1\n",
    "\n",
    "X_cat_train, X_cat_test, y_cat_train, y_cat_test = mine_g.split_train_test_set(X = cat_df, y = HICP_cat, h = h)"
   ]
  },
  {
   "cell_type": "code",
   "execution_count": 32,
   "metadata": {},
   "outputs": [],
   "source": [
    "def prepare_X_train_test_pca(X_train, X_test, y, lags, n_components):\n",
    "\n",
    "    # Scale data\n",
    "    scaler = StandardScaler()\n",
    "    X_train_scaled = scaler.fit_transform(X_train)\n",
    "    X_test_scaled = scaler.transform(X_test)\n",
    "\n",
    "    # PCA:\n",
    "    pca = PCA(n_components = n_components)\n",
    "\n",
    "    factor_train = pd.DataFrame(pca.fit_transform(X_train_scaled))\n",
    "    factor_test = pd.DataFrame(pca.transform(X_test_scaled))\n",
    "\n",
    "    # Create y_lagged:\n",
    "    y_lagged = pd.DataFrame()\n",
    "    for lag in range(0, lags + 1):\n",
    "        y_lagged[f'Lag_{lag}'] = y[y.index <= mine_g.max_X_date].shift(lag)\n",
    "\n",
    "    # concatenate all:\n",
    "    X_factor_all = pd.concat([factor_train, factor_test], axis = 0, ignore_index=True)\n",
    "    factor_col_name = {col: f'factor_{col}' for col in X_factor_all.columns}\n",
    "    X_factor_all.rename(columns=factor_col_name, inplace=True)\n",
    "\n",
    "    X_factor_lags_all = pd.concat([y_lagged.reset_index(), X_factor_all], axis=1)\n",
    "    #X_factor_lags_all.set_index(0, drop=True)\n",
    "    #X_factor_lags_all.dropna(inplace=True)\n",
    "    X_factor_lags_all.set_index('date', drop=True, inplace=True)\n",
    "    print(X_factor_lags_all.shape)\n",
    "    return X_factor_lags_all"
   ]
  },
  {
   "cell_type": "code",
   "execution_count": 33,
   "metadata": {},
   "outputs": [
    {
     "name": "stdout",
     "output_type": "stream",
     "text": [
      "(312, 37)\n"
     ]
    }
   ],
   "source": [
    "X_factor_lags_all = prepare_X_train_test_pca(X_cat_train, X_cat_test, HICP_cat, 3, 0.95)\n",
    "X_cat_train_new = X_factor_lags_all[X_factor_lags_all.index.isin(X_cat_train.index)]\n",
    "X_cat_test_new = X_factor_lags_all[X_factor_lags_all.index.isin(X_cat_test.index)]"
   ]
  },
  {
   "cell_type": "code",
   "execution_count": 34,
   "metadata": {},
   "outputs": [
    {
     "name": "stdout",
     "output_type": "stream",
     "text": [
      "Number of finished trials: 1000\n"
     ]
    },
    {
     "data": {
      "text/plain": [
       "{'learning_rate': 0.2878168225266016,\n",
       " 'max_depth': 3,\n",
       " 'lambda': 0.4938891500319428,\n",
       " 'alpha': 0.018372799236502462}"
      ]
     },
     "execution_count": 34,
     "metadata": {},
     "output_type": "execute_result"
    }
   ],
   "source": [
    "\n",
    "best_param = mine_s.hyperparam_tuning_optuna(mine_s.objective_xgb, X_cat_train_new, y_cat_train, scaler=False, use_all_params=False)\n",
    "best_param\n",
    "# save best_param:\n",
    "\n",
    "# with open(f'models/{model}_h_{h}_hyperparam.json', 'w') as json_file:\n",
    "#     json.dump(best_param, json_file)\n"
   ]
  },
  {
   "cell_type": "code",
   "execution_count": 35,
   "metadata": {},
   "outputs": [
    {
     "name": "stdout",
     "output_type": "stream",
     "text": [
      "Horizon: 1\n",
      "------------------------\n"
     ]
    }
   ],
   "source": [
    "\n",
    "# Forecast:\n",
    "\n",
    "N, T = len(X_cat_train), len(X_cat_test)\n",
    "y_pred = generate_forecast(X = X_factor_lags_all, y = HICP_cat, N = N, T = T, h = h, hyperparam=best_param, verbose=0)\n",
    "food_cat_prediction.loc[:, f'{model}_{cat_short}_h_{h}'] = y_pred"
   ]
  },
  {
   "cell_type": "code",
   "execution_count": 36,
   "metadata": {},
   "outputs": [
    {
     "name": "stdout",
     "output_type": "stream",
     "text": [
      "0.8044636471344597\n",
      "1.2958570776942582\n"
     ]
    }
   ],
   "source": [
    "\n",
    "yoy_real = pd.read_csv(f\"data/preprocessed/{cat_short}_yoy_infl.csv\", parse_dates=True, index_col='date')\n",
    "yoy_real_test = yoy_real[(yoy_real.index > mine_g.train_test_split_date) & (yoy_real.index <= mine_g.max_X_date)]\n",
    "\n",
    "print(mean_absolute_error(yoy_real_test, y_pred))\n",
    "print(np.sqrt(mean_squared_error(yoy_real_test, y_pred)))"
   ]
  },
  {
   "cell_type": "markdown",
   "metadata": {},
   "source": [
    "## h = 2"
   ]
  },
  {
   "cell_type": "code",
   "execution_count": 38,
   "metadata": {},
   "outputs": [
    {
     "name": "stdout",
     "output_type": "stream",
     "text": [
      "Horizon: 2\n",
      "Training predictor period: 1997-01-31 00:00:00 to 2015-10-31 00:00:00\n",
      "Training dependent variable period: 1997-03-31 00:00:00 to 2015-12-31 00:00:00\n",
      "(312, 37)\n"
     ]
    }
   ],
   "source": [
    "h = 2\n",
    "X_cat_train, X_cat_test, y_cat_train, y_cat_test = mine_g.split_train_test_set(X = cat_df, y = HICP_cat, h = h)\n",
    "\n",
    "X_factor_lags_all = prepare_X_train_test_pca(X_cat_train, X_cat_test, HICP_cat, 3, 0.95)\n",
    "X_cat_train_new = X_factor_lags_all[X_factor_lags_all.index.isin(X_cat_train.index)]\n",
    "X_cat_test_new = X_factor_lags_all[X_factor_lags_all.index.isin(X_cat_test.index)]"
   ]
  },
  {
   "cell_type": "code",
   "execution_count": 39,
   "metadata": {},
   "outputs": [
    {
     "name": "stdout",
     "output_type": "stream",
     "text": [
      "Number of finished trials: 1000\n",
      "{'learning_rate': 0.2903095302439779, 'max_depth': 3, 'lambda': 0.6300582812965343, 'alpha': 4.38604865897875}\n",
      "Horizon: 2\n",
      "------------------------\n",
      "1.2039944832792537\n",
      "1.9787562100301188\n"
     ]
    }
   ],
   "source": [
    "\n",
    "best_param = mine_s.hyperparam_tuning_optuna(mine_s.objective_xgb, X_cat_train_new, y_cat_train, scaler=False, use_all_params=False)\n",
    "print(best_param)\n",
    "\n",
    "N, T = len(X_cat_train), len(X_cat_test)\n",
    "\n",
    "y_pred = generate_forecast(X = cat_df, y = HICP_cat, N = N, T = T, h = h, hyperparam=best_param, verbose=0)\n",
    "food_cat_prediction.loc[:, f'{model}_{cat_short}_h_{h}'] = y_pred\n",
    "print(mean_absolute_error(yoy_real_test, y_pred))\n",
    "print(np.sqrt(mean_squared_error(yoy_real_test, y_pred)))"
   ]
  },
  {
   "cell_type": "markdown",
   "metadata": {},
   "source": [
    "## h = 3"
   ]
  },
  {
   "cell_type": "code",
   "execution_count": 40,
   "metadata": {},
   "outputs": [
    {
     "name": "stdout",
     "output_type": "stream",
     "text": [
      "Horizon: 3\n",
      "Training predictor period: 1997-01-31 00:00:00 to 2015-09-30 00:00:00\n",
      "Training dependent variable period: 1997-04-30 00:00:00 to 2015-12-31 00:00:00\n",
      "(312, 37)\n",
      "Number of finished trials: 1000\n",
      "{'learning_rate': 0.26406373917396314, 'max_depth': 4, 'lambda': 0.04618789659187705, 'alpha': 5.164326443308275}\n",
      "Horizon: 3\n",
      "------------------------\n",
      "1.2505989088753684\n",
      "2.081885935571803\n"
     ]
    }
   ],
   "source": [
    "h = 3\n",
    "X_cat_train, X_cat_test, y_cat_train, y_cat_test = mine_g.split_train_test_set(X = cat_df, y = HICP_cat, h = h)\n",
    "\n",
    "X_factor_lags_all = prepare_X_train_test_pca(X_cat_train, X_cat_test, HICP_cat, 3, 0.95)\n",
    "X_cat_train_new = X_factor_lags_all[X_factor_lags_all.index.isin(X_cat_train.index)]\n",
    "X_cat_test_new = X_factor_lags_all[X_factor_lags_all.index.isin(X_cat_test.index)]\n",
    "\n",
    "best_param = mine_s.hyperparam_tuning_optuna(mine_s.objective_xgb, X_cat_train_new, y_cat_train, scaler=False, use_all_params=False)\n",
    "print(best_param)\n",
    "\n",
    "N, T = len(X_cat_train), len(X_cat_test)\n",
    "\n",
    "y_pred = generate_forecast(X = cat_df, y = HICP_cat, N = N, T = T, h = h, hyperparam=best_param, verbose=0)\n",
    "food_cat_prediction.loc[:, f'{model}_{cat_short}_h_{h}'] = y_pred\n",
    "print(mean_absolute_error(yoy_real_test, y_pred))\n",
    "print(np.sqrt(mean_squared_error(yoy_real_test, y_pred)))"
   ]
  },
  {
   "cell_type": "code",
   "execution_count": 41,
   "metadata": {},
   "outputs": [
    {
     "data": {
      "text/html": [
       "<div>\n",
       "<style scoped>\n",
       "    .dataframe tbody tr th:only-of-type {\n",
       "        vertical-align: middle;\n",
       "    }\n",
       "\n",
       "    .dataframe tbody tr th {\n",
       "        vertical-align: top;\n",
       "    }\n",
       "\n",
       "    .dataframe thead th {\n",
       "        text-align: right;\n",
       "    }\n",
       "</style>\n",
       "<table border=\"1\" class=\"dataframe\">\n",
       "  <thead>\n",
       "    <tr style=\"text-align: right;\">\n",
       "      <th></th>\n",
       "      <th>xgb_pca_food_h_1</th>\n",
       "      <th>xgb_pca_food_h_2</th>\n",
       "      <th>xgb_pca_food_h_3</th>\n",
       "    </tr>\n",
       "  </thead>\n",
       "  <tbody>\n",
       "    <tr>\n",
       "      <th>2016-01-31</th>\n",
       "      <td>1.356598</td>\n",
       "      <td>0.796826</td>\n",
       "      <td>1.647838</td>\n",
       "    </tr>\n",
       "    <tr>\n",
       "      <th>2016-02-29</th>\n",
       "      <td>1.350596</td>\n",
       "      <td>0.914567</td>\n",
       "      <td>1.305536</td>\n",
       "    </tr>\n",
       "    <tr>\n",
       "      <th>2016-03-31</th>\n",
       "      <td>1.085839</td>\n",
       "      <td>0.981566</td>\n",
       "      <td>1.276447</td>\n",
       "    </tr>\n",
       "    <tr>\n",
       "      <th>2016-04-30</th>\n",
       "      <td>1.379725</td>\n",
       "      <td>1.202421</td>\n",
       "      <td>1.051230</td>\n",
       "    </tr>\n",
       "    <tr>\n",
       "      <th>2016-05-31</th>\n",
       "      <td>1.056466</td>\n",
       "      <td>0.929876</td>\n",
       "      <td>1.112998</td>\n",
       "    </tr>\n",
       "    <tr>\n",
       "      <th>...</th>\n",
       "      <td>...</td>\n",
       "      <td>...</td>\n",
       "      <td>...</td>\n",
       "    </tr>\n",
       "    <tr>\n",
       "      <th>2022-08-31</th>\n",
       "      <td>9.098248</td>\n",
       "      <td>6.904180</td>\n",
       "      <td>5.324711</td>\n",
       "    </tr>\n",
       "    <tr>\n",
       "      <th>2022-09-30</th>\n",
       "      <td>10.135781</td>\n",
       "      <td>8.649558</td>\n",
       "      <td>7.158765</td>\n",
       "    </tr>\n",
       "    <tr>\n",
       "      <th>2022-10-31</th>\n",
       "      <td>12.121883</td>\n",
       "      <td>9.729570</td>\n",
       "      <td>10.069124</td>\n",
       "    </tr>\n",
       "    <tr>\n",
       "      <th>2022-11-30</th>\n",
       "      <td>13.700499</td>\n",
       "      <td>11.303638</td>\n",
       "      <td>11.235138</td>\n",
       "    </tr>\n",
       "    <tr>\n",
       "      <th>2022-12-31</th>\n",
       "      <td>14.552525</td>\n",
       "      <td>12.346416</td>\n",
       "      <td>11.749395</td>\n",
       "    </tr>\n",
       "  </tbody>\n",
       "</table>\n",
       "<p>84 rows × 3 columns</p>\n",
       "</div>"
      ],
      "text/plain": [
       "            xgb_pca_food_h_1  xgb_pca_food_h_2  xgb_pca_food_h_3\n",
       "2016-01-31          1.356598          0.796826          1.647838\n",
       "2016-02-29          1.350596          0.914567          1.305536\n",
       "2016-03-31          1.085839          0.981566          1.276447\n",
       "2016-04-30          1.379725          1.202421          1.051230\n",
       "2016-05-31          1.056466          0.929876          1.112998\n",
       "...                      ...               ...               ...\n",
       "2022-08-31          9.098248          6.904180          5.324711\n",
       "2022-09-30         10.135781          8.649558          7.158765\n",
       "2022-10-31         12.121883          9.729570         10.069124\n",
       "2022-11-30         13.700499         11.303638         11.235138\n",
       "2022-12-31         14.552525         12.346416         11.749395\n",
       "\n",
       "[84 rows x 3 columns]"
      ]
     },
     "execution_count": 41,
     "metadata": {},
     "output_type": "execute_result"
    }
   ],
   "source": [
    "food_cat_prediction"
   ]
  },
  {
   "cell_type": "code",
   "execution_count": 57,
   "metadata": {},
   "outputs": [],
   "source": [
    "mine_g.save_forecast(forecast_result_df=food_cat_prediction.reset_index(drop=True), cat_file_path=save_cat_file_path)"
   ]
  },
  {
   "cell_type": "markdown",
   "metadata": {},
   "source": [
    "------------------"
   ]
  },
  {
   "cell_type": "markdown",
   "metadata": {},
   "source": [
    "# Energy:"
   ]
  },
  {
   "cell_type": "code",
   "execution_count": 58,
   "metadata": {},
   "outputs": [],
   "source": [
    "category = 'Energy'\n",
    "cat_short = 'energy'\n",
    "hicp_cat_path = f'data/preprocessed/{cat_short}_yoy_infl.csv'\n",
    "save_cat_file_path = f'data/forecast_results/{cat_short}_forecast.csv'\n",
    "\n",
    "\n",
    "HICP_monthly, HICP_class, HICP_cat = mine_g.import_data_all(hicp_all_path=hicp_all_path,\n",
    "                                                     hicp_class_path=hicp_class_path,\n",
    "                                                     hicp_cat_path=hicp_cat_path)\n",
    "\n",
    "cat_df = mine_g.split_into_category(category=category,\n",
    "                             HICP_class=HICP_class,\n",
    "                             HICP_monthly=HICP_monthly)\n",
    "energy_cat_prediction = pd.DataFrame(index=date_range)\n",
    "\n",
    "yoy_real = pd.read_csv(f\"data/preprocessed/{cat_short}_yoy_infl.csv\", parse_dates=True, index_col='date')\n",
    "yoy_real_test = yoy_real[(yoy_real.index > mine_g.train_test_split_date) & (yoy_real.index <= mine_g.max_X_date)]"
   ]
  },
  {
   "cell_type": "code",
   "execution_count": 49,
   "metadata": {},
   "outputs": [
    {
     "name": "stdout",
     "output_type": "stream",
     "text": [
      "Horizon: 1\n",
      "Training predictor period: 1997-01-31 00:00:00 to 2015-11-30 00:00:00\n",
      "Training dependent variable period: 1997-02-28 00:00:00 to 2015-12-31 00:00:00\n",
      "(312, 11)\n",
      "Number of finished trials: 1000\n",
      "{'learning_rate': 0.24625842640899043, 'max_depth': 3, 'lambda': 0.03048403178925436, 'alpha': 0.1996033152429902}\n",
      "Horizon: 1\n",
      "------------------------\n",
      "2.5959795561840466\n",
      "4.016344617812125\n",
      "Horizon: 2\n",
      "Training predictor period: 1997-01-31 00:00:00 to 2015-10-31 00:00:00\n",
      "Training dependent variable period: 1997-03-31 00:00:00 to 2015-12-31 00:00:00\n",
      "(312, 11)\n",
      "Number of finished trials: 1000\n",
      "{'learning_rate': 0.273507732428635, 'max_depth': 3, 'lambda': 0.028058203118284716, 'alpha': 7.62918116848462}\n",
      "Horizon: 2\n",
      "------------------------\n",
      "3.582320087533878\n",
      "5.116987738147694\n",
      "Horizon: 3\n",
      "Training predictor period: 1997-01-31 00:00:00 to 2015-09-30 00:00:00\n",
      "Training dependent variable period: 1997-04-30 00:00:00 to 2015-12-31 00:00:00\n",
      "(312, 11)\n",
      "Number of finished trials: 1000\n",
      "{'learning_rate': 0.21654965903348625, 'max_depth': 3, 'lambda': 0.8589636488865879, 'alpha': 0.5018840377751081}\n",
      "Horizon: 3\n",
      "------------------------\n",
      "4.2750841850571755\n",
      "5.88477197843615\n"
     ]
    }
   ],
   "source": [
    "for h in [1, 2, 3]:\n",
    "    X_cat_train, X_cat_test, y_cat_train, y_cat_test = mine_g.split_train_test_set(X = cat_df, y = HICP_cat, h = h)\n",
    "\n",
    "    X_factor_lags_all = prepare_X_train_test_pca(X_cat_train, X_cat_test, HICP_cat, 3, 0.95)\n",
    "    X_cat_train_new = X_factor_lags_all[X_factor_lags_all.index.isin(X_cat_train.index)]\n",
    "    X_cat_test_new = X_factor_lags_all[X_factor_lags_all.index.isin(X_cat_test.index)]\n",
    "\n",
    "    best_param = mine_s.hyperparam_tuning_optuna(mine_s.objective_xgb, X_cat_train_new, y_cat_train, scaler=False, use_all_params=False)\n",
    "    print(best_param)\n",
    "\n",
    "    N, T = len(X_cat_train), len(X_cat_test)\n",
    "\n",
    "    y_pred = generate_forecast(X = cat_df, y = HICP_cat, N = N, T = T, h = h, hyperparam=best_param, verbose=0)\n",
    "    energy_cat_prediction.loc[:, f'{model}_{cat_short}_h_{h}'] = y_pred\n",
    "    print(mean_absolute_error(yoy_real_test, y_pred))\n",
    "    print(np.sqrt(mean_squared_error(yoy_real_test, y_pred)))"
   ]
  },
  {
   "cell_type": "code",
   "execution_count": 59,
   "metadata": {},
   "outputs": [
    {
     "data": {
      "text/html": [
       "<div>\n",
       "<style scoped>\n",
       "    .dataframe tbody tr th:only-of-type {\n",
       "        vertical-align: middle;\n",
       "    }\n",
       "\n",
       "    .dataframe tbody tr th {\n",
       "        vertical-align: top;\n",
       "    }\n",
       "\n",
       "    .dataframe thead th {\n",
       "        text-align: right;\n",
       "    }\n",
       "</style>\n",
       "<table border=\"1\" class=\"dataframe\">\n",
       "  <thead>\n",
       "    <tr style=\"text-align: right;\">\n",
       "      <th></th>\n",
       "      <th>xgb_pca_energy_h_1</th>\n",
       "      <th>xgb_pca_energy_h_2</th>\n",
       "      <th>xgb_pca_energy_h_3</th>\n",
       "    </tr>\n",
       "  </thead>\n",
       "  <tbody>\n",
       "    <tr>\n",
       "      <th>2016-01-31</th>\n",
       "      <td>-5.634300</td>\n",
       "      <td>-6.621330</td>\n",
       "      <td>-5.911104</td>\n",
       "    </tr>\n",
       "    <tr>\n",
       "      <th>2016-02-29</th>\n",
       "      <td>-4.334748</td>\n",
       "      <td>-6.567018</td>\n",
       "      <td>-5.821362</td>\n",
       "    </tr>\n",
       "    <tr>\n",
       "      <th>2016-03-31</th>\n",
       "      <td>-7.002379</td>\n",
       "      <td>-6.497048</td>\n",
       "      <td>-5.960976</td>\n",
       "    </tr>\n",
       "    <tr>\n",
       "      <th>2016-04-30</th>\n",
       "      <td>-7.571912</td>\n",
       "      <td>-6.594689</td>\n",
       "      <td>-5.440464</td>\n",
       "    </tr>\n",
       "    <tr>\n",
       "      <th>2016-05-31</th>\n",
       "      <td>-7.500488</td>\n",
       "      <td>-6.668287</td>\n",
       "      <td>-6.390052</td>\n",
       "    </tr>\n",
       "    <tr>\n",
       "      <th>...</th>\n",
       "      <td>...</td>\n",
       "      <td>...</td>\n",
       "      <td>...</td>\n",
       "    </tr>\n",
       "    <tr>\n",
       "      <th>2022-08-31</th>\n",
       "      <td>33.449226</td>\n",
       "      <td>32.758442</td>\n",
       "      <td>31.395893</td>\n",
       "    </tr>\n",
       "    <tr>\n",
       "      <th>2022-09-30</th>\n",
       "      <td>31.679750</td>\n",
       "      <td>32.572292</td>\n",
       "      <td>31.314125</td>\n",
       "    </tr>\n",
       "    <tr>\n",
       "      <th>2022-10-31</th>\n",
       "      <td>38.874279</td>\n",
       "      <td>34.606262</td>\n",
       "      <td>28.175564</td>\n",
       "    </tr>\n",
       "    <tr>\n",
       "      <th>2022-11-30</th>\n",
       "      <td>39.741333</td>\n",
       "      <td>34.445869</td>\n",
       "      <td>33.026100</td>\n",
       "    </tr>\n",
       "    <tr>\n",
       "      <th>2022-12-31</th>\n",
       "      <td>38.097927</td>\n",
       "      <td>35.665844</td>\n",
       "      <td>34.786648</td>\n",
       "    </tr>\n",
       "  </tbody>\n",
       "</table>\n",
       "<p>84 rows × 3 columns</p>\n",
       "</div>"
      ],
      "text/plain": [
       "            xgb_pca_energy_h_1  xgb_pca_energy_h_2  xgb_pca_energy_h_3\n",
       "2016-01-31           -5.634300           -6.621330           -5.911104\n",
       "2016-02-29           -4.334748           -6.567018           -5.821362\n",
       "2016-03-31           -7.002379           -6.497048           -5.960976\n",
       "2016-04-30           -7.571912           -6.594689           -5.440464\n",
       "2016-05-31           -7.500488           -6.668287           -6.390052\n",
       "...                        ...                 ...                 ...\n",
       "2022-08-31           33.449226           32.758442           31.395893\n",
       "2022-09-30           31.679750           32.572292           31.314125\n",
       "2022-10-31           38.874279           34.606262           28.175564\n",
       "2022-11-30           39.741333           34.445869           33.026100\n",
       "2022-12-31           38.097927           35.665844           34.786648\n",
       "\n",
       "[84 rows x 3 columns]"
      ]
     },
     "execution_count": 59,
     "metadata": {},
     "output_type": "execute_result"
    }
   ],
   "source": [
    "energy_cat_prediction"
   ]
  },
  {
   "cell_type": "code",
   "execution_count": 60,
   "metadata": {},
   "outputs": [],
   "source": [
    "mine_g.save_forecast(forecast_result_df=energy_cat_prediction.reset_index(drop=True), cat_file_path=save_cat_file_path)"
   ]
  },
  {
   "cell_type": "markdown",
   "metadata": {},
   "source": [
    "## NEIG:"
   ]
  },
  {
   "cell_type": "code",
   "execution_count": 61,
   "metadata": {},
   "outputs": [],
   "source": [
    "cat_short = 'neig'\n",
    "category = 'Non-energy industrial goods (NEIG)'\n",
    "hicp_cat_path = f'data/preprocessed/{cat_short}_yoy_infl.csv'\n",
    "save_cat_file_path = f'data/forecast_results/{cat_short}_forecast.csv'\n",
    "\n",
    "\n",
    "HICP_monthly, HICP_class, HICP_cat = mine_g.import_data_all(hicp_all_path=hicp_all_path,\n",
    "                                                     hicp_class_path=hicp_class_path,\n",
    "                                                     hicp_cat_path=hicp_cat_path)\n",
    "\n",
    "cat_df = mine_g.split_into_category(category=category,\n",
    "                             HICP_class=HICP_class,\n",
    "                             HICP_monthly=HICP_monthly)\n",
    "neig_cat_prediction = pd.DataFrame(index=date_range)\n",
    "yoy_real = pd.read_csv(f\"data/preprocessed/{cat_short}_yoy_infl.csv\", parse_dates=True, index_col='date')\n",
    "yoy_real_test = yoy_real[(yoy_real.index > mine_g.train_test_split_date) & (yoy_real.index <= mine_g.max_X_date)]"
   ]
  },
  {
   "cell_type": "code",
   "execution_count": 51,
   "metadata": {},
   "outputs": [
    {
     "name": "stdout",
     "output_type": "stream",
     "text": [
      "Horizon: 1\n",
      "Training predictor period: 1997-01-31 00:00:00 to 2015-11-30 00:00:00\n",
      "Training dependent variable period: 1997-02-28 00:00:00 to 2015-12-31 00:00:00\n",
      "(312, 58)\n",
      "Number of finished trials: 1000\n",
      "{'learning_rate': 0.2911594955014518, 'max_depth': 4, 'lambda': 0.47542552532251187, 'alpha': 4.348518128258336}\n",
      "Horizon: 1\n",
      "------------------------\n",
      "0.7934830639677303\n",
      "1.1557759025632035\n",
      "Horizon: 2\n",
      "Training predictor period: 1997-01-31 00:00:00 to 2015-10-31 00:00:00\n",
      "Training dependent variable period: 1997-03-31 00:00:00 to 2015-12-31 00:00:00\n",
      "(312, 58)\n",
      "Number of finished trials: 1000\n",
      "{'learning_rate': 0.29998283951820465, 'max_depth': 10, 'lambda': 0.502990435959595, 'alpha': 4.752185634676202}\n",
      "Horizon: 2\n",
      "------------------------\n",
      "0.8177561720763846\n",
      "1.2216164747789913\n",
      "Horizon: 3\n",
      "Training predictor period: 1997-01-31 00:00:00 to 2015-09-30 00:00:00\n",
      "Training dependent variable period: 1997-04-30 00:00:00 to 2015-12-31 00:00:00\n",
      "(312, 58)\n",
      "Number of finished trials: 1000\n",
      "{'learning_rate': 0.16067560456535973, 'max_depth': 3, 'lambda': 0.7443771666972956, 'alpha': 0.019081923704722847}\n",
      "Horizon: 3\n",
      "------------------------\n",
      "0.7907945318259402\n",
      "1.1733922994701322\n"
     ]
    }
   ],
   "source": [
    "for h in [1, 2, 3]:\n",
    "    X_cat_train, X_cat_test, y_cat_train, y_cat_test = mine_g.split_train_test_set(X = cat_df, y = HICP_cat, h = h)\n",
    "\n",
    "    X_factor_lags_all = prepare_X_train_test_pca(X_cat_train, X_cat_test, HICP_cat, 3, 0.95)\n",
    "    X_cat_train_new = X_factor_lags_all[X_factor_lags_all.index.isin(X_cat_train.index)]\n",
    "    X_cat_test_new = X_factor_lags_all[X_factor_lags_all.index.isin(X_cat_test.index)]\n",
    "\n",
    "    best_param = mine_s.hyperparam_tuning_optuna(mine_s.objective_xgb, X_cat_train_new, y_cat_train, scaler=False, use_all_params=False)\n",
    "    print(best_param)\n",
    "\n",
    "    N, T = len(X_cat_train), len(X_cat_test)\n",
    "\n",
    "    y_pred = generate_forecast(X = cat_df, y = HICP_cat, N = N, T = T, h = h, hyperparam=best_param, verbose=0)\n",
    "    neig_cat_prediction.loc[:, f'{model}_{cat_short}_h_{h}'] = y_pred\n",
    "    print(mean_absolute_error(yoy_real_test, y_pred))\n",
    "    print(np.sqrt(mean_squared_error(yoy_real_test, y_pred)))"
   ]
  },
  {
   "cell_type": "code",
   "execution_count": 62,
   "metadata": {},
   "outputs": [
    {
     "data": {
      "text/html": [
       "<div>\n",
       "<style scoped>\n",
       "    .dataframe tbody tr th:only-of-type {\n",
       "        vertical-align: middle;\n",
       "    }\n",
       "\n",
       "    .dataframe tbody tr th {\n",
       "        vertical-align: top;\n",
       "    }\n",
       "\n",
       "    .dataframe thead th {\n",
       "        text-align: right;\n",
       "    }\n",
       "</style>\n",
       "<table border=\"1\" class=\"dataframe\">\n",
       "  <thead>\n",
       "    <tr style=\"text-align: right;\">\n",
       "      <th></th>\n",
       "      <th>xgb_pca_neig_h_1</th>\n",
       "      <th>xgb_pca_neig_h_2</th>\n",
       "      <th>xgb_pca_neig_h_3</th>\n",
       "    </tr>\n",
       "  </thead>\n",
       "  <tbody>\n",
       "    <tr>\n",
       "      <th>2016-01-31</th>\n",
       "      <td>0.719095</td>\n",
       "      <td>0.966426</td>\n",
       "      <td>0.836978</td>\n",
       "    </tr>\n",
       "    <tr>\n",
       "      <th>2016-02-29</th>\n",
       "      <td>0.885443</td>\n",
       "      <td>0.615713</td>\n",
       "      <td>0.747510</td>\n",
       "    </tr>\n",
       "    <tr>\n",
       "      <th>2016-03-31</th>\n",
       "      <td>0.453645</td>\n",
       "      <td>0.997458</td>\n",
       "      <td>0.855693</td>\n",
       "    </tr>\n",
       "    <tr>\n",
       "      <th>2016-04-30</th>\n",
       "      <td>0.781987</td>\n",
       "      <td>0.576700</td>\n",
       "      <td>0.841586</td>\n",
       "    </tr>\n",
       "    <tr>\n",
       "      <th>2016-05-31</th>\n",
       "      <td>0.853814</td>\n",
       "      <td>0.789251</td>\n",
       "      <td>0.301598</td>\n",
       "    </tr>\n",
       "    <tr>\n",
       "      <th>...</th>\n",
       "      <td>...</td>\n",
       "      <td>...</td>\n",
       "      <td>...</td>\n",
       "    </tr>\n",
       "    <tr>\n",
       "      <th>2022-08-31</th>\n",
       "      <td>4.155545</td>\n",
       "      <td>3.877729</td>\n",
       "      <td>4.251588</td>\n",
       "    </tr>\n",
       "    <tr>\n",
       "      <th>2022-09-30</th>\n",
       "      <td>4.298408</td>\n",
       "      <td>4.115819</td>\n",
       "      <td>4.423064</td>\n",
       "    </tr>\n",
       "    <tr>\n",
       "      <th>2022-10-31</th>\n",
       "      <td>4.586485</td>\n",
       "      <td>4.558065</td>\n",
       "      <td>4.647146</td>\n",
       "    </tr>\n",
       "    <tr>\n",
       "      <th>2022-11-30</th>\n",
       "      <td>4.633268</td>\n",
       "      <td>4.899963</td>\n",
       "      <td>4.773440</td>\n",
       "    </tr>\n",
       "    <tr>\n",
       "      <th>2022-12-31</th>\n",
       "      <td>4.499098</td>\n",
       "      <td>5.192950</td>\n",
       "      <td>4.322670</td>\n",
       "    </tr>\n",
       "  </tbody>\n",
       "</table>\n",
       "<p>84 rows × 3 columns</p>\n",
       "</div>"
      ],
      "text/plain": [
       "            xgb_pca_neig_h_1  xgb_pca_neig_h_2  xgb_pca_neig_h_3\n",
       "2016-01-31          0.719095          0.966426          0.836978\n",
       "2016-02-29          0.885443          0.615713          0.747510\n",
       "2016-03-31          0.453645          0.997458          0.855693\n",
       "2016-04-30          0.781987          0.576700          0.841586\n",
       "2016-05-31          0.853814          0.789251          0.301598\n",
       "...                      ...               ...               ...\n",
       "2022-08-31          4.155545          3.877729          4.251588\n",
       "2022-09-30          4.298408          4.115819          4.423064\n",
       "2022-10-31          4.586485          4.558065          4.647146\n",
       "2022-11-30          4.633268          4.899963          4.773440\n",
       "2022-12-31          4.499098          5.192950          4.322670\n",
       "\n",
       "[84 rows x 3 columns]"
      ]
     },
     "execution_count": 62,
     "metadata": {},
     "output_type": "execute_result"
    }
   ],
   "source": [
    "neig_cat_prediction"
   ]
  },
  {
   "cell_type": "code",
   "execution_count": 63,
   "metadata": {},
   "outputs": [],
   "source": [
    "mine_g.save_forecast(forecast_result_df=neig_cat_prediction.reset_index(drop=True), cat_file_path=save_cat_file_path)"
   ]
  },
  {
   "cell_type": "markdown",
   "metadata": {},
   "source": [
    "# Services:"
   ]
  },
  {
   "cell_type": "code",
   "execution_count": 64,
   "metadata": {},
   "outputs": [],
   "source": [
    "cat_short = 'services'\n",
    "category = 'Services'\n",
    "hicp_cat_path = f'data/preprocessed/{cat_short}_yoy_infl.csv'\n",
    "save_cat_file_path = f'data/forecast_results/{cat_short}_forecast.csv'\n",
    "\n",
    "\n",
    "HICP_monthly, HICP_class, HICP_cat = mine_g.import_data_all(hicp_all_path=hicp_all_path,\n",
    "                                                     hicp_class_path=hicp_class_path,\n",
    "                                                     hicp_cat_path=hicp_cat_path)\n",
    "\n",
    "cat_df = mine_g.split_into_category(category=category,\n",
    "                             HICP_class=HICP_class,\n",
    "                             HICP_monthly=HICP_monthly)\n",
    "services_cat_prediction = pd.DataFrame(index=date_range)\n",
    "yoy_real = pd.read_csv(f\"data/preprocessed/{cat_short}_yoy_infl.csv\", parse_dates=True, index_col='date')\n",
    "yoy_real_test = yoy_real[(yoy_real.index > mine_g.train_test_split_date) & (yoy_real.index <= mine_g.max_X_date)]"
   ]
  },
  {
   "cell_type": "code",
   "execution_count": 54,
   "metadata": {},
   "outputs": [
    {
     "name": "stdout",
     "output_type": "stream",
     "text": [
      "Horizon: 1\n",
      "Training predictor period: 1997-01-31 00:00:00 to 2015-11-30 00:00:00\n",
      "Training dependent variable period: 1997-02-28 00:00:00 to 2015-12-31 00:00:00\n",
      "(312, 35)\n",
      "Number of finished trials: 1000\n",
      "{'learning_rate': 0.2770137182358671, 'max_depth': 3, 'lambda': 0.9992775064765546, 'alpha': 3.5997087537886507}\n",
      "Horizon: 1\n",
      "------------------------\n",
      "0.5612903062622896\n",
      "0.7269738557097635\n",
      "Horizon: 2\n",
      "Training predictor period: 1997-01-31 00:00:00 to 2015-10-31 00:00:00\n",
      "Training dependent variable period: 1997-03-31 00:00:00 to 2015-12-31 00:00:00\n",
      "(312, 35)\n",
      "Number of finished trials: 1000\n",
      "{'learning_rate': 0.28622844991129476, 'max_depth': 7, 'lambda': 0.10155262166651956, 'alpha': 0.01874010438900821}\n",
      "Horizon: 2\n",
      "------------------------\n",
      "0.47533973174485716\n",
      "0.6459962267282484\n",
      "Horizon: 3\n",
      "Training predictor period: 1997-01-31 00:00:00 to 2015-09-30 00:00:00\n",
      "Training dependent variable period: 1997-04-30 00:00:00 to 2015-12-31 00:00:00\n",
      "(312, 35)\n",
      "Number of finished trials: 1000\n",
      "{'learning_rate': 0.2542981282109765, 'max_depth': 3, 'lambda': 0.662889724074767, 'alpha': 5.306899003367941}\n",
      "Horizon: 3\n",
      "------------------------\n",
      "0.5422945814429608\n",
      "0.7496136568332735\n"
     ]
    }
   ],
   "source": [
    "for h in [1, 2, 3]:\n",
    "    X_cat_train, X_cat_test, y_cat_train, y_cat_test = mine_g.split_train_test_set(X = cat_df, y = HICP_cat, h = h)\n",
    "\n",
    "    X_factor_lags_all = prepare_X_train_test_pca(X_cat_train, X_cat_test, HICP_cat, 3, 0.95)\n",
    "    X_cat_train_new = X_factor_lags_all[X_factor_lags_all.index.isin(X_cat_train.index)]\n",
    "    X_cat_test_new = X_factor_lags_all[X_factor_lags_all.index.isin(X_cat_test.index)]\n",
    "\n",
    "    best_param = mine_s.hyperparam_tuning_optuna(mine_s.objective_xgb, X_cat_train_new, y_cat_train, scaler=False, use_all_params=False)\n",
    "    print(best_param)\n",
    "\n",
    "    N, T = len(X_cat_train), len(X_cat_test)\n",
    "\n",
    "    y_pred = generate_forecast(X = cat_df, y = HICP_cat, N = N, T = T, h = h, hyperparam=best_param, verbose=0)\n",
    "    services_cat_prediction.loc[:, f'{model}_{cat_short}_h_{h}'] = y_pred\n",
    "    print(mean_absolute_error(yoy_real_test, y_pred))\n",
    "    print(np.sqrt(mean_squared_error(yoy_real_test, y_pred)))"
   ]
  },
  {
   "cell_type": "code",
   "execution_count": 65,
   "metadata": {},
   "outputs": [
    {
     "data": {
      "text/html": [
       "<div>\n",
       "<style scoped>\n",
       "    .dataframe tbody tr th:only-of-type {\n",
       "        vertical-align: middle;\n",
       "    }\n",
       "\n",
       "    .dataframe tbody tr th {\n",
       "        vertical-align: top;\n",
       "    }\n",
       "\n",
       "    .dataframe thead th {\n",
       "        text-align: right;\n",
       "    }\n",
       "</style>\n",
       "<table border=\"1\" class=\"dataframe\">\n",
       "  <thead>\n",
       "    <tr style=\"text-align: right;\">\n",
       "      <th></th>\n",
       "      <th>xgb_pca_services_h_1</th>\n",
       "      <th>xgb_pca_services_h_2</th>\n",
       "      <th>xgb_pca_services_h_3</th>\n",
       "    </tr>\n",
       "  </thead>\n",
       "  <tbody>\n",
       "    <tr>\n",
       "      <th>2016-01-31</th>\n",
       "      <td>1.494736</td>\n",
       "      <td>1.707252</td>\n",
       "      <td>1.658896</td>\n",
       "    </tr>\n",
       "    <tr>\n",
       "      <th>2016-02-29</th>\n",
       "      <td>1.810799</td>\n",
       "      <td>2.119540</td>\n",
       "      <td>1.753526</td>\n",
       "    </tr>\n",
       "    <tr>\n",
       "      <th>2016-03-31</th>\n",
       "      <td>1.187141</td>\n",
       "      <td>1.065606</td>\n",
       "      <td>1.323503</td>\n",
       "    </tr>\n",
       "    <tr>\n",
       "      <th>2016-04-30</th>\n",
       "      <td>1.275875</td>\n",
       "      <td>1.175357</td>\n",
       "      <td>1.387650</td>\n",
       "    </tr>\n",
       "    <tr>\n",
       "      <th>2016-05-31</th>\n",
       "      <td>1.383212</td>\n",
       "      <td>0.854819</td>\n",
       "      <td>1.021546</td>\n",
       "    </tr>\n",
       "    <tr>\n",
       "      <th>...</th>\n",
       "      <td>...</td>\n",
       "      <td>...</td>\n",
       "      <td>...</td>\n",
       "    </tr>\n",
       "    <tr>\n",
       "      <th>2022-08-31</th>\n",
       "      <td>1.889655</td>\n",
       "      <td>1.694674</td>\n",
       "      <td>2.071346</td>\n",
       "    </tr>\n",
       "    <tr>\n",
       "      <th>2022-09-30</th>\n",
       "      <td>1.855000</td>\n",
       "      <td>1.959387</td>\n",
       "      <td>1.903322</td>\n",
       "    </tr>\n",
       "    <tr>\n",
       "      <th>2022-10-31</th>\n",
       "      <td>1.918810</td>\n",
       "      <td>3.246345</td>\n",
       "      <td>2.121928</td>\n",
       "    </tr>\n",
       "    <tr>\n",
       "      <th>2022-11-30</th>\n",
       "      <td>2.640146</td>\n",
       "      <td>3.469780</td>\n",
       "      <td>2.306933</td>\n",
       "    </tr>\n",
       "    <tr>\n",
       "      <th>2022-12-31</th>\n",
       "      <td>2.231384</td>\n",
       "      <td>3.701165</td>\n",
       "      <td>1.685935</td>\n",
       "    </tr>\n",
       "  </tbody>\n",
       "</table>\n",
       "<p>84 rows × 3 columns</p>\n",
       "</div>"
      ],
      "text/plain": [
       "            xgb_pca_services_h_1  xgb_pca_services_h_2  xgb_pca_services_h_3\n",
       "2016-01-31              1.494736              1.707252              1.658896\n",
       "2016-02-29              1.810799              2.119540              1.753526\n",
       "2016-03-31              1.187141              1.065606              1.323503\n",
       "2016-04-30              1.275875              1.175357              1.387650\n",
       "2016-05-31              1.383212              0.854819              1.021546\n",
       "...                          ...                   ...                   ...\n",
       "2022-08-31              1.889655              1.694674              2.071346\n",
       "2022-09-30              1.855000              1.959387              1.903322\n",
       "2022-10-31              1.918810              3.246345              2.121928\n",
       "2022-11-30              2.640146              3.469780              2.306933\n",
       "2022-12-31              2.231384              3.701165              1.685935\n",
       "\n",
       "[84 rows x 3 columns]"
      ]
     },
     "execution_count": 65,
     "metadata": {},
     "output_type": "execute_result"
    }
   ],
   "source": [
    "services_cat_prediction"
   ]
  },
  {
   "cell_type": "code",
   "execution_count": 66,
   "metadata": {},
   "outputs": [],
   "source": [
    "mine_g.save_forecast(forecast_result_df=services_cat_prediction.reset_index(drop=True), cat_file_path=save_cat_file_path)"
   ]
  }
 ],
 "metadata": {
  "kernelspec": {
   "display_name": "thesis",
   "language": "python",
   "name": "python3"
  },
  "language_info": {
   "codemirror_mode": {
    "name": "ipython",
    "version": 3
   },
   "file_extension": ".py",
   "mimetype": "text/x-python",
   "name": "python",
   "nbconvert_exporter": "python",
   "pygments_lexer": "ipython3",
   "version": "3.11.7"
  }
 },
 "nbformat": 4,
 "nbformat_minor": 2
}
