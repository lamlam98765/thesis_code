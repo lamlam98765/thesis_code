{
 "cells": [
  {
   "cell_type": "code",
   "execution_count": 1,
   "metadata": {},
   "outputs": [],
   "source": [
    "from os import chdir\n",
    "chdir('/Users/lananhnguyen/Desktop/thesis/thesis_code')\n",
    "import main.packages.mine_generic as mine_g\n",
    "import main.packages.mine_specific as mine_s\n",
    "\n",
    "import pandas as pd\n",
    "import numpy as np\n",
    "import matplotlib.pyplot as plt\n",
    "import seaborn as sns \n",
    "from sklearn.preprocessing import StandardScaler\n",
    "\n",
    "from sklearn.metrics import mean_squared_error, mean_absolute_error\n",
    "\n",
    "import xgboost as xgb\n",
    "import optuna\n",
    "import json\n",
    "from sklearn.decomposition import PCA"
   ]
  },
  {
   "cell_type": "code",
   "execution_count": 2,
   "metadata": {},
   "outputs": [],
   "source": [
    "optuna.logging.set_verbosity(optuna.logging.WARNING)\n"
   ]
  },
  {
   "cell_type": "code",
   "execution_count": 3,
   "metadata": {},
   "outputs": [],
   "source": [
    "import warnings\n",
    "warnings.filterwarnings(\"ignore\", category=RuntimeWarning)"
   ]
  },
  {
   "cell_type": "code",
   "execution_count": 4,
   "metadata": {},
   "outputs": [],
   "source": [
    "# Forecast:\n",
    "def generate_forecast(X, y, N, T, h, hyperparam, verbose=1): # from common function\n",
    "    \"\"\"\n",
    "    Generate recursive forecast\n",
    "    \"\"\"\n",
    "    print(f\"Horizon: {h}\")\n",
    "    print(\"------------------------\")\n",
    "    y_pred_series = []\n",
    "    for i in range(0, T):  # T+1-h\n",
    "        X_train = X.iloc[: N+i, :]\n",
    "        y_train = y.iloc[h: N+i+h, :]\n",
    "\n",
    "        X_test = X.iloc[N+i : N+i+1, :] \n",
    "        y_test = y.iloc[N+i+h : N+i+h+1, :]  \n",
    "\n",
    "        if X_test.index[-1] > X.index[-1]-pd.DateOffset(months=h):\n",
    "            break\n",
    "\n",
    "        # Forecast:\n",
    "        y_pred = mine_s.xgb_pred(X_train, X_test, y_train, y_test, hyperparam)\n",
    "\n",
    "        if verbose == 1:\n",
    "            print(f\"Training period - features: {X_train.index[0]} to {X_train.index[-1]}\")\n",
    "            print(f\"Training period - target : {y_train.index[0]} to {y_train.index[-1]}\")\n",
    "            print(f\"Test period - features: {X_test.index}\")\n",
    "            print(f\"Test period - target : {y_test.index}\")\n",
    "            print(f\"Forecast: {y_pred}\")\n",
    "            print(\"-------------------------------------------------------\")\n",
    "\n",
    "        y_pred_series.append(y_pred[0])\n",
    "    return y_pred_series"
   ]
  },
  {
   "cell_type": "code",
   "execution_count": 5,
   "metadata": {},
   "outputs": [],
   "source": [
    "def prepare_X_train_test_pca(X_train, X_test, y, lags, n_components):\n",
    "    \"\"\"\n",
    "    \"\"\"\n",
    "    # Scale data\n",
    "    scaler = StandardScaler()\n",
    "    X_train_scaled = scaler.fit_transform(X_train)\n",
    "    X_test_scaled = scaler.transform(X_test)\n",
    "\n",
    "    # PCA:\n",
    "    pca = PCA(n_components = n_components)\n",
    "\n",
    "    factor_train = pd.DataFrame(pca.fit_transform(X_train_scaled))\n",
    "    factor_test = pd.DataFrame(pca.transform(X_test_scaled))\n",
    "\n",
    "    # Create y_lagged:\n",
    "    y_lagged = pd.DataFrame()\n",
    "    for lag in range(0, lags + 1):\n",
    "        y_lagged[f'Lag_{lag}'] = y[y.index <= mine_g.max_X_date].shift(lag)\n",
    "\n",
    "    # concatenate all:\n",
    "    X_factor_all = pd.concat([factor_train, factor_test], axis = 0, ignore_index=True)\n",
    "    factor_col_name = {col: f'factor_{col}' for col in X_factor_all.columns}\n",
    "    X_factor_all.rename(columns=factor_col_name, inplace=True)\n",
    "\n",
    "    X_factor_lags_all = pd.concat([y_lagged.reset_index(), X_factor_all], axis=1)\n",
    "    #X_factor_lags_all.set_index(0, drop=True)\n",
    "    #X_factor_lags_all.dropna(inplace=True)\n",
    "    X_factor_lags_all.set_index('date', drop=True, inplace=True)\n",
    "    print(X_factor_lags_all.shape)\n",
    "    return X_factor_lags_all"
   ]
  },
  {
   "cell_type": "code",
   "execution_count": 6,
   "metadata": {},
   "outputs": [],
   "source": [
    "hicp_all_path = 'data/preprocessed/hicp_yoy.csv'\n",
    "hicp_class_path = 'data/HICP_COICOP10s.xlsx'\n",
    "model = 'xgb_pca'\n",
    "date_range = pd.date_range(start=mine_g.train_test_split_date + pd.DateOffset(months=1), end=mine_g.max_X_date, freq='M')\n"
   ]
  },
  {
   "cell_type": "markdown",
   "metadata": {},
   "source": [
    "# Food:"
   ]
  },
  {
   "cell_type": "code",
   "execution_count": 7,
   "metadata": {},
   "outputs": [
    {
     "name": "stdout",
     "output_type": "stream",
     "text": [
      "Number of items in Food group:  180\n"
     ]
    },
    {
     "name": "stderr",
     "output_type": "stream",
     "text": [
      "/var/folders/74/zq2msw1x2fj9j2zyq8njktnc0000gn/T/ipykernel_44603/193989630.py:14: SettingWithCopyWarning: \n",
      "A value is trying to be set on a copy of a slice from a DataFrame\n",
      "\n",
      "See the caveats in the documentation: https://pandas.pydata.org/pandas-docs/stable/user_guide/indexing.html#returning-a-view-versus-a-copy\n",
      "  cat_df.dropna(axis=1, inplace=True)\n"
     ]
    }
   ],
   "source": [
    "category = 'Food'\n",
    "cat_short = 'food'\n",
    "hicp_cat_path = f'data/preprocessed/{cat_short}_yoy_infl.csv'\n",
    "save_cat_file_path = f'data/forecast_results/{cat_short}_forecast.csv'\n",
    "\n",
    "HICP_monthly, HICP_class, HICP_cat = mine_g.import_data_all(hicp_all_path=hicp_all_path,\n",
    "                                                     hicp_class_path=hicp_class_path,\n",
    "                                                     hicp_cat_path=hicp_cat_path)\n",
    "\n",
    "cat_df = mine_g.split_into_category(category=category,\n",
    "                             HICP_class=HICP_class,\n",
    "                             HICP_monthly=HICP_monthly,\n",
    "                             fillna=False)\n",
    "cat_df.dropna(axis=1, inplace=True)\n",
    "\n",
    "food_cat_prediction = pd.DataFrame(index=date_range)\n",
    "yoy_real = pd.read_csv(f\"data/preprocessed/{cat_short}_yoy_infl.csv\", parse_dates=True, index_col='date')\n",
    "yoy_real_test = yoy_real[(yoy_real.index > mine_g.train_test_split_date) & (yoy_real.index <= mine_g.max_X_date)]"
   ]
  },
  {
   "cell_type": "markdown",
   "metadata": {},
   "source": [
    "## h = 1"
   ]
  },
  {
   "cell_type": "code",
   "execution_count": 8,
   "metadata": {},
   "outputs": [
    {
     "name": "stdout",
     "output_type": "stream",
     "text": [
      "Horizon: 1\n",
      "Training predictor period: 1997-01-31 00:00:00 to 2015-11-30 00:00:00\n",
      "Training dependent variable period: 1997-02-28 00:00:00 to 2015-12-31 00:00:00\n"
     ]
    }
   ],
   "source": [
    "h = 1\n",
    "\n",
    "X_cat_train, X_cat_test, y_cat_train, y_cat_test = mine_g.split_train_test_set(X = cat_df, y = HICP_cat, h = h)"
   ]
  },
  {
   "cell_type": "code",
   "execution_count": 9,
   "metadata": {},
   "outputs": [
    {
     "name": "stdout",
     "output_type": "stream",
     "text": [
      "(312, 35)\n"
     ]
    }
   ],
   "source": [
    "X_factor_lags_all = prepare_X_train_test_pca(X_cat_train, X_cat_test, HICP_cat, 3, 0.95)\n",
    "X_cat_train_new = X_factor_lags_all[X_factor_lags_all.index.isin(X_cat_train.index)]\n",
    "X_cat_test_new = X_factor_lags_all[X_factor_lags_all.index.isin(X_cat_test.index)]"
   ]
  },
  {
   "cell_type": "code",
   "execution_count": 10,
   "metadata": {},
   "outputs": [
    {
     "name": "stdout",
     "output_type": "stream",
     "text": [
      "Number of finished trials: 1000\n"
     ]
    },
    {
     "data": {
      "text/plain": [
       "{'learning_rate': 0.27936997139955455,\n",
       " 'max_depth': 3,\n",
       " 'gamma': 2.595325381428443,\n",
       " 'lambda': 0.10111264097809791,\n",
       " 'alpha': 0.011416217213591429}"
      ]
     },
     "execution_count": 10,
     "metadata": {},
     "output_type": "execute_result"
    }
   ],
   "source": [
    "\n",
    "best_param = mine_s.hyperparam_tuning_optuna(mine_s.objective_xgb, X_cat_train_new, y_cat_train, scaler=False)\n",
    "best_param\n"
   ]
  },
  {
   "cell_type": "code",
   "execution_count": 11,
   "metadata": {},
   "outputs": [
    {
     "name": "stdout",
     "output_type": "stream",
     "text": [
      "Horizon: 1\n",
      "------------------------\n",
      "0.7735644998741007\n",
      "1.2106535744448241\n"
     ]
    }
   ],
   "source": [
    "\n",
    "# Forecast:\n",
    "\n",
    "N, T = len(X_cat_train), len(X_cat_test)\n",
    "y_pred = generate_forecast(X = X_factor_lags_all, y = HICP_cat, N = N, T = T, h = h, hyperparam=best_param, verbose=0)\n",
    "food_cat_prediction.loc[:, f'{model}_{cat_short}_h_{h}'] = y_pred\n",
    "print(mean_absolute_error(yoy_real_test, y_pred))\n",
    "print(np.sqrt(mean_squared_error(yoy_real_test, y_pred)))"
   ]
  },
  {
   "cell_type": "markdown",
   "metadata": {},
   "source": [
    "## h = 2"
   ]
  },
  {
   "cell_type": "code",
   "execution_count": 12,
   "metadata": {},
   "outputs": [
    {
     "name": "stdout",
     "output_type": "stream",
     "text": [
      "Horizon: 2\n",
      "Training predictor period: 1997-01-31 00:00:00 to 2015-10-31 00:00:00\n",
      "Training dependent variable period: 1997-03-31 00:00:00 to 2015-12-31 00:00:00\n",
      "(312, 35)\n"
     ]
    }
   ],
   "source": [
    "h = 2\n",
    "X_cat_train, X_cat_test, y_cat_train, y_cat_test = mine_g.split_train_test_set(X = cat_df, y = HICP_cat, h = h)\n",
    "\n",
    "X_factor_lags_all = prepare_X_train_test_pca(X_cat_train, X_cat_test, HICP_cat, 3, 0.95)\n",
    "X_cat_train_new = X_factor_lags_all[X_factor_lags_all.index.isin(X_cat_train.index)]\n",
    "X_cat_test_new = X_factor_lags_all[X_factor_lags_all.index.isin(X_cat_test.index)]"
   ]
  },
  {
   "cell_type": "code",
   "execution_count": 14,
   "metadata": {},
   "outputs": [
    {
     "name": "stdout",
     "output_type": "stream",
     "text": [
      "Number of finished trials: 1000\n",
      "{'learning_rate': 0.2948680409716552, 'max_depth': 6, 'gamma': 2.840592720274538, 'lambda': 0.8471842805780159, 'alpha': 6.982999417187105}\n",
      "Horizon: 2\n",
      "------------------------\n",
      "1.2568734899728276\n",
      "2.2328679974437717\n"
     ]
    }
   ],
   "source": [
    "\n",
    "best_param = mine_s.hyperparam_tuning_optuna(mine_s.objective_xgb, X_cat_train_new, y_cat_train, scaler=False)\n",
    "print(best_param)\n",
    "\n",
    "N, T = len(X_cat_train), len(X_cat_test)\n",
    "\n",
    "y_pred = generate_forecast(X = cat_df, y = HICP_cat, N = N, T = T, h = h, hyperparam=best_param, verbose=0)\n",
    "food_cat_prediction.loc[:, f'{model}_{cat_short}_h_{h}'] = y_pred\n",
    "print(mean_absolute_error(yoy_real_test, y_pred))\n",
    "print(np.sqrt(mean_squared_error(yoy_real_test, y_pred)))"
   ]
  },
  {
   "cell_type": "markdown",
   "metadata": {},
   "source": [
    "## h = 3"
   ]
  },
  {
   "cell_type": "code",
   "execution_count": 15,
   "metadata": {},
   "outputs": [
    {
     "name": "stdout",
     "output_type": "stream",
     "text": [
      "Horizon: 3\n",
      "Training predictor period: 1997-01-31 00:00:00 to 2015-09-30 00:00:00\n",
      "Training dependent variable period: 1997-04-30 00:00:00 to 2015-12-31 00:00:00\n",
      "(312, 35)\n",
      "Number of finished trials: 1000\n",
      "{'learning_rate': 0.2722724478571974, 'max_depth': 4, 'gamma': 2.164259929533126, 'lambda': 0.9507825320287131, 'alpha': 0.3791585445933658}\n",
      "Horizon: 3\n",
      "------------------------\n",
      "1.0880493185533975\n",
      "1.5915509581048204\n"
     ]
    }
   ],
   "source": [
    "h = 3\n",
    "X_cat_train, X_cat_test, y_cat_train, y_cat_test = mine_g.split_train_test_set(X = cat_df, y = HICP_cat, h = h)\n",
    "\n",
    "X_factor_lags_all = prepare_X_train_test_pca(X_cat_train, X_cat_test, HICP_cat, 3, 0.95)\n",
    "X_cat_train_new = X_factor_lags_all[X_factor_lags_all.index.isin(X_cat_train.index)]\n",
    "X_cat_test_new = X_factor_lags_all[X_factor_lags_all.index.isin(X_cat_test.index)]\n",
    "\n",
    "best_param = mine_s.hyperparam_tuning_optuna(mine_s.objective_xgb, X_cat_train_new, y_cat_train, scaler=False)\n",
    "print(best_param)\n",
    "\n",
    "N, T = len(X_cat_train), len(X_cat_test)\n",
    "\n",
    "y_pred = generate_forecast(X = cat_df, y = HICP_cat, N = N, T = T, h = h, hyperparam=best_param, verbose=0)\n",
    "food_cat_prediction.loc[:, f'{model}_{cat_short}_h_{h}'] = y_pred\n",
    "print(mean_absolute_error(yoy_real_test, y_pred))\n",
    "print(np.sqrt(mean_squared_error(yoy_real_test, y_pred)))"
   ]
  },
  {
   "cell_type": "code",
   "execution_count": 16,
   "metadata": {},
   "outputs": [
    {
     "data": {
      "text/html": [
       "<div>\n",
       "<style scoped>\n",
       "    .dataframe tbody tr th:only-of-type {\n",
       "        vertical-align: middle;\n",
       "    }\n",
       "\n",
       "    .dataframe tbody tr th {\n",
       "        vertical-align: top;\n",
       "    }\n",
       "\n",
       "    .dataframe thead th {\n",
       "        text-align: right;\n",
       "    }\n",
       "</style>\n",
       "<table border=\"1\" class=\"dataframe\">\n",
       "  <thead>\n",
       "    <tr style=\"text-align: right;\">\n",
       "      <th></th>\n",
       "      <th>xgb_pca_food_h_1</th>\n",
       "      <th>xgb_pca_food_h_2</th>\n",
       "      <th>xgb_pca_food_h_3</th>\n",
       "    </tr>\n",
       "  </thead>\n",
       "  <tbody>\n",
       "    <tr>\n",
       "      <th>2016-01-31</th>\n",
       "      <td>1.510642</td>\n",
       "      <td>1.332123</td>\n",
       "      <td>1.329567</td>\n",
       "    </tr>\n",
       "    <tr>\n",
       "      <th>2016-02-29</th>\n",
       "      <td>1.431145</td>\n",
       "      <td>1.237375</td>\n",
       "      <td>1.052172</td>\n",
       "    </tr>\n",
       "    <tr>\n",
       "      <th>2016-03-31</th>\n",
       "      <td>1.130537</td>\n",
       "      <td>1.174551</td>\n",
       "      <td>1.256293</td>\n",
       "    </tr>\n",
       "    <tr>\n",
       "      <th>2016-04-30</th>\n",
       "      <td>1.347342</td>\n",
       "      <td>1.189418</td>\n",
       "      <td>1.373047</td>\n",
       "    </tr>\n",
       "    <tr>\n",
       "      <th>2016-05-31</th>\n",
       "      <td>1.475416</td>\n",
       "      <td>1.286819</td>\n",
       "      <td>1.508808</td>\n",
       "    </tr>\n",
       "    <tr>\n",
       "      <th>...</th>\n",
       "      <td>...</td>\n",
       "      <td>...</td>\n",
       "      <td>...</td>\n",
       "    </tr>\n",
       "    <tr>\n",
       "      <th>2022-08-31</th>\n",
       "      <td>10.184432</td>\n",
       "      <td>6.304696</td>\n",
       "      <td>8.169952</td>\n",
       "    </tr>\n",
       "    <tr>\n",
       "      <th>2022-09-30</th>\n",
       "      <td>10.821424</td>\n",
       "      <td>6.862824</td>\n",
       "      <td>10.185497</td>\n",
       "    </tr>\n",
       "    <tr>\n",
       "      <th>2022-10-31</th>\n",
       "      <td>12.126287</td>\n",
       "      <td>8.668372</td>\n",
       "      <td>10.950062</td>\n",
       "    </tr>\n",
       "    <tr>\n",
       "      <th>2022-11-30</th>\n",
       "      <td>13.557337</td>\n",
       "      <td>9.763294</td>\n",
       "      <td>12.406686</td>\n",
       "    </tr>\n",
       "    <tr>\n",
       "      <th>2022-12-31</th>\n",
       "      <td>14.544573</td>\n",
       "      <td>11.465139</td>\n",
       "      <td>13.472208</td>\n",
       "    </tr>\n",
       "  </tbody>\n",
       "</table>\n",
       "<p>84 rows × 3 columns</p>\n",
       "</div>"
      ],
      "text/plain": [
       "            xgb_pca_food_h_1  xgb_pca_food_h_2  xgb_pca_food_h_3\n",
       "2016-01-31          1.510642          1.332123          1.329567\n",
       "2016-02-29          1.431145          1.237375          1.052172\n",
       "2016-03-31          1.130537          1.174551          1.256293\n",
       "2016-04-30          1.347342          1.189418          1.373047\n",
       "2016-05-31          1.475416          1.286819          1.508808\n",
       "...                      ...               ...               ...\n",
       "2022-08-31         10.184432          6.304696          8.169952\n",
       "2022-09-30         10.821424          6.862824         10.185497\n",
       "2022-10-31         12.126287          8.668372         10.950062\n",
       "2022-11-30         13.557337          9.763294         12.406686\n",
       "2022-12-31         14.544573         11.465139         13.472208\n",
       "\n",
       "[84 rows x 3 columns]"
      ]
     },
     "execution_count": 16,
     "metadata": {},
     "output_type": "execute_result"
    }
   ],
   "source": [
    "food_cat_prediction"
   ]
  },
  {
   "cell_type": "code",
   "execution_count": 17,
   "metadata": {},
   "outputs": [],
   "source": [
    "mine_g.save_forecast(forecast_result_df=food_cat_prediction.reset_index(drop=True), cat_file_path=save_cat_file_path)"
   ]
  },
  {
   "cell_type": "markdown",
   "metadata": {},
   "source": [
    "------------------"
   ]
  },
  {
   "cell_type": "markdown",
   "metadata": {},
   "source": [
    "# Energy:"
   ]
  },
  {
   "cell_type": "code",
   "execution_count": 18,
   "metadata": {},
   "outputs": [
    {
     "name": "stdout",
     "output_type": "stream",
     "text": [
      "Number of items in Energy group:  14\n"
     ]
    },
    {
     "name": "stderr",
     "output_type": "stream",
     "text": [
      "/var/folders/74/zq2msw1x2fj9j2zyq8njktnc0000gn/T/ipykernel_44603/3473350620.py:15: SettingWithCopyWarning: \n",
      "A value is trying to be set on a copy of a slice from a DataFrame\n",
      "\n",
      "See the caveats in the documentation: https://pandas.pydata.org/pandas-docs/stable/user_guide/indexing.html#returning-a-view-versus-a-copy\n",
      "  cat_df.dropna(axis=1, inplace=True)\n"
     ]
    }
   ],
   "source": [
    "category = 'Energy'\n",
    "cat_short = 'energy'\n",
    "hicp_cat_path = f'data/preprocessed/{cat_short}_yoy_infl.csv'\n",
    "save_cat_file_path = f'data/forecast_results/{cat_short}_forecast.csv'\n",
    "\n",
    "\n",
    "HICP_monthly, HICP_class, HICP_cat = mine_g.import_data_all(hicp_all_path=hicp_all_path,\n",
    "                                                     hicp_class_path=hicp_class_path,\n",
    "                                                     hicp_cat_path=hicp_cat_path)\n",
    "\n",
    "cat_df = mine_g.split_into_category(category=category,\n",
    "                             HICP_class=HICP_class,\n",
    "                             HICP_monthly=HICP_monthly,\n",
    "                             fillna=False)\n",
    "cat_df.dropna(axis=1, inplace=True)\n",
    "energy_cat_prediction = pd.DataFrame(index=date_range)\n",
    "\n",
    "yoy_real = pd.read_csv(f\"data/preprocessed/{cat_short}_yoy_infl.csv\", parse_dates=True, index_col='date')\n",
    "yoy_real_test = yoy_real[(yoy_real.index > mine_g.train_test_split_date) & (yoy_real.index <= mine_g.max_X_date)]"
   ]
  },
  {
   "cell_type": "code",
   "execution_count": 19,
   "metadata": {},
   "outputs": [
    {
     "name": "stdout",
     "output_type": "stream",
     "text": [
      "Horizon: 1\n",
      "Training predictor period: 1997-01-31 00:00:00 to 2015-11-30 00:00:00\n",
      "Training dependent variable period: 1997-02-28 00:00:00 to 2015-12-31 00:00:00\n",
      "(312, 10)\n",
      "Number of finished trials: 1000\n",
      "{'learning_rate': 0.2796980286864401, 'max_depth': 3, 'gamma': 7.627107893286285, 'lambda': 0.3251207295804724, 'alpha': 4.60638800379785}\n",
      "Horizon: 1\n",
      "------------------------\n",
      "2.711848880202763\n",
      "4.208863323931931\n",
      "Horizon: 2\n",
      "Training predictor period: 1997-01-31 00:00:00 to 2015-10-31 00:00:00\n",
      "Training dependent variable period: 1997-03-31 00:00:00 to 2015-12-31 00:00:00\n",
      "(312, 10)\n",
      "Number of finished trials: 1000\n",
      "{'learning_rate': 0.21473064465956468, 'max_depth': 4, 'gamma': 5.217099698931682, 'lambda': 0.4751055617116573, 'alpha': 8.422200523233446}\n",
      "Horizon: 2\n",
      "------------------------\n",
      "4.095404591786816\n",
      "5.909859823509882\n",
      "Horizon: 3\n",
      "Training predictor period: 1997-01-31 00:00:00 to 2015-09-30 00:00:00\n",
      "Training dependent variable period: 1997-04-30 00:00:00 to 2015-12-31 00:00:00\n",
      "(312, 10)\n",
      "Number of finished trials: 1000\n",
      "{'learning_rate': 0.24782871525955288, 'max_depth': 3, 'gamma': 9.748611055948244, 'lambda': 0.22738064574774292, 'alpha': 5.443665560181795}\n",
      "Horizon: 3\n",
      "------------------------\n",
      "4.124906776069918\n",
      "5.651600803207225\n"
     ]
    }
   ],
   "source": [
    "for h in [1, 2, 3]:\n",
    "    X_cat_train, X_cat_test, y_cat_train, y_cat_test = mine_g.split_train_test_set(X = cat_df, y = HICP_cat, h = h)\n",
    "\n",
    "    X_factor_lags_all = prepare_X_train_test_pca(X_cat_train, X_cat_test, HICP_cat, 3, 0.95)\n",
    "    X_cat_train_new = X_factor_lags_all[X_factor_lags_all.index.isin(X_cat_train.index)]\n",
    "    X_cat_test_new = X_factor_lags_all[X_factor_lags_all.index.isin(X_cat_test.index)]\n",
    "\n",
    "    best_param = mine_s.hyperparam_tuning_optuna(mine_s.objective_xgb, X_cat_train_new, y_cat_train, scaler=False)\n",
    "    print(best_param)\n",
    "\n",
    "    N, T = len(X_cat_train), len(X_cat_test)\n",
    "\n",
    "    y_pred = generate_forecast(X = cat_df, y = HICP_cat, N = N, T = T, h = h, hyperparam=best_param, verbose=0)\n",
    "    energy_cat_prediction.loc[:, f'{model}_{cat_short}_h_{h}'] = y_pred\n",
    "    print(mean_absolute_error(yoy_real_test, y_pred))\n",
    "    print(np.sqrt(mean_squared_error(yoy_real_test, y_pred)))"
   ]
  },
  {
   "cell_type": "code",
   "execution_count": 20,
   "metadata": {},
   "outputs": [
    {
     "data": {
      "text/html": [
       "<div>\n",
       "<style scoped>\n",
       "    .dataframe tbody tr th:only-of-type {\n",
       "        vertical-align: middle;\n",
       "    }\n",
       "\n",
       "    .dataframe tbody tr th {\n",
       "        vertical-align: top;\n",
       "    }\n",
       "\n",
       "    .dataframe thead th {\n",
       "        text-align: right;\n",
       "    }\n",
       "</style>\n",
       "<table border=\"1\" class=\"dataframe\">\n",
       "  <thead>\n",
       "    <tr style=\"text-align: right;\">\n",
       "      <th></th>\n",
       "      <th>xgb_pca_energy_h_1</th>\n",
       "      <th>xgb_pca_energy_h_2</th>\n",
       "      <th>xgb_pca_energy_h_3</th>\n",
       "    </tr>\n",
       "  </thead>\n",
       "  <tbody>\n",
       "    <tr>\n",
       "      <th>2016-01-31</th>\n",
       "      <td>-6.104800</td>\n",
       "      <td>-6.226882</td>\n",
       "      <td>-6.193914</td>\n",
       "    </tr>\n",
       "    <tr>\n",
       "      <th>2016-02-29</th>\n",
       "      <td>-4.193218</td>\n",
       "      <td>-5.342348</td>\n",
       "      <td>-6.141488</td>\n",
       "    </tr>\n",
       "    <tr>\n",
       "      <th>2016-03-31</th>\n",
       "      <td>-6.805299</td>\n",
       "      <td>-5.073478</td>\n",
       "      <td>-6.046509</td>\n",
       "    </tr>\n",
       "    <tr>\n",
       "      <th>2016-04-30</th>\n",
       "      <td>-6.919703</td>\n",
       "      <td>-6.227957</td>\n",
       "      <td>-5.946076</td>\n",
       "    </tr>\n",
       "    <tr>\n",
       "      <th>2016-05-31</th>\n",
       "      <td>-7.017718</td>\n",
       "      <td>-6.321769</td>\n",
       "      <td>-6.634685</td>\n",
       "    </tr>\n",
       "    <tr>\n",
       "      <th>...</th>\n",
       "      <td>...</td>\n",
       "      <td>...</td>\n",
       "      <td>...</td>\n",
       "    </tr>\n",
       "    <tr>\n",
       "      <th>2022-08-31</th>\n",
       "      <td>33.472527</td>\n",
       "      <td>29.908594</td>\n",
       "      <td>31.821791</td>\n",
       "    </tr>\n",
       "    <tr>\n",
       "      <th>2022-09-30</th>\n",
       "      <td>31.361765</td>\n",
       "      <td>27.997944</td>\n",
       "      <td>32.195183</td>\n",
       "    </tr>\n",
       "    <tr>\n",
       "      <th>2022-10-31</th>\n",
       "      <td>33.681252</td>\n",
       "      <td>30.671486</td>\n",
       "      <td>34.017826</td>\n",
       "    </tr>\n",
       "    <tr>\n",
       "      <th>2022-11-30</th>\n",
       "      <td>34.983688</td>\n",
       "      <td>32.713638</td>\n",
       "      <td>32.185894</td>\n",
       "    </tr>\n",
       "    <tr>\n",
       "      <th>2022-12-31</th>\n",
       "      <td>31.032995</td>\n",
       "      <td>22.952312</td>\n",
       "      <td>35.353359</td>\n",
       "    </tr>\n",
       "  </tbody>\n",
       "</table>\n",
       "<p>84 rows × 3 columns</p>\n",
       "</div>"
      ],
      "text/plain": [
       "            xgb_pca_energy_h_1  xgb_pca_energy_h_2  xgb_pca_energy_h_3\n",
       "2016-01-31           -6.104800           -6.226882           -6.193914\n",
       "2016-02-29           -4.193218           -5.342348           -6.141488\n",
       "2016-03-31           -6.805299           -5.073478           -6.046509\n",
       "2016-04-30           -6.919703           -6.227957           -5.946076\n",
       "2016-05-31           -7.017718           -6.321769           -6.634685\n",
       "...                        ...                 ...                 ...\n",
       "2022-08-31           33.472527           29.908594           31.821791\n",
       "2022-09-30           31.361765           27.997944           32.195183\n",
       "2022-10-31           33.681252           30.671486           34.017826\n",
       "2022-11-30           34.983688           32.713638           32.185894\n",
       "2022-12-31           31.032995           22.952312           35.353359\n",
       "\n",
       "[84 rows x 3 columns]"
      ]
     },
     "execution_count": 20,
     "metadata": {},
     "output_type": "execute_result"
    }
   ],
   "source": [
    "energy_cat_prediction"
   ]
  },
  {
   "cell_type": "code",
   "execution_count": 21,
   "metadata": {},
   "outputs": [],
   "source": [
    "mine_g.save_forecast(forecast_result_df=energy_cat_prediction.reset_index(drop=True), cat_file_path=save_cat_file_path)"
   ]
  },
  {
   "cell_type": "markdown",
   "metadata": {},
   "source": [
    "## NEIG:"
   ]
  },
  {
   "cell_type": "code",
   "execution_count": 22,
   "metadata": {},
   "outputs": [
    {
     "name": "stdout",
     "output_type": "stream",
     "text": [
      "Number of items in Non-energy industrial goods (NEIG) group:  302\n"
     ]
    },
    {
     "name": "stderr",
     "output_type": "stream",
     "text": [
      "/var/folders/74/zq2msw1x2fj9j2zyq8njktnc0000gn/T/ipykernel_44603/1077213379.py:15: SettingWithCopyWarning: \n",
      "A value is trying to be set on a copy of a slice from a DataFrame\n",
      "\n",
      "See the caveats in the documentation: https://pandas.pydata.org/pandas-docs/stable/user_guide/indexing.html#returning-a-view-versus-a-copy\n",
      "  cat_df.dropna(axis=1, inplace=True)\n"
     ]
    }
   ],
   "source": [
    "cat_short = 'neig'\n",
    "category = 'Non-energy industrial goods (NEIG)'\n",
    "hicp_cat_path = f'data/preprocessed/{cat_short}_yoy_infl.csv'\n",
    "save_cat_file_path = f'data/forecast_results/{cat_short}_forecast.csv'\n",
    "\n",
    "\n",
    "HICP_monthly, HICP_class, HICP_cat = mine_g.import_data_all(hicp_all_path=hicp_all_path,\n",
    "                                                     hicp_class_path=hicp_class_path,\n",
    "                                                     hicp_cat_path=hicp_cat_path)\n",
    "\n",
    "cat_df = mine_g.split_into_category(category=category,\n",
    "                             HICP_class=HICP_class,\n",
    "                             HICP_monthly=HICP_monthly,\n",
    "                             fillna=False)\n",
    "cat_df.dropna(axis=1, inplace=True)\n",
    "\n",
    "neig_cat_prediction = pd.DataFrame(index=date_range)\n",
    "yoy_real = pd.read_csv(f\"data/preprocessed/{cat_short}_yoy_infl.csv\", parse_dates=True, index_col='date')\n",
    "yoy_real_test = yoy_real[(yoy_real.index > mine_g.train_test_split_date) & (yoy_real.index <= mine_g.max_X_date)]"
   ]
  },
  {
   "cell_type": "code",
   "execution_count": 23,
   "metadata": {},
   "outputs": [
    {
     "name": "stdout",
     "output_type": "stream",
     "text": [
      "Horizon: 1\n",
      "Training predictor period: 1997-01-31 00:00:00 to 2015-11-30 00:00:00\n",
      "Training dependent variable period: 1997-02-28 00:00:00 to 2015-12-31 00:00:00\n",
      "(312, 56)\n",
      "Number of finished trials: 1000\n",
      "{'learning_rate': 0.282660321923129, 'max_depth': 9, 'gamma': 0.24222570561891987, 'lambda': 0.14386795749955153, 'alpha': 0.4491393445439831}\n",
      "Horizon: 1\n",
      "------------------------\n",
      "0.7106992460615217\n",
      "1.061060483362243\n",
      "Horizon: 2\n",
      "Training predictor period: 1997-01-31 00:00:00 to 2015-10-31 00:00:00\n",
      "Training dependent variable period: 1997-03-31 00:00:00 to 2015-12-31 00:00:00\n",
      "(312, 56)\n",
      "Number of finished trials: 1000\n",
      "{'learning_rate': 0.11356159742000572, 'max_depth': 8, 'gamma': 1.5278102145674186, 'lambda': 0.24979205827786471, 'alpha': 0.6628265189206577}\n",
      "Horizon: 2\n",
      "------------------------\n",
      "0.9785511044661662\n",
      "1.5083096512380718\n",
      "Horizon: 3\n",
      "Training predictor period: 1997-01-31 00:00:00 to 2015-09-30 00:00:00\n",
      "Training dependent variable period: 1997-04-30 00:00:00 to 2015-12-31 00:00:00\n",
      "(312, 56)\n",
      "Number of finished trials: 1000\n",
      "{'learning_rate': 0.10157457016538086, 'max_depth': 5, 'gamma': 1.021570972985471, 'lambda': 0.582208132848966, 'alpha': 6.500640140242346}\n",
      "Horizon: 3\n",
      "------------------------\n",
      "1.126736059339547\n",
      "1.7427230485867822\n"
     ]
    }
   ],
   "source": [
    "for h in [1, 2, 3]:\n",
    "    X_cat_train, X_cat_test, y_cat_train, y_cat_test = mine_g.split_train_test_set(X = cat_df, y = HICP_cat, h = h)\n",
    "\n",
    "    X_factor_lags_all = prepare_X_train_test_pca(X_cat_train, X_cat_test, HICP_cat, 3, 0.95)\n",
    "    X_cat_train_new = X_factor_lags_all[X_factor_lags_all.index.isin(X_cat_train.index)]\n",
    "    X_cat_test_new = X_factor_lags_all[X_factor_lags_all.index.isin(X_cat_test.index)]\n",
    "\n",
    "    best_param = mine_s.hyperparam_tuning_optuna(mine_s.objective_xgb, X_cat_train_new, y_cat_train, scaler=False)\n",
    "    print(best_param)\n",
    "\n",
    "    N, T = len(X_cat_train), len(X_cat_test)\n",
    "\n",
    "    y_pred = generate_forecast(X = cat_df, y = HICP_cat, N = N, T = T, h = h, hyperparam=best_param, verbose=0)\n",
    "    neig_cat_prediction.loc[:, f'{model}_{cat_short}_h_{h}'] = y_pred\n",
    "    print(mean_absolute_error(yoy_real_test, y_pred))\n",
    "    print(np.sqrt(mean_squared_error(yoy_real_test, y_pred)))"
   ]
  },
  {
   "cell_type": "code",
   "execution_count": 24,
   "metadata": {},
   "outputs": [
    {
     "data": {
      "text/html": [
       "<div>\n",
       "<style scoped>\n",
       "    .dataframe tbody tr th:only-of-type {\n",
       "        vertical-align: middle;\n",
       "    }\n",
       "\n",
       "    .dataframe tbody tr th {\n",
       "        vertical-align: top;\n",
       "    }\n",
       "\n",
       "    .dataframe thead th {\n",
       "        text-align: right;\n",
       "    }\n",
       "</style>\n",
       "<table border=\"1\" class=\"dataframe\">\n",
       "  <thead>\n",
       "    <tr style=\"text-align: right;\">\n",
       "      <th></th>\n",
       "      <th>xgb_pca_neig_h_1</th>\n",
       "      <th>xgb_pca_neig_h_2</th>\n",
       "      <th>xgb_pca_neig_h_3</th>\n",
       "    </tr>\n",
       "  </thead>\n",
       "  <tbody>\n",
       "    <tr>\n",
       "      <th>2016-01-31</th>\n",
       "      <td>0.639764</td>\n",
       "      <td>0.665797</td>\n",
       "      <td>0.783515</td>\n",
       "    </tr>\n",
       "    <tr>\n",
       "      <th>2016-02-29</th>\n",
       "      <td>0.943979</td>\n",
       "      <td>0.704511</td>\n",
       "      <td>0.658100</td>\n",
       "    </tr>\n",
       "    <tr>\n",
       "      <th>2016-03-31</th>\n",
       "      <td>0.344499</td>\n",
       "      <td>0.724720</td>\n",
       "      <td>0.711778</td>\n",
       "    </tr>\n",
       "    <tr>\n",
       "      <th>2016-04-30</th>\n",
       "      <td>0.295555</td>\n",
       "      <td>0.516369</td>\n",
       "      <td>0.815611</td>\n",
       "    </tr>\n",
       "    <tr>\n",
       "      <th>2016-05-31</th>\n",
       "      <td>0.498168</td>\n",
       "      <td>0.509060</td>\n",
       "      <td>0.492938</td>\n",
       "    </tr>\n",
       "    <tr>\n",
       "      <th>...</th>\n",
       "      <td>...</td>\n",
       "      <td>...</td>\n",
       "      <td>...</td>\n",
       "    </tr>\n",
       "    <tr>\n",
       "      <th>2022-08-31</th>\n",
       "      <td>4.874139</td>\n",
       "      <td>1.816454</td>\n",
       "      <td>2.711798</td>\n",
       "    </tr>\n",
       "    <tr>\n",
       "      <th>2022-09-30</th>\n",
       "      <td>5.108075</td>\n",
       "      <td>3.652495</td>\n",
       "      <td>1.069477</td>\n",
       "    </tr>\n",
       "    <tr>\n",
       "      <th>2022-10-31</th>\n",
       "      <td>5.403193</td>\n",
       "      <td>3.242584</td>\n",
       "      <td>2.780759</td>\n",
       "    </tr>\n",
       "    <tr>\n",
       "      <th>2022-11-30</th>\n",
       "      <td>5.823827</td>\n",
       "      <td>3.728022</td>\n",
       "      <td>3.126815</td>\n",
       "    </tr>\n",
       "    <tr>\n",
       "      <th>2022-12-31</th>\n",
       "      <td>6.081383</td>\n",
       "      <td>3.956338</td>\n",
       "      <td>3.271307</td>\n",
       "    </tr>\n",
       "  </tbody>\n",
       "</table>\n",
       "<p>84 rows × 3 columns</p>\n",
       "</div>"
      ],
      "text/plain": [
       "            xgb_pca_neig_h_1  xgb_pca_neig_h_2  xgb_pca_neig_h_3\n",
       "2016-01-31          0.639764          0.665797          0.783515\n",
       "2016-02-29          0.943979          0.704511          0.658100\n",
       "2016-03-31          0.344499          0.724720          0.711778\n",
       "2016-04-30          0.295555          0.516369          0.815611\n",
       "2016-05-31          0.498168          0.509060          0.492938\n",
       "...                      ...               ...               ...\n",
       "2022-08-31          4.874139          1.816454          2.711798\n",
       "2022-09-30          5.108075          3.652495          1.069477\n",
       "2022-10-31          5.403193          3.242584          2.780759\n",
       "2022-11-30          5.823827          3.728022          3.126815\n",
       "2022-12-31          6.081383          3.956338          3.271307\n",
       "\n",
       "[84 rows x 3 columns]"
      ]
     },
     "execution_count": 24,
     "metadata": {},
     "output_type": "execute_result"
    }
   ],
   "source": [
    "neig_cat_prediction"
   ]
  },
  {
   "cell_type": "code",
   "execution_count": 25,
   "metadata": {},
   "outputs": [],
   "source": [
    "mine_g.save_forecast(forecast_result_df=neig_cat_prediction.reset_index(drop=True), cat_file_path=save_cat_file_path)"
   ]
  },
  {
   "cell_type": "markdown",
   "metadata": {},
   "source": [
    "# Services:"
   ]
  },
  {
   "cell_type": "code",
   "execution_count": 26,
   "metadata": {},
   "outputs": [
    {
     "name": "stdout",
     "output_type": "stream",
     "text": [
      "Number of items in Services group:  148\n"
     ]
    },
    {
     "name": "stderr",
     "output_type": "stream",
     "text": [
      "/var/folders/74/zq2msw1x2fj9j2zyq8njktnc0000gn/T/ipykernel_44603/3781770324.py:15: SettingWithCopyWarning: \n",
      "A value is trying to be set on a copy of a slice from a DataFrame\n",
      "\n",
      "See the caveats in the documentation: https://pandas.pydata.org/pandas-docs/stable/user_guide/indexing.html#returning-a-view-versus-a-copy\n",
      "  cat_df.dropna(axis=1, inplace=True)\n"
     ]
    }
   ],
   "source": [
    "cat_short = 'services'\n",
    "category = 'Services'\n",
    "hicp_cat_path = f'data/preprocessed/{cat_short}_yoy_infl.csv'\n",
    "save_cat_file_path = f'data/forecast_results/{cat_short}_forecast.csv'\n",
    "\n",
    "\n",
    "HICP_monthly, HICP_class, HICP_cat = mine_g.import_data_all(hicp_all_path=hicp_all_path,\n",
    "                                                     hicp_class_path=hicp_class_path,\n",
    "                                                     hicp_cat_path=hicp_cat_path)\n",
    "\n",
    "cat_df = mine_g.split_into_category(category=category,\n",
    "                             HICP_class=HICP_class,\n",
    "                             HICP_monthly=HICP_monthly,\n",
    "                             fillna=False)\n",
    "cat_df.dropna(axis=1, inplace=True)\n",
    "\n",
    "services_cat_prediction = pd.DataFrame(index=date_range)\n",
    "yoy_real = pd.read_csv(f\"data/preprocessed/{cat_short}_yoy_infl.csv\", parse_dates=True, index_col='date')\n",
    "yoy_real_test = yoy_real[(yoy_real.index > mine_g.train_test_split_date) & (yoy_real.index <= mine_g.max_X_date)]"
   ]
  },
  {
   "cell_type": "code",
   "execution_count": 27,
   "metadata": {},
   "outputs": [
    {
     "name": "stdout",
     "output_type": "stream",
     "text": [
      "Horizon: 1\n",
      "Training predictor period: 1997-01-31 00:00:00 to 2015-11-30 00:00:00\n",
      "Training dependent variable period: 1997-02-28 00:00:00 to 2015-12-31 00:00:00\n",
      "(312, 34)\n",
      "Number of finished trials: 1000\n",
      "{'learning_rate': 0.2950336062725532, 'max_depth': 6, 'gamma': 1.649757864401882, 'lambda': 0.03393276768386008, 'alpha': 0.8861142598532352}\n",
      "Horizon: 1\n",
      "------------------------\n",
      "0.5231414054260826\n",
      "0.6799060681023014\n",
      "Horizon: 2\n",
      "Training predictor period: 1997-01-31 00:00:00 to 2015-10-31 00:00:00\n",
      "Training dependent variable period: 1997-03-31 00:00:00 to 2015-12-31 00:00:00\n",
      "(312, 34)\n",
      "Number of finished trials: 1000\n",
      "{'learning_rate': 0.2957637456950312, 'max_depth': 4, 'gamma': 2.3902846469152994, 'lambda': 0.14940282935297614, 'alpha': 0.017922764883711046}\n",
      "Horizon: 2\n",
      "------------------------\n",
      "0.5328371376282987\n",
      "0.6884264567049797\n",
      "Horizon: 3\n",
      "Training predictor period: 1997-01-31 00:00:00 to 2015-09-30 00:00:00\n",
      "Training dependent variable period: 1997-04-30 00:00:00 to 2015-12-31 00:00:00\n",
      "(312, 34)\n",
      "Number of finished trials: 1000\n",
      "{'learning_rate': 0.29093161447290083, 'max_depth': 5, 'gamma': 1.417724316592175, 'lambda': 0.1235705305343646, 'alpha': 1.359992684021933}\n",
      "Horizon: 3\n",
      "------------------------\n",
      "0.4826101560578921\n",
      "0.6433005168308542\n"
     ]
    }
   ],
   "source": [
    "for h in [1, 2, 3]:\n",
    "    X_cat_train, X_cat_test, y_cat_train, y_cat_test = mine_g.split_train_test_set(X = cat_df, y = HICP_cat, h = h)\n",
    "\n",
    "    X_factor_lags_all = prepare_X_train_test_pca(X_cat_train, X_cat_test, HICP_cat, 3, 0.95)\n",
    "    X_cat_train_new = X_factor_lags_all[X_factor_lags_all.index.isin(X_cat_train.index)]\n",
    "    X_cat_test_new = X_factor_lags_all[X_factor_lags_all.index.isin(X_cat_test.index)]\n",
    "\n",
    "    best_param = mine_s.hyperparam_tuning_optuna(mine_s.objective_xgb, X_cat_train_new, y_cat_train, scaler=False)\n",
    "    print(best_param)\n",
    "\n",
    "    N, T = len(X_cat_train), len(X_cat_test)\n",
    "\n",
    "    y_pred = generate_forecast(X = cat_df, y = HICP_cat, N = N, T = T, h = h, hyperparam=best_param, verbose=0)\n",
    "    services_cat_prediction.loc[:, f'{model}_{cat_short}_h_{h}'] = y_pred\n",
    "    print(mean_absolute_error(yoy_real_test, y_pred))\n",
    "    print(np.sqrt(mean_squared_error(yoy_real_test, y_pred)))"
   ]
  },
  {
   "cell_type": "code",
   "execution_count": 28,
   "metadata": {},
   "outputs": [
    {
     "data": {
      "text/html": [
       "<div>\n",
       "<style scoped>\n",
       "    .dataframe tbody tr th:only-of-type {\n",
       "        vertical-align: middle;\n",
       "    }\n",
       "\n",
       "    .dataframe tbody tr th {\n",
       "        vertical-align: top;\n",
       "    }\n",
       "\n",
       "    .dataframe thead th {\n",
       "        text-align: right;\n",
       "    }\n",
       "</style>\n",
       "<table border=\"1\" class=\"dataframe\">\n",
       "  <thead>\n",
       "    <tr style=\"text-align: right;\">\n",
       "      <th></th>\n",
       "      <th>xgb_pca_services_h_1</th>\n",
       "      <th>xgb_pca_services_h_2</th>\n",
       "      <th>xgb_pca_services_h_3</th>\n",
       "    </tr>\n",
       "  </thead>\n",
       "  <tbody>\n",
       "    <tr>\n",
       "      <th>2016-01-31</th>\n",
       "      <td>1.788104</td>\n",
       "      <td>2.539376</td>\n",
       "      <td>1.444829</td>\n",
       "    </tr>\n",
       "    <tr>\n",
       "      <th>2016-02-29</th>\n",
       "      <td>2.380782</td>\n",
       "      <td>2.151071</td>\n",
       "      <td>1.377225</td>\n",
       "    </tr>\n",
       "    <tr>\n",
       "      <th>2016-03-31</th>\n",
       "      <td>1.568678</td>\n",
       "      <td>2.162640</td>\n",
       "      <td>1.474322</td>\n",
       "    </tr>\n",
       "    <tr>\n",
       "      <th>2016-04-30</th>\n",
       "      <td>1.398836</td>\n",
       "      <td>1.478015</td>\n",
       "      <td>1.587453</td>\n",
       "    </tr>\n",
       "    <tr>\n",
       "      <th>2016-05-31</th>\n",
       "      <td>1.554886</td>\n",
       "      <td>1.422383</td>\n",
       "      <td>1.302446</td>\n",
       "    </tr>\n",
       "    <tr>\n",
       "      <th>...</th>\n",
       "      <td>...</td>\n",
       "      <td>...</td>\n",
       "      <td>...</td>\n",
       "    </tr>\n",
       "    <tr>\n",
       "      <th>2022-08-31</th>\n",
       "      <td>2.044750</td>\n",
       "      <td>2.049197</td>\n",
       "      <td>1.972254</td>\n",
       "    </tr>\n",
       "    <tr>\n",
       "      <th>2022-09-30</th>\n",
       "      <td>2.065027</td>\n",
       "      <td>1.917514</td>\n",
       "      <td>2.434944</td>\n",
       "    </tr>\n",
       "    <tr>\n",
       "      <th>2022-10-31</th>\n",
       "      <td>2.381360</td>\n",
       "      <td>2.628388</td>\n",
       "      <td>2.089640</td>\n",
       "    </tr>\n",
       "    <tr>\n",
       "      <th>2022-11-30</th>\n",
       "      <td>2.850416</td>\n",
       "      <td>2.792700</td>\n",
       "      <td>2.478073</td>\n",
       "    </tr>\n",
       "    <tr>\n",
       "      <th>2022-12-31</th>\n",
       "      <td>2.799128</td>\n",
       "      <td>3.236758</td>\n",
       "      <td>2.937299</td>\n",
       "    </tr>\n",
       "  </tbody>\n",
       "</table>\n",
       "<p>84 rows × 3 columns</p>\n",
       "</div>"
      ],
      "text/plain": [
       "            xgb_pca_services_h_1  xgb_pca_services_h_2  xgb_pca_services_h_3\n",
       "2016-01-31              1.788104              2.539376              1.444829\n",
       "2016-02-29              2.380782              2.151071              1.377225\n",
       "2016-03-31              1.568678              2.162640              1.474322\n",
       "2016-04-30              1.398836              1.478015              1.587453\n",
       "2016-05-31              1.554886              1.422383              1.302446\n",
       "...                          ...                   ...                   ...\n",
       "2022-08-31              2.044750              2.049197              1.972254\n",
       "2022-09-30              2.065027              1.917514              2.434944\n",
       "2022-10-31              2.381360              2.628388              2.089640\n",
       "2022-11-30              2.850416              2.792700              2.478073\n",
       "2022-12-31              2.799128              3.236758              2.937299\n",
       "\n",
       "[84 rows x 3 columns]"
      ]
     },
     "execution_count": 28,
     "metadata": {},
     "output_type": "execute_result"
    }
   ],
   "source": [
    "services_cat_prediction"
   ]
  },
  {
   "cell_type": "code",
   "execution_count": 29,
   "metadata": {},
   "outputs": [],
   "source": [
    "mine_g.save_forecast(forecast_result_df=services_cat_prediction.reset_index(drop=True), cat_file_path=save_cat_file_path)"
   ]
  }
 ],
 "metadata": {
  "kernelspec": {
   "display_name": "thesis",
   "language": "python",
   "name": "python3"
  },
  "language_info": {
   "codemirror_mode": {
    "name": "ipython",
    "version": 3
   },
   "file_extension": ".py",
   "mimetype": "text/x-python",
   "name": "python",
   "nbconvert_exporter": "python",
   "pygments_lexer": "ipython3",
   "version": "3.11.7"
  }
 },
 "nbformat": 4,
 "nbformat_minor": 2
}
