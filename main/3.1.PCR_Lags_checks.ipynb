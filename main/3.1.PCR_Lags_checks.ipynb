{
 "cells": [
  {
   "cell_type": "markdown",
   "metadata": {},
   "source": [
    "I know that there's a lot of repeated code, but maybe later :)"
   ]
  },
  {
   "cell_type": "code",
   "execution_count": 1,
   "metadata": {},
   "outputs": [],
   "source": [
    "from os import chdir\n",
    "chdir('/Users/lananhnguyen/Desktop/thesis/thesis_code')\n",
    "import main.packages.mine_generic as mine_g\n",
    "import pandas as pd\n",
    "import numpy as np\n",
    "import matplotlib.pyplot as plt\n",
    "import seaborn as sns \n",
    "\n",
    "from sklearn.model_selection import TimeSeriesSplit\n",
    "from sklearn.preprocessing import StandardScaler\n",
    "from sklearn.linear_model import LinearRegression\n",
    "from sklearn.metrics import mean_squared_error\n",
    "from sklearn.pipeline import Pipeline\n",
    "from sklearn.decomposition import PCA"
   ]
  },
  {
   "cell_type": "markdown",
   "metadata": {},
   "source": [
    "# Food:"
   ]
  },
  {
   "cell_type": "code",
   "execution_count": 2,
   "metadata": {},
   "outputs": [
    {
     "name": "stdout",
     "output_type": "stream",
     "text": [
      "Number of items in Food group:  180\n"
     ]
    },
    {
     "name": "stderr",
     "output_type": "stream",
     "text": [
      "/var/folders/74/zq2msw1x2fj9j2zyq8njktnc0000gn/T/ipykernel_17121/3504753649.py:17: SettingWithCopyWarning: \n",
      "A value is trying to be set on a copy of a slice from a DataFrame\n",
      "\n",
      "See the caveats in the documentation: https://pandas.pydata.org/pandas-docs/stable/user_guide/indexing.html#returning-a-view-versus-a-copy\n",
      "  cat_df.dropna(axis=1, inplace=True)\n"
     ]
    }
   ],
   "source": [
    "hicp_all_path = 'data/preprocessed/hicp_yoy.csv'\n",
    "hicp_class_path = 'data/HICP_COICOP10s.xlsx'\n",
    "\n",
    "cat_short = 'food'\n",
    "hicp_cat_path = f'data/preprocessed/{cat_short}_yoy_infl.csv'\n",
    "category = 'Food'\n",
    "save_cat_file_path = f'data/forecast_results/{cat_short}_forecast.csv'\n",
    "\n",
    "HICP_monthly, HICP_class, HICP_cat = mine_g.import_data_all(hicp_all_path=hicp_all_path,\n",
    "                                                     hicp_class_path=hicp_class_path,\n",
    "                                                     hicp_cat_path=hicp_cat_path)\n",
    "\n",
    "cat_df = mine_g.split_into_category(category=category,\n",
    "                             HICP_class=HICP_class,\n",
    "                             HICP_monthly=HICP_monthly,\n",
    "                             fillna=False)\n",
    "cat_df.dropna(axis=1, inplace=True)"
   ]
  },
  {
   "cell_type": "code",
   "execution_count": 3,
   "metadata": {},
   "outputs": [],
   "source": [
    "import statsmodels.api as sm\n",
    "\n",
    "max_lag = 12\n",
    "\n",
    "def train_pca(X_train,n_components):\n",
    "    #X_train = cat_df[cat_df.index <= '2015-12-31'].fillna(0)\n",
    "    scaler = StandardScaler()\n",
    "    X_train_scaled = scaler.fit_transform(X_train)\n",
    "\n",
    "    pca = PCA(n_components = n_components)\n",
    "\n",
    "    factor_train = pd.DataFrame(pca.fit_transform(X_train_scaled))\n",
    "    return factor_train\n",
    "\n",
    "\n",
    "# Function to fit OLS model with a given lag length and calculate BIC\n",
    "def tune_lags_pca_regress_bic(X_train, y_train, lags, horizon = 1, verbose = 1):\n",
    "\n",
    "\n",
    "    # PCA:\n",
    "    X_train_temp = X_train.iloc[:-horizon, :]\n",
    "\n",
    "    factor_train = train_pca(X_train_temp,n_components=5)\n",
    "    # lagged values of y:\n",
    "    y_lagged = pd.DataFrame()\n",
    "    for lag in range(0, lags + 1):\n",
    "        y_lagged[f'Lag_{lag}'] = y_train.shift(lag)\n",
    "\n",
    "    # Combine lagged values and additional predictors\n",
    "    X_pca_with_lags = pd.concat([y_lagged.reset_index(), factor_train], axis= 1)\n",
    "    X_pca_with_lags.dropna(inplace=True)\n",
    "    X_pca_with_lags = X_pca_with_lags.reset_index(drop=True)\n",
    "\n",
    "    date_here = X_pca_with_lags.loc[:, 'date']\n",
    "    X_pca_with_lags = X_pca_with_lags.drop(columns='date')\n",
    "    X_pca_with_lags_with_const = sm.add_constant(X_pca_with_lags)\n",
    "\n",
    "    # y:\n",
    "    y_train_temp = y_train[lags+horizon:]\n",
    "\n",
    "\n",
    "    # Fit OLS regression model\n",
    "    model = sm.OLS(y_train_temp.reset_index(drop = True), X_pca_with_lags_with_const)\n",
    "    results = model.fit()\n",
    "    \n",
    "    # Calculate BIC\n",
    "    bic = results.bic\n",
    "    \n",
    "    if verbose == 1:\n",
    "        print(f'Horizon {horizon}, lag {lags}')\n",
    "        print(f'X period: {date_here.iloc[0]} - {date_here.iloc[-1]}')\n",
    "        print(f'y period: {y_train_temp.index[0]} - {y_train_temp.index[-1]}')\n",
    "\n",
    "    return bic\n"
   ]
  },
  {
   "cell_type": "code",
   "execution_count": 4,
   "metadata": {},
   "outputs": [
    {
     "name": "stdout",
     "output_type": "stream",
     "text": [
      "Horizon: 1\n",
      "Training predictor period: 1997-01-31 00:00:00 to 2015-11-30 00:00:00\n",
      "Training dependent variable period: 1997-02-28 00:00:00 to 2015-12-31 00:00:00\n",
      "Horizon 1, lag 0\n",
      "X period: 1997-02-28 00:00:00 - 2015-11-30 00:00:00\n",
      "y period: 1997-03-31 00:00:00 - 2015-12-31 00:00:00\n",
      "Horizon 1, lag 1\n",
      "X period: 1997-03-31 00:00:00 - 2015-11-30 00:00:00\n",
      "y period: 1997-04-30 00:00:00 - 2015-12-31 00:00:00\n",
      "Horizon 1, lag 2\n",
      "X period: 1997-04-30 00:00:00 - 2015-11-30 00:00:00\n",
      "y period: 1997-05-31 00:00:00 - 2015-12-31 00:00:00\n",
      "Horizon 1, lag 3\n",
      "X period: 1997-05-31 00:00:00 - 2015-11-30 00:00:00\n",
      "y period: 1997-06-30 00:00:00 - 2015-12-31 00:00:00\n",
      "Horizon 1, lag 4\n",
      "X period: 1997-06-30 00:00:00 - 2015-11-30 00:00:00\n",
      "y period: 1997-07-31 00:00:00 - 2015-12-31 00:00:00\n",
      "Horizon 1, lag 5\n",
      "X period: 1997-07-31 00:00:00 - 2015-11-30 00:00:00\n",
      "y period: 1997-08-31 00:00:00 - 2015-12-31 00:00:00\n",
      "Horizon 1, lag 6\n",
      "X period: 1997-08-31 00:00:00 - 2015-11-30 00:00:00\n",
      "y period: 1997-09-30 00:00:00 - 2015-12-31 00:00:00\n",
      "Horizon 1, lag 7\n",
      "X period: 1997-09-30 00:00:00 - 2015-11-30 00:00:00\n",
      "y period: 1997-10-31 00:00:00 - 2015-12-31 00:00:00\n",
      "Horizon 1, lag 8\n",
      "X period: 1997-10-31 00:00:00 - 2015-11-30 00:00:00\n",
      "y period: 1997-11-30 00:00:00 - 2015-12-31 00:00:00\n",
      "Horizon 1, lag 9\n",
      "X period: 1997-11-30 00:00:00 - 2015-11-30 00:00:00\n",
      "y period: 1997-12-31 00:00:00 - 2015-12-31 00:00:00\n",
      "Horizon 1, lag 10\n",
      "X period: 1997-12-31 00:00:00 - 2015-11-30 00:00:00\n",
      "y period: 1998-01-31 00:00:00 - 2015-12-31 00:00:00\n",
      "Horizon 1, lag 11\n",
      "X period: 1998-01-31 00:00:00 - 2015-11-30 00:00:00\n",
      "y period: 1998-02-28 00:00:00 - 2015-12-31 00:00:00\n",
      "Horizon 1, lag 12\n",
      "X period: 1998-02-28 00:00:00 - 2015-11-30 00:00:00\n",
      "y period: 1998-03-31 00:00:00 - 2015-12-31 00:00:00\n",
      "BIC values for different lag lengths: [407.233633041515, 404.52958381689126, 407.2446676554149, 410.38921722258794, 414.3708003130606, 418.5365443798738, 422.1053197623593, 423.17760184886794, 427.13311629379024, 408.7126151299491, 412.86882358713126, 415.47242851040636, 391.70483762412675]\n",
      "Optimal lag length chosen by BIC: 12\n",
      "Lowest BIC: 391.70483762412675\n"
     ]
    }
   ],
   "source": [
    "horizon = 1\n",
    "n_components = 5\n",
    "\n",
    "X_train, X_test, y_train, y_test = mine_g.split_train_test_set(X = cat_df, y = HICP_cat, h = horizon)\n",
    "\n",
    "bic_values_h1 = []\n",
    "\n",
    "for lags in range(0, max_lag+1):\n",
    "    bic = tune_lags_pca_regress_bic(X_train, y_train, lags, horizon=horizon)\n",
    "    bic_values_h1.append(bic)\n",
    "\n",
    "# Find the lag length with the lowest BIC\n",
    "optimal_lag = np.argmin(bic_values_h1)\n",
    "lowest_bic = min(bic_values_h1)\n",
    "\n",
    "print(\"BIC values for different lag lengths:\", bic_values_h1)\n",
    "print(\"Optimal lag length chosen by BIC:\", optimal_lag)\n",
    "print(\"Lowest BIC:\", lowest_bic)"
   ]
  },
  {
   "cell_type": "code",
   "execution_count": 5,
   "metadata": {},
   "outputs": [
    {
     "name": "stdout",
     "output_type": "stream",
     "text": [
      "Horizon: 2\n",
      "Training predictor period: 1997-01-31 00:00:00 to 2015-10-31 00:00:00\n",
      "Training dependent variable period: 1997-03-31 00:00:00 to 2015-12-31 00:00:00\n",
      "Horizon 2, lag 0\n",
      "X period: 1997-03-31 00:00:00 - 2015-10-31 00:00:00\n",
      "y period: 1997-05-31 00:00:00 - 2015-12-31 00:00:00\n",
      "Horizon 2, lag 1\n",
      "X period: 1997-04-30 00:00:00 - 2015-10-31 00:00:00\n",
      "y period: 1997-06-30 00:00:00 - 2015-12-31 00:00:00\n",
      "Horizon 2, lag 2\n",
      "X period: 1997-05-31 00:00:00 - 2015-10-31 00:00:00\n",
      "y period: 1997-07-31 00:00:00 - 2015-12-31 00:00:00\n",
      "Horizon 2, lag 3\n",
      "X period: 1997-06-30 00:00:00 - 2015-10-31 00:00:00\n",
      "y period: 1997-08-31 00:00:00 - 2015-12-31 00:00:00\n",
      "Horizon 2, lag 4\n",
      "X period: 1997-07-31 00:00:00 - 2015-10-31 00:00:00\n",
      "y period: 1997-09-30 00:00:00 - 2015-12-31 00:00:00\n",
      "Horizon 2, lag 5\n",
      "X period: 1997-08-31 00:00:00 - 2015-10-31 00:00:00\n",
      "y period: 1997-10-31 00:00:00 - 2015-12-31 00:00:00\n",
      "Horizon 2, lag 6\n",
      "X period: 1997-09-30 00:00:00 - 2015-10-31 00:00:00\n",
      "y period: 1997-11-30 00:00:00 - 2015-12-31 00:00:00\n",
      "Horizon 2, lag 7\n",
      "X period: 1997-10-31 00:00:00 - 2015-10-31 00:00:00\n",
      "y period: 1997-12-31 00:00:00 - 2015-12-31 00:00:00\n",
      "Horizon 2, lag 8\n",
      "X period: 1997-11-30 00:00:00 - 2015-10-31 00:00:00\n",
      "y period: 1998-01-31 00:00:00 - 2015-12-31 00:00:00\n",
      "Horizon 2, lag 9\n",
      "X period: 1997-12-31 00:00:00 - 2015-10-31 00:00:00\n",
      "y period: 1998-02-28 00:00:00 - 2015-12-31 00:00:00\n",
      "Horizon 2, lag 10\n",
      "X period: 1998-01-31 00:00:00 - 2015-10-31 00:00:00\n",
      "y period: 1998-03-31 00:00:00 - 2015-12-31 00:00:00\n",
      "Horizon 2, lag 11\n",
      "X period: 1998-02-28 00:00:00 - 2015-10-31 00:00:00\n",
      "y period: 1998-04-30 00:00:00 - 2015-12-31 00:00:00\n",
      "Horizon 2, lag 12\n",
      "X period: 1998-03-31 00:00:00 - 2015-10-31 00:00:00\n",
      "y period: 1998-05-31 00:00:00 - 2015-12-31 00:00:00\n",
      "BIC values for different lag lengths: [558.9829459244851, 558.080354402522, 560.7115140025039, 564.7261574009696, 567.5723366470547, 569.6805490313914, 568.73671810985, 568.9027774074369, 556.5870664158117, 550.5026304714736, 550.7456225967546, 538.8190574327468, 534.1463414113227]\n",
      "Optimal lag length chosen by BIC: 12\n",
      "Lowest BIC: 534.1463414113227\n"
     ]
    }
   ],
   "source": [
    "horizon = 2\n",
    "n_components = 5\n",
    "\n",
    "X_train, X_test, y_train, y_test = mine_g.split_train_test_set(X = cat_df, y = HICP_cat, h = horizon)\n",
    "\n",
    "bic_values_h1 = []\n",
    "\n",
    "for lags in range(0, max_lag+1):\n",
    "    bic = tune_lags_pca_regress_bic(X_train, y_train, lags, horizon=horizon)\n",
    "    bic_values_h1.append(bic)\n",
    "\n",
    "# Find the lag length with the lowest BIC\n",
    "optimal_lag = np.argmin(bic_values_h1)\n",
    "lowest_bic = min(bic_values_h1)\n",
    "\n",
    "print(\"BIC values for different lag lengths:\", bic_values_h1)\n",
    "print(\"Optimal lag length chosen by BIC:\", optimal_lag)\n",
    "print(\"Lowest BIC:\", lowest_bic)"
   ]
  },
  {
   "cell_type": "code",
   "execution_count": 6,
   "metadata": {},
   "outputs": [
    {
     "name": "stdout",
     "output_type": "stream",
     "text": [
      "Horizon: 3\n",
      "Training predictor period: 1997-01-31 00:00:00 to 2015-09-30 00:00:00\n",
      "Training dependent variable period: 1997-04-30 00:00:00 to 2015-12-31 00:00:00\n",
      "Horizon 3, lag 0\n",
      "X period: 1997-04-30 00:00:00 - 2015-09-30 00:00:00\n",
      "y period: 1997-07-31 00:00:00 - 2015-12-31 00:00:00\n",
      "Horizon 3, lag 1\n",
      "X period: 1997-05-31 00:00:00 - 2015-09-30 00:00:00\n",
      "y period: 1997-08-31 00:00:00 - 2015-12-31 00:00:00\n",
      "Horizon 3, lag 2\n",
      "X period: 1997-06-30 00:00:00 - 2015-09-30 00:00:00\n",
      "y period: 1997-09-30 00:00:00 - 2015-12-31 00:00:00\n",
      "Horizon 3, lag 3\n",
      "X period: 1997-07-31 00:00:00 - 2015-09-30 00:00:00\n",
      "y period: 1997-10-31 00:00:00 - 2015-12-31 00:00:00\n",
      "Horizon 3, lag 4\n",
      "X period: 1997-08-31 00:00:00 - 2015-09-30 00:00:00\n",
      "y period: 1997-11-30 00:00:00 - 2015-12-31 00:00:00\n",
      "Horizon 3, lag 5\n",
      "X period: 1997-09-30 00:00:00 - 2015-09-30 00:00:00\n",
      "y period: 1997-12-31 00:00:00 - 2015-12-31 00:00:00\n",
      "Horizon 3, lag 6\n",
      "X period: 1997-10-31 00:00:00 - 2015-09-30 00:00:00\n",
      "y period: 1998-01-31 00:00:00 - 2015-12-31 00:00:00\n",
      "Horizon 3, lag 7\n",
      "X period: 1997-11-30 00:00:00 - 2015-09-30 00:00:00\n",
      "y period: 1998-02-28 00:00:00 - 2015-12-31 00:00:00\n",
      "Horizon 3, lag 8\n",
      "X period: 1997-12-31 00:00:00 - 2015-09-30 00:00:00\n",
      "y period: 1998-03-31 00:00:00 - 2015-12-31 00:00:00\n",
      "Horizon 3, lag 9\n",
      "X period: 1998-01-31 00:00:00 - 2015-09-30 00:00:00\n",
      "y period: 1998-04-30 00:00:00 - 2015-12-31 00:00:00\n",
      "Horizon 3, lag 10\n",
      "X period: 1998-02-28 00:00:00 - 2015-09-30 00:00:00\n",
      "y period: 1998-05-31 00:00:00 - 2015-12-31 00:00:00\n",
      "Horizon 3, lag 11\n",
      "X period: 1998-03-31 00:00:00 - 2015-09-30 00:00:00\n",
      "y period: 1998-06-30 00:00:00 - 2015-12-31 00:00:00\n",
      "Horizon 3, lag 12\n",
      "X period: 1998-04-30 00:00:00 - 2015-09-30 00:00:00\n",
      "y period: 1998-07-31 00:00:00 - 2015-12-31 00:00:00\n",
      "BIC values for different lag lengths: [637.9989119680301, 640.7390132509976, 644.3481482634384, 647.9176401675396, 649.4641844693482, 648.8609383293203, 646.8460727485601, 628.7407378174062, 619.7197439848217, 614.9468606656098, 607.3213785361952, 604.9197656501095, 604.7408286013213]\n",
      "Optimal lag length chosen by BIC: 12\n",
      "Lowest BIC: 604.7408286013213\n"
     ]
    }
   ],
   "source": [
    "horizon = 3\n",
    "n_components = 5\n",
    "\n",
    "X_train, X_test, y_train, y_test = mine_g.split_train_test_set(X = cat_df, y = HICP_cat, h = horizon)\n",
    "\n",
    "bic_values_h1 = []\n",
    "\n",
    "for lags in range(0, max_lag+1):\n",
    "    bic = tune_lags_pca_regress_bic(X_train, y_train, lags, horizon=horizon)\n",
    "    bic_values_h1.append(bic)\n",
    "\n",
    "# Find the lag length with the lowest BIC\n",
    "optimal_lag = np.argmin(bic_values_h1)\n",
    "lowest_bic = min(bic_values_h1)\n",
    "\n",
    "print(\"BIC values for different lag lengths:\", bic_values_h1)\n",
    "print(\"Optimal lag length chosen by BIC:\", optimal_lag)\n",
    "print(\"Lowest BIC:\", lowest_bic)"
   ]
  },
  {
   "cell_type": "markdown",
   "metadata": {},
   "source": [
    "# Energy:"
   ]
  },
  {
   "cell_type": "code",
   "execution_count": 7,
   "metadata": {},
   "outputs": [
    {
     "name": "stdout",
     "output_type": "stream",
     "text": [
      "Number of items in Energy group:  14\n"
     ]
    },
    {
     "name": "stderr",
     "output_type": "stream",
     "text": [
      "/var/folders/74/zq2msw1x2fj9j2zyq8njktnc0000gn/T/ipykernel_17121/4043291461.py:16: SettingWithCopyWarning: \n",
      "A value is trying to be set on a copy of a slice from a DataFrame\n",
      "\n",
      "See the caveats in the documentation: https://pandas.pydata.org/pandas-docs/stable/user_guide/indexing.html#returning-a-view-versus-a-copy\n",
      "  cat_df.dropna(axis=1, inplace=True)\n"
     ]
    }
   ],
   "source": [
    "hicp_all_path = 'data/preprocessed/hicp_yoy.csv'\n",
    "hicp_class_path = 'data/HICP_COICOP10s.xlsx'\n",
    "\n",
    "cat_short = 'energy'\n",
    "hicp_cat_path = f'data/preprocessed/{cat_short}_yoy_infl.csv'\n",
    "category = 'Energy'\n",
    "\n",
    "HICP_monthly, HICP_class, HICP_cat = mine_g.import_data_all(hicp_all_path=hicp_all_path,\n",
    "                                                     hicp_class_path=hicp_class_path,\n",
    "                                                     hicp_cat_path=hicp_cat_path)\n",
    "\n",
    "cat_df = mine_g.split_into_category(category=category,\n",
    "                             HICP_class=HICP_class,\n",
    "                             HICP_monthly=HICP_monthly,\n",
    "                             fillna=False)\n",
    "cat_df.dropna(axis=1, inplace=True)"
   ]
  },
  {
   "cell_type": "markdown",
   "metadata": {},
   "source": [
    "## h =1"
   ]
  },
  {
   "cell_type": "code",
   "execution_count": 8,
   "metadata": {},
   "outputs": [
    {
     "name": "stdout",
     "output_type": "stream",
     "text": [
      "Horizon: 1\n",
      "Training predictor period: 1997-01-31 00:00:00 to 2015-11-30 00:00:00\n",
      "Training dependent variable period: 1997-02-28 00:00:00 to 2015-12-31 00:00:00\n"
     ]
    }
   ],
   "source": [
    "horizon = 1\n",
    "X_train, X_test, y_train, y_test = mine_g.split_train_test_set(X = cat_df, y = HICP_cat, h = horizon)"
   ]
  },
  {
   "cell_type": "code",
   "execution_count": 9,
   "metadata": {},
   "outputs": [
    {
     "data": {
      "text/plain": [
       "(312, 12)"
      ]
     },
     "execution_count": 9,
     "metadata": {},
     "output_type": "execute_result"
    }
   ],
   "source": [
    "cat_df.shape"
   ]
  },
  {
   "cell_type": "code",
   "execution_count": 10,
   "metadata": {},
   "outputs": [
    {
     "data": {
      "image/png": "[encoded data removed]",
      "text/plain": [
       "<Figure size 1200x600 with 1 Axes>"
      ]
     },
     "metadata": {},
     "output_type": "display_data"
    }
   ],
   "source": [
    "\n",
    "# Scale the data\n",
    "scaler = StandardScaler()\n",
    "X_train_scaled = scaler.fit_transform(X_train)\n",
    "\n",
    "# Define a range of n_components to explore\n",
    "n_components_range = range(1, cat_df.shape[1], 1)  # Adjust max components\n",
    "\n",
    "# Create an empty list to store explained variance ratios\n",
    "explained_variance = []\n",
    "\n",
    "# Loop through n_components values\n",
    "for n in n_components_range:\n",
    "    # Create a PCA object with the current n_components\n",
    "    pca = PCA(n_components=n)\n",
    "\n",
    "    # Fit the PCA model on the data\n",
    "    pca.fit(X_train_scaled)\n",
    "\n",
    "    # Get the explained variance ratio\n",
    "    explained_variance.append(pca.explained_variance_ratio_.sum())\n",
    "\n",
    "# Plot the explained variance ratio vs n_components\n",
    "plt.figure(figsize=(12, 6))\n",
    "plt.plot(n_components_range, explained_variance, marker='o', linestyle='-')\n",
    "plt.xlabel('Number of Components')\n",
    "plt.ylabel('Explained Variance Ratio')\n",
    "plt.title('Explained Variance Ratio vs Number of PCA Components')\n",
    "plt.grid(True)\n",
    "\n",
    "# Optional: Add a threshold line (e.g., 0.9) to visually identify an elbow point\n",
    "plt.axhline(y=0.95, color='r', linestyle='--', label='Threshold 0.95')\n",
    "\n",
    "plt.legend()\n",
    "\n",
    "# Show the plot\n",
    "plt.tight_layout()\n",
    "plt.show()\n"
   ]
  },
  {
   "cell_type": "code",
   "execution_count": 11,
   "metadata": {},
   "outputs": [
    {
     "name": "stdout",
     "output_type": "stream",
     "text": [
      "Horizon 1, lag 0\n",
      "X period: 1997-02-28 00:00:00 - 2015-11-30 00:00:00\n",
      "y period: 1997-03-31 00:00:00 - 2015-12-31 00:00:00\n",
      "Horizon 1, lag 1\n",
      "X period: 1997-03-31 00:00:00 - 2015-11-30 00:00:00\n",
      "y period: 1997-04-30 00:00:00 - 2015-12-31 00:00:00\n",
      "Horizon 1, lag 2\n",
      "X period: 1997-04-30 00:00:00 - 2015-11-30 00:00:00\n",
      "y period: 1997-05-31 00:00:00 - 2015-12-31 00:00:00\n",
      "Horizon 1, lag 3\n",
      "X period: 1997-05-31 00:00:00 - 2015-11-30 00:00:00\n",
      "y period: 1997-06-30 00:00:00 - 2015-12-31 00:00:00\n",
      "Horizon 1, lag 4\n",
      "X period: 1997-06-30 00:00:00 - 2015-11-30 00:00:00\n",
      "y period: 1997-07-31 00:00:00 - 2015-12-31 00:00:00\n",
      "Horizon 1, lag 5\n",
      "X period: 1997-07-31 00:00:00 - 2015-11-30 00:00:00\n",
      "y period: 1997-08-31 00:00:00 - 2015-12-31 00:00:00\n",
      "Horizon 1, lag 6\n",
      "X period: 1997-08-31 00:00:00 - 2015-11-30 00:00:00\n",
      "y period: 1997-09-30 00:00:00 - 2015-12-31 00:00:00\n",
      "Horizon 1, lag 7\n",
      "X period: 1997-09-30 00:00:00 - 2015-11-30 00:00:00\n",
      "y period: 1997-10-31 00:00:00 - 2015-12-31 00:00:00\n",
      "Horizon 1, lag 8\n",
      "X period: 1997-10-31 00:00:00 - 2015-11-30 00:00:00\n",
      "y period: 1997-11-30 00:00:00 - 2015-12-31 00:00:00\n",
      "Horizon 1, lag 9\n",
      "X period: 1997-11-30 00:00:00 - 2015-11-30 00:00:00\n",
      "y period: 1997-12-31 00:00:00 - 2015-12-31 00:00:00\n",
      "Horizon 1, lag 10\n",
      "X period: 1997-12-31 00:00:00 - 2015-11-30 00:00:00\n",
      "y period: 1998-01-31 00:00:00 - 2015-12-31 00:00:00\n",
      "Horizon 1, lag 11\n",
      "X period: 1998-01-31 00:00:00 - 2015-11-30 00:00:00\n",
      "y period: 1998-02-28 00:00:00 - 2015-12-31 00:00:00\n",
      "Horizon 1, lag 12\n",
      "X period: 1998-02-28 00:00:00 - 2015-11-30 00:00:00\n",
      "y period: 1998-03-31 00:00:00 - 2015-12-31 00:00:00\n",
      "BIC values for different lag lengths: [1014.2301451919113, 1009.1892132384668, 1009.4556135211169, 1011.4709239109513, 1012.2637078871616, 1014.1446203875589, 1014.4687184011899, 1014.9822328042351, 1016.1101568120203, 1017.7488704730881, 1015.7645704866508, 983.1066617802319, 958.116504138719]\n",
      "Optimal lag length chosen by BIC: 12\n",
      "Lowest BIC: 958.116504138719\n"
     ]
    }
   ],
   "source": [
    "n_components = 3\n",
    "\n",
    "bic_values_h1 = []\n",
    "\n",
    "for lags in range(0, max_lag+1):\n",
    "    bic = tune_lags_pca_regress_bic(X_train, y_train, lags, horizon=horizon)\n",
    "    bic_values_h1.append(bic)\n",
    "\n",
    "# Find the lag length with the lowest BIC\n",
    "optimal_lag = np.argmin(bic_values_h1)\n",
    "lowest_bic = min(bic_values_h1)\n",
    "\n",
    "print(\"BIC values for different lag lengths:\", bic_values_h1)\n",
    "print(\"Optimal lag length chosen by BIC:\", optimal_lag)\n",
    "print(\"Lowest BIC:\", lowest_bic)"
   ]
  },
  {
   "cell_type": "markdown",
   "metadata": {},
   "source": [
    "## h =2"
   ]
  },
  {
   "cell_type": "code",
   "execution_count": 12,
   "metadata": {},
   "outputs": [
    {
     "name": "stdout",
     "output_type": "stream",
     "text": [
      "Horizon: 2\n",
      "Training predictor period: 1997-01-31 00:00:00 to 2015-10-31 00:00:00\n",
      "Training dependent variable period: 1997-03-31 00:00:00 to 2015-12-31 00:00:00\n"
     ]
    }
   ],
   "source": [
    "horizon = 2\n",
    "X_train, X_test, y_train, y_test = mine_g.split_train_test_set(X = cat_df, y = HICP_cat, h = horizon)\n"
   ]
  },
  {
   "cell_type": "code",
   "execution_count": 14,
   "metadata": {},
   "outputs": [
    {
     "name": "stdout",
     "output_type": "stream",
     "text": [
      "Horizon 2, lag 0\n",
      "X period: 1997-03-31 00:00:00 - 2015-10-31 00:00:00\n",
      "y period: 1997-05-31 00:00:00 - 2015-12-31 00:00:00\n",
      "Horizon 2, lag 1\n",
      "X period: 1997-04-30 00:00:00 - 2015-10-31 00:00:00\n",
      "y period: 1997-06-30 00:00:00 - 2015-12-31 00:00:00\n",
      "Horizon 2, lag 2\n",
      "X period: 1997-05-31 00:00:00 - 2015-10-31 00:00:00\n",
      "y period: 1997-07-31 00:00:00 - 2015-12-31 00:00:00\n",
      "Horizon 2, lag 3\n",
      "X period: 1997-06-30 00:00:00 - 2015-10-31 00:00:00\n",
      "y period: 1997-08-31 00:00:00 - 2015-12-31 00:00:00\n",
      "Horizon 2, lag 4\n",
      "X period: 1997-07-31 00:00:00 - 2015-10-31 00:00:00\n",
      "y period: 1997-09-30 00:00:00 - 2015-12-31 00:00:00\n",
      "Horizon 2, lag 5\n",
      "X period: 1997-08-31 00:00:00 - 2015-10-31 00:00:00\n",
      "y period: 1997-10-31 00:00:00 - 2015-12-31 00:00:00\n",
      "Horizon 2, lag 6\n",
      "X period: 1997-09-30 00:00:00 - 2015-10-31 00:00:00\n",
      "y period: 1997-11-30 00:00:00 - 2015-12-31 00:00:00\n",
      "Horizon 2, lag 7\n",
      "X period: 1997-10-31 00:00:00 - 2015-10-31 00:00:00\n",
      "y period: 1997-12-31 00:00:00 - 2015-12-31 00:00:00\n",
      "Horizon 2, lag 8\n",
      "X period: 1997-11-30 00:00:00 - 2015-10-31 00:00:00\n",
      "y period: 1998-01-31 00:00:00 - 2015-12-31 00:00:00\n",
      "Horizon 2, lag 9\n",
      "X period: 1997-12-31 00:00:00 - 2015-10-31 00:00:00\n",
      "y period: 1998-02-28 00:00:00 - 2015-12-31 00:00:00\n",
      "Horizon 2, lag 10\n",
      "X period: 1998-01-31 00:00:00 - 2015-10-31 00:00:00\n",
      "y period: 1998-03-31 00:00:00 - 2015-12-31 00:00:00\n",
      "Horizon 2, lag 11\n",
      "X period: 1998-02-28 00:00:00 - 2015-10-31 00:00:00\n",
      "y period: 1998-04-30 00:00:00 - 2015-12-31 00:00:00\n",
      "Horizon 2, lag 12\n",
      "X period: 1998-03-31 00:00:00 - 2015-10-31 00:00:00\n",
      "y period: 1998-05-31 00:00:00 - 2015-12-31 00:00:00\n",
      "BIC values for different lag lengths: [1151.1138158843962, 1151.6383653359087, 1144.9740891371227, 1146.3052244317244, 1146.7679600981342, 1147.9497432455023, 1149.017907099559, 1150.2825698981544, 1150.6591443408288, 1148.1504014406312, 1113.1892551263697, 1113.8137960400575, 1088.3585290776678]\n",
      "Optimal lag length chosen by BIC: 12\n",
      "Lowest BIC: 1088.3585290776678\n"
     ]
    }
   ],
   "source": [
    "n_components = 3\n",
    "bic_values_h2 = []\n",
    "\n",
    "for lags in range(0, max_lag+1):\n",
    "    bic = tune_lags_pca_regress_bic(X_train, y_train, lags, horizon=horizon)\n",
    "    bic_values_h2.append(bic)\n",
    "\n",
    "# Find the lag length with the lowest BIC\n",
    "optimal_lag = np.argmin(bic_values_h2)\n",
    "lowest_bic = min(bic_values_h2)\n",
    "\n",
    "print(\"BIC values for different lag lengths:\", bic_values_h2)\n",
    "print(\"Optimal lag length chosen by BIC:\", optimal_lag)\n",
    "print(\"Lowest BIC:\", lowest_bic)"
   ]
  },
  {
   "cell_type": "markdown",
   "metadata": {},
   "source": [
    "## h = 3"
   ]
  },
  {
   "cell_type": "code",
   "execution_count": 15,
   "metadata": {},
   "outputs": [
    {
     "name": "stdout",
     "output_type": "stream",
     "text": [
      "Horizon: 3\n",
      "Training predictor period: 1997-01-31 00:00:00 to 2015-09-30 00:00:00\n",
      "Training dependent variable period: 1997-04-30 00:00:00 to 2015-12-31 00:00:00\n",
      "BIC values for different lag lengths: [1211.2840383853195, 1211.4891724205283, 1211.5908490125967, 1198.1402723080225, 1198.2927707046333, 1199.236484113068, 1200.3226104044795, 1200.7665182014866, 1198.3681856108865, 1169.0834193375229, 1165.718723348958, 1166.626403573112, 1155.228377018769]\n",
      "Optimal lag length chosen by BIC: 12\n",
      "Lowest BIC: 1155.228377018769\n"
     ]
    }
   ],
   "source": [
    "horizon = 3\n",
    "n_components = 3\n",
    "\n",
    "X_train, X_test, y_train, y_test = mine_g.split_train_test_set(X = cat_df, y = HICP_cat, h = horizon)\n",
    "\n",
    "bic_values_h3 = []\n",
    "\n",
    "for lags in range(0, max_lag+1):\n",
    "    bic = tune_lags_pca_regress_bic(X_train, y_train, lags, horizon=horizon, verbose=0)\n",
    "    bic_values_h3.append(bic)\n",
    "\n",
    "# Find the lag length with the lowest BIC\n",
    "optimal_lag = np.argmin(bic_values_h3)\n",
    "lowest_bic = min(bic_values_h3)\n",
    "\n",
    "print(\"BIC values for different lag lengths:\", bic_values_h3)\n",
    "print(\"Optimal lag length chosen by BIC:\", optimal_lag)\n",
    "print(\"Lowest BIC:\", lowest_bic)"
   ]
  },
  {
   "cell_type": "markdown",
   "metadata": {},
   "source": [
    "# Services:"
   ]
  },
  {
   "cell_type": "code",
   "execution_count": 16,
   "metadata": {},
   "outputs": [
    {
     "name": "stdout",
     "output_type": "stream",
     "text": [
      "Number of items in Services group:  148\n"
     ]
    },
    {
     "name": "stderr",
     "output_type": "stream",
     "text": [
      "/var/folders/74/zq2msw1x2fj9j2zyq8njktnc0000gn/T/ipykernel_17121/2612157746.py:13: SettingWithCopyWarning: \n",
      "A value is trying to be set on a copy of a slice from a DataFrame\n",
      "\n",
      "See the caveats in the documentation: https://pandas.pydata.org/pandas-docs/stable/user_guide/indexing.html#returning-a-view-versus-a-copy\n",
      "  cat_df.dropna(axis=1, inplace=True)\n"
     ]
    }
   ],
   "source": [
    "cat_short = 'services'\n",
    "hicp_cat_path = f'data/preprocessed/{cat_short}_yoy_infl.csv'\n",
    "category = 'Services'\n",
    "\n",
    "HICP_monthly, HICP_class, HICP_cat = mine_g.import_data_all(hicp_all_path=hicp_all_path,\n",
    "                                                     hicp_class_path=hicp_class_path,\n",
    "                                                     hicp_cat_path=hicp_cat_path)\n",
    "\n",
    "cat_df = mine_g.split_into_category(category=category,\n",
    "                             HICP_class=HICP_class,\n",
    "                             HICP_monthly=HICP_monthly,\n",
    "                             fillna=False)\n",
    "cat_df.dropna(axis=1, inplace=True)"
   ]
  },
  {
   "cell_type": "code",
   "execution_count": 17,
   "metadata": {},
   "outputs": [
    {
     "name": "stdout",
     "output_type": "stream",
     "text": [
      "Horizon: 1\n",
      "Training predictor period: 1997-01-31 00:00:00 to 2015-11-30 00:00:00\n",
      "Training dependent variable period: 1997-02-28 00:00:00 to 2015-12-31 00:00:00\n"
     ]
    }
   ],
   "source": [
    "horizon = 1\n",
    "X_train, X_test, y_train, y_test = mine_g.split_train_test_set(X = cat_df, y = HICP_cat, h = horizon)"
   ]
  },
  {
   "cell_type": "code",
   "execution_count": 18,
   "metadata": {},
   "outputs": [
    {
     "data": {
      "image/png": "[encoded data removed]",
      "text/plain": [
       "<Figure size 1200x600 with 1 Axes>"
      ]
     },
     "metadata": {},
     "output_type": "display_data"
    }
   ],
   "source": [
    "\n",
    "# Scale the data\n",
    "scaler = StandardScaler()\n",
    "X_train_scaled = scaler.fit_transform(X_train)\n",
    "\n",
    "# Define a range of n_components to explore\n",
    "n_components_range = range(1, 14, 1)  # Adjust max components\n",
    "\n",
    "# Create an empty list to store explained variance ratios\n",
    "explained_variance = []\n",
    "\n",
    "# Loop through n_components values\n",
    "for n in n_components_range:\n",
    "    # Create a PCA object with the current n_components\n",
    "    pca = PCA(n_components=n)\n",
    "\n",
    "    # Fit the PCA model on the data\n",
    "    pca.fit(X_train_scaled)\n",
    "\n",
    "    # Get the explained variance ratio\n",
    "    explained_variance.append(pca.explained_variance_ratio_.sum())\n",
    "\n",
    "# Plot the explained variance ratio vs n_components\n",
    "plt.figure(figsize=(12, 6))\n",
    "plt.plot(n_components_range, explained_variance, marker='o', linestyle='-')\n",
    "plt.xlabel('Number of Components')\n",
    "plt.ylabel('Explained Variance Ratio')\n",
    "plt.title('Explained Variance Ratio vs Number of PCA Components')\n",
    "plt.grid(True)\n",
    "\n",
    "# Optional: Add a threshold line (e.g., 0.9) to visually identify an elbow point\n",
    "plt.axhline(y=0.95, color='r', linestyle='--', label='Threshold 0.95')\n",
    "\n",
    "plt.legend()\n",
    "\n",
    "# Show the plot\n",
    "plt.tight_layout()\n",
    "plt.show()\n"
   ]
  },
  {
   "cell_type": "code",
   "execution_count": 19,
   "metadata": {},
   "outputs": [
    {
     "name": "stdout",
     "output_type": "stream",
     "text": [
      "Horizon 1, lag 0\n",
      "X period: 1997-02-28 00:00:00 - 2015-11-30 00:00:00\n",
      "y period: 1997-03-31 00:00:00 - 2015-12-31 00:00:00\n",
      "Horizon 1, lag 1\n",
      "X period: 1997-03-31 00:00:00 - 2015-11-30 00:00:00\n",
      "y period: 1997-04-30 00:00:00 - 2015-12-31 00:00:00\n",
      "Horizon 1, lag 2\n",
      "X period: 1997-04-30 00:00:00 - 2015-11-30 00:00:00\n",
      "y period: 1997-05-31 00:00:00 - 2015-12-31 00:00:00\n",
      "Horizon 1, lag 3\n",
      "X period: 1997-05-31 00:00:00 - 2015-11-30 00:00:00\n",
      "y period: 1997-06-30 00:00:00 - 2015-12-31 00:00:00\n",
      "Horizon 1, lag 4\n",
      "X period: 1997-06-30 00:00:00 - 2015-11-30 00:00:00\n",
      "y period: 1997-07-31 00:00:00 - 2015-12-31 00:00:00\n",
      "Horizon 1, lag 5\n",
      "X period: 1997-07-31 00:00:00 - 2015-11-30 00:00:00\n",
      "y period: 1997-08-31 00:00:00 - 2015-12-31 00:00:00\n",
      "Horizon 1, lag 6\n",
      "X period: 1997-08-31 00:00:00 - 2015-11-30 00:00:00\n",
      "y period: 1997-09-30 00:00:00 - 2015-12-31 00:00:00\n",
      "Horizon 1, lag 7\n",
      "X period: 1997-09-30 00:00:00 - 2015-11-30 00:00:00\n",
      "y period: 1997-10-31 00:00:00 - 2015-12-31 00:00:00\n",
      "Horizon 1, lag 8\n",
      "X period: 1997-10-31 00:00:00 - 2015-11-30 00:00:00\n",
      "y period: 1997-11-30 00:00:00 - 2015-12-31 00:00:00\n",
      "Horizon 1, lag 9\n",
      "X period: 1997-11-30 00:00:00 - 2015-11-30 00:00:00\n",
      "y period: 1997-12-31 00:00:00 - 2015-12-31 00:00:00\n",
      "Horizon 1, lag 10\n",
      "X period: 1997-12-31 00:00:00 - 2015-11-30 00:00:00\n",
      "y period: 1998-01-31 00:00:00 - 2015-12-31 00:00:00\n",
      "Horizon 1, lag 11\n",
      "X period: 1998-01-31 00:00:00 - 2015-11-30 00:00:00\n",
      "y period: 1998-02-28 00:00:00 - 2015-12-31 00:00:00\n",
      "Horizon 1, lag 12\n",
      "X period: 1998-02-28 00:00:00 - 2015-11-30 00:00:00\n",
      "y period: 1998-03-31 00:00:00 - 2015-12-31 00:00:00\n",
      "BIC values for different lag lengths: [277.66120917730376, 262.4291938955569, 267.095951979249, 263.1440941322934, 268.4304967279168, 265.77460790365143, 260.6294625108253, 261.46091698798455, 266.3855347755555, 269.639076541847, 273.0792819148709, 267.07401853877144, 270.6177415937186]\n",
      "Optimal lag length chosen by BIC: 6\n",
      "Lowest BIC: 260.6294625108253\n"
     ]
    }
   ],
   "source": [
    "n_components = 5\n",
    "\n",
    "bic_values_h1 = []\n",
    "\n",
    "for lags in range(0, max_lag+1):\n",
    "    bic = tune_lags_pca_regress_bic(X_train, y_train, lags, horizon=horizon)\n",
    "    bic_values_h1.append(bic)\n",
    "\n",
    "# Find the lag length with the lowest BIC\n",
    "optimal_lag = np.argmin(bic_values_h1)\n",
    "lowest_bic = min(bic_values_h1)\n",
    "\n",
    "print(\"BIC values for different lag lengths:\", bic_values_h1)\n",
    "print(\"Optimal lag length chosen by BIC:\", optimal_lag)\n",
    "print(\"Lowest BIC:\", lowest_bic)"
   ]
  },
  {
   "cell_type": "code",
   "execution_count": 20,
   "metadata": {},
   "outputs": [
    {
     "name": "stdout",
     "output_type": "stream",
     "text": [
      "Horizon: 2\n",
      "Training predictor period: 1997-01-31 00:00:00 to 2015-10-31 00:00:00\n",
      "Training dependent variable period: 1997-03-31 00:00:00 to 2015-12-31 00:00:00\n",
      "Horizon 2, lag 0\n",
      "X period: 1997-03-31 00:00:00 - 2015-10-31 00:00:00\n",
      "y period: 1997-05-31 00:00:00 - 2015-12-31 00:00:00\n",
      "Horizon 2, lag 1\n",
      "X period: 1997-04-30 00:00:00 - 2015-10-31 00:00:00\n",
      "y period: 1997-06-30 00:00:00 - 2015-12-31 00:00:00\n",
      "Horizon 2, lag 2\n",
      "X period: 1997-05-31 00:00:00 - 2015-10-31 00:00:00\n",
      "y period: 1997-07-31 00:00:00 - 2015-12-31 00:00:00\n",
      "Horizon 2, lag 3\n",
      "X period: 1997-06-30 00:00:00 - 2015-10-31 00:00:00\n",
      "y period: 1997-08-31 00:00:00 - 2015-12-31 00:00:00\n",
      "Horizon 2, lag 4\n",
      "X period: 1997-07-31 00:00:00 - 2015-10-31 00:00:00\n",
      "y period: 1997-09-30 00:00:00 - 2015-12-31 00:00:00\n",
      "Horizon 2, lag 5\n",
      "X period: 1997-08-31 00:00:00 - 2015-10-31 00:00:00\n",
      "y period: 1997-10-31 00:00:00 - 2015-12-31 00:00:00\n",
      "Horizon 2, lag 6\n",
      "X period: 1997-09-30 00:00:00 - 2015-10-31 00:00:00\n",
      "y period: 1997-11-30 00:00:00 - 2015-12-31 00:00:00\n",
      "Horizon 2, lag 7\n",
      "X period: 1997-10-31 00:00:00 - 2015-10-31 00:00:00\n",
      "y period: 1997-12-31 00:00:00 - 2015-12-31 00:00:00\n",
      "Horizon 2, lag 8\n",
      "X period: 1997-11-30 00:00:00 - 2015-10-31 00:00:00\n",
      "y period: 1998-01-31 00:00:00 - 2015-12-31 00:00:00\n",
      "Horizon 2, lag 9\n",
      "X period: 1997-12-31 00:00:00 - 2015-10-31 00:00:00\n",
      "y period: 1998-02-28 00:00:00 - 2015-12-31 00:00:00\n",
      "Horizon 2, lag 10\n",
      "X period: 1998-01-31 00:00:00 - 2015-10-31 00:00:00\n",
      "y period: 1998-03-31 00:00:00 - 2015-12-31 00:00:00\n",
      "Horizon 2, lag 11\n",
      "X period: 1998-02-28 00:00:00 - 2015-10-31 00:00:00\n",
      "y period: 1998-04-30 00:00:00 - 2015-12-31 00:00:00\n",
      "Horizon 2, lag 12\n",
      "X period: 1998-03-31 00:00:00 - 2015-10-31 00:00:00\n",
      "y period: 1998-05-31 00:00:00 - 2015-12-31 00:00:00\n",
      "BIC values for different lag lengths: [302.34893135056484, 299.76620141548426, 299.21893482169276, 301.3879797141379, 297.94983671104615, 287.61652509359584, 292.35004170601127, 295.2928182433568, 299.22152838564693, 302.1111066177584, 296.35450548397415, 300.0641704431431, 304.1196552110334]\n",
      "Optimal lag length chosen by BIC: 5\n",
      "Lowest BIC: 287.61652509359584\n"
     ]
    }
   ],
   "source": [
    "horizon = 2\n",
    "X_train, X_test, y_train, y_test = mine_g.split_train_test_set(X = cat_df, y = HICP_cat, h = horizon)\n",
    "\n",
    "n_components = 5\n",
    "\n",
    "bic_values_h2 = []\n",
    "\n",
    "for lags in range(0, max_lag+1):\n",
    "    bic = tune_lags_pca_regress_bic(X_train, y_train, lags, horizon=horizon)\n",
    "    bic_values_h2.append(bic)\n",
    "\n",
    "# Find the lag length with the lowest BIC\n",
    "optimal_lag = np.argmin(bic_values_h2)\n",
    "lowest_bic = min(bic_values_h2)\n",
    "\n",
    "print(\"BIC values for different lag lengths:\", bic_values_h2)\n",
    "print(\"Optimal lag length chosen by BIC:\", optimal_lag)\n",
    "print(\"Lowest BIC:\", lowest_bic)"
   ]
  },
  {
   "cell_type": "code",
   "execution_count": 21,
   "metadata": {},
   "outputs": [
    {
     "name": "stdout",
     "output_type": "stream",
     "text": [
      "Horizon: 3\n",
      "Training predictor period: 1997-01-31 00:00:00 to 2015-09-30 00:00:00\n",
      "Training dependent variable period: 1997-04-30 00:00:00 to 2015-12-31 00:00:00\n",
      "Horizon 3, lag 0\n",
      "X period: 1997-04-30 00:00:00 - 2015-09-30 00:00:00\n",
      "y period: 1997-07-31 00:00:00 - 2015-12-31 00:00:00\n",
      "Horizon 3, lag 1\n",
      "X period: 1997-05-31 00:00:00 - 2015-09-30 00:00:00\n",
      "y period: 1997-08-31 00:00:00 - 2015-12-31 00:00:00\n",
      "Horizon 3, lag 2\n",
      "X period: 1997-06-30 00:00:00 - 2015-09-30 00:00:00\n",
      "y period: 1997-09-30 00:00:00 - 2015-12-31 00:00:00\n",
      "Horizon 3, lag 3\n",
      "X period: 1997-07-31 00:00:00 - 2015-09-30 00:00:00\n",
      "y period: 1997-10-31 00:00:00 - 2015-12-31 00:00:00\n",
      "Horizon 3, lag 4\n",
      "X period: 1997-08-31 00:00:00 - 2015-09-30 00:00:00\n",
      "y period: 1997-11-30 00:00:00 - 2015-12-31 00:00:00\n",
      "Horizon 3, lag 5\n",
      "X period: 1997-09-30 00:00:00 - 2015-09-30 00:00:00\n",
      "y period: 1997-12-31 00:00:00 - 2015-12-31 00:00:00\n",
      "Horizon 3, lag 6\n",
      "X period: 1997-10-31 00:00:00 - 2015-09-30 00:00:00\n",
      "y period: 1998-01-31 00:00:00 - 2015-12-31 00:00:00\n",
      "Horizon 3, lag 7\n",
      "X period: 1997-11-30 00:00:00 - 2015-09-30 00:00:00\n",
      "y period: 1998-02-28 00:00:00 - 2015-12-31 00:00:00\n",
      "Horizon 3, lag 8\n",
      "X period: 1997-12-31 00:00:00 - 2015-09-30 00:00:00\n",
      "y period: 1998-03-31 00:00:00 - 2015-12-31 00:00:00\n",
      "Horizon 3, lag 9\n",
      "X period: 1998-01-31 00:00:00 - 2015-09-30 00:00:00\n",
      "y period: 1998-04-30 00:00:00 - 2015-12-31 00:00:00\n",
      "Horizon 3, lag 10\n",
      "X period: 1998-02-28 00:00:00 - 2015-09-30 00:00:00\n",
      "y period: 1998-05-31 00:00:00 - 2015-12-31 00:00:00\n",
      "Horizon 3, lag 11\n",
      "X period: 1998-03-31 00:00:00 - 2015-09-30 00:00:00\n",
      "y period: 1998-06-30 00:00:00 - 2015-12-31 00:00:00\n",
      "Horizon 3, lag 12\n",
      "X period: 1998-04-30 00:00:00 - 2015-09-30 00:00:00\n",
      "y period: 1998-07-31 00:00:00 - 2015-12-31 00:00:00\n",
      "BIC values for different lag lengths: [339.271707095371, 342.3110130702901, 346.39250272497685, 342.40170323621936, 336.5958208390019, 341.00144254008535, 345.2666043787053, 348.49039143712923, 349.92892956410566, 341.65049991870455, 346.5710168990639, 348.21834233454297, 352.66613011665515]\n",
      "Optimal lag length chosen by BIC: 4\n",
      "Lowest BIC: 336.5958208390019\n"
     ]
    }
   ],
   "source": [
    "horizon = 3\n",
    "X_train, X_test, y_train, y_test = mine_g.split_train_test_set(X = cat_df, y = HICP_cat, h = horizon)\n",
    "\n",
    "n_components = 5\n",
    "\n",
    "bic_values_h3 = []\n",
    "\n",
    "for lags in range(0, max_lag+1):\n",
    "    bic = tune_lags_pca_regress_bic(X_train, y_train, lags, horizon=horizon)\n",
    "    bic_values_h3.append(bic)\n",
    "\n",
    "# Find the lag length with the lowest BIC\n",
    "optimal_lag = np.argmin(bic_values_h3)\n",
    "lowest_bic = min(bic_values_h3)\n",
    "\n",
    "print(\"BIC values for different lag lengths:\", bic_values_h3)\n",
    "print(\"Optimal lag length chosen by BIC:\", optimal_lag)\n",
    "print(\"Lowest BIC:\", lowest_bic)"
   ]
  },
  {
   "cell_type": "markdown",
   "metadata": {},
   "source": [
    "# NEIG:"
   ]
  },
  {
   "cell_type": "code",
   "execution_count": 22,
   "metadata": {},
   "outputs": [
    {
     "name": "stdout",
     "output_type": "stream",
     "text": [
      "Number of items in Non-energy industrial goods (NEIG) group:  302\n"
     ]
    },
    {
     "name": "stderr",
     "output_type": "stream",
     "text": [
      "/var/folders/74/zq2msw1x2fj9j2zyq8njktnc0000gn/T/ipykernel_17121/1811769346.py:13: SettingWithCopyWarning: \n",
      "A value is trying to be set on a copy of a slice from a DataFrame\n",
      "\n",
      "See the caveats in the documentation: https://pandas.pydata.org/pandas-docs/stable/user_guide/indexing.html#returning-a-view-versus-a-copy\n",
      "  cat_df.dropna(axis=1, inplace=True)\n"
     ]
    }
   ],
   "source": [
    "cat_short = 'neig'\n",
    "hicp_cat_path = f'data/preprocessed/{cat_short}_yoy_infl.csv'\n",
    "category = 'Non-energy industrial goods (NEIG)'\n",
    "\n",
    "HICP_monthly, HICP_class, HICP_cat = mine_g.import_data_all(hicp_all_path=hicp_all_path,\n",
    "                                                     hicp_class_path=hicp_class_path,\n",
    "                                                     hicp_cat_path=hicp_cat_path)\n",
    "\n",
    "cat_df = mine_g.split_into_category(category=category,\n",
    "                             HICP_class=HICP_class,\n",
    "                             HICP_monthly=HICP_monthly,\n",
    "                             fillna=False)\n",
    "cat_df.dropna(axis=1, inplace=True)"
   ]
  },
  {
   "cell_type": "code",
   "execution_count": 23,
   "metadata": {},
   "outputs": [
    {
     "name": "stdout",
     "output_type": "stream",
     "text": [
      "Horizon: 1\n",
      "Training predictor period: 1997-01-31 00:00:00 to 2015-11-30 00:00:00\n",
      "Training dependent variable period: 1997-02-28 00:00:00 to 2015-12-31 00:00:00\n"
     ]
    }
   ],
   "source": [
    "horizon = 1\n",
    "X_train, X_test, y_train, y_test = mine_g.split_train_test_set(X = cat_df, y = HICP_cat, h = horizon)"
   ]
  },
  {
   "cell_type": "code",
   "execution_count": 24,
   "metadata": {},
   "outputs": [
    {
     "data": {
      "image/png": "[encoded data removed]",
      "text/plain": [
       "<Figure size 1200x600 with 1 Axes>"
      ]
     },
     "metadata": {},
     "output_type": "display_data"
    }
   ],
   "source": [
    "\n",
    "# Scale the data\n",
    "scaler = StandardScaler()\n",
    "X_train_scaled = scaler.fit_transform(X_train)\n",
    "\n",
    "# Define a range of n_components to explore\n",
    "n_components_range = range(1, 30, 1)  # Adjust max components\n",
    "\n",
    "# Create an empty list to store explained variance ratios\n",
    "explained_variance = []\n",
    "\n",
    "# Loop through n_components values\n",
    "for n in n_components_range:\n",
    "    # Create a PCA object with the current n_components\n",
    "    pca = PCA(n_components=n)\n",
    "\n",
    "    # Fit the PCA model on the data\n",
    "    pca.fit(X_train_scaled)\n",
    "\n",
    "    # Get the explained variance ratio\n",
    "    explained_variance.append(pca.explained_variance_ratio_.sum())\n",
    "\n",
    "# Plot the explained variance ratio vs n_components\n",
    "plt.figure(figsize=(12, 6))\n",
    "plt.plot(n_components_range, explained_variance, marker='o', linestyle='-')\n",
    "plt.xlabel('Number of Components')\n",
    "plt.ylabel('Explained Variance Ratio')\n",
    "plt.title('Explained Variance Ratio vs Number of PCA Components')\n",
    "plt.grid(True)\n",
    "\n",
    "# Optional: Add a threshold line (e.g., 0.9) to visually identify an elbow point\n",
    "plt.axhline(y=0.95, color='r', linestyle='--', label='Threshold 0.95')\n",
    "\n",
    "plt.legend()\n",
    "\n",
    "# Show the plot\n",
    "plt.tight_layout()\n",
    "plt.show()"
   ]
  },
  {
   "cell_type": "code",
   "execution_count": 25,
   "metadata": {},
   "outputs": [
    {
     "name": "stdout",
     "output_type": "stream",
     "text": [
      "Horizon 1, lag 0\n",
      "X period: 1997-02-28 00:00:00 - 2015-11-30 00:00:00\n",
      "y period: 1997-03-31 00:00:00 - 2015-12-31 00:00:00\n",
      "Horizon 1, lag 1\n",
      "X period: 1997-03-31 00:00:00 - 2015-11-30 00:00:00\n",
      "y period: 1997-04-30 00:00:00 - 2015-12-31 00:00:00\n",
      "Horizon 1, lag 2\n",
      "X period: 1997-04-30 00:00:00 - 2015-11-30 00:00:00\n",
      "y period: 1997-05-31 00:00:00 - 2015-12-31 00:00:00\n",
      "Horizon 1, lag 3\n",
      "X period: 1997-05-31 00:00:00 - 2015-11-30 00:00:00\n",
      "y period: 1997-06-30 00:00:00 - 2015-12-31 00:00:00\n",
      "Horizon 1, lag 4\n",
      "X period: 1997-06-30 00:00:00 - 2015-11-30 00:00:00\n",
      "y period: 1997-07-31 00:00:00 - 2015-12-31 00:00:00\n",
      "Horizon 1, lag 5\n",
      "X period: 1997-07-31 00:00:00 - 2015-11-30 00:00:00\n",
      "y period: 1997-08-31 00:00:00 - 2015-12-31 00:00:00\n",
      "Horizon 1, lag 6\n",
      "X period: 1997-08-31 00:00:00 - 2015-11-30 00:00:00\n",
      "y period: 1997-09-30 00:00:00 - 2015-12-31 00:00:00\n",
      "Horizon 1, lag 7\n",
      "X period: 1997-09-30 00:00:00 - 2015-11-30 00:00:00\n",
      "y period: 1997-10-31 00:00:00 - 2015-12-31 00:00:00\n",
      "Horizon 1, lag 8\n",
      "X period: 1997-10-31 00:00:00 - 2015-11-30 00:00:00\n",
      "y period: 1997-11-30 00:00:00 - 2015-12-31 00:00:00\n",
      "Horizon 1, lag 9\n",
      "X period: 1997-11-30 00:00:00 - 2015-11-30 00:00:00\n",
      "y period: 1997-12-31 00:00:00 - 2015-12-31 00:00:00\n",
      "Horizon 1, lag 10\n",
      "X period: 1997-12-31 00:00:00 - 2015-11-30 00:00:00\n",
      "y period: 1998-01-31 00:00:00 - 2015-12-31 00:00:00\n",
      "Horizon 1, lag 11\n",
      "X period: 1998-01-31 00:00:00 - 2015-11-30 00:00:00\n",
      "y period: 1998-02-28 00:00:00 - 2015-12-31 00:00:00\n",
      "Horizon 1, lag 12\n",
      "X period: 1998-02-28 00:00:00 - 2015-11-30 00:00:00\n",
      "y period: 1998-03-31 00:00:00 - 2015-12-31 00:00:00\n",
      "BIC values for different lag lengths: [-3.3054542681713954, 2.767002282831861, 9.202231005387063, 13.868144601214311, 11.784478445095623, 14.737764040962816, 9.038245043428532, 10.966852238606009, 17.016488689583127, 23.17088643530927, 29.50479587017449, 23.272109520113247, 10.225662319214479]\n",
      "Optimal lag length chosen by BIC: 0\n",
      "Lowest BIC: -3.3054542681713954\n"
     ]
    }
   ],
   "source": [
    "n_components = 10\n",
    "bic_values_h1 = []\n",
    "\n",
    "for lags in range(0, max_lag+1):\n",
    "    bic = tune_lags_pca_regress_bic(X_train, y_train, lags, horizon=horizon)\n",
    "    bic_values_h1.append(bic)\n",
    "\n",
    "# Find the lag length with the lowest BIC\n",
    "optimal_lag = np.argmin(bic_values_h1)\n",
    "lowest_bic = min(bic_values_h1)\n",
    "\n",
    "print(\"BIC values for different lag lengths:\", bic_values_h1)\n",
    "print(\"Optimal lag length chosen by BIC:\", optimal_lag)\n",
    "print(\"Lowest BIC:\", lowest_bic)"
   ]
  },
  {
   "cell_type": "code",
   "execution_count": 26,
   "metadata": {},
   "outputs": [
    {
     "name": "stdout",
     "output_type": "stream",
     "text": [
      "Horizon: 2\n",
      "Training predictor period: 1997-01-31 00:00:00 to 2015-10-31 00:00:00\n",
      "Training dependent variable period: 1997-03-31 00:00:00 to 2015-12-31 00:00:00\n",
      "Horizon 2, lag 0\n",
      "X period: 1997-03-31 00:00:00 - 2015-10-31 00:00:00\n",
      "y period: 1997-05-31 00:00:00 - 2015-12-31 00:00:00\n",
      "Horizon 2, lag 1\n",
      "X period: 1997-04-30 00:00:00 - 2015-10-31 00:00:00\n",
      "y period: 1997-06-30 00:00:00 - 2015-12-31 00:00:00\n",
      "Horizon 2, lag 2\n",
      "X period: 1997-05-31 00:00:00 - 2015-10-31 00:00:00\n",
      "y period: 1997-07-31 00:00:00 - 2015-12-31 00:00:00\n",
      "Horizon 2, lag 3\n",
      "X period: 1997-06-30 00:00:00 - 2015-10-31 00:00:00\n",
      "y period: 1997-08-31 00:00:00 - 2015-12-31 00:00:00\n",
      "Horizon 2, lag 4\n",
      "X period: 1997-07-31 00:00:00 - 2015-10-31 00:00:00\n",
      "y period: 1997-09-30 00:00:00 - 2015-12-31 00:00:00\n",
      "Horizon 2, lag 5\n",
      "X period: 1997-08-31 00:00:00 - 2015-10-31 00:00:00\n",
      "y period: 1997-10-31 00:00:00 - 2015-12-31 00:00:00\n",
      "Horizon 2, lag 6\n",
      "X period: 1997-09-30 00:00:00 - 2015-10-31 00:00:00\n",
      "y period: 1997-11-30 00:00:00 - 2015-12-31 00:00:00\n",
      "Horizon 2, lag 7\n",
      "X period: 1997-10-31 00:00:00 - 2015-10-31 00:00:00\n",
      "y period: 1997-12-31 00:00:00 - 2015-12-31 00:00:00\n",
      "Horizon 2, lag 8\n",
      "X period: 1997-11-30 00:00:00 - 2015-10-31 00:00:00\n",
      "y period: 1998-01-31 00:00:00 - 2015-12-31 00:00:00\n",
      "Horizon 2, lag 9\n",
      "X period: 1997-12-31 00:00:00 - 2015-10-31 00:00:00\n",
      "y period: 1998-02-28 00:00:00 - 2015-12-31 00:00:00\n",
      "Horizon 2, lag 10\n",
      "X period: 1998-01-31 00:00:00 - 2015-10-31 00:00:00\n",
      "y period: 1998-03-31 00:00:00 - 2015-12-31 00:00:00\n",
      "Horizon 2, lag 11\n",
      "X period: 1998-02-28 00:00:00 - 2015-10-31 00:00:00\n",
      "y period: 1998-04-30 00:00:00 - 2015-12-31 00:00:00\n",
      "Horizon 2, lag 12\n",
      "X period: 1998-03-31 00:00:00 - 2015-10-31 00:00:00\n",
      "y period: 1998-05-31 00:00:00 - 2015-12-31 00:00:00\n",
      "BIC values for different lag lengths: [110.53642060791016, 116.3748471172372, 118.66741045955561, 114.2720839269354, 108.51997593686372, 99.76094154620749, 90.23170452494962, 92.22607409199905, 98.2602929374863, 104.30215969255143, 99.14240903958243, 103.63167176878866, 98.98178526330679]\n",
      "Optimal lag length chosen by BIC: 6\n",
      "Lowest BIC: 90.23170452494962\n"
     ]
    }
   ],
   "source": [
    "horizon = 2\n",
    "X_train, X_test, y_train, y_test = mine_g.split_train_test_set(X = cat_df, y = HICP_cat, h = horizon)\n",
    "\n",
    "n_components = 10\n",
    "bic_values_h2 = []\n",
    "\n",
    "for lags in range(0, max_lag+1):\n",
    "    bic = tune_lags_pca_regress_bic(X_train, y_train, lags, horizon=horizon)\n",
    "    bic_values_h2.append(bic)\n",
    "\n",
    "# Find the lag length with the lowest BIC\n",
    "optimal_lag = np.argmin(bic_values_h2)\n",
    "lowest_bic = min(bic_values_h2)\n",
    "\n",
    "print(\"BIC values for different lag lengths:\", bic_values_h2)\n",
    "print(\"Optimal lag length chosen by BIC:\", optimal_lag)\n",
    "print(\"Lowest BIC:\", lowest_bic)"
   ]
  },
  {
   "cell_type": "code",
   "execution_count": 27,
   "metadata": {},
   "outputs": [
    {
     "name": "stdout",
     "output_type": "stream",
     "text": [
      "Horizon: 3\n",
      "Training predictor period: 1997-01-31 00:00:00 to 2015-09-30 00:00:00\n",
      "Training dependent variable period: 1997-04-30 00:00:00 to 2015-12-31 00:00:00\n",
      "Horizon 3, lag 0\n",
      "X period: 1997-04-30 00:00:00 - 2015-09-30 00:00:00\n",
      "y period: 1997-07-31 00:00:00 - 2015-12-31 00:00:00\n",
      "Horizon 3, lag 1\n",
      "X period: 1997-05-31 00:00:00 - 2015-09-30 00:00:00\n",
      "y period: 1997-08-31 00:00:00 - 2015-12-31 00:00:00\n",
      "Horizon 3, lag 2\n",
      "X period: 1997-06-30 00:00:00 - 2015-09-30 00:00:00\n",
      "y period: 1997-09-30 00:00:00 - 2015-12-31 00:00:00\n",
      "Horizon 3, lag 3\n",
      "X period: 1997-07-31 00:00:00 - 2015-09-30 00:00:00\n",
      "y period: 1997-10-31 00:00:00 - 2015-12-31 00:00:00\n",
      "Horizon 3, lag 4\n",
      "X period: 1997-08-31 00:00:00 - 2015-09-30 00:00:00\n",
      "y period: 1997-11-30 00:00:00 - 2015-12-31 00:00:00\n",
      "Horizon 3, lag 5\n",
      "X period: 1997-09-30 00:00:00 - 2015-09-30 00:00:00\n",
      "y period: 1997-12-31 00:00:00 - 2015-12-31 00:00:00\n",
      "Horizon 3, lag 6\n",
      "X period: 1997-10-31 00:00:00 - 2015-09-30 00:00:00\n",
      "y period: 1998-01-31 00:00:00 - 2015-12-31 00:00:00\n",
      "Horizon 3, lag 7\n",
      "X period: 1997-11-30 00:00:00 - 2015-09-30 00:00:00\n",
      "y period: 1998-02-28 00:00:00 - 2015-12-31 00:00:00\n",
      "Horizon 3, lag 8\n",
      "X period: 1997-12-31 00:00:00 - 2015-09-30 00:00:00\n",
      "y period: 1998-03-31 00:00:00 - 2015-12-31 00:00:00\n",
      "Horizon 3, lag 9\n",
      "X period: 1998-01-31 00:00:00 - 2015-09-30 00:00:00\n",
      "y period: 1998-04-30 00:00:00 - 2015-12-31 00:00:00\n",
      "Horizon 3, lag 10\n",
      "X period: 1998-02-28 00:00:00 - 2015-09-30 00:00:00\n",
      "y period: 1998-05-31 00:00:00 - 2015-12-31 00:00:00\n",
      "Horizon 3, lag 11\n",
      "X period: 1998-03-31 00:00:00 - 2015-09-30 00:00:00\n",
      "y period: 1998-06-30 00:00:00 - 2015-12-31 00:00:00\n",
      "Horizon 3, lag 12\n",
      "X period: 1998-04-30 00:00:00 - 2015-09-30 00:00:00\n",
      "y period: 1998-07-31 00:00:00 - 2015-12-31 00:00:00\n",
      "BIC values for different lag lengths: [178.70418203337377, 183.98762576481485, 179.50838922256233, 167.61369464421446, 148.18194162596234, 135.73083001979077, 132.00710791833322, 136.14565762766549, 140.7728885704554, 137.88775562174334, 140.624474131041, 143.18706544654813, 141.60508817148943]\n",
      "Optimal lag length chosen by BIC: 6\n",
      "Lowest BIC: 132.00710791833322\n"
     ]
    }
   ],
   "source": [
    "horizon = 3\n",
    "X_train, X_test, y_train, y_test = mine_g.split_train_test_set(X = cat_df, y = HICP_cat, h = horizon)\n",
    "\n",
    "n_components = 10\n",
    "bic_values_h3 = []\n",
    "\n",
    "for lags in range(0, max_lag+1):\n",
    "    bic = tune_lags_pca_regress_bic(X_train, y_train, lags, horizon=horizon)\n",
    "    bic_values_h3.append(bic)\n",
    "\n",
    "# Find the lag length with the lowest BIC\n",
    "optimal_lag = np.argmin(bic_values_h3)\n",
    "lowest_bic = min(bic_values_h3)\n",
    "\n",
    "print(\"BIC values for different lag lengths:\", bic_values_h3)\n",
    "print(\"Optimal lag length chosen by BIC:\", optimal_lag)\n",
    "print(\"Lowest BIC:\", lowest_bic)"
   ]
  }
 ],
 "metadata": {
  "kernelspec": {
   "display_name": "thesis",
   "language": "python",
   "name": "python3"
  },
  "language_info": {
   "codemirror_mode": {
    "name": "ipython",
    "version": 3
   },
   "file_extension": ".py",
   "mimetype": "text/x-python",
   "name": "python",
   "nbconvert_exporter": "python",
   "pygments_lexer": "ipython3",
   "version": "3.11.7"
  }
 },
 "nbformat": 4,
 "nbformat_minor": 2
}
