{
 "cells": [
  {
   "cell_type": "code",
   "execution_count": 1,
   "metadata": {},
   "outputs": [],
   "source": [
    "from os import chdir\n",
    "chdir('/Users/lananhnguyen/Desktop/thesis/thesis_code')\n",
    "import main.packages.mine_generic as mine_g\n",
    "import main.packages.mine_specific as mine_s\n",
    "\n",
    "\n",
    "import pandas as pd\n",
    "import numpy as np\n",
    "import matplotlib.pyplot as plt\n",
    "import seaborn as sns \n",
    "\n",
    "\n",
    "from sklearn.metrics import mean_squared_error, mean_absolute_error\n",
    "from xgboost import XGBRegressor\n",
    "import xgboost as xgb\n",
    "import optuna\n",
    "import json\n",
    "from sklearn.preprocessing import StandardScaler\n"
   ]
  },
  {
   "cell_type": "code",
   "execution_count": 2,
   "metadata": {},
   "outputs": [],
   "source": [
    "optuna.logging.set_verbosity(optuna.logging.WARNING)\n"
   ]
  },
  {
   "cell_type": "code",
   "execution_count": 3,
   "metadata": {},
   "outputs": [],
   "source": [
    "import warnings\n",
    "warnings.filterwarnings(\"ignore\", category=RuntimeWarning)"
   ]
  },
  {
   "cell_type": "code",
   "execution_count": 4,
   "metadata": {},
   "outputs": [],
   "source": [
    "# Forecast:\n",
    "def generate_forecast(X, y, N, T, h, hyperparam, verbose=1): # from common function\n",
    "    \"\"\"\n",
    "    Generate recursive forecast\n",
    "    \"\"\"\n",
    "    print(f\"Horizon: {h}\")\n",
    "    print(\"------------------------\")\n",
    "    y_pred_series = []\n",
    "    for i in range(0, T):  # T+1-h\n",
    "        X_train = X.iloc[: N+i, :]\n",
    "        y_train = y.iloc[h: N+i+h, :]\n",
    "\n",
    "        X_test = X.iloc[N+i : N+i+1, :] \n",
    "        y_test = y.iloc[N+i+h : N+i+h+1, :]  \n",
    "\n",
    "        if X_test.index[-1] > X.index[-1]-pd.DateOffset(months=h):\n",
    "            break\n",
    "\n",
    "        # Forecast:\n",
    "        y_pred = mine_s.xgb_pred(X_train, X_test, y_train, y_test, hyperparam)\n",
    "\n",
    "        if verbose == 1:\n",
    "            print(f\"Training period - features: {X_train.index[0]} to {X_train.index[-1]}\")\n",
    "            print(f\"Training period - target : {y_train.index[0]} to {y_train.index[-1]}\")\n",
    "            print(f\"Test period - features: {X_test.index}\")\n",
    "            print(f\"Test period - target : {y_test.index}\")\n",
    "            print(f\"Forecast: {y_pred}\")\n",
    "            print(\"-------------------------------------------------------\")\n",
    "\n",
    "        y_pred_series.append(y_pred[0])\n",
    "    return y_pred_series"
   ]
  },
  {
   "cell_type": "code",
   "execution_count": 5,
   "metadata": {},
   "outputs": [],
   "source": [
    "hicp_all_path = 'data/preprocessed/hicp_yoy.csv'\n",
    "hicp_class_path = 'data/HICP_COICOP10s.xlsx'\n",
    "model = 'xgb'\n",
    "date_range = pd.date_range(start=mine_g.train_test_split_date + pd.DateOffset(months=1), end=mine_g.max_X_date, freq='M')\n"
   ]
  },
  {
   "cell_type": "markdown",
   "metadata": {},
   "source": [
    "# Food:"
   ]
  },
  {
   "cell_type": "code",
   "execution_count": 6,
   "metadata": {},
   "outputs": [
    {
     "name": "stdout",
     "output_type": "stream",
     "text": [
      "Number of items in Food group:  180\n"
     ]
    },
    {
     "name": "stderr",
     "output_type": "stream",
     "text": [
      "/Users/lananhnguyen/Desktop/thesis/thesis_code/main/packages/mine_generic.py:198: SettingWithCopyWarning: \n",
      "A value is trying to be set on a copy of a slice from a DataFrame\n",
      "\n",
      "See the caveats in the documentation: https://pandas.pydata.org/pandas-docs/stable/user_guide/indexing.html#returning-a-view-versus-a-copy\n",
      "  cat_df.fillna(0, inplace=True)\n"
     ]
    }
   ],
   "source": [
    "category = 'Food'\n",
    "cat_short = 'food'\n",
    "hicp_cat_path = f'data/preprocessed/{cat_short}_yoy_infl.csv'\n",
    "save_cat_file_path = f'data/forecast_results/{cat_short}_forecast.csv'\n",
    "\n",
    "HICP_monthly, HICP_class, HICP_cat = mine_g.import_data_all(hicp_all_path=hicp_all_path,\n",
    "                                                     hicp_class_path=hicp_class_path,\n",
    "                                                     hicp_cat_path=hicp_cat_path)\n",
    "\n",
    "cat_df = mine_g.split_into_category(category=category,\n",
    "                             HICP_class=HICP_class,\n",
    "                             HICP_monthly=HICP_monthly)\n",
    "food_cat_prediction = pd.DataFrame(index=date_range)"
   ]
  },
  {
   "cell_type": "markdown",
   "metadata": {},
   "source": [
    "## h = 1"
   ]
  },
  {
   "cell_type": "code",
   "execution_count": 7,
   "metadata": {},
   "outputs": [
    {
     "name": "stdout",
     "output_type": "stream",
     "text": [
      "Horizon: 1\n",
      "Training predictor period: 1997-01-31 00:00:00 to 2015-11-30 00:00:00\n",
      "Training dependent variable period: 1997-02-28 00:00:00 to 2015-12-31 00:00:00\n"
     ]
    }
   ],
   "source": [
    "h = 1\n",
    "#cat_df = pd.merge(cat_df, HICP_cat, how='inner', left_index=True, right_index=True)\n",
    "X_cat_train, X_cat_test, y_cat_train, y_cat_test = mine_g.split_train_test_set(X = cat_df, y = HICP_cat, h = h)\n",
    "\n"
   ]
  },
  {
   "cell_type": "code",
   "execution_count": 8,
   "metadata": {},
   "outputs": [
    {
     "name": "stdout",
     "output_type": "stream",
     "text": [
      "Number of finished trials: 1000\n"
     ]
    }
   ],
   "source": [
    "\n",
    "best_param = mine_s.hyperparam_tuning_optuna(mine_s.objective_xgb, X_cat_train, y_cat_train)\n",
    "\n",
    "# save best_param:\n",
    "\n",
    "with open(f'models/{model}_{cat_short}_h_{h}_hyperparam.json', 'w') as json_file:\n",
    "    json.dump(best_param, json_file)\n"
   ]
  },
  {
   "cell_type": "code",
   "execution_count": 9,
   "metadata": {},
   "outputs": [
    {
     "name": "stdout",
     "output_type": "stream",
     "text": [
      "Horizon: 1\n",
      "------------------------\n"
     ]
    }
   ],
   "source": [
    "# Forecast:\n",
    "\n",
    "N, T = len(X_cat_train), len(X_cat_test)\n",
    "y_pred = generate_forecast(X = cat_df, y = HICP_cat, N = N, T = T, h = h, hyperparam=best_param, verbose=0)\n",
    "food_cat_prediction.loc[:, f'{model}_{cat_short}_h_{h}'] = y_pred\n"
   ]
  },
  {
   "cell_type": "code",
   "execution_count": 12,
   "metadata": {},
   "outputs": [
    {
     "name": "stdout",
     "output_type": "stream",
     "text": [
      "1.0283657102667991\n",
      "1.862162850883055\n"
     ]
    }
   ],
   "source": [
    "\n",
    "yoy_real = pd.read_csv(f\"data/preprocessed/{cat_short}_yoy_infl.csv\", parse_dates=True, index_col='date')\n",
    "yoy_real_test = yoy_real[(yoy_real.index > mine_g.train_test_split_date) & (yoy_real.index <= mine_g.max_X_date)]\n",
    "\n",
    "\n",
    "print(mean_absolute_error(yoy_real_test, y_pred))\n",
    "print(np.sqrt(mean_squared_error(yoy_real_test, y_pred)))"
   ]
  },
  {
   "cell_type": "code",
   "execution_count": 11,
   "metadata": {},
   "outputs": [
    {
     "data": {
      "image/png": "[encoded data removed]",
      "text/plain": [
       "<Figure size 1400x400 with 1 Axes>"
      ]
     },
     "metadata": {},
     "output_type": "display_data"
    }
   ],
   "source": [
    "plt.figure(figsize=(14, 4))\n",
    "plt.plot(yoy_real_test.reset_index(drop=True), label = \"real\")\n",
    "\n",
    "plt.plot(y_pred, label = \"h_1\")\n",
    "plt.legend()\n",
    "plt.show()"
   ]
  },
  {
   "cell_type": "markdown",
   "metadata": {},
   "source": [
    "## h = 2"
   ]
  },
  {
   "cell_type": "code",
   "execution_count": 9,
   "metadata": {},
   "outputs": [
    {
     "name": "stdout",
     "output_type": "stream",
     "text": [
      "Horizon: 2\n",
      "Training predictor period: 1997-01-31 00:00:00 to 2015-10-31 00:00:00\n",
      "Training dependent variable period: 1997-03-31 00:00:00 to 2015-12-31 00:00:00\n",
      "Number of finished trials: 1000\n"
     ]
    }
   ],
   "source": [
    "h = 2\n",
    "X_cat_train, X_cat_test, y_cat_train, y_cat_test = mine_g.split_train_test_set(X = cat_df, y = HICP_cat, h = h)\n",
    "\n",
    "best_param = mine_s.hyperparam_tuning_optuna(mine_s.objective_xgb, X_cat_train, y_cat_train)\n",
    "\n",
    "# save best_param:\n",
    "with open(f'models/{model}_{cat_short}_h_{h}_hyperparam.json', 'w') as json_file:\n",
    "    json.dump(best_param, json_file)\n"
   ]
  },
  {
   "cell_type": "code",
   "execution_count": null,
   "metadata": {},
   "outputs": [],
   "source": [
    "\n",
    "\n",
    "N, T = len(X_cat_train), len(X_cat_test)\n",
    "\n",
    "y_pred = generate_forecast(X = cat_df, y = HICP_cat, N = N, T = T, h = h, hyperparam=best_param)\n",
    "food_cat_prediction.loc[:, f'{model}_{cat_short}_h_{h}'] = y_pred\n"
   ]
  },
  {
   "cell_type": "markdown",
   "metadata": {},
   "source": [
    "## h = 3"
   ]
  },
  {
   "cell_type": "code",
   "execution_count": 10,
   "metadata": {},
   "outputs": [
    {
     "name": "stdout",
     "output_type": "stream",
     "text": [
      "Horizon: 3\n",
      "Training predictor period: 1997-01-31 00:00:00 to 2015-09-30 00:00:00\n",
      "Training dependent variable period: 1997-04-30 00:00:00 to 2015-12-31 00:00:00\n",
      "Number of finished trials: 1000\n"
     ]
    }
   ],
   "source": [
    "h = 3\n",
    "X_cat_train, X_cat_test, y_cat_train, y_cat_test = mine_g.split_train_test_set(X = cat_df, y = HICP_cat, h = h)\n",
    "\n",
    "best_param = mine_s.hyperparam_tuning_optuna(mine_s.objective_xgb, X_cat_train, y_cat_train)\n",
    "\n",
    "# save best_param:\n",
    "with open(f'models/{model}_{cat_short}_h_{h}_hyperparam.json', 'w') as json_file:\n",
    "    json.dump(best_param, json_file)\n"
   ]
  },
  {
   "cell_type": "code",
   "execution_count": null,
   "metadata": {},
   "outputs": [],
   "source": [
    "\n",
    "N, T = len(X_cat_train), len(X_cat_test)\n",
    "\n",
    "y_pred = generate_forecast(X = cat_df, y = HICP_cat, N = N, T = T, h = h, hyperparam=best_param)\n",
    "food_cat_prediction.loc[:, f'{model}_{cat_short}_h_{h}'] = y_pred\n"
   ]
  },
  {
   "cell_type": "code",
   "execution_count": 13,
   "metadata": {},
   "outputs": [
    {
     "data": {
      "text/html": [
       "<div>\n",
       "<style scoped>\n",
       "    .dataframe tbody tr th:only-of-type {\n",
       "        vertical-align: middle;\n",
       "    }\n",
       "\n",
       "    .dataframe tbody tr th {\n",
       "        vertical-align: top;\n",
       "    }\n",
       "\n",
       "    .dataframe thead th {\n",
       "        text-align: right;\n",
       "    }\n",
       "</style>\n",
       "<table border=\"1\" class=\"dataframe\">\n",
       "  <thead>\n",
       "    <tr style=\"text-align: right;\">\n",
       "      <th></th>\n",
       "      <th>xgb_food_h_1</th>\n",
       "      <th>xgb_food_h_2</th>\n",
       "      <th>xgb_food_h_3</th>\n",
       "    </tr>\n",
       "  </thead>\n",
       "  <tbody>\n",
       "    <tr>\n",
       "      <th>2016-01-31</th>\n",
       "      <td>1.456735</td>\n",
       "      <td>1.684200</td>\n",
       "      <td>1.327366</td>\n",
       "    </tr>\n",
       "    <tr>\n",
       "      <th>2016-02-29</th>\n",
       "      <td>1.561387</td>\n",
       "      <td>0.897192</td>\n",
       "      <td>0.887290</td>\n",
       "    </tr>\n",
       "    <tr>\n",
       "      <th>2016-03-31</th>\n",
       "      <td>1.489828</td>\n",
       "      <td>1.047011</td>\n",
       "      <td>0.772796</td>\n",
       "    </tr>\n",
       "    <tr>\n",
       "      <th>2016-04-30</th>\n",
       "      <td>1.040370</td>\n",
       "      <td>1.194955</td>\n",
       "      <td>1.232249</td>\n",
       "    </tr>\n",
       "    <tr>\n",
       "      <th>2016-05-31</th>\n",
       "      <td>1.005898</td>\n",
       "      <td>1.296793</td>\n",
       "      <td>1.464055</td>\n",
       "    </tr>\n",
       "    <tr>\n",
       "      <th>...</th>\n",
       "      <td>...</td>\n",
       "      <td>...</td>\n",
       "      <td>...</td>\n",
       "    </tr>\n",
       "    <tr>\n",
       "      <th>2022-08-31</th>\n",
       "      <td>6.435944</td>\n",
       "      <td>3.928889</td>\n",
       "      <td>4.929259</td>\n",
       "    </tr>\n",
       "    <tr>\n",
       "      <th>2022-09-30</th>\n",
       "      <td>7.501304</td>\n",
       "      <td>6.534640</td>\n",
       "      <td>4.795111</td>\n",
       "    </tr>\n",
       "    <tr>\n",
       "      <th>2022-10-31</th>\n",
       "      <td>9.717562</td>\n",
       "      <td>6.745116</td>\n",
       "      <td>7.938904</td>\n",
       "    </tr>\n",
       "    <tr>\n",
       "      <th>2022-11-30</th>\n",
       "      <td>11.234087</td>\n",
       "      <td>9.469630</td>\n",
       "      <td>8.797004</td>\n",
       "    </tr>\n",
       "    <tr>\n",
       "      <th>2022-12-31</th>\n",
       "      <td>11.576380</td>\n",
       "      <td>10.162384</td>\n",
       "      <td>11.217325</td>\n",
       "    </tr>\n",
       "  </tbody>\n",
       "</table>\n",
       "<p>84 rows × 3 columns</p>\n",
       "</div>"
      ],
      "text/plain": [
       "            xgb_food_h_1  xgb_food_h_2  xgb_food_h_3\n",
       "2016-01-31      1.456735      1.684200      1.327366\n",
       "2016-02-29      1.561387      0.897192      0.887290\n",
       "2016-03-31      1.489828      1.047011      0.772796\n",
       "2016-04-30      1.040370      1.194955      1.232249\n",
       "2016-05-31      1.005898      1.296793      1.464055\n",
       "...                  ...           ...           ...\n",
       "2022-08-31      6.435944      3.928889      4.929259\n",
       "2022-09-30      7.501304      6.534640      4.795111\n",
       "2022-10-31      9.717562      6.745116      7.938904\n",
       "2022-11-30     11.234087      9.469630      8.797004\n",
       "2022-12-31     11.576380     10.162384     11.217325\n",
       "\n",
       "[84 rows x 3 columns]"
      ]
     },
     "execution_count": 13,
     "metadata": {},
     "output_type": "execute_result"
    }
   ],
   "source": [
    "food_cat_prediction"
   ]
  },
  {
   "cell_type": "code",
   "execution_count": 14,
   "metadata": {},
   "outputs": [],
   "source": [
    "mine_g.save_forecast(forecast_result_df=food_cat_prediction.reset_index(drop=True), cat_file_path=save_cat_file_path, category=cat_short)"
   ]
  },
  {
   "cell_type": "markdown",
   "metadata": {},
   "source": [
    "------------------"
   ]
  },
  {
   "cell_type": "markdown",
   "metadata": {},
   "source": [
    "# Energy:"
   ]
  },
  {
   "cell_type": "code",
   "execution_count": 11,
   "metadata": {},
   "outputs": [
    {
     "name": "stdout",
     "output_type": "stream",
     "text": [
      "Number of items in Energy group:  14\n"
     ]
    },
    {
     "name": "stderr",
     "output_type": "stream",
     "text": [
      "/Users/lananhnguyen/Desktop/thesis/thesis_code/main/packages/mine_generic.py:198: SettingWithCopyWarning: \n",
      "A value is trying to be set on a copy of a slice from a DataFrame\n",
      "\n",
      "See the caveats in the documentation: https://pandas.pydata.org/pandas-docs/stable/user_guide/indexing.html#returning-a-view-versus-a-copy\n",
      "  cat_df.fillna(0, inplace=True)\n"
     ]
    }
   ],
   "source": [
    "category = 'Energy'\n",
    "cat_short = 'energy'\n",
    "hicp_cat_path = f'data/preprocessed/{cat_short}_yoy_infl.csv'\n",
    "save_cat_file_path = f'data/forecast_results/{cat_short}_forecast.csv'\n",
    "\n",
    "HICP_monthly, HICP_class, HICP_cat = mine_g.import_data_all(hicp_all_path=hicp_all_path,\n",
    "                                                     hicp_class_path=hicp_class_path,\n",
    "                                                     hicp_cat_path=hicp_cat_path)\n",
    "\n",
    "cat_df = mine_g.split_into_category(category=category,\n",
    "                             HICP_class=HICP_class,\n",
    "                             HICP_monthly=HICP_monthly)\n",
    "energy_cat_prediction = pd.DataFrame(index=date_range)"
   ]
  },
  {
   "cell_type": "code",
   "execution_count": 12,
   "metadata": {},
   "outputs": [
    {
     "name": "stdout",
     "output_type": "stream",
     "text": [
      "Horizon: 1\n",
      "Training predictor period: 1997-01-31 00:00:00 to 2015-11-30 00:00:00\n",
      "Training dependent variable period: 1997-02-28 00:00:00 to 2015-12-31 00:00:00\n",
      "Number of finished trials: 1000\n",
      "Horizon: 1\n",
      "------------------------\n",
      "Horizon: 2\n",
      "Training predictor period: 1997-01-31 00:00:00 to 2015-10-31 00:00:00\n",
      "Training dependent variable period: 1997-03-31 00:00:00 to 2015-12-31 00:00:00\n",
      "Number of finished trials: 1000\n",
      "Horizon: 2\n",
      "------------------------\n",
      "Horizon: 3\n",
      "Training predictor period: 1997-01-31 00:00:00 to 2015-09-30 00:00:00\n",
      "Training dependent variable period: 1997-04-30 00:00:00 to 2015-12-31 00:00:00\n",
      "Number of finished trials: 1000\n",
      "Horizon: 3\n",
      "------------------------\n"
     ]
    }
   ],
   "source": [
    "for h in [1, 2, 3]:\n",
    "    X_cat_train, X_cat_test, y_cat_train, y_cat_test = mine_g.split_train_test_set(X = cat_df, y = HICP_cat, h = h)\n",
    "\n",
    "    best_param = mine_s.hyperparam_tuning_optuna(mine_s.objective_xgb, X_cat_train, y_cat_train)\n",
    "\n",
    "    # save best_param:\n",
    "    with open(f'models/{model}_{cat_short}_h_{h}_hyperparam.json', 'w') as json_file:\n",
    "        json.dump(best_param, json_file)\n",
    "\n",
    "    N, T = len(X_cat_train), len(X_cat_test)\n",
    "\n",
    "    y_pred = generate_forecast(X = cat_df, y = HICP_cat, N = N, T = T, h = h, hyperparam=best_param, verbose=0)\n",
    "    energy_cat_prediction.loc[:, f'{model}_{cat_short}_h_{h}'] = y_pred\n"
   ]
  },
  {
   "cell_type": "code",
   "execution_count": 13,
   "metadata": {},
   "outputs": [],
   "source": [
    "mine_g.save_forecast(forecast_result_df=energy_cat_prediction.reset_index(drop=True), cat_file_path=save_cat_file_path, category=cat_short)"
   ]
  },
  {
   "cell_type": "code",
   "execution_count": 15,
   "metadata": {},
   "outputs": [
    {
     "data": {
      "text/html": [
       "<div>\n",
       "<style scoped>\n",
       "    .dataframe tbody tr th:only-of-type {\n",
       "        vertical-align: middle;\n",
       "    }\n",
       "\n",
       "    .dataframe tbody tr th {\n",
       "        vertical-align: top;\n",
       "    }\n",
       "\n",
       "    .dataframe thead th {\n",
       "        text-align: right;\n",
       "    }\n",
       "</style>\n",
       "<table border=\"1\" class=\"dataframe\">\n",
       "  <thead>\n",
       "    <tr style=\"text-align: right;\">\n",
       "      <th></th>\n",
       "      <th>xgb_energy_h_1</th>\n",
       "      <th>xgb_energy_h_2</th>\n",
       "      <th>xgb_energy_h_3</th>\n",
       "    </tr>\n",
       "  </thead>\n",
       "  <tbody>\n",
       "    <tr>\n",
       "      <th>2016-01-31</th>\n",
       "      <td>-6.033554</td>\n",
       "      <td>-5.989275</td>\n",
       "      <td>-6.273275</td>\n",
       "    </tr>\n",
       "    <tr>\n",
       "      <th>2016-02-29</th>\n",
       "      <td>-4.435302</td>\n",
       "      <td>-5.777793</td>\n",
       "      <td>-5.934877</td>\n",
       "    </tr>\n",
       "    <tr>\n",
       "      <th>2016-03-31</th>\n",
       "      <td>-7.753590</td>\n",
       "      <td>-5.052814</td>\n",
       "      <td>-6.941639</td>\n",
       "    </tr>\n",
       "    <tr>\n",
       "      <th>2016-04-30</th>\n",
       "      <td>-7.600391</td>\n",
       "      <td>-6.802638</td>\n",
       "      <td>-6.574847</td>\n",
       "    </tr>\n",
       "    <tr>\n",
       "      <th>2016-05-31</th>\n",
       "      <td>-8.201786</td>\n",
       "      <td>-6.818075</td>\n",
       "      <td>-6.767157</td>\n",
       "    </tr>\n",
       "    <tr>\n",
       "      <th>...</th>\n",
       "      <td>...</td>\n",
       "      <td>...</td>\n",
       "      <td>...</td>\n",
       "    </tr>\n",
       "    <tr>\n",
       "      <th>2022-08-31</th>\n",
       "      <td>29.527771</td>\n",
       "      <td>29.998022</td>\n",
       "      <td>27.126225</td>\n",
       "    </tr>\n",
       "    <tr>\n",
       "      <th>2022-09-30</th>\n",
       "      <td>31.542278</td>\n",
       "      <td>31.460135</td>\n",
       "      <td>27.638664</td>\n",
       "    </tr>\n",
       "    <tr>\n",
       "      <th>2022-10-31</th>\n",
       "      <td>33.063725</td>\n",
       "      <td>31.090862</td>\n",
       "      <td>25.422089</td>\n",
       "    </tr>\n",
       "    <tr>\n",
       "      <th>2022-11-30</th>\n",
       "      <td>35.037140</td>\n",
       "      <td>34.874874</td>\n",
       "      <td>30.271833</td>\n",
       "    </tr>\n",
       "    <tr>\n",
       "      <th>2022-12-31</th>\n",
       "      <td>34.542606</td>\n",
       "      <td>36.326275</td>\n",
       "      <td>34.434204</td>\n",
       "    </tr>\n",
       "  </tbody>\n",
       "</table>\n",
       "<p>84 rows × 3 columns</p>\n",
       "</div>"
      ],
      "text/plain": [
       "            xgb_energy_h_1  xgb_energy_h_2  xgb_energy_h_3\n",
       "2016-01-31       -6.033554       -5.989275       -6.273275\n",
       "2016-02-29       -4.435302       -5.777793       -5.934877\n",
       "2016-03-31       -7.753590       -5.052814       -6.941639\n",
       "2016-04-30       -7.600391       -6.802638       -6.574847\n",
       "2016-05-31       -8.201786       -6.818075       -6.767157\n",
       "...                    ...             ...             ...\n",
       "2022-08-31       29.527771       29.998022       27.126225\n",
       "2022-09-30       31.542278       31.460135       27.638664\n",
       "2022-10-31       33.063725       31.090862       25.422089\n",
       "2022-11-30       35.037140       34.874874       30.271833\n",
       "2022-12-31       34.542606       36.326275       34.434204\n",
       "\n",
       "[84 rows x 3 columns]"
      ]
     },
     "execution_count": 15,
     "metadata": {},
     "output_type": "execute_result"
    }
   ],
   "source": [
    "energy_cat_prediction"
   ]
  },
  {
   "cell_type": "markdown",
   "metadata": {},
   "source": [
    "## NEIG:"
   ]
  },
  {
   "cell_type": "code",
   "execution_count": 16,
   "metadata": {},
   "outputs": [
    {
     "name": "stdout",
     "output_type": "stream",
     "text": [
      "Number of items in Non-energy industrial goods (NEIG) group:  302\n"
     ]
    },
    {
     "name": "stderr",
     "output_type": "stream",
     "text": [
      "/Users/lananhnguyen/Desktop/thesis/thesis_code/main/packages/mine_generic.py:198: SettingWithCopyWarning: \n",
      "A value is trying to be set on a copy of a slice from a DataFrame\n",
      "\n",
      "See the caveats in the documentation: https://pandas.pydata.org/pandas-docs/stable/user_guide/indexing.html#returning-a-view-versus-a-copy\n",
      "  cat_df.fillna(0, inplace=True)\n"
     ]
    }
   ],
   "source": [
    "cat_short = 'neig'\n",
    "category = 'Non-energy industrial goods (NEIG)'\n",
    "hicp_cat_path = f'data/preprocessed/{cat_short}_yoy_infl.csv'\n",
    "save_cat_file_path = f'data/forecast_results/{cat_short}_forecast.csv'\n",
    "\n",
    "HICP_monthly, HICP_class, HICP_cat = mine_g.import_data_all(hicp_all_path=hicp_all_path,\n",
    "                                                     hicp_class_path=hicp_class_path,\n",
    "                                                     hicp_cat_path=hicp_cat_path)\n",
    "\n",
    "cat_df = mine_g.split_into_category(category=category,\n",
    "                             HICP_class=HICP_class,\n",
    "                             HICP_monthly=HICP_monthly)\n",
    "neig_cat_prediction = pd.DataFrame(index=date_range)"
   ]
  },
  {
   "cell_type": "code",
   "execution_count": 17,
   "metadata": {},
   "outputs": [
    {
     "name": "stdout",
     "output_type": "stream",
     "text": [
      "Horizon: 1\n",
      "Training predictor period: 1997-01-31 00:00:00 to 2015-11-30 00:00:00\n",
      "Training dependent variable period: 1997-02-28 00:00:00 to 2015-12-31 00:00:00\n",
      "Number of finished trials: 1000\n",
      "Horizon: 1\n",
      "------------------------\n",
      "Horizon: 2\n",
      "Training predictor period: 1997-01-31 00:00:00 to 2015-10-31 00:00:00\n",
      "Training dependent variable period: 1997-03-31 00:00:00 to 2015-12-31 00:00:00\n",
      "Number of finished trials: 1000\n",
      "Horizon: 2\n",
      "------------------------\n",
      "Horizon: 3\n",
      "Training predictor period: 1997-01-31 00:00:00 to 2015-09-30 00:00:00\n",
      "Training dependent variable period: 1997-04-30 00:00:00 to 2015-12-31 00:00:00\n",
      "Number of finished trials: 1000\n",
      "Horizon: 3\n",
      "------------------------\n"
     ]
    }
   ],
   "source": [
    "for h in [1, 2, 3]:\n",
    "    X_cat_train, X_cat_test, y_cat_train, y_cat_test = mine_g.split_train_test_set(X = cat_df, y = HICP_cat, h = h)\n",
    "\n",
    "    best_param = mine_s.hyperparam_tuning_optuna(mine_s.objective_xgb, X_cat_train, y_cat_train)\n",
    "\n",
    "    # save best_param:\n",
    "    with open(f'models/{model}_{cat_short}_h_{h}_hyperparam.json', 'w') as json_file:\n",
    "        json.dump(best_param, json_file)\n",
    "\n",
    "    N, T = len(X_cat_train), len(X_cat_test)\n",
    "\n",
    "    y_pred = generate_forecast(X = cat_df, y = HICP_cat, N = N, T = T, h = h, hyperparam=best_param, verbose=0)\n",
    "    neig_cat_prediction.loc[:, f'{model}_{cat_short}_h_{h}'] = y_pred\n"
   ]
  },
  {
   "cell_type": "code",
   "execution_count": 21,
   "metadata": {},
   "outputs": [],
   "source": [
    "mine_g.save_forecast(forecast_result_df=neig_cat_prediction.reset_index(drop=True), cat_file_path=save_cat_file_path, category=cat_short)"
   ]
  },
  {
   "cell_type": "markdown",
   "metadata": {},
   "source": [
    "# Services:"
   ]
  },
  {
   "cell_type": "code",
   "execution_count": 19,
   "metadata": {},
   "outputs": [
    {
     "name": "stdout",
     "output_type": "stream",
     "text": [
      "Number of items in Services group:  148\n"
     ]
    },
    {
     "name": "stderr",
     "output_type": "stream",
     "text": [
      "/Users/lananhnguyen/Desktop/thesis/thesis_code/main/packages/mine_generic.py:198: SettingWithCopyWarning: \n",
      "A value is trying to be set on a copy of a slice from a DataFrame\n",
      "\n",
      "See the caveats in the documentation: https://pandas.pydata.org/pandas-docs/stable/user_guide/indexing.html#returning-a-view-versus-a-copy\n",
      "  cat_df.fillna(0, inplace=True)\n"
     ]
    }
   ],
   "source": [
    "cat_short = 'services'\n",
    "category = 'Services'\n",
    "hicp_cat_path = f'data/preprocessed/{cat_short}_yoy_infl.csv'\n",
    "save_cat_file_path = f'data/forecast_results/{cat_short}_forecast.csv'\n",
    "\n",
    "HICP_monthly, HICP_class, HICP_cat = mine_g.import_data_all(hicp_all_path=hicp_all_path,\n",
    "                                                     hicp_class_path=hicp_class_path,\n",
    "                                                     hicp_cat_path=hicp_cat_path)\n",
    "\n",
    "cat_df = mine_g.split_into_category(category=category,\n",
    "                             HICP_class=HICP_class,\n",
    "                             HICP_monthly=HICP_monthly)\n",
    "services_cat_prediction = pd.DataFrame(index=date_range)"
   ]
  },
  {
   "cell_type": "code",
   "execution_count": 20,
   "metadata": {},
   "outputs": [
    {
     "name": "stdout",
     "output_type": "stream",
     "text": [
      "Horizon: 1\n",
      "Training predictor period: 1997-01-31 00:00:00 to 2015-11-30 00:00:00\n",
      "Training dependent variable period: 1997-02-28 00:00:00 to 2015-12-31 00:00:00\n",
      "Number of finished trials: 1000\n",
      "Horizon: 1\n",
      "------------------------\n",
      "Horizon: 2\n",
      "Training predictor period: 1997-01-31 00:00:00 to 2015-10-31 00:00:00\n",
      "Training dependent variable period: 1997-03-31 00:00:00 to 2015-12-31 00:00:00\n",
      "Number of finished trials: 1000\n",
      "Horizon: 2\n",
      "------------------------\n",
      "Horizon: 3\n",
      "Training predictor period: 1997-01-31 00:00:00 to 2015-09-30 00:00:00\n",
      "Training dependent variable period: 1997-04-30 00:00:00 to 2015-12-31 00:00:00\n",
      "Number of finished trials: 1000\n",
      "Horizon: 3\n",
      "------------------------\n"
     ]
    }
   ],
   "source": [
    "for h in [1, 2, 3]:\n",
    "    X_cat_train, X_cat_test, y_cat_train, y_cat_test = mine_g.split_train_test_set(X = cat_df, y = HICP_cat, h = h)\n",
    "\n",
    "    best_param = mine_s.hyperparam_tuning_optuna(mine_s.objective_xgb, X_cat_train, y_cat_train)\n",
    "\n",
    "    # save best_param:\n",
    "    with open(f'models/{model}_{cat_short}_h_{h}_hyperparam.json', 'w') as json_file:\n",
    "        json.dump(best_param, json_file)\n",
    "\n",
    "    N, T = len(X_cat_train), len(X_cat_test)\n",
    "\n",
    "    y_pred = generate_forecast(X = cat_df, y = HICP_cat, N = N, T = T, h = h, hyperparam=best_param, verbose=0)\n",
    "    services_cat_prediction.loc[:, f'{model}_{cat_short}_h_{h}'] = y_pred\n"
   ]
  },
  {
   "cell_type": "code",
   "execution_count": 26,
   "metadata": {},
   "outputs": [],
   "source": [
    "mine_g.save_forecast(forecast_result_df=services_cat_prediction.reset_index(drop=True), cat_file_path=save_cat_file_path, category=cat_short)"
   ]
  }
 ],
 "metadata": {
  "kernelspec": {
   "display_name": "thesis",
   "language": "python",
   "name": "python3"
  },
  "language_info": {
   "codemirror_mode": {
    "name": "ipython",
    "version": 3
   },
   "file_extension": ".py",
   "mimetype": "text/x-python",
   "name": "python",
   "nbconvert_exporter": "python",
   "pygments_lexer": "ipython3",
   "version": "3.11.7"
  }
 },
 "nbformat": 4,
 "nbformat_minor": 2
}
