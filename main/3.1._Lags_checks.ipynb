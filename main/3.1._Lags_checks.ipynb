{
 "cells": [
  {
   "cell_type": "markdown",
   "metadata": {},
   "source": [
    "I know that there's a lot of repeated code, but maybe later :)"
   ]
  },
  {
   "cell_type": "code",
   "execution_count": 1,
   "metadata": {},
   "outputs": [],
   "source": [
    "from os import chdir\n",
    "chdir('/Users/lananhnguyen/Desktop/thesis/thesis_code')\n",
    "import packages.mine_generic as mine_g\n",
    "import pandas as pd\n",
    "import numpy as np\n",
    "import matplotlib.pyplot as plt\n",
    "import seaborn as sns \n",
    "\n",
    "from sklearn.model_selection import TimeSeriesSplit\n",
    "from sklearn.preprocessing import StandardScaler\n",
    "from sklearn.linear_model import LinearRegression\n",
    "from sklearn.metrics import mean_squared_error\n",
    "from sklearn.pipeline import Pipeline\n",
    "from sklearn.decomposition import PCA"
   ]
  },
  {
   "cell_type": "markdown",
   "metadata": {},
   "source": [
    "# Food:"
   ]
  },
  {
   "cell_type": "code",
   "execution_count": 29,
   "metadata": {},
   "outputs": [
    {
     "name": "stdout",
     "output_type": "stream",
     "text": [
      "Number of items in Food group:  180\n"
     ]
    },
    {
     "name": "stderr",
     "output_type": "stream",
     "text": [
      "/Users/lananhnguyen/Desktop/thesis/thesis_code/main/packages/mine_generic.py:293: SettingWithCopyWarning: \n",
      "A value is trying to be set on a copy of a slice from a DataFrame\n",
      "\n",
      "See the caveats in the documentation: https://pandas.pydata.org/pandas-docs/stable/user_guide/indexing.html#returning-a-view-versus-a-copy\n",
      "  cat_df.fillna(0, inplace=True)\n"
     ]
    }
   ],
   "source": [
    "hicp_all_path = 'data/preprocessed/hicp_yoy.csv'\n",
    "hicp_class_path = 'data/HICP_COICOP10s.xlsx'\n",
    "\n",
    "cat_short = 'food'\n",
    "hicp_cat_path = f'data/preprocessed/{cat_short}_yoy_infl.csv'\n",
    "category = 'Food'\n",
    "save_cat_file_path = f'data/forecast_results/{cat_short}_forecast.csv'\n",
    "\n",
    "HICP_monthly, HICP_class, HICP_cat = mine_g.import_data_all(hicp_all_path=hicp_all_path,\n",
    "                                                     hicp_class_path=hicp_class_path,\n",
    "                                                     hicp_cat_path=hicp_cat_path)\n",
    "\n",
    "cat_df = mine_g.split_into_category(category=category,\n",
    "                             HICP_class=HICP_class,\n",
    "                             HICP_monthly=HICP_monthly)"
   ]
  },
  {
   "cell_type": "code",
   "execution_count": 30,
   "metadata": {},
   "outputs": [],
   "source": [
    "import statsmodels.api as sm\n",
    "\n",
    "max_lag = 12\n",
    "\n",
    "def train_pca(X_train,n_components):\n",
    "    #X_train = cat_df[cat_df.index <= '2015-12-31'].fillna(0)\n",
    "    scaler = StandardScaler()\n",
    "    X_train_scaled = scaler.fit_transform(X_train)\n",
    "\n",
    "    pca = PCA(n_components = n_components)\n",
    "\n",
    "    factor_train = pd.DataFrame(pca.fit_transform(X_train_scaled))\n",
    "    return factor_train\n",
    "\n",
    "\n",
    "# Function to fit OLS model with a given lag length and calculate BIC\n",
    "def tune_lags_pca_regress_bic(X_train, y_train, lags, horizon = 1, verbose = 1):\n",
    "\n",
    "\n",
    "    # PCA:\n",
    "    X_train_temp = X_train.iloc[:-horizon, :]\n",
    "\n",
    "    factor_train = train_pca(X_train_temp,n_components=5)\n",
    "    # lagged values of y:\n",
    "    y_lagged = pd.DataFrame()\n",
    "    for lag in range(0, lags + 1):\n",
    "        y_lagged[f'Lag_{lag}'] = y_train.shift(lag)\n",
    "\n",
    "    # Combine lagged values and additional predictors\n",
    "    X_pca_with_lags = pd.concat([y_lagged.reset_index(), factor_train], axis= 1)\n",
    "    X_pca_with_lags.dropna(inplace=True)\n",
    "    X_pca_with_lags = X_pca_with_lags.reset_index(drop=True)\n",
    "\n",
    "    date_here = X_pca_with_lags.loc[:, 'date']\n",
    "    X_pca_with_lags = X_pca_with_lags.drop(columns='date')\n",
    "    X_pca_with_lags_with_const = sm.add_constant(X_pca_with_lags)\n",
    "\n",
    "    # y:\n",
    "    y_train_temp = y_train[lags+horizon:]\n",
    "\n",
    "\n",
    "    # Fit OLS regression model\n",
    "    model = sm.OLS(y_train_temp.reset_index(drop = True), X_pca_with_lags_with_const)\n",
    "    results = model.fit()\n",
    "    \n",
    "    # Calculate BIC\n",
    "    bic = results.bic\n",
    "    \n",
    "    if verbose == 1:\n",
    "        print(f'Horizon {horizon}, lag {lags}')\n",
    "        print(f'X period: {date_here.iloc[0]} - {date_here.iloc[-1]}')\n",
    "        print(f'y period: {y_train_temp.index[0]} - {y_train_temp.index[-1]}')\n",
    "\n",
    "    return bic\n"
   ]
  },
  {
   "cell_type": "code",
   "execution_count": 31,
   "metadata": {},
   "outputs": [
    {
     "name": "stdout",
     "output_type": "stream",
     "text": [
      "Horizon: 1\n",
      "Training predictor period: 1997-01-31 00:00:00 to 2015-11-30 00:00:00\n",
      "Training dependent variable period: 1997-02-28 00:00:00 to 2015-12-31 00:00:00\n",
      "Horizon 1, lag 0\n",
      "X period: 1997-02-28 00:00:00 - 2015-11-30 00:00:00\n",
      "y period: 1997-03-31 00:00:00 - 2015-12-31 00:00:00\n",
      "Horizon 1, lag 1\n",
      "X period: 1997-03-31 00:00:00 - 2015-11-30 00:00:00\n",
      "y period: 1997-04-30 00:00:00 - 2015-12-31 00:00:00\n",
      "Horizon 1, lag 2\n",
      "X period: 1997-04-30 00:00:00 - 2015-11-30 00:00:00\n",
      "y period: 1997-05-31 00:00:00 - 2015-12-31 00:00:00\n",
      "Horizon 1, lag 3\n",
      "X period: 1997-05-31 00:00:00 - 2015-11-30 00:00:00\n",
      "y period: 1997-06-30 00:00:00 - 2015-12-31 00:00:00\n",
      "Horizon 1, lag 4\n",
      "X period: 1997-06-30 00:00:00 - 2015-11-30 00:00:00\n",
      "y period: 1997-07-31 00:00:00 - 2015-12-31 00:00:00\n",
      "Horizon 1, lag 5\n",
      "X period: 1997-07-31 00:00:00 - 2015-11-30 00:00:00\n",
      "y period: 1997-08-31 00:00:00 - 2015-12-31 00:00:00\n",
      "Horizon 1, lag 6\n",
      "X period: 1997-08-31 00:00:00 - 2015-11-30 00:00:00\n",
      "y period: 1997-09-30 00:00:00 - 2015-12-31 00:00:00\n",
      "Horizon 1, lag 7\n",
      "X period: 1997-09-30 00:00:00 - 2015-11-30 00:00:00\n",
      "y period: 1997-10-31 00:00:00 - 2015-12-31 00:00:00\n",
      "Horizon 1, lag 8\n",
      "X period: 1997-10-31 00:00:00 - 2015-11-30 00:00:00\n",
      "y period: 1997-11-30 00:00:00 - 2015-12-31 00:00:00\n",
      "Horizon 1, lag 9\n",
      "X period: 1997-11-30 00:00:00 - 2015-11-30 00:00:00\n",
      "y period: 1997-12-31 00:00:00 - 2015-12-31 00:00:00\n",
      "Horizon 1, lag 10\n",
      "X period: 1997-12-31 00:00:00 - 2015-11-30 00:00:00\n",
      "y period: 1998-01-31 00:00:00 - 2015-12-31 00:00:00\n",
      "Horizon 1, lag 11\n",
      "X period: 1998-01-31 00:00:00 - 2015-11-30 00:00:00\n",
      "y period: 1998-02-28 00:00:00 - 2015-12-31 00:00:00\n",
      "Horizon 1, lag 12\n",
      "X period: 1998-02-28 00:00:00 - 2015-11-30 00:00:00\n",
      "y period: 1998-03-31 00:00:00 - 2015-12-31 00:00:00\n",
      "BIC values for different lag lengths: [407.517373271155, 404.8210024255693, 407.60569781152003, 410.71958757887023, 414.7264193364372, 418.9253155529313, 422.58586063205564, 423.7814978789199, 427.7827612095633, 409.55182026431754, 413.6868867151584, 416.31096744054565, 393.1512752611345]\n",
      "Optimal lag length chosen by BIC: 12\n",
      "Lowest BIC: 393.1512752611345\n"
     ]
    }
   ],
   "source": [
    "horizon = 1\n",
    "n_components = 5\n",
    "\n",
    "X_train, X_test, y_train, y_test = mine_g.split_train_test_set(X = cat_df, y = HICP_cat, h = horizon)\n",
    "\n",
    "bic_values_h1 = []\n",
    "\n",
    "for lags in range(0, max_lag+1):\n",
    "    bic = tune_lags_pca_regress_bic(X_train, y_train, lags, horizon=horizon)\n",
    "    bic_values_h1.append(bic)\n",
    "\n",
    "# Find the lag length with the lowest BIC\n",
    "optimal_lag = np.argmin(bic_values_h1)\n",
    "lowest_bic = min(bic_values_h1)\n",
    "\n",
    "print(\"BIC values for different lag lengths:\", bic_values_h1)\n",
    "print(\"Optimal lag length chosen by BIC:\", optimal_lag)\n",
    "print(\"Lowest BIC:\", lowest_bic)"
   ]
  },
  {
   "cell_type": "code",
   "execution_count": 32,
   "metadata": {},
   "outputs": [
    {
     "name": "stdout",
     "output_type": "stream",
     "text": [
      "Horizon: 2\n",
      "Training predictor period: 1997-01-31 00:00:00 to 2015-10-31 00:00:00\n",
      "Training dependent variable period: 1997-03-31 00:00:00 to 2015-12-31 00:00:00\n",
      "Horizon 2, lag 0\n",
      "X period: 1997-03-31 00:00:00 - 2015-10-31 00:00:00\n",
      "y period: 1997-05-31 00:00:00 - 2015-12-31 00:00:00\n",
      "Horizon 2, lag 1\n",
      "X period: 1997-04-30 00:00:00 - 2015-10-31 00:00:00\n",
      "y period: 1997-06-30 00:00:00 - 2015-12-31 00:00:00\n",
      "Horizon 2, lag 2\n",
      "X period: 1997-05-31 00:00:00 - 2015-10-31 00:00:00\n",
      "y period: 1997-07-31 00:00:00 - 2015-12-31 00:00:00\n",
      "Horizon 2, lag 3\n",
      "X period: 1997-06-30 00:00:00 - 2015-10-31 00:00:00\n",
      "y period: 1997-08-31 00:00:00 - 2015-12-31 00:00:00\n",
      "Horizon 2, lag 4\n",
      "X period: 1997-07-31 00:00:00 - 2015-10-31 00:00:00\n",
      "y period: 1997-09-30 00:00:00 - 2015-12-31 00:00:00\n",
      "Horizon 2, lag 5\n",
      "X period: 1997-08-31 00:00:00 - 2015-10-31 00:00:00\n",
      "y period: 1997-10-31 00:00:00 - 2015-12-31 00:00:00\n",
      "Horizon 2, lag 6\n",
      "X period: 1997-09-30 00:00:00 - 2015-10-31 00:00:00\n",
      "y period: 1997-11-30 00:00:00 - 2015-12-31 00:00:00\n",
      "Horizon 2, lag 7\n",
      "X period: 1997-10-31 00:00:00 - 2015-10-31 00:00:00\n",
      "y period: 1997-12-31 00:00:00 - 2015-12-31 00:00:00\n",
      "Horizon 2, lag 8\n",
      "X period: 1997-11-30 00:00:00 - 2015-10-31 00:00:00\n",
      "y period: 1998-01-31 00:00:00 - 2015-12-31 00:00:00\n",
      "Horizon 2, lag 9\n",
      "X period: 1997-12-31 00:00:00 - 2015-10-31 00:00:00\n",
      "y period: 1998-02-28 00:00:00 - 2015-12-31 00:00:00\n",
      "Horizon 2, lag 10\n",
      "X period: 1998-01-31 00:00:00 - 2015-10-31 00:00:00\n",
      "y period: 1998-03-31 00:00:00 - 2015-12-31 00:00:00\n",
      "Horizon 2, lag 11\n",
      "X period: 1998-02-28 00:00:00 - 2015-10-31 00:00:00\n",
      "y period: 1998-04-30 00:00:00 - 2015-12-31 00:00:00\n",
      "Horizon 2, lag 12\n",
      "X period: 1998-03-31 00:00:00 - 2015-10-31 00:00:00\n",
      "y period: 1998-05-31 00:00:00 - 2015-12-31 00:00:00\n",
      "BIC values for different lag lengths: [558.1390182517677, 557.2938214020423, 559.9431716104832, 563.966763603361, 566.8593106181851, 569.0076244805532, 568.1514339178023, 568.4409946696861, 556.1261226951996, 549.9429479482296, 550.3173944428552, 538.8047013563003, 534.4326358163877]\n",
      "Optimal lag length chosen by BIC: 12\n",
      "Lowest BIC: 534.4326358163877\n"
     ]
    }
   ],
   "source": [
    "horizon = 2\n",
    "n_components = 5\n",
    "\n",
    "X_train, X_test, y_train, y_test = mine_g.split_train_test_set(X = cat_df, y = HICP_cat, h = horizon)\n",
    "\n",
    "bic_values_h1 = []\n",
    "\n",
    "for lags in range(0, max_lag+1):\n",
    "    bic = tune_lags_pca_regress_bic(X_train, y_train, lags, horizon=horizon)\n",
    "    bic_values_h1.append(bic)\n",
    "\n",
    "# Find the lag length with the lowest BIC\n",
    "optimal_lag = np.argmin(bic_values_h1)\n",
    "lowest_bic = min(bic_values_h1)\n",
    "\n",
    "print(\"BIC values for different lag lengths:\", bic_values_h1)\n",
    "print(\"Optimal lag length chosen by BIC:\", optimal_lag)\n",
    "print(\"Lowest BIC:\", lowest_bic)"
   ]
  },
  {
   "cell_type": "code",
   "execution_count": 6,
   "metadata": {},
   "outputs": [
    {
     "name": "stdout",
     "output_type": "stream",
     "text": [
      "Horizon: 3\n",
      "Training predictor period: 1997-01-31 00:00:00 to 2015-09-30 00:00:00\n",
      "Training dependent variable period: 1997-04-30 00:00:00 to 2015-12-31 00:00:00\n",
      "Horizon 3, lag 0\n",
      "X period: 1997-04-30 00:00:00 - 2015-09-30 00:00:00\n",
      "y period: 1997-07-31 00:00:00 - 2015-12-31 00:00:00\n",
      "Horizon 3, lag 1\n",
      "X period: 1997-05-31 00:00:00 - 2015-09-30 00:00:00\n",
      "y period: 1997-08-31 00:00:00 - 2015-12-31 00:00:00\n",
      "Horizon 3, lag 2\n",
      "X period: 1997-06-30 00:00:00 - 2015-09-30 00:00:00\n",
      "y period: 1997-09-30 00:00:00 - 2015-12-31 00:00:00\n",
      "Horizon 3, lag 3\n",
      "X period: 1997-07-31 00:00:00 - 2015-09-30 00:00:00\n",
      "y period: 1997-10-31 00:00:00 - 2015-12-31 00:00:00\n",
      "Horizon 3, lag 4\n",
      "X period: 1997-08-31 00:00:00 - 2015-09-30 00:00:00\n",
      "y period: 1997-11-30 00:00:00 - 2015-12-31 00:00:00\n",
      "Horizon 3, lag 5\n",
      "X period: 1997-09-30 00:00:00 - 2015-09-30 00:00:00\n",
      "y period: 1997-12-31 00:00:00 - 2015-12-31 00:00:00\n",
      "Horizon 3, lag 6\n",
      "X period: 1997-10-31 00:00:00 - 2015-09-30 00:00:00\n",
      "y period: 1998-01-31 00:00:00 - 2015-12-31 00:00:00\n",
      "Horizon 3, lag 7\n",
      "X period: 1997-11-30 00:00:00 - 2015-09-30 00:00:00\n",
      "y period: 1998-02-28 00:00:00 - 2015-12-31 00:00:00\n",
      "Horizon 3, lag 8\n",
      "X period: 1997-12-31 00:00:00 - 2015-09-30 00:00:00\n",
      "y period: 1998-03-31 00:00:00 - 2015-12-31 00:00:00\n",
      "Horizon 3, lag 9\n",
      "X period: 1998-01-31 00:00:00 - 2015-09-30 00:00:00\n",
      "y period: 1998-04-30 00:00:00 - 2015-12-31 00:00:00\n",
      "Horizon 3, lag 10\n",
      "X period: 1998-02-28 00:00:00 - 2015-09-30 00:00:00\n",
      "y period: 1998-05-31 00:00:00 - 2015-12-31 00:00:00\n",
      "Horizon 3, lag 11\n",
      "X period: 1998-03-31 00:00:00 - 2015-09-30 00:00:00\n",
      "y period: 1998-06-30 00:00:00 - 2015-12-31 00:00:00\n",
      "Horizon 3, lag 12\n",
      "X period: 1998-04-30 00:00:00 - 2015-09-30 00:00:00\n",
      "y period: 1998-07-31 00:00:00 - 2015-12-31 00:00:00\n",
      "BIC values for different lag lengths: [636.7644820512874, 639.6197115982707, 643.2514106255949, 646.829460683725, 648.4929519264997, 648.0308046343116, 646.1456975784868, 628.0587164227628, 618.9872956716886, 614.0432554483675, 606.8727029610029, 604.7192212975015, 604.7914626284173]\n",
      "Optimal lag length chosen by BIC: 11\n",
      "Lowest BIC: 604.7192212975015\n"
     ]
    }
   ],
   "source": [
    "horizon = 3\n",
    "n_components = 5\n",
    "\n",
    "X_train, X_test, y_train, y_test = mine_g.split_train_test_set(X = cat_df, y = HICP_cat, h = horizon)\n",
    "\n",
    "bic_values_h1 = []\n",
    "\n",
    "for lags in range(0, max_lag+1):\n",
    "    bic = tune_lags_pca_regress_bic(X_train, y_train, lags, horizon=horizon)\n",
    "    bic_values_h1.append(bic)\n",
    "\n",
    "# Find the lag length with the lowest BIC\n",
    "optimal_lag = np.argmin(bic_values_h1)\n",
    "lowest_bic = min(bic_values_h1)\n",
    "\n",
    "print(\"BIC values for different lag lengths:\", bic_values_h1)\n",
    "print(\"Optimal lag length chosen by BIC:\", optimal_lag)\n",
    "print(\"Lowest BIC:\", lowest_bic)"
   ]
  },
  {
   "cell_type": "markdown",
   "metadata": {},
   "source": [
    "# Energy:"
   ]
  },
  {
   "cell_type": "code",
   "execution_count": 7,
   "metadata": {},
   "outputs": [
    {
     "name": "stdout",
     "output_type": "stream",
     "text": [
      "Number of items in Energy group:  14\n"
     ]
    },
    {
     "name": "stderr",
     "output_type": "stream",
     "text": [
      "/Users/lananhnguyen/Desktop/thesis/thesis_code/main/packages/mine_generic.py:293: SettingWithCopyWarning: \n",
      "A value is trying to be set on a copy of a slice from a DataFrame\n",
      "\n",
      "See the caveats in the documentation: https://pandas.pydata.org/pandas-docs/stable/user_guide/indexing.html#returning-a-view-versus-a-copy\n",
      "  cat_df.fillna(0, inplace=True)\n"
     ]
    }
   ],
   "source": [
    "hicp_all_path = 'data/preprocessed/hicp_yoy.csv'\n",
    "hicp_class_path = 'data/HICP_COICOP10s.xlsx'\n",
    "\n",
    "cat_short = 'energy'\n",
    "hicp_cat_path = f'data/preprocessed/{cat_short}_yoy_infl.csv'\n",
    "category = 'Energy'\n",
    "\n",
    "HICP_monthly, HICP_class, HICP_cat = mine_g.import_data_all(hicp_all_path=hicp_all_path,\n",
    "                                                     hicp_class_path=hicp_class_path,\n",
    "                                                     hicp_cat_path=hicp_cat_path)\n",
    "\n",
    "cat_df = mine_g.split_into_category(category=category,\n",
    "                             HICP_class=HICP_class,\n",
    "                             HICP_monthly=HICP_monthly)"
   ]
  },
  {
   "cell_type": "markdown",
   "metadata": {},
   "source": [
    "## h =1"
   ]
  },
  {
   "cell_type": "code",
   "execution_count": 8,
   "metadata": {},
   "outputs": [
    {
     "name": "stdout",
     "output_type": "stream",
     "text": [
      "Horizon: 1\n",
      "Training predictor period: 1997-01-31 00:00:00 to 2015-11-30 00:00:00\n",
      "Training dependent variable period: 1997-02-28 00:00:00 to 2015-12-31 00:00:00\n"
     ]
    }
   ],
   "source": [
    "horizon = 1\n",
    "X_train, X_test, y_train, y_test = mine_g.split_train_test_set(X = cat_df, y = HICP_cat, h = horizon)"
   ]
  },
  {
   "cell_type": "code",
   "execution_count": 9,
   "metadata": {},
   "outputs": [
    {
     "data": {
      "image/png": "[encoded data removed]",
      "text/plain": [
       "<Figure size 1200x600 with 1 Axes>"
      ]
     },
     "metadata": {},
     "output_type": "display_data"
    }
   ],
   "source": [
    "\n",
    "# Scale the data\n",
    "scaler = StandardScaler()\n",
    "X_train_scaled = scaler.fit_transform(X_train)\n",
    "\n",
    "# Define a range of n_components to explore\n",
    "n_components_range = range(1, 14, 1)  # Adjust max components\n",
    "\n",
    "# Create an empty list to store explained variance ratios\n",
    "explained_variance = []\n",
    "\n",
    "# Loop through n_components values\n",
    "for n in n_components_range:\n",
    "    # Create a PCA object with the current n_components\n",
    "    pca = PCA(n_components=n)\n",
    "\n",
    "    # Fit the PCA model on the data\n",
    "    pca.fit(X_train_scaled)\n",
    "\n",
    "    # Get the explained variance ratio\n",
    "    explained_variance.append(pca.explained_variance_ratio_.sum())\n",
    "\n",
    "# Plot the explained variance ratio vs n_components\n",
    "plt.figure(figsize=(12, 6))\n",
    "plt.plot(n_components_range, explained_variance, marker='o', linestyle='-')\n",
    "plt.xlabel('Number of Components')\n",
    "plt.ylabel('Explained Variance Ratio')\n",
    "plt.title('Explained Variance Ratio vs Number of PCA Components')\n",
    "plt.grid(True)\n",
    "\n",
    "# Optional: Add a threshold line (e.g., 0.9) to visually identify an elbow point\n",
    "plt.axhline(y=0.95, color='r', linestyle='--', label='Threshold 0.95')\n",
    "\n",
    "plt.legend()\n",
    "\n",
    "# Show the plot\n",
    "plt.tight_layout()\n",
    "plt.show()\n"
   ]
  },
  {
   "cell_type": "code",
   "execution_count": 10,
   "metadata": {},
   "outputs": [
    {
     "name": "stdout",
     "output_type": "stream",
     "text": [
      "Horizon 1, lag 0\n",
      "X period: 1997-02-28 00:00:00 - 2015-11-30 00:00:00\n",
      "y period: 1997-03-31 00:00:00 - 2015-12-31 00:00:00\n",
      "Horizon 1, lag 1\n",
      "X period: 1997-03-31 00:00:00 - 2015-11-30 00:00:00\n",
      "y period: 1997-04-30 00:00:00 - 2015-12-31 00:00:00\n",
      "Horizon 1, lag 2\n",
      "X period: 1997-04-30 00:00:00 - 2015-11-30 00:00:00\n",
      "y period: 1997-05-31 00:00:00 - 2015-12-31 00:00:00\n",
      "Horizon 1, lag 3\n",
      "X period: 1997-05-31 00:00:00 - 2015-11-30 00:00:00\n",
      "y period: 1997-06-30 00:00:00 - 2015-12-31 00:00:00\n",
      "Horizon 1, lag 4\n",
      "X period: 1997-06-30 00:00:00 - 2015-11-30 00:00:00\n",
      "y period: 1997-07-31 00:00:00 - 2015-12-31 00:00:00\n",
      "Horizon 1, lag 5\n",
      "X period: 1997-07-31 00:00:00 - 2015-11-30 00:00:00\n",
      "y period: 1997-08-31 00:00:00 - 2015-12-31 00:00:00\n",
      "Horizon 1, lag 6\n",
      "X period: 1997-08-31 00:00:00 - 2015-11-30 00:00:00\n",
      "y period: 1997-09-30 00:00:00 - 2015-12-31 00:00:00\n",
      "Horizon 1, lag 7\n",
      "X period: 1997-09-30 00:00:00 - 2015-11-30 00:00:00\n",
      "y period: 1997-10-31 00:00:00 - 2015-12-31 00:00:00\n",
      "Horizon 1, lag 8\n",
      "X period: 1997-10-31 00:00:00 - 2015-11-30 00:00:00\n",
      "y period: 1997-11-30 00:00:00 - 2015-12-31 00:00:00\n",
      "Horizon 1, lag 9\n",
      "X period: 1997-11-30 00:00:00 - 2015-11-30 00:00:00\n",
      "y period: 1997-12-31 00:00:00 - 2015-12-31 00:00:00\n",
      "Horizon 1, lag 10\n",
      "X period: 1997-12-31 00:00:00 - 2015-11-30 00:00:00\n",
      "y period: 1998-01-31 00:00:00 - 2015-12-31 00:00:00\n",
      "Horizon 1, lag 11\n",
      "X period: 1998-01-31 00:00:00 - 2015-11-30 00:00:00\n",
      "y period: 1998-02-28 00:00:00 - 2015-12-31 00:00:00\n",
      "Horizon 1, lag 12\n",
      "X period: 1998-02-28 00:00:00 - 2015-11-30 00:00:00\n",
      "y period: 1998-03-31 00:00:00 - 2015-12-31 00:00:00\n",
      "BIC values for different lag lengths: [1014.8520511233583, 1012.8983191163579, 1013.7147883813182, 1015.5349578567732, 1016.805963284762, 1018.7390204294286, 1019.0296715829212, 1019.7133905147637, 1020.5537795486918, 1022.1475197588558, 1019.9816651603519, 986.3426439472144, 961.406122261324]\n",
      "Optimal lag length chosen by BIC: 12\n",
      "Lowest BIC: 961.406122261324\n"
     ]
    }
   ],
   "source": [
    "n_components = 3\n",
    "\n",
    "bic_values_h1 = []\n",
    "\n",
    "for lags in range(0, max_lag+1):\n",
    "    bic = tune_lags_pca_regress_bic(X_train, y_train, lags, horizon=horizon)\n",
    "    bic_values_h1.append(bic)\n",
    "\n",
    "# Find the lag length with the lowest BIC\n",
    "optimal_lag = np.argmin(bic_values_h1)\n",
    "lowest_bic = min(bic_values_h1)\n",
    "\n",
    "print(\"BIC values for different lag lengths:\", bic_values_h1)\n",
    "print(\"Optimal lag length chosen by BIC:\", optimal_lag)\n",
    "print(\"Lowest BIC:\", lowest_bic)"
   ]
  },
  {
   "cell_type": "markdown",
   "metadata": {},
   "source": [
    "## h =2"
   ]
  },
  {
   "cell_type": "code",
   "execution_count": 11,
   "metadata": {},
   "outputs": [
    {
     "name": "stdout",
     "output_type": "stream",
     "text": [
      "Horizon: 2\n",
      "Training predictor period: 1997-01-31 00:00:00 to 2015-10-31 00:00:00\n",
      "Training dependent variable period: 1997-03-31 00:00:00 to 2015-12-31 00:00:00\n"
     ]
    }
   ],
   "source": [
    "horizon = 2\n",
    "X_train, X_test, y_train, y_test = mine_g.split_train_test_set(X = cat_df, y = HICP_cat, h = horizon)\n"
   ]
  },
  {
   "cell_type": "code",
   "execution_count": 12,
   "metadata": {},
   "outputs": [
    {
     "data": {
      "image/png": "[encoded data removed]",
      "text/plain": [
       "<Figure size 1200x600 with 1 Axes>"
      ]
     },
     "metadata": {},
     "output_type": "display_data"
    }
   ],
   "source": [
    "# Scale the data\n",
    "scaler = StandardScaler()\n",
    "X_train_scaled = scaler.fit_transform(X_train)\n",
    "\n",
    "# Define a range of n_components to explore\n",
    "n_components_range = range(1, 14, 1)  # Adjust max components\n",
    "\n",
    "# Create an empty list to store explained variance ratios\n",
    "explained_variance = []\n",
    "\n",
    "# Loop through n_components values\n",
    "for n in n_components_range:\n",
    "    # Create a PCA object with the current n_components\n",
    "    pca = PCA(n_components=n)\n",
    "\n",
    "    # Fit the PCA model on the data\n",
    "    pca.fit(X_train_scaled)\n",
    "\n",
    "    # Get the explained variance ratio\n",
    "    explained_variance.append(pca.explained_variance_ratio_.sum())\n",
    "\n",
    "# Plot the explained variance ratio vs n_components\n",
    "plt.figure(figsize=(12, 6))\n",
    "plt.plot(n_components_range, explained_variance, marker='o', linestyle='-')\n",
    "plt.xlabel('Number of Components')\n",
    "plt.ylabel('Explained Variance Ratio')\n",
    "plt.title('Explained Variance Ratio vs Number of PCA Components')\n",
    "plt.grid(True)\n",
    "\n",
    "# Optional: Add a threshold line (e.g., 0.9) to visually identify an elbow point\n",
    "plt.axhline(y=0.95, color='r', linestyle='--', label='Threshold 0.95')\n",
    "\n",
    "plt.legend()\n",
    "\n",
    "# Show the plot\n",
    "plt.tight_layout()\n",
    "plt.show()\n"
   ]
  },
  {
   "cell_type": "code",
   "execution_count": 13,
   "metadata": {},
   "outputs": [
    {
     "name": "stdout",
     "output_type": "stream",
     "text": [
      "Horizon 2, lag 0\n",
      "X period: 1997-03-31 00:00:00 - 2015-10-31 00:00:00\n",
      "y period: 1997-05-31 00:00:00 - 2015-12-31 00:00:00\n",
      "Horizon 2, lag 1\n",
      "X period: 1997-04-30 00:00:00 - 2015-10-31 00:00:00\n",
      "y period: 1997-06-30 00:00:00 - 2015-12-31 00:00:00\n",
      "Horizon 2, lag 2\n",
      "X period: 1997-05-31 00:00:00 - 2015-10-31 00:00:00\n",
      "y period: 1997-07-31 00:00:00 - 2015-12-31 00:00:00\n",
      "Horizon 2, lag 3\n",
      "X period: 1997-06-30 00:00:00 - 2015-10-31 00:00:00\n",
      "y period: 1997-08-31 00:00:00 - 2015-12-31 00:00:00\n",
      "Horizon 2, lag 4\n",
      "X period: 1997-07-31 00:00:00 - 2015-10-31 00:00:00\n",
      "y period: 1997-09-30 00:00:00 - 2015-12-31 00:00:00\n",
      "Horizon 2, lag 5\n",
      "X period: 1997-08-31 00:00:00 - 2015-10-31 00:00:00\n",
      "y period: 1997-10-31 00:00:00 - 2015-12-31 00:00:00\n",
      "Horizon 2, lag 6\n",
      "X period: 1997-09-30 00:00:00 - 2015-10-31 00:00:00\n",
      "y period: 1997-11-30 00:00:00 - 2015-12-31 00:00:00\n",
      "Horizon 2, lag 7\n",
      "X period: 1997-10-31 00:00:00 - 2015-10-31 00:00:00\n",
      "y period: 1997-12-31 00:00:00 - 2015-12-31 00:00:00\n",
      "Horizon 2, lag 8\n",
      "X period: 1997-11-30 00:00:00 - 2015-10-31 00:00:00\n",
      "y period: 1998-01-31 00:00:00 - 2015-12-31 00:00:00\n",
      "Horizon 2, lag 9\n",
      "X period: 1997-12-31 00:00:00 - 2015-10-31 00:00:00\n",
      "y period: 1998-02-28 00:00:00 - 2015-12-31 00:00:00\n",
      "Horizon 2, lag 10\n",
      "X period: 1998-01-31 00:00:00 - 2015-10-31 00:00:00\n",
      "y period: 1998-03-31 00:00:00 - 2015-12-31 00:00:00\n",
      "Horizon 2, lag 11\n",
      "X period: 1998-02-28 00:00:00 - 2015-10-31 00:00:00\n",
      "y period: 1998-04-30 00:00:00 - 2015-12-31 00:00:00\n",
      "Horizon 2, lag 12\n",
      "X period: 1998-03-31 00:00:00 - 2015-10-31 00:00:00\n",
      "y period: 1998-05-31 00:00:00 - 2015-12-31 00:00:00\n",
      "BIC values for different lag lengths: [1155.8783013610982, 1156.940838780307, 1155.7187373679606, 1156.864886641565, 1157.5382778248506, 1158.3257843643355, 1159.3577801434087, 1160.625708291402, 1160.5114727503558, 1157.3026290115597, 1123.36282917009, 1123.888580924366, 1099.1475915866458]\n",
      "Optimal lag length chosen by BIC: 12\n",
      "Lowest BIC: 1099.1475915866458\n"
     ]
    }
   ],
   "source": [
    "n_components = 3\n",
    "bic_values_h2 = []\n",
    "\n",
    "for lags in range(0, max_lag+1):\n",
    "    bic = tune_lags_pca_regress_bic(X_train, y_train, lags, horizon=horizon)\n",
    "    bic_values_h2.append(bic)\n",
    "\n",
    "# Find the lag length with the lowest BIC\n",
    "optimal_lag = np.argmin(bic_values_h2)\n",
    "lowest_bic = min(bic_values_h2)\n",
    "\n",
    "print(\"BIC values for different lag lengths:\", bic_values_h2)\n",
    "print(\"Optimal lag length chosen by BIC:\", optimal_lag)\n",
    "print(\"Lowest BIC:\", lowest_bic)"
   ]
  },
  {
   "cell_type": "markdown",
   "metadata": {},
   "source": [
    "## h = 3"
   ]
  },
  {
   "cell_type": "code",
   "execution_count": 14,
   "metadata": {},
   "outputs": [
    {
     "name": "stdout",
     "output_type": "stream",
     "text": [
      "Horizon: 3\n",
      "Training predictor period: 1997-01-31 00:00:00 to 2015-09-30 00:00:00\n",
      "Training dependent variable period: 1997-04-30 00:00:00 to 2015-12-31 00:00:00\n",
      "BIC values for different lag lengths: [1219.160075662049, 1219.9589517509746, 1220.582199522055, 1218.8942247874404, 1218.3262833618764, 1218.6122518898603, 1219.2529942025915, 1218.984744339552, 1215.31045527561, 1186.2678843219066, 1182.6583841480738, 1183.3418372318831, 1170.4700821029]\n",
      "Optimal lag length chosen by BIC: 12\n",
      "Lowest BIC: 1170.4700821029\n"
     ]
    }
   ],
   "source": [
    "horizon = 3\n",
    "n_components = 3\n",
    "\n",
    "X_train, X_test, y_train, y_test = mine_g.split_train_test_set(X = cat_df, y = HICP_cat, h = horizon)\n",
    "\n",
    "bic_values_h3 = []\n",
    "\n",
    "for lags in range(0, max_lag+1):\n",
    "    bic = tune_lags_pca_regress_bic(X_train, y_train, lags, horizon=horizon, verbose=0)\n",
    "    bic_values_h3.append(bic)\n",
    "\n",
    "# Find the lag length with the lowest BIC\n",
    "optimal_lag = np.argmin(bic_values_h3)\n",
    "lowest_bic = min(bic_values_h3)\n",
    "\n",
    "print(\"BIC values for different lag lengths:\", bic_values_h3)\n",
    "print(\"Optimal lag length chosen by BIC:\", optimal_lag)\n",
    "print(\"Lowest BIC:\", lowest_bic)"
   ]
  },
  {
   "cell_type": "code",
   "execution_count": null,
   "metadata": {},
   "outputs": [],
   "source": []
  },
  {
   "cell_type": "markdown",
   "metadata": {},
   "source": [
    "# Services:"
   ]
  },
  {
   "cell_type": "code",
   "execution_count": 15,
   "metadata": {},
   "outputs": [
    {
     "name": "stdout",
     "output_type": "stream",
     "text": [
      "Number of items in Services group:  148\n"
     ]
    },
    {
     "name": "stderr",
     "output_type": "stream",
     "text": [
      "/Users/lananhnguyen/Desktop/thesis/thesis_code/main/packages/mine_generic.py:293: SettingWithCopyWarning: \n",
      "A value is trying to be set on a copy of a slice from a DataFrame\n",
      "\n",
      "See the caveats in the documentation: https://pandas.pydata.org/pandas-docs/stable/user_guide/indexing.html#returning-a-view-versus-a-copy\n",
      "  cat_df.fillna(0, inplace=True)\n"
     ]
    }
   ],
   "source": [
    "cat_short = 'services'\n",
    "hicp_cat_path = f'data/preprocessed/{cat_short}_yoy_infl.csv'\n",
    "category = 'Services'\n",
    "\n",
    "HICP_monthly, HICP_class, HICP_cat = mine_g.import_data_all(hicp_all_path=hicp_all_path,\n",
    "                                                     hicp_class_path=hicp_class_path,\n",
    "                                                     hicp_cat_path=hicp_cat_path)\n",
    "\n",
    "cat_df = mine_g.split_into_category(category=category,\n",
    "                             HICP_class=HICP_class,\n",
    "                             HICP_monthly=HICP_monthly)"
   ]
  },
  {
   "cell_type": "code",
   "execution_count": 16,
   "metadata": {},
   "outputs": [
    {
     "name": "stdout",
     "output_type": "stream",
     "text": [
      "Horizon: 1\n",
      "Training predictor period: 1997-01-31 00:00:00 to 2015-11-30 00:00:00\n",
      "Training dependent variable period: 1997-02-28 00:00:00 to 2015-12-31 00:00:00\n"
     ]
    }
   ],
   "source": [
    "horizon = 1\n",
    "X_train, X_test, y_train, y_test = mine_g.split_train_test_set(X = cat_df, y = HICP_cat, h = horizon)"
   ]
  },
  {
   "cell_type": "code",
   "execution_count": 17,
   "metadata": {},
   "outputs": [
    {
     "data": {
      "image/png": "[encoded data removed]",
      "text/plain": [
       "<Figure size 1200x600 with 1 Axes>"
      ]
     },
     "metadata": {},
     "output_type": "display_data"
    }
   ],
   "source": [
    "\n",
    "# Scale the data\n",
    "scaler = StandardScaler()\n",
    "X_train_scaled = scaler.fit_transform(X_train)\n",
    "\n",
    "# Define a range of n_components to explore\n",
    "n_components_range = range(1, 14, 1)  # Adjust max components\n",
    "\n",
    "# Create an empty list to store explained variance ratios\n",
    "explained_variance = []\n",
    "\n",
    "# Loop through n_components values\n",
    "for n in n_components_range:\n",
    "    # Create a PCA object with the current n_components\n",
    "    pca = PCA(n_components=n)\n",
    "\n",
    "    # Fit the PCA model on the data\n",
    "    pca.fit(X_train_scaled)\n",
    "\n",
    "    # Get the explained variance ratio\n",
    "    explained_variance.append(pca.explained_variance_ratio_.sum())\n",
    "\n",
    "# Plot the explained variance ratio vs n_components\n",
    "plt.figure(figsize=(12, 6))\n",
    "plt.plot(n_components_range, explained_variance, marker='o', linestyle='-')\n",
    "plt.xlabel('Number of Components')\n",
    "plt.ylabel('Explained Variance Ratio')\n",
    "plt.title('Explained Variance Ratio vs Number of PCA Components')\n",
    "plt.grid(True)\n",
    "\n",
    "# Optional: Add a threshold line (e.g., 0.9) to visually identify an elbow point\n",
    "plt.axhline(y=0.95, color='r', linestyle='--', label='Threshold 0.95')\n",
    "\n",
    "plt.legend()\n",
    "\n",
    "# Show the plot\n",
    "plt.tight_layout()\n",
    "plt.show()\n"
   ]
  },
  {
   "cell_type": "code",
   "execution_count": 18,
   "metadata": {},
   "outputs": [
    {
     "name": "stdout",
     "output_type": "stream",
     "text": [
      "Horizon 1, lag 0\n",
      "X period: 1997-02-28 00:00:00 - 2015-11-30 00:00:00\n",
      "y period: 1997-03-31 00:00:00 - 2015-12-31 00:00:00\n",
      "Horizon 1, lag 1\n",
      "X period: 1997-03-31 00:00:00 - 2015-11-30 00:00:00\n",
      "y period: 1997-04-30 00:00:00 - 2015-12-31 00:00:00\n",
      "Horizon 1, lag 2\n",
      "X period: 1997-04-30 00:00:00 - 2015-11-30 00:00:00\n",
      "y period: 1997-05-31 00:00:00 - 2015-12-31 00:00:00\n",
      "Horizon 1, lag 3\n",
      "X period: 1997-05-31 00:00:00 - 2015-11-30 00:00:00\n",
      "y period: 1997-06-30 00:00:00 - 2015-12-31 00:00:00\n",
      "Horizon 1, lag 4\n",
      "X period: 1997-06-30 00:00:00 - 2015-11-30 00:00:00\n",
      "y period: 1997-07-31 00:00:00 - 2015-12-31 00:00:00\n",
      "Horizon 1, lag 5\n",
      "X period: 1997-07-31 00:00:00 - 2015-11-30 00:00:00\n",
      "y period: 1997-08-31 00:00:00 - 2015-12-31 00:00:00\n",
      "Horizon 1, lag 6\n",
      "X period: 1997-08-31 00:00:00 - 2015-11-30 00:00:00\n",
      "y period: 1997-09-30 00:00:00 - 2015-12-31 00:00:00\n",
      "Horizon 1, lag 7\n",
      "X period: 1997-09-30 00:00:00 - 2015-11-30 00:00:00\n",
      "y period: 1997-10-31 00:00:00 - 2015-12-31 00:00:00\n",
      "Horizon 1, lag 8\n",
      "X period: 1997-10-31 00:00:00 - 2015-11-30 00:00:00\n",
      "y period: 1997-11-30 00:00:00 - 2015-12-31 00:00:00\n",
      "Horizon 1, lag 9\n",
      "X period: 1997-11-30 00:00:00 - 2015-11-30 00:00:00\n",
      "y period: 1997-12-31 00:00:00 - 2015-12-31 00:00:00\n",
      "Horizon 1, lag 10\n",
      "X period: 1997-12-31 00:00:00 - 2015-11-30 00:00:00\n",
      "y period: 1998-01-31 00:00:00 - 2015-12-31 00:00:00\n",
      "Horizon 1, lag 11\n",
      "X period: 1998-01-31 00:00:00 - 2015-11-30 00:00:00\n",
      "y period: 1998-02-28 00:00:00 - 2015-12-31 00:00:00\n",
      "Horizon 1, lag 12\n",
      "X period: 1998-02-28 00:00:00 - 2015-11-30 00:00:00\n",
      "y period: 1998-03-31 00:00:00 - 2015-12-31 00:00:00\n",
      "BIC values for different lag lengths: [276.6245558477856, 261.83045965165974, 266.77770154580446, 262.2421560034742, 267.29541859718154, 263.9023752029025, 257.6381193701611, 258.1445619584446, 262.77915642822217, 265.33335518801175, 268.47162630485104, 263.6250130342639, 267.1916553148527]\n",
      "Optimal lag length chosen by BIC: 6\n",
      "Lowest BIC: 257.6381193701611\n"
     ]
    }
   ],
   "source": [
    "n_components = 5\n",
    "\n",
    "bic_values_h1 = []\n",
    "\n",
    "for lags in range(0, max_lag+1):\n",
    "    bic = tune_lags_pca_regress_bic(X_train, y_train, lags, horizon=horizon)\n",
    "    bic_values_h1.append(bic)\n",
    "\n",
    "# Find the lag length with the lowest BIC\n",
    "optimal_lag = np.argmin(bic_values_h1)\n",
    "lowest_bic = min(bic_values_h1)\n",
    "\n",
    "print(\"BIC values for different lag lengths:\", bic_values_h1)\n",
    "print(\"Optimal lag length chosen by BIC:\", optimal_lag)\n",
    "print(\"Lowest BIC:\", lowest_bic)"
   ]
  },
  {
   "cell_type": "code",
   "execution_count": 19,
   "metadata": {},
   "outputs": [
    {
     "name": "stdout",
     "output_type": "stream",
     "text": [
      "Horizon: 2\n",
      "Training predictor period: 1997-01-31 00:00:00 to 2015-10-31 00:00:00\n",
      "Training dependent variable period: 1997-03-31 00:00:00 to 2015-12-31 00:00:00\n",
      "Horizon 2, lag 0\n",
      "X period: 1997-03-31 00:00:00 - 2015-10-31 00:00:00\n",
      "y period: 1997-05-31 00:00:00 - 2015-12-31 00:00:00\n",
      "Horizon 2, lag 1\n",
      "X period: 1997-04-30 00:00:00 - 2015-10-31 00:00:00\n",
      "y period: 1997-06-30 00:00:00 - 2015-12-31 00:00:00\n",
      "Horizon 2, lag 2\n",
      "X period: 1997-05-31 00:00:00 - 2015-10-31 00:00:00\n",
      "y period: 1997-07-31 00:00:00 - 2015-12-31 00:00:00\n",
      "Horizon 2, lag 3\n",
      "X period: 1997-06-30 00:00:00 - 2015-10-31 00:00:00\n",
      "y period: 1997-08-31 00:00:00 - 2015-12-31 00:00:00\n",
      "Horizon 2, lag 4\n",
      "X period: 1997-07-31 00:00:00 - 2015-10-31 00:00:00\n",
      "y period: 1997-09-30 00:00:00 - 2015-12-31 00:00:00\n",
      "Horizon 2, lag 5\n",
      "X period: 1997-08-31 00:00:00 - 2015-10-31 00:00:00\n",
      "y period: 1997-10-31 00:00:00 - 2015-12-31 00:00:00\n",
      "Horizon 2, lag 6\n",
      "X period: 1997-09-30 00:00:00 - 2015-10-31 00:00:00\n",
      "y period: 1997-11-30 00:00:00 - 2015-12-31 00:00:00\n",
      "Horizon 2, lag 7\n",
      "X period: 1997-10-31 00:00:00 - 2015-10-31 00:00:00\n",
      "y period: 1997-12-31 00:00:00 - 2015-12-31 00:00:00\n",
      "Horizon 2, lag 8\n",
      "X period: 1997-11-30 00:00:00 - 2015-10-31 00:00:00\n",
      "y period: 1998-01-31 00:00:00 - 2015-12-31 00:00:00\n",
      "Horizon 2, lag 9\n",
      "X period: 1997-12-31 00:00:00 - 2015-10-31 00:00:00\n",
      "y period: 1998-02-28 00:00:00 - 2015-12-31 00:00:00\n",
      "Horizon 2, lag 10\n",
      "X period: 1998-01-31 00:00:00 - 2015-10-31 00:00:00\n",
      "y period: 1998-03-31 00:00:00 - 2015-12-31 00:00:00\n",
      "Horizon 2, lag 11\n",
      "X period: 1998-02-28 00:00:00 - 2015-10-31 00:00:00\n",
      "y period: 1998-04-30 00:00:00 - 2015-12-31 00:00:00\n",
      "Horizon 2, lag 12\n",
      "X period: 1998-03-31 00:00:00 - 2015-10-31 00:00:00\n",
      "y period: 1998-05-31 00:00:00 - 2015-12-31 00:00:00\n",
      "BIC values for different lag lengths: [303.60272703635013, 301.1485743983998, 300.3387121346828, 301.61665694352564, 296.6339203741684, 285.0528761042819, 288.9751494071463, 290.6970697611671, 293.075189069295, 297.1390196790906, 293.12399022389747, 298.2653728043805, 299.84698331903684]\n",
      "Optimal lag length chosen by BIC: 5\n",
      "Lowest BIC: 285.0528761042819\n"
     ]
    }
   ],
   "source": [
    "horizon = 2\n",
    "X_train, X_test, y_train, y_test = mine_g.split_train_test_set(X = cat_df, y = HICP_cat, h = horizon)\n",
    "\n",
    "n_components = 5\n",
    "\n",
    "bic_values_h2 = []\n",
    "\n",
    "for lags in range(0, max_lag+1):\n",
    "    bic = tune_lags_pca_regress_bic(X_train, y_train, lags, horizon=horizon)\n",
    "    bic_values_h2.append(bic)\n",
    "\n",
    "# Find the lag length with the lowest BIC\n",
    "optimal_lag = np.argmin(bic_values_h2)\n",
    "lowest_bic = min(bic_values_h2)\n",
    "\n",
    "print(\"BIC values for different lag lengths:\", bic_values_h2)\n",
    "print(\"Optimal lag length chosen by BIC:\", optimal_lag)\n",
    "print(\"Lowest BIC:\", lowest_bic)"
   ]
  },
  {
   "cell_type": "code",
   "execution_count": 20,
   "metadata": {},
   "outputs": [
    {
     "name": "stdout",
     "output_type": "stream",
     "text": [
      "Horizon: 3\n",
      "Training predictor period: 1997-01-31 00:00:00 to 2015-09-30 00:00:00\n",
      "Training dependent variable period: 1997-04-30 00:00:00 to 2015-12-31 00:00:00\n",
      "Horizon 3, lag 0\n",
      "X period: 1997-04-30 00:00:00 - 2015-09-30 00:00:00\n",
      "y period: 1997-07-31 00:00:00 - 2015-12-31 00:00:00\n",
      "Horizon 3, lag 1\n",
      "X period: 1997-05-31 00:00:00 - 2015-09-30 00:00:00\n",
      "y period: 1997-08-31 00:00:00 - 2015-12-31 00:00:00\n",
      "Horizon 3, lag 2\n",
      "X period: 1997-06-30 00:00:00 - 2015-09-30 00:00:00\n",
      "y period: 1997-09-30 00:00:00 - 2015-12-31 00:00:00\n",
      "Horizon 3, lag 3\n",
      "X period: 1997-07-31 00:00:00 - 2015-09-30 00:00:00\n",
      "y period: 1997-10-31 00:00:00 - 2015-12-31 00:00:00\n",
      "Horizon 3, lag 4\n",
      "X period: 1997-08-31 00:00:00 - 2015-09-30 00:00:00\n",
      "y period: 1997-11-30 00:00:00 - 2015-12-31 00:00:00\n",
      "Horizon 3, lag 5\n",
      "X period: 1997-09-30 00:00:00 - 2015-09-30 00:00:00\n",
      "y period: 1997-12-31 00:00:00 - 2015-12-31 00:00:00\n",
      "Horizon 3, lag 6\n",
      "X period: 1997-10-31 00:00:00 - 2015-09-30 00:00:00\n",
      "y period: 1998-01-31 00:00:00 - 2015-12-31 00:00:00\n",
      "Horizon 3, lag 7\n",
      "X period: 1997-11-30 00:00:00 - 2015-09-30 00:00:00\n",
      "y period: 1998-02-28 00:00:00 - 2015-12-31 00:00:00\n",
      "Horizon 3, lag 8\n",
      "X period: 1997-12-31 00:00:00 - 2015-09-30 00:00:00\n",
      "y period: 1998-03-31 00:00:00 - 2015-12-31 00:00:00\n",
      "Horizon 3, lag 9\n",
      "X period: 1998-01-31 00:00:00 - 2015-09-30 00:00:00\n",
      "y period: 1998-04-30 00:00:00 - 2015-12-31 00:00:00\n",
      "Horizon 3, lag 10\n",
      "X period: 1998-02-28 00:00:00 - 2015-09-30 00:00:00\n",
      "y period: 1998-05-31 00:00:00 - 2015-12-31 00:00:00\n",
      "Horizon 3, lag 11\n",
      "X period: 1998-03-31 00:00:00 - 2015-09-30 00:00:00\n",
      "y period: 1998-06-30 00:00:00 - 2015-12-31 00:00:00\n",
      "Horizon 3, lag 12\n",
      "X period: 1998-04-30 00:00:00 - 2015-09-30 00:00:00\n",
      "y period: 1998-07-31 00:00:00 - 2015-12-31 00:00:00\n",
      "BIC values for different lag lengths: [342.44156168016434, 344.77707391140353, 348.22205344326943, 343.7830980029991, 337.09202455126933, 340.22573420266065, 343.04638879997515, 347.5411073687551, 351.0482642503482, 345.3270735433516, 349.87234558371836, 349.33007376546743, 352.14328946844546]\n",
      "Optimal lag length chosen by BIC: 4\n",
      "Lowest BIC: 337.09202455126933\n"
     ]
    }
   ],
   "source": [
    "horizon = 3\n",
    "X_train, X_test, y_train, y_test = mine_g.split_train_test_set(X = cat_df, y = HICP_cat, h = horizon)\n",
    "\n",
    "n_components = 5\n",
    "\n",
    "bic_values_h3 = []\n",
    "\n",
    "for lags in range(0, max_lag+1):\n",
    "    bic = tune_lags_pca_regress_bic(X_train, y_train, lags, horizon=horizon)\n",
    "    bic_values_h3.append(bic)\n",
    "\n",
    "# Find the lag length with the lowest BIC\n",
    "optimal_lag = np.argmin(bic_values_h3)\n",
    "lowest_bic = min(bic_values_h3)\n",
    "\n",
    "print(\"BIC values for different lag lengths:\", bic_values_h3)\n",
    "print(\"Optimal lag length chosen by BIC:\", optimal_lag)\n",
    "print(\"Lowest BIC:\", lowest_bic)"
   ]
  },
  {
   "cell_type": "code",
   "execution_count": null,
   "metadata": {},
   "outputs": [],
   "source": []
  },
  {
   "cell_type": "markdown",
   "metadata": {},
   "source": [
    "# NEIG:"
   ]
  },
  {
   "cell_type": "code",
   "execution_count": 21,
   "metadata": {},
   "outputs": [
    {
     "name": "stdout",
     "output_type": "stream",
     "text": [
      "Number of items in Non-energy industrial goods (NEIG) group:  302\n"
     ]
    },
    {
     "name": "stderr",
     "output_type": "stream",
     "text": [
      "/Users/lananhnguyen/Desktop/thesis/thesis_code/main/packages/mine_generic.py:293: SettingWithCopyWarning: \n",
      "A value is trying to be set on a copy of a slice from a DataFrame\n",
      "\n",
      "See the caveats in the documentation: https://pandas.pydata.org/pandas-docs/stable/user_guide/indexing.html#returning-a-view-versus-a-copy\n",
      "  cat_df.fillna(0, inplace=True)\n"
     ]
    }
   ],
   "source": [
    "cat_short = 'neig'\n",
    "hicp_cat_path = f'data/preprocessed/{cat_short}_yoy_infl.csv'\n",
    "category = 'Non-energy industrial goods (NEIG)'\n",
    "\n",
    "HICP_monthly, HICP_class, HICP_cat = mine_g.import_data_all(hicp_all_path=hicp_all_path,\n",
    "                                                     hicp_class_path=hicp_class_path,\n",
    "                                                     hicp_cat_path=hicp_cat_path)\n",
    "\n",
    "cat_df = mine_g.split_into_category(category=category,\n",
    "                             HICP_class=HICP_class,\n",
    "                             HICP_monthly=HICP_monthly)"
   ]
  },
  {
   "cell_type": "code",
   "execution_count": 22,
   "metadata": {},
   "outputs": [
    {
     "name": "stdout",
     "output_type": "stream",
     "text": [
      "Horizon: 1\n",
      "Training predictor period: 1997-01-31 00:00:00 to 2015-11-30 00:00:00\n",
      "Training dependent variable period: 1997-02-28 00:00:00 to 2015-12-31 00:00:00\n"
     ]
    }
   ],
   "source": [
    "horizon = 1\n",
    "X_train, X_test, y_train, y_test = mine_g.split_train_test_set(X = cat_df, y = HICP_cat, h = horizon)"
   ]
  },
  {
   "cell_type": "code",
   "execution_count": 25,
   "metadata": {},
   "outputs": [
    {
     "data": {
      "image/png": "[encoded data removed]",
      "text/plain": [
       "<Figure size 1200x600 with 1 Axes>"
      ]
     },
     "metadata": {},
     "output_type": "display_data"
    }
   ],
   "source": [
    "\n",
    "# Scale the data\n",
    "scaler = StandardScaler()\n",
    "X_train_scaled = scaler.fit_transform(X_train)\n",
    "\n",
    "# Define a range of n_components to explore\n",
    "n_components_range = range(1, 30, 1)  # Adjust max components\n",
    "\n",
    "# Create an empty list to store explained variance ratios\n",
    "explained_variance = []\n",
    "\n",
    "# Loop through n_components values\n",
    "for n in n_components_range:\n",
    "    # Create a PCA object with the current n_components\n",
    "    pca = PCA(n_components=n)\n",
    "\n",
    "    # Fit the PCA model on the data\n",
    "    pca.fit(X_train_scaled)\n",
    "\n",
    "    # Get the explained variance ratio\n",
    "    explained_variance.append(pca.explained_variance_ratio_.sum())\n",
    "\n",
    "# Plot the explained variance ratio vs n_components\n",
    "plt.figure(figsize=(12, 6))\n",
    "plt.plot(n_components_range, explained_variance, marker='o', linestyle='-')\n",
    "plt.xlabel('Number of Components')\n",
    "plt.ylabel('Explained Variance Ratio')\n",
    "plt.title('Explained Variance Ratio vs Number of PCA Components')\n",
    "plt.grid(True)\n",
    "\n",
    "# Optional: Add a threshold line (e.g., 0.9) to visually identify an elbow point\n",
    "plt.axhline(y=0.95, color='r', linestyle='--', label='Threshold 0.95')\n",
    "\n",
    "plt.legend()\n",
    "\n",
    "# Show the plot\n",
    "plt.tight_layout()\n",
    "plt.show()"
   ]
  },
  {
   "cell_type": "code",
   "execution_count": 26,
   "metadata": {},
   "outputs": [
    {
     "name": "stdout",
     "output_type": "stream",
     "text": [
      "Horizon 1, lag 0\n",
      "X period: 1997-02-28 00:00:00 - 2015-11-30 00:00:00\n",
      "y period: 1997-03-31 00:00:00 - 2015-12-31 00:00:00\n",
      "Horizon 1, lag 1\n",
      "X period: 1997-03-31 00:00:00 - 2015-11-30 00:00:00\n",
      "y period: 1997-04-30 00:00:00 - 2015-12-31 00:00:00\n",
      "Horizon 1, lag 2\n",
      "X period: 1997-04-30 00:00:00 - 2015-11-30 00:00:00\n",
      "y period: 1997-05-31 00:00:00 - 2015-12-31 00:00:00\n",
      "Horizon 1, lag 3\n",
      "X period: 1997-05-31 00:00:00 - 2015-11-30 00:00:00\n",
      "y period: 1997-06-30 00:00:00 - 2015-12-31 00:00:00\n",
      "Horizon 1, lag 4\n",
      "X period: 1997-06-30 00:00:00 - 2015-11-30 00:00:00\n",
      "y period: 1997-07-31 00:00:00 - 2015-12-31 00:00:00\n",
      "Horizon 1, lag 5\n",
      "X period: 1997-07-31 00:00:00 - 2015-11-30 00:00:00\n",
      "y period: 1997-08-31 00:00:00 - 2015-12-31 00:00:00\n",
      "Horizon 1, lag 6\n",
      "X period: 1997-08-31 00:00:00 - 2015-11-30 00:00:00\n",
      "y period: 1997-09-30 00:00:00 - 2015-12-31 00:00:00\n",
      "Horizon 1, lag 7\n",
      "X period: 1997-09-30 00:00:00 - 2015-11-30 00:00:00\n",
      "y period: 1997-10-31 00:00:00 - 2015-12-31 00:00:00\n",
      "Horizon 1, lag 8\n",
      "X period: 1997-10-31 00:00:00 - 2015-11-30 00:00:00\n",
      "y period: 1997-11-30 00:00:00 - 2015-12-31 00:00:00\n",
      "Horizon 1, lag 9\n",
      "X period: 1997-11-30 00:00:00 - 2015-11-30 00:00:00\n",
      "y period: 1997-12-31 00:00:00 - 2015-12-31 00:00:00\n",
      "Horizon 1, lag 10\n",
      "X period: 1997-12-31 00:00:00 - 2015-11-30 00:00:00\n",
      "y period: 1998-01-31 00:00:00 - 2015-12-31 00:00:00\n",
      "Horizon 1, lag 11\n",
      "X period: 1998-01-31 00:00:00 - 2015-11-30 00:00:00\n",
      "y period: 1998-02-28 00:00:00 - 2015-12-31 00:00:00\n",
      "Horizon 1, lag 12\n",
      "X period: 1998-02-28 00:00:00 - 2015-11-30 00:00:00\n",
      "y period: 1998-03-31 00:00:00 - 2015-12-31 00:00:00\n",
      "BIC values for different lag lengths: [-4.163502148690675, 1.7403728203256534, 8.237574211613179, 13.049605398868351, 11.137834885556138, 14.228621783547169, 8.677352431748062, 10.697850744169557, 16.818258268762577, 22.91918312172571, 29.268995321523704, 23.14757553624446, 9.466376665985507]\n",
      "Optimal lag length chosen by BIC: 0\n",
      "Lowest BIC: -4.163502148690675\n"
     ]
    }
   ],
   "source": [
    "n_components = 10\n",
    "bic_values_h1 = []\n",
    "\n",
    "for lags in range(0, max_lag+1):\n",
    "    bic = tune_lags_pca_regress_bic(X_train, y_train, lags, horizon=horizon)\n",
    "    bic_values_h1.append(bic)\n",
    "\n",
    "# Find the lag length with the lowest BIC\n",
    "optimal_lag = np.argmin(bic_values_h1)\n",
    "lowest_bic = min(bic_values_h1)\n",
    "\n",
    "print(\"BIC values for different lag lengths:\", bic_values_h1)\n",
    "print(\"Optimal lag length chosen by BIC:\", optimal_lag)\n",
    "print(\"Lowest BIC:\", lowest_bic)"
   ]
  },
  {
   "cell_type": "code",
   "execution_count": 27,
   "metadata": {},
   "outputs": [
    {
     "name": "stdout",
     "output_type": "stream",
     "text": [
      "Horizon: 2\n",
      "Training predictor period: 1997-01-31 00:00:00 to 2015-10-31 00:00:00\n",
      "Training dependent variable period: 1997-03-31 00:00:00 to 2015-12-31 00:00:00\n",
      "Horizon 2, lag 0\n",
      "X period: 1997-03-31 00:00:00 - 2015-10-31 00:00:00\n",
      "y period: 1997-05-31 00:00:00 - 2015-12-31 00:00:00\n",
      "Horizon 2, lag 1\n",
      "X period: 1997-04-30 00:00:00 - 2015-10-31 00:00:00\n",
      "y period: 1997-06-30 00:00:00 - 2015-12-31 00:00:00\n",
      "Horizon 2, lag 2\n",
      "X period: 1997-05-31 00:00:00 - 2015-10-31 00:00:00\n",
      "y period: 1997-07-31 00:00:00 - 2015-12-31 00:00:00\n",
      "Horizon 2, lag 3\n",
      "X period: 1997-06-30 00:00:00 - 2015-10-31 00:00:00\n",
      "y period: 1997-08-31 00:00:00 - 2015-12-31 00:00:00\n",
      "Horizon 2, lag 4\n",
      "X period: 1997-07-31 00:00:00 - 2015-10-31 00:00:00\n",
      "y period: 1997-09-30 00:00:00 - 2015-12-31 00:00:00\n",
      "Horizon 2, lag 5\n",
      "X period: 1997-08-31 00:00:00 - 2015-10-31 00:00:00\n",
      "y period: 1997-10-31 00:00:00 - 2015-12-31 00:00:00\n",
      "Horizon 2, lag 6\n",
      "X period: 1997-09-30 00:00:00 - 2015-10-31 00:00:00\n",
      "y period: 1997-11-30 00:00:00 - 2015-12-31 00:00:00\n",
      "Horizon 2, lag 7\n",
      "X period: 1997-10-31 00:00:00 - 2015-10-31 00:00:00\n",
      "y period: 1997-12-31 00:00:00 - 2015-12-31 00:00:00\n",
      "Horizon 2, lag 8\n",
      "X period: 1997-11-30 00:00:00 - 2015-10-31 00:00:00\n",
      "y period: 1998-01-31 00:00:00 - 2015-12-31 00:00:00\n",
      "Horizon 2, lag 9\n",
      "X period: 1997-12-31 00:00:00 - 2015-10-31 00:00:00\n",
      "y period: 1998-02-28 00:00:00 - 2015-12-31 00:00:00\n",
      "Horizon 2, lag 10\n",
      "X period: 1998-01-31 00:00:00 - 2015-10-31 00:00:00\n",
      "y period: 1998-03-31 00:00:00 - 2015-12-31 00:00:00\n",
      "Horizon 2, lag 11\n",
      "X period: 1998-02-28 00:00:00 - 2015-10-31 00:00:00\n",
      "y period: 1998-04-30 00:00:00 - 2015-12-31 00:00:00\n",
      "Horizon 2, lag 12\n",
      "X period: 1998-03-31 00:00:00 - 2015-10-31 00:00:00\n",
      "y period: 1998-05-31 00:00:00 - 2015-12-31 00:00:00\n",
      "BIC values for different lag lengths: [109.72368802495, 115.51460086424218, 118.13730230842586, 114.05524350876924, 108.40352335076545, 99.12043378126724, 89.04960912170627, 90.75034083981244, 96.72851461760925, 102.70780227204968, 96.89869698666568, 101.41558310711272, 96.78069156972771]\n",
      "Optimal lag length chosen by BIC: 6\n",
      "Lowest BIC: 89.04960912170627\n"
     ]
    }
   ],
   "source": [
    "horizon = 2\n",
    "X_train, X_test, y_train, y_test = mine_g.split_train_test_set(X = cat_df, y = HICP_cat, h = horizon)\n",
    "\n",
    "n_components = 10\n",
    "bic_values_h2 = []\n",
    "\n",
    "for lags in range(0, max_lag+1):\n",
    "    bic = tune_lags_pca_regress_bic(X_train, y_train, lags, horizon=horizon)\n",
    "    bic_values_h2.append(bic)\n",
    "\n",
    "# Find the lag length with the lowest BIC\n",
    "optimal_lag = np.argmin(bic_values_h2)\n",
    "lowest_bic = min(bic_values_h2)\n",
    "\n",
    "print(\"BIC values for different lag lengths:\", bic_values_h2)\n",
    "print(\"Optimal lag length chosen by BIC:\", optimal_lag)\n",
    "print(\"Lowest BIC:\", lowest_bic)"
   ]
  },
  {
   "cell_type": "code",
   "execution_count": 28,
   "metadata": {},
   "outputs": [
    {
     "name": "stdout",
     "output_type": "stream",
     "text": [
      "Horizon: 3\n",
      "Training predictor period: 1997-01-31 00:00:00 to 2015-09-30 00:00:00\n",
      "Training dependent variable period: 1997-04-30 00:00:00 to 2015-12-31 00:00:00\n",
      "Horizon 3, lag 0\n",
      "X period: 1997-04-30 00:00:00 - 2015-09-30 00:00:00\n",
      "y period: 1997-07-31 00:00:00 - 2015-12-31 00:00:00\n",
      "Horizon 3, lag 1\n",
      "X period: 1997-05-31 00:00:00 - 2015-09-30 00:00:00\n",
      "y period: 1997-08-31 00:00:00 - 2015-12-31 00:00:00\n",
      "Horizon 3, lag 2\n",
      "X period: 1997-06-30 00:00:00 - 2015-09-30 00:00:00\n",
      "y period: 1997-09-30 00:00:00 - 2015-12-31 00:00:00\n",
      "Horizon 3, lag 3\n",
      "X period: 1997-07-31 00:00:00 - 2015-09-30 00:00:00\n",
      "y period: 1997-10-31 00:00:00 - 2015-12-31 00:00:00\n",
      "Horizon 3, lag 4\n",
      "X period: 1997-08-31 00:00:00 - 2015-09-30 00:00:00\n",
      "y period: 1997-11-30 00:00:00 - 2015-12-31 00:00:00\n",
      "Horizon 3, lag 5\n",
      "X period: 1997-09-30 00:00:00 - 2015-09-30 00:00:00\n",
      "y period: 1997-12-31 00:00:00 - 2015-12-31 00:00:00\n",
      "Horizon 3, lag 6\n",
      "X period: 1997-10-31 00:00:00 - 2015-09-30 00:00:00\n",
      "y period: 1998-01-31 00:00:00 - 2015-12-31 00:00:00\n",
      "Horizon 3, lag 7\n",
      "X period: 1997-11-30 00:00:00 - 2015-09-30 00:00:00\n",
      "y period: 1998-02-28 00:00:00 - 2015-12-31 00:00:00\n",
      "Horizon 3, lag 8\n",
      "X period: 1997-12-31 00:00:00 - 2015-09-30 00:00:00\n",
      "y period: 1998-03-31 00:00:00 - 2015-12-31 00:00:00\n",
      "Horizon 3, lag 9\n",
      "X period: 1998-01-31 00:00:00 - 2015-09-30 00:00:00\n",
      "y period: 1998-04-30 00:00:00 - 2015-12-31 00:00:00\n",
      "Horizon 3, lag 10\n",
      "X period: 1998-02-28 00:00:00 - 2015-09-30 00:00:00\n",
      "y period: 1998-05-31 00:00:00 - 2015-12-31 00:00:00\n",
      "Horizon 3, lag 11\n",
      "X period: 1998-03-31 00:00:00 - 2015-09-30 00:00:00\n",
      "y period: 1998-06-30 00:00:00 - 2015-12-31 00:00:00\n",
      "Horizon 3, lag 12\n",
      "X period: 1998-04-30 00:00:00 - 2015-09-30 00:00:00\n",
      "y period: 1998-07-31 00:00:00 - 2015-12-31 00:00:00\n",
      "BIC values for different lag lengths: [177.36726245759584, 182.6114423624269, 177.8908648481727, 165.96062779008545, 146.4235493786228, 133.4120861923861, 128.6913446367087, 132.3516186698516, 136.62220971232477, 132.95467816302363, 135.5762861629153, 138.08753235388045, 136.45326850370893]\n",
      "Optimal lag length chosen by BIC: 6\n",
      "Lowest BIC: 128.6913446367087\n"
     ]
    }
   ],
   "source": [
    "horizon = 3\n",
    "X_train, X_test, y_train, y_test = mine_g.split_train_test_set(X = cat_df, y = HICP_cat, h = horizon)\n",
    "\n",
    "n_components = 10\n",
    "bic_values_h3 = []\n",
    "\n",
    "for lags in range(0, max_lag+1):\n",
    "    bic = tune_lags_pca_regress_bic(X_train, y_train, lags, horizon=horizon)\n",
    "    bic_values_h3.append(bic)\n",
    "\n",
    "# Find the lag length with the lowest BIC\n",
    "optimal_lag = np.argmin(bic_values_h3)\n",
    "lowest_bic = min(bic_values_h3)\n",
    "\n",
    "print(\"BIC values for different lag lengths:\", bic_values_h3)\n",
    "print(\"Optimal lag length chosen by BIC:\", optimal_lag)\n",
    "print(\"Lowest BIC:\", lowest_bic)"
   ]
  }
 ],
 "metadata": {
  "kernelspec": {
   "display_name": "thesis",
   "language": "python",
   "name": "python3"
  },
  "language_info": {
   "codemirror_mode": {
    "name": "ipython",
    "version": 3
   },
   "file_extension": ".py",
   "mimetype": "text/x-python",
   "name": "python",
   "nbconvert_exporter": "python",
   "pygments_lexer": "ipython3",
   "version": "3.11.7"
  }
 },
 "nbformat": 4,
 "nbformat_minor": 2
}
