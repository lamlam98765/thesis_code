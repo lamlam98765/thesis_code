{
 "cells": [
  {
   "cell_type": "code",
   "execution_count": null,
   "metadata": {},
   "outputs": [],
   "source": [
    "from os import chdir\n",
    "chdir('/Users/lananhnguyen/Desktop/thesis/thesis_code')\n",
    "import main.packages.mine_generic as mine_g\n",
    "import main.packages.mine_specific as mine_s\n",
    "\n",
    "\n",
    "import pandas as pd\n",
    "import numpy as np\n",
    "import matplotlib.pyplot as plt\n",
    "import seaborn as sns \n",
    "\n",
    "from sklearn.model_selection import TimeSeriesSplit\n",
    "from sklearn.preprocessing import StandardScaler\n",
    "from sklearn.metrics import mean_squared_error, mean_absolute_error\n",
    "from sklearn.pipeline import Pipeline\n",
    "from xgboost import XGBRegressor\n",
    "import xgboost as xgb\n",
    "import optuna\n"
   ]
  },
  {
   "cell_type": "code",
   "execution_count": null,
   "metadata": {},
   "outputs": [],
   "source": [
    "cat = 'food'\n",
    "hicp_all_path = 'data/preprocessed/hicp_yoy.csv'\n",
    "hicp_class_path = 'data/HICP_COICOP10s.xlsx'\n",
    "hicp_cat_path = f'data/preprocessed/{cat}_yoy_infl.csv'\n",
    "category = 'Food'\n",
    "\n",
    "HICP_monthly, HICP_class, HICP_cat = mine_g.import_data_all(hicp_all_path=hicp_all_path,\n",
    "                                                     hicp_class_path=hicp_class_path,\n",
    "                                                     hicp_cat_path=hicp_cat_path)\n",
    "\n",
    "cat_df = mine_g.split_into_category(category=category,\n",
    "                             HICP_class=HICP_class,\n",
    "                             HICP_monthly=HICP_monthly)"
   ]
  },
  {
   "cell_type": "code",
   "execution_count": null,
   "metadata": {},
   "outputs": [],
   "source": [
    "h = 2\n",
    "X_cat_train, y_cat_train = mine_g.split_train_set(X_df=cat_df,\n",
    "                                           y=HICP_cat,\n",
    "                                           h = h)\n",
    "\n",
    "### Hyperparameter tuning optuna:\n",
    "\n",
    "# \n",
    "\n",
    "best_param = mine_s.hyperparam_tuning_optuna()"
   ]
  }
 ],
 "metadata": {
  "kernelspec": {
   "display_name": "thesis",
   "language": "python",
   "name": "python3"
  },
  "language_info": {
   "name": "python",
   "version": "3.11.7"
  }
 },
 "nbformat": 4,
 "nbformat_minor": 2
}
