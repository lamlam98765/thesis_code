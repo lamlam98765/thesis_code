{
 "cells": [
  {
   "cell_type": "code",
   "execution_count": 1,
   "metadata": {},
   "outputs": [],
   "source": [
    "from os import chdir\n",
    "chdir('/Users/lananhnguyen/Desktop/thesis/thesis_code')\n",
    "import main.packages.mine_generic as mine_g\n",
    "import numpy as np\n",
    "import pandas as pd\n",
    "import os\n",
    "import matplotlib.pyplot as plt\n",
    "import seaborn as sns\n",
    "import re\n"
   ]
  },
  {
   "cell_type": "code",
   "execution_count": 2,
   "metadata": {},
   "outputs": [],
   "source": [
    "folder_path = \"data/forecast_results\"\n",
    "forecast_yoy_all_cat = mine_g.concatenate_csv_files(folder_path)\n",
    "\n",
    "date_range = pd.date_range(start=mine_g.train_test_split_date + pd.DateOffset(months=1), end=mine_g.max_X_date, freq='M')"
   ]
  },
  {
   "cell_type": "code",
   "execution_count": 3,
   "metadata": {},
   "outputs": [],
   "source": [
    "# combine ridge and lasso:\n",
    "\n",
    "models = ['ridge', 'lasso']\n",
    "cats = [\"food\", \"energy\", \"neig\", \"services\"]\n",
    "horizons = [1, 2, 3]\n",
    "\n",
    "combined = pd.DataFrame()\n",
    "\n",
    "for cat in cats:\n",
    "    for h in horizons:\n",
    "        pattern = rf\"^({models[0]}|{models[1]})_{cat}_h_{h}\" #\n",
    "\n",
    "        matching_cols = [col for col in forecast_yoy_all_cat.columns if re.search(pattern, col)]\n",
    "        combined.loc[:, f'cb_{models[0]}_{models[1]}_{cat}_h_{h}'] = forecast_yoy_all_cat.loc[:, matching_cols].mean(axis=1)\n",
    "    # save forecast\n",
    "    save_cat_file_path = f'data/forecast_results/{cat}_forecast.csv'\n",
    "    mine_g.save_forecast(combined, save_cat_file_path)\n"
   ]
  },
  {
   "cell_type": "code",
   "execution_count": null,
   "metadata": {},
   "outputs": [],
   "source": [
    "models = ['ridge', 'pcr']\n",
    "cats = [\"food\", \"energy\", \"neig\", \"services\"]\n",
    "horizons = [1, 2, 3]\n",
    "\n",
    "combined = pd.DataFrame()\n",
    "\n",
    "for cat in cats:\n",
    "    for h in horizons:\n",
    "        pattern = rf\"^({models[0]}|{models[1]})_{cat}_h_{h}\" #\n",
    "\n",
    "        matching_cols = [col for col in forecast_yoy_all_cat.columns if re.search(pattern, col)]\n",
    "        combined.loc[:, f'cb_{models[0]}_{models[1]}_{cat}_h_{h}'] = forecast_yoy_all_cat.loc[:, matching_cols].mean(axis=1)\n",
    "    # save forecast\n",
    "    save_cat_file_path = f'data/forecast_results/{cat}_forecast.csv'\n",
    "    mine_g.save_forecast(combined, save_cat_file_path)\n"
   ]
  },
  {
   "cell_type": "code",
   "execution_count": 4,
   "metadata": {},
   "outputs": [],
   "source": [
    "models = ['ridge', 'prc', 'lasso']\n",
    "cats = [\"food\", \"energy\", \"neig\", \"services\"]\n",
    "horizons = [1, 2, 3]\n",
    "\n",
    "combined = pd.DataFrame()\n",
    "\n",
    "for cat in cats:\n",
    "    for h in horizons:\n",
    "        pattern = rf\"^({models[0]}|{models[1]}|{models[2]})_{cat}_h_{h}\"\n",
    "\n",
    "        matching_cols = [col for col in forecast_yoy_all_cat.columns if re.search(pattern, col)]\n",
    "        combined.loc[:, f'cb_{models[0]}_{models[1]}_{models[2]}_{cat}_h_{h}'] = forecast_yoy_all_cat.loc[:, matching_cols].mean(axis=1)\n",
    "        \n",
    "    # save forecast\n",
    "    save_cat_file_path = f'data/forecast_results/{cat}_forecast.csv'\n",
    "    mine_g.save_forecast(combined, save_cat_file_path)"
   ]
  }
 ],
 "metadata": {
  "kernelspec": {
   "display_name": "thesis",
   "language": "python",
   "name": "python3"
  },
  "language_info": {
   "codemirror_mode": {
    "name": "ipython",
    "version": 3
   },
   "file_extension": ".py",
   "mimetype": "text/x-python",
   "name": "python",
   "nbconvert_exporter": "python",
   "pygments_lexer": "ipython3",
   "version": "3.11.7"
  }
 },
 "nbformat": 4,
 "nbformat_minor": 2
}
