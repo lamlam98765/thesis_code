{
 "cells": [
  {
   "cell_type": "code",
   "execution_count": 8,
   "metadata": {},
   "outputs": [],
   "source": [
    "from os import chdir\n",
    "chdir('/Users/lananhnguyen/Desktop/thesis/thesis_code')\n",
    "import main.packages.mine_generic as mine_g\n",
    "import numpy as np\n",
    "import pandas as pd\n",
    "import os\n",
    "import matplotlib.pyplot as plt\n",
    "import seaborn as sns\n",
    "import re\n"
   ]
  },
  {
   "cell_type": "code",
   "execution_count": 9,
   "metadata": {},
   "outputs": [],
   "source": [
    "def concatenate_csv_files(folder_path):\n",
    "    \"\"\"\n",
    "    Concatenates CSV files in a folder column-wise into a single DataFrame.\n",
    "\n",
    "    Args:\n",
    "    - folder_path (str): Path to the folder containing CSV files.\n",
    "\n",
    "    Returns:\n",
    "    - concatenated_df (DataFrame): Concatenated DataFrame.\n",
    "    \"\"\"\n",
    "\n",
    "    csv_files = [file for file in os.listdir(folder_path) if file.endswith('.csv')]\n",
    "\n",
    "    concatenated_df = pd.DataFrame()\n",
    "\n",
    "    # Iterate through each CSV file\n",
    "    for file in csv_files:\n",
    "        file_path = os.path.join(folder_path, file)\n",
    "        df = pd.read_csv(file_path)\n",
    "        \n",
    "        # Add each file's data as new columns in the concatenated DataFrame\n",
    "        concatenated_df = pd.concat([concatenated_df, df], axis=1)\n",
    "        \n",
    "\n",
    "    return concatenated_df\n",
    "\n"
   ]
  },
  {
   "cell_type": "code",
   "execution_count": 10,
   "metadata": {},
   "outputs": [],
   "source": [
    "folder_path = \"data/forecast_results\"\n",
    "forecast_yoy_all_cat = concatenate_csv_files(folder_path)\n",
    "\n",
    "\n",
    "date_range = pd.date_range(start=mine_g.train_test_split_date + pd.DateOffset(months=1), end=mine_g.max_X_date, freq='M')\n"
   ]
  },
  {
   "cell_type": "code",
   "execution_count": 11,
   "metadata": {},
   "outputs": [],
   "source": [
    "models = ['ridge', 'pcr']\n",
    "cats = [\"food\", \"energy\", \"neig\", \"services\"]\n",
    "horizons = [1, 2, 3]\n",
    "\n",
    "for cat in cats:\n",
    "    combined = pd.DataFrame()\n",
    "    for h in horizons:\n",
    "        pattern = rf\"^({models[0]}|{models[1]})_{cat}_h_{h}\" #\n",
    "\n",
    "        matching_cols = [col for col in forecast_yoy_all_cat.columns if re.search(pattern, col)]\n",
    "        combined.loc[:, f'cb_{models[0]}_{models[1]}_{cat}_h_{h}'] = forecast_yoy_all_cat.loc[:, matching_cols].mean(axis=1)\n",
    "\n",
    "    # save forecast\n",
    "    save_cat_file_path = f'data/forecast_results/{cat}_forecast.csv'\n",
    "    mine_g.save_forecast(combined, save_cat_file_path)"
   ]
  },
  {
   "cell_type": "code",
   "execution_count": 12,
   "metadata": {},
   "outputs": [],
   "source": [
    "models = ['ridge', 'prc', 'lasso']\n",
    "cats = [\"food\", \"energy\", \"neig\", \"services\"]\n",
    "horizons = [1, 2, 3]\n",
    "\n",
    "for cat in cats:\n",
    "    combined = pd.DataFrame()\n",
    "    for h in horizons:\n",
    "        pattern = rf\"^({models[0]}|{models[1]}|{models[2]})_{cat}_h_{h}\"\n",
    "\n",
    "        matching_cols = [col for col in forecast_yoy_all_cat.columns if re.search(pattern, col)]\n",
    "        combined.loc[:, f'cb_{models[0]}_{models[1]}_{models[2]}_{cat}_h_{h}'] = forecast_yoy_all_cat.loc[:, matching_cols].mean(axis=1)\n",
    "        \n",
    "    # save forecast\n",
    "    save_cat_file_path = f'data/forecast_results/{cat}_forecast.csv'\n",
    "    mine_g.save_forecast(combined, save_cat_file_path)"
   ]
  }
 ],
 "metadata": {
  "kernelspec": {
   "display_name": "thesis",
   "language": "python",
   "name": "python3"
  },
  "language_info": {
   "codemirror_mode": {
    "name": "ipython",
    "version": 3
   },
   "file_extension": ".py",
   "mimetype": "text/x-python",
   "name": "python",
   "nbconvert_exporter": "python",
   "pygments_lexer": "ipython3",
   "version": "3.11.7"
  }
 },
 "nbformat": 4,
 "nbformat_minor": 2
}
