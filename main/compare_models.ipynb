{
 "cells": [
  {
   "cell_type": "code",
   "execution_count": 28,
   "metadata": {},
   "outputs": [],
   "source": [
    "from os import chdir\n",
    "chdir('/Users/lananhnguyen/Desktop/thesis/thesis_code')\n",
    "import main.packages.unchain_chain as chain\n",
    "import main.packages.mine_generic as mine_g\n",
    "import numpy as np\n",
    "import pandas as pd\n",
    "import os\n",
    "import matplotlib.pyplot as plt\n",
    "import seaborn as sns\n",
    "from sklearn.metrics import mean_absolute_error, mean_squared_error\n",
    "import re"
   ]
  },
  {
   "cell_type": "markdown",
   "metadata": {},
   "source": [
    "I want to compare based on model:\n",
    "- take category\n",
    "- take model\n",
    "- take rmse\n"
   ]
  },
  {
   "cell_type": "code",
   "execution_count": 29,
   "metadata": {},
   "outputs": [],
   "source": [
    "date_range = pd.date_range(start=mine_g.train_test_split_date + pd.DateOffset(months=1), end=mine_g.max_X_date, freq='M')\n"
   ]
  },
  {
   "cell_type": "code",
   "execution_count": 30,
   "metadata": {},
   "outputs": [],
   "source": [
    "cat_short = 'food'\n",
    "forecast_df_cat = pd.read_csv(f\"data/forecast_results/{cat_short}_forecast.csv\")\n",
    "\n",
    "forecast_df_cat.set_index(date_range, inplace=True)\n",
    "\n",
    "return_cols = [col for col in forecast_df_cat.columns if cat_short in col]\n",
    "forecast_df_cat = forecast_df_cat.loc[:, return_cols]\n",
    "\n",
    "yoy_real = pd.read_csv(f\"data/preprocessed/{cat_short}_yoy_infl.csv\", parse_dates=True, index_col='date')\n",
    "yoy_real_test = yoy_real[(yoy_real.index > mine_g.train_test_split_date) & (yoy_real.index <= mine_g.max_X_date)]\n"
   ]
  },
  {
   "cell_type": "code",
   "execution_count": 39,
   "metadata": {},
   "outputs": [],
   "source": [
    "rmse = []\n",
    "\n",
    "for h in [1, 2, 3]:\n",
    "    h_cols = []\n",
    "\n",
    "    for col in forecast_df_cat.columns:\n",
    "        if col.endswith(str(h)):\n",
    "            h_cols.append(col)\n",
    "    forecast_df_h = forecast_df_cat[h_cols]\n",
    "    \n",
    "    for col in forecast_df_h.columns:\n",
    "        rmse_here = np.sqrt(mean_squared_error(forecast_df_h[col], yoy_real_test))\n",
    "        rmse.append(rmse_here)\n",
    "\n",
    "\n",
    "def get_first_part(col_name, separator='_h'):\n",
    "    return col_name.split(separator)[0]\n",
    "\n",
    "new_col_names = [get_first_part(col) for col in forecast_df_h.columns]\n",
    "\n",
    "\n",
    "rmse = pd.DataFrame(rmse)\n",
    "rmse = pd.DataFrame(rmse.values.reshape(3, 5), columns=new_col_names, index=[f'h_{h}' for h in [1, 2, 3]])\n",
    "rmse.to_csv(f\"data/report_rmse/{cat_short}.csv\")"
   ]
  },
  {
   "cell_type": "markdown",
   "metadata": {},
   "source": [
    "---------"
   ]
  },
  {
   "cell_type": "code",
   "execution_count": 40,
   "metadata": {},
   "outputs": [],
   "source": [
    "cat_short = 'energy'\n",
    "forecast_df_cat = pd.read_csv(f\"data/forecast_results/{cat_short}_forecast.csv\")\n",
    "\n",
    "forecast_df_cat.set_index(date_range, inplace=True)\n",
    "\n",
    "return_cols = [col for col in forecast_df_cat.columns if cat_short in col]\n",
    "forecast_df_cat = forecast_df_cat.loc[:, return_cols]\n",
    "\n",
    "yoy_real = pd.read_csv(f\"data/preprocessed/{cat_short}_yoy_infl.csv\", parse_dates=True, index_col='date')\n",
    "yoy_real_test = yoy_real[(yoy_real.index > mine_g.train_test_split_date) & (yoy_real.index <= mine_g.max_X_date)]\n"
   ]
  },
  {
   "cell_type": "code",
   "execution_count": 41,
   "metadata": {},
   "outputs": [
    {
     "data": {
      "text/html": [
       "<div>\n",
       "<style scoped>\n",
       "    .dataframe tbody tr th:only-of-type {\n",
       "        vertical-align: middle;\n",
       "    }\n",
       "\n",
       "    .dataframe tbody tr th {\n",
       "        vertical-align: top;\n",
       "    }\n",
       "\n",
       "    .dataframe thead th {\n",
       "        text-align: right;\n",
       "    }\n",
       "</style>\n",
       "<table border=\"1\" class=\"dataframe\">\n",
       "  <thead>\n",
       "    <tr style=\"text-align: right;\">\n",
       "      <th></th>\n",
       "      <th>prc_energy</th>\n",
       "      <th>ridge_energy</th>\n",
       "      <th>lasso_energy</th>\n",
       "      <th>xgb_energy</th>\n",
       "      <th>ols_energy</th>\n",
       "    </tr>\n",
       "  </thead>\n",
       "  <tbody>\n",
       "    <tr>\n",
       "      <th>h_1</th>\n",
       "      <td>3.488918</td>\n",
       "      <td>3.835047</td>\n",
       "      <td>3.712284</td>\n",
       "      <td>4.766152</td>\n",
       "      <td>3.331470</td>\n",
       "    </tr>\n",
       "    <tr>\n",
       "      <th>h_2</th>\n",
       "      <td>4.993943</td>\n",
       "      <td>5.372019</td>\n",
       "      <td>5.168972</td>\n",
       "      <td>5.722806</td>\n",
       "      <td>4.944986</td>\n",
       "    </tr>\n",
       "    <tr>\n",
       "      <th>h_3</th>\n",
       "      <td>6.039753</td>\n",
       "      <td>6.069338</td>\n",
       "      <td>5.913817</td>\n",
       "      <td>6.657155</td>\n",
       "      <td>6.269531</td>\n",
       "    </tr>\n",
       "  </tbody>\n",
       "</table>\n",
       "</div>"
      ],
      "text/plain": [
       "     prc_energy  ridge_energy  lasso_energy  xgb_energy  ols_energy\n",
       "h_1    3.488918      3.835047      3.712284    4.766152    3.331470\n",
       "h_2    4.993943      5.372019      5.168972    5.722806    4.944986\n",
       "h_3    6.039753      6.069338      5.913817    6.657155    6.269531"
      ]
     },
     "execution_count": 41,
     "metadata": {},
     "output_type": "execute_result"
    }
   ],
   "source": [
    "rmse = []\n",
    "\n",
    "for h in [1, 2, 3]:\n",
    "    h_cols = []\n",
    "\n",
    "    for col in forecast_df_cat.columns:\n",
    "        if col.endswith(str(h)):\n",
    "            h_cols.append(col)\n",
    "    forecast_df_h = forecast_df_cat[h_cols]\n",
    "    \n",
    "    for col in forecast_df_h.columns:\n",
    "        rmse_here = np.sqrt(mean_squared_error(forecast_df_h[col], yoy_real_test))\n",
    "        rmse.append(rmse_here)\n",
    "\n",
    "\n",
    "def get_first_part(col_name, separator='_h'):\n",
    "    return col_name.split(separator)[0]\n",
    "\n",
    "new_col_names = [get_first_part(col) for col in forecast_df_h.columns]\n",
    "rmse = pd.DataFrame(rmse)\n",
    "rmse = pd.DataFrame(rmse.values.reshape(3, 5), columns=new_col_names, index=[f'h_{h}' for h in [1, 2, 3]])\n",
    "\n",
    "rmse.to_csv(f\"data/report_rmse/{cat_short}.csv\")"
   ]
  },
  {
   "cell_type": "markdown",
   "metadata": {},
   "source": [
    "--------"
   ]
  },
  {
   "cell_type": "code",
   "execution_count": 43,
   "metadata": {},
   "outputs": [],
   "source": [
    "cat_short = 'neig'\n",
    "forecast_df_cat = pd.read_csv(f\"data/forecast_results/{cat_short}_forecast.csv\")\n",
    "\n",
    "forecast_df_cat.set_index(date_range, inplace=True)\n",
    "\n",
    "return_cols = [col for col in forecast_df_cat.columns if cat_short in col]\n",
    "forecast_df_cat = forecast_df_cat.loc[:, return_cols]\n",
    "\n",
    "yoy_real = pd.read_csv(f\"data/preprocessed/{cat_short}_yoy_infl.csv\", parse_dates=True, index_col='date')\n",
    "yoy_real_test = yoy_real[(yoy_real.index > mine_g.train_test_split_date) & (yoy_real.index <= mine_g.max_X_date)]\n",
    "\n",
    "rmse = []\n",
    "\n",
    "for h in [1, 2, 3]:\n",
    "    h_cols = []\n",
    "\n",
    "    for col in forecast_df_cat.columns:\n",
    "        if col.endswith(str(h)):\n",
    "            h_cols.append(col)\n",
    "    forecast_df_h = forecast_df_cat[h_cols]\n",
    "    \n",
    "    for col in forecast_df_h.columns:\n",
    "        rmse_here = np.sqrt(mean_squared_error(forecast_df_h[col], yoy_real_test))\n",
    "        rmse.append(rmse_here)\n",
    "\n",
    "\n",
    "def get_first_part(col_name, separator='_h'):\n",
    "    return col_name.split(separator)[0]\n",
    "\n",
    "new_col_names = [get_first_part(col) for col in forecast_df_h.columns]\n",
    "rmse = pd.DataFrame(rmse)\n",
    "rmse = pd.DataFrame(rmse.values.reshape(3, 5), columns=new_col_names, index=[f'h_{h}' for h in [1, 2, 3]])\n",
    "\n",
    "rmse.to_csv(f\"data/report_rmse/{cat_short}.csv\")"
   ]
  },
  {
   "cell_type": "markdown",
   "metadata": {},
   "source": [
    "-----"
   ]
  },
  {
   "cell_type": "code",
   "execution_count": 44,
   "metadata": {},
   "outputs": [],
   "source": [
    "cat_short = 'services'\n",
    "forecast_df_cat = pd.read_csv(f\"data/forecast_results/{cat_short}_forecast.csv\")\n",
    "\n",
    "forecast_df_cat.set_index(date_range, inplace=True)\n",
    "\n",
    "return_cols = [col for col in forecast_df_cat.columns if cat_short in col]\n",
    "forecast_df_cat = forecast_df_cat.loc[:, return_cols]\n",
    "\n",
    "yoy_real = pd.read_csv(f\"data/preprocessed/{cat_short}_yoy_infl.csv\", parse_dates=True, index_col='date')\n",
    "yoy_real_test = yoy_real[(yoy_real.index > mine_g.train_test_split_date) & (yoy_real.index <= mine_g.max_X_date)]\n",
    "\n",
    "rmse = []\n",
    "\n",
    "for h in [1, 2, 3]:\n",
    "    h_cols = []\n",
    "\n",
    "    for col in forecast_df_cat.columns:\n",
    "        if col.endswith(str(h)):\n",
    "            h_cols.append(col)\n",
    "    forecast_df_h = forecast_df_cat[h_cols]\n",
    "    \n",
    "    for col in forecast_df_h.columns:\n",
    "        rmse_here = np.sqrt(mean_squared_error(forecast_df_h[col], yoy_real_test))\n",
    "        rmse.append(rmse_here)\n",
    "\n",
    "\n",
    "def get_first_part(col_name, separator='_h'):\n",
    "    return col_name.split(separator)[0]\n",
    "\n",
    "new_col_names = [get_first_part(col) for col in forecast_df_h.columns]\n",
    "rmse = pd.DataFrame(rmse)\n",
    "rmse = pd.DataFrame(rmse.values.reshape(3, 5), columns=new_col_names, index=[f'h_{h}' for h in [1, 2, 3]])\n",
    "\n",
    "rmse.to_csv(f\"data/report_rmse/{cat_short}.csv\")"
   ]
  }
 ],
 "metadata": {
  "kernelspec": {
   "display_name": "thesis",
   "language": "python",
   "name": "python3"
  },
  "language_info": {
   "codemirror_mode": {
    "name": "ipython",
    "version": 3
   },
   "file_extension": ".py",
   "mimetype": "text/x-python",
   "name": "python",
   "nbconvert_exporter": "python",
   "pygments_lexer": "ipython3",
   "version": "3.11.7"
  }
 },
 "nbformat": 4,
 "nbformat_minor": 2
}
